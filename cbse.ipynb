{
 "cells": [
  {
   "cell_type": "code",
   "execution_count": 2,
   "metadata": {
    "tags": []
   },
   "outputs": [
    {
     "output_type": "stream",
     "name": "stdout",
     "text": "Requirement already satisfied: selenium in c:\\users\\anjan\\appdata\\local\\programs\\python\\python38-32\\lib\\site-packages (3.141.0)\nRequirement already satisfied: urllib3 in c:\\users\\anjan\\appdata\\local\\programs\\python\\python38-32\\lib\\site-packages (from selenium) (1.26.4)\nNote: you may need to restart the kernel to use updated packages.\n"
    }
   ],
   "source": [
    "pip install selenium\n"
   ]
  },
  {
   "cell_type": "code",
   "execution_count": 32,
   "metadata": {},
   "outputs": [],
   "source": [
    "from selenium import webdriver\n",
    "driver=webdriver.Chrome()\n",
    "driver.get('http://cbseaff.nic.in/cbse_aff/schdir_Report/userview.aspx')\n",
    "radio = driver.find_element_by_id('optlist_3')\n",
    "radio.click()\n",
    "driver.find_element_by_xpath(\"//select[@name='ctl00$ContentPlaceHolder1$ddlitem']/option[text()='Chennai']\").click()\n",
    "button=driver.find_element_by_id('search')\n",
    "button.click()\n",
    "\n"
   ]
  },
  {
   "cell_type": "code",
   "execution_count": 35,
   "metadata": {},
   "outputs": [],
   "source": [
    "import time,bs4\n",
    "time.sleep(1)\n",
    "soup=bs4.BeautifulSoup(driver.page_source)\n"
   ]
  }
 ],
 "metadata": {
  "language_info": {
   "codemirror_mode": {
    "name": "ipython",
    "version": 3
   },
   "file_extension": ".py",
   "mimetype": "text/x-python",
   "name": "python",
   "nbconvert_exporter": "python",
   "pygments_lexer": "ipython3",
   "version": "3.8.4-final"
  },
  "orig_nbformat": 2,
  "kernelspec": {
   "name": "python38432bitfa610af8af154bb2a476cab15e1ae2cd",
   "display_name": "Python 3.8.4 32-bit"
  }
 },
 "nbformat": 4,
 "nbformat_minor": 2
}