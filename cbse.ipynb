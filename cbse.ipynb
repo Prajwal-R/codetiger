{
 "cells": [
  {
   "cell_type": "code",
   "execution_count": 2,
   "metadata": {
    "tags": []
   },
   "outputs": [
    {
     "output_type": "stream",
     "name": "stdout",
     "text": "Requirement already satisfied: selenium in c:\\users\\anjan\\appdata\\local\\programs\\python\\python38-32\\lib\\site-packages (3.141.0)\nRequirement already satisfied: urllib3 in c:\\users\\anjan\\appdata\\local\\programs\\python\\python38-32\\lib\\site-packages (from selenium) (1.26.4)\nNote: you may need to restart the kernel to use updated packages.\n"
    }
   ],
   "source": [
    "pip install selenium\n"
   ]
  },
  {
   "cell_type": "code",
   "execution_count": 37,
   "metadata": {},
   "outputs": [],
   "source": [
    "from selenium import webdriver\n",
    "driver=webdriver.Chrome()\n",
    "driver.get('http://cbseaff.nic.in/cbse_aff/schdir_Report/userview.aspx')\n",
    "radio = driver.find_element_by_id('optlist_3')\n",
    "radio.click()\n",
    "driver.find_element_by_xpath(\"//select[@name='ctl00$ContentPlaceHolder1$ddlitem']/option[text()='Chennai']\").click()\n",
    "button=driver.find_element_by_id('search')\n",
    "button.click()\n",
    "\n"
   ]
  },
  {
   "cell_type": "code",
   "execution_count": 38,
   "metadata": {},
   "outputs": [],
   "source": [
    "import time,bs4\n",
    "time.sleep(1)\n",
    "soup=bs4.BeautifulSoup(driver.page_source)\n"
   ]
  },
  {
   "cell_type": "code",
   "execution_count": 39,
   "metadata": {},
   "outputs": [
    {
     "output_type": "execute_result",
     "data": {
      "text/plain": "bs4.BeautifulSoup"
     },
     "metadata": {},
     "execution_count": 39
    }
   ],
   "source": [
    "type(soup)"
   ]
  },
  {
   "cell_type": "code",
   "execution_count": 48,
   "metadata": {
    "tags": []
   },
   "outputs": [
    {
     "output_type": "stream",
     "name": "stdout",
     "text": "2\n"
    },
    {
     "output_type": "execute_result",
     "data": {
      "text/plain": "bs4.element.Tag"
     },
     "metadata": {},
     "execution_count": 48
    }
   ],
   "source": [
    "table=soup.find('table',id='T1')\n",
    "print(len(table))\n",
    "type(table)"
   ]
  },
  {
   "cell_type": "code",
   "execution_count": 49,
   "metadata": {},
   "outputs": [
    {
     "output_type": "execute_result",
     "data": {
      "text/plain": "'\\n\\n\\n\\n\\nSNo\\nAffNo,School & Head Name\\n\\t\\t\\t\\t\\t\\t\\t\\t\\t\\t\\t\\t\\t\\t\\t\\t\\t\\nAddress,Phone & Email\\n\\n\\n\\n\\n1\\n\\n\\n\\nAffiliation No.1931043\\n\\n\\nName:\\nA A PUBLIC SCHOOL\\n\\n\\nHead/Principal Name:MRS. S.GNANA JOTHI\\n\\n\\nStatus of the School:Secondary School\\n\\n\\nAffiliated up to: 31/03/2022 \\n\\n\\n\\n\\n\\n\\nAddress:\\n\\t\\t\\t\\t\\t\\t\\t\\t\\t\\t\\t\\t\\t\\t\\t\\t\\t\\t\\t\\t\\t17/8, ANDIAPPAN GRAMANI STREET, ROYAPURAM, CHENNAI\\n\\t\\t\\t\\t\\t\\t\\t\\t\\t\\t\\t\\t\\t\\t\\t\\t\\t\\t\\t\\t\\t,600013\\n\\n\\nPhone No:\\n\\t\\t\\t\\t\\t\\t\\t\\t\\t\\t\\t\\t\\t\\t\\t\\t\\t\\t\\t\\t\\t\\n\\t\\t\\t\\t\\t\\t\\t\\t\\t\\t\\t\\t\\t\\t\\t\\t\\t\\t\\t\\t\\t,04448595902\\n\\n\\n\\nEmail:\\n\\t\\t\\t\\t\\t\\t\\t\\t\\t\\t\\t\\t\\t\\t\\t\\t\\t\\t\\t\\t\\taapublicschool@gmail.com\\n                                                                                     Website:\\n\\n\\n\\n\\n\\n\\n\\n\\n2\\n\\n\\n\\nAffiliation No.1930134\\n\\n\\nName:\\nA J C ENGLISH SCHOOL\\n\\n\\nHead/Principal Name:ANANDHAVALLI K\\n\\n\\nStatus of the School:Secondary School\\n\\n\\nAffiliated up to: 31/03/2022 \\n\\n\\n\\n\\n\\n\\nAddress:\\n\\t\\t\\t\\t\\t\\t\\t\\t\\t\\t\\t\\t\\t\\t\\t\\t\\t\\t\\t\\t\\tLAL BAHADUR SHASTRI ROAD KUMBAKONAM TAMIL NADU\\n\\t\\t\\t\\t\\t\\t\\t\\t\\t\\t\\t\\t\\t\\t\\t\\t\\t\\t\\t\\t\\t,612001\\n\\n\\nPhone No:\\n\\t\\t\\t\\t\\t\\t\\t\\t\\t\\t\\t\\t\\t\\t\\t\\t\\t\\t\\t\\t\\t0435\\n\\t\\t\\t\\t\\t\\t\\t\\t\\t\\t\\t\\t\\t\\t\\t\\t\\t\\t\\t\\t\\t,2420730\\n\\n\\n\\nEmail:\\n\\t\\t\\t\\t\\t\\t\\t\\t\\t\\t\\t\\t\\t\\t\\t\\t\\t\\t\\t\\t\\tanandhiphysics@gmail.com\\n                                                                                    Website:\\n\\n\\n\\n\\n\\n\\n\\n\\n3\\n\\n\\n\\nAffiliation No.130340 \\n\\n\\nName:\\nA K R G TECHNO SCHOOL\\n\\n\\nHead/Principal Name:GUTTA PADMAJA\\n\\n\\nStatus of the School:Secondary School\\n\\n\\nAffiliated up to: 31/03/2022 \\n\\n\\n\\n\\n\\n\\nAddress:\\n\\t\\t\\t\\t\\t\\t\\t\\t\\t\\t\\t\\t\\t\\t\\t\\t\\t\\t\\t\\t\\tNALLAJERLA\\n\\t\\t\\t\\t\\t\\t\\t\\t\\t\\t\\t\\t\\t\\t\\t\\t\\t\\t\\t\\t\\t,534112\\n\\n\\nPhone No:\\n\\t\\t\\t\\t\\t\\t\\t\\t\\t\\t\\t\\t\\t\\t\\t\\t\\t\\t\\t\\t\\t818\\n\\t\\t\\t\\t\\t\\t\\t\\t\\t\\t\\t\\t\\t\\t\\t\\t\\t\\t\\t\\t\\t,277993\\n\\n\\n\\nEmail:\\n\\t\\t\\t\\t\\t\\t\\t\\t\\t\\t\\t\\t\\t\\t\\t\\t\\t\\t\\t\\t\\takrgschool@gmail.com\\n                                                                                     Website:\\n\\n\\n\\n\\n\\n\\n\\n\\n4\\n\\n\\n\\nAffiliation No.1930516\\n\\n\\nName:\\nA M PUBLIC SCHOOL\\n\\n\\nHead/Principal Name:MRS. THAMAYANTHI S\\n\\n\\nStatus of the School:Senior Secondary\\n\\n\\nAffiliated up to: 31/03/2022 \\n\\n\\n\\n\\n\\n\\nAddress:\\n\\t\\t\\t\\t\\t\\t\\t\\t\\t\\t\\t\\t\\t\\t\\t\\t\\t\\t\\t\\t\\tNADUPATTI\\nKADAYAMPATTI(TK)\\nSALEM DISTRICT\\n\\t\\t\\t\\t\\t\\t\\t\\t\\t\\t\\t\\t\\t\\t\\t\\t\\t\\t\\t\\t\\t,636351\\n\\n\\nPhone No:\\n\\t\\t\\t\\t\\t\\t\\t\\t\\t\\t\\t\\t\\t\\t\\t\\t\\t\\t\\t\\t\\t4290\\n\\t\\t\\t\\t\\t\\t\\t\\t\\t\\t\\t\\t\\t\\t\\t\\t\\t\\t\\t\\t\\t,04290243578\\n\\n\\n\\nEmail:\\n\\t\\t\\t\\t\\t\\t\\t\\t\\t\\t\\t\\t\\t\\t\\t\\t\\t\\t\\t\\t\\tampublicschool12@gmail.com\\n                                                                                    Website:\\n\\t\\t\\t\\t\\t\\t\\t\\t\\t\\t\\t\\t\\t\\t\\t\\t\\t\\t\\t\\t\\thttp://www.ampublicschool.in\\n\\t\\t\\t\\t\\t\\t\\t\\t\\t\\t\\t\\t\\t\\t\\t\\t\\t\\t\\t\\t\\n\\n\\n\\n\\n\\n\\n\\n5\\n\\n\\n\\nAffiliation No.1930194\\n\\n\\nName:\\nA++ NATIONAL SCHOOL\\n\\n\\nHead/Principal Name:MRS T GOMATHI SINGH\\n\\n\\nStatus of the School:Secondary School\\n\\n\\nAffiliated up to: 31/03/2008 \\n\\n\\n\\n\\n\\n\\nAddress:\\n\\t\\t\\t\\t\\t\\t\\t\\t\\t\\t\\t\\t\\t\\t\\t\\t\\t\\t\\t\\t\\tARIVOLI NAGAR, THIRUNALVELI ROAD THIRUCHENDUR, DISTT THOOTHUKUDI TAMIL NADU\\n\\t\\t\\t\\t\\t\\t\\t\\t\\t\\t\\t\\t\\t\\t\\t\\t\\t\\t\\t\\t\\t,628215\\n\\n\\nPhone No:\\n\\t\\t\\t\\t\\t\\t\\t\\t\\t\\t\\t\\t\\t\\t\\t\\t\\t\\t\\t\\t\\t04639\\n\\t\\t\\t\\t\\t\\t\\t\\t\\t\\t\\t\\t\\t\\t\\t\\t\\t\\t\\t\\t\\t,223344\\n\\n\\n\\nEmail:\\nWebsite:\\n\\n\\n\\n\\n\\n\\n\\n\\n6\\n\\n\\n\\nAffiliation No.830315 \\n\\n\\nName:\\nA.C. SHETTY MEMORIAL PRIMARY SCHOOL\\n\\n\\nHead/Principal Name:B. Mahabaleshwara Udupa\\n\\n\\nStatus of the School:Secondary School\\n\\n\\nAffiliated up to: 31/03/2019 \\n\\n\\n\\n\\n\\n\\nAddress:\\n\\t\\t\\t\\t\\t\\t\\t\\t\\t\\t\\t\\t\\t\\t\\t\\t\\t\\t\\t\\t\\tARDI ALBADY, KUNDAPURA TALUK, UDUPI DISTRICT KARNATAKA\\n\\t\\t\\t\\t\\t\\t\\t\\t\\t\\t\\t\\t\\t\\t\\t\\t\\t\\t\\t\\t\\t,576212\\n\\n\\nPhone No:\\n\\t\\t\\t\\t\\t\\t\\t\\t\\t\\t\\t\\t\\t\\t\\t\\t\\t\\t\\t\\t\\t08284\\n\\t\\t\\t\\t\\t\\t\\t\\t\\t\\t\\t\\t\\t\\t\\t\\t\\t\\t\\t\\t\\t,08259-285269, 08259-285369\\n\\n\\n\\nEmail:\\n\\t\\t\\t\\t\\t\\t\\t\\t\\t\\t\\t\\t\\t\\t\\t\\t\\t\\t\\t\\t\\tnkmahajanca@yahoo.co.in\\n                                                                                    Website:\\n\\n\\n\\n\\n\\n\\n\\n\\n7\\n\\n\\n\\nAffiliation No.1930235\\n\\n\\nName:\\nA.K.T. MEMORIAL VIDYA SAAKET SCHOOL\\n\\n\\nHead/Principal Name:S USHA KUMARI\\n\\n\\nStatus of the School:Secondary School\\n\\n\\nAffiliated up to: 31/03/2022 \\n\\n\\n\\n\\n\\n\\nAddress:\\n\\t\\t\\t\\t\\t\\t\\t\\t\\t\\t\\t\\t\\t\\t\\t\\t\\t\\t\\t\\t\\tNEELAMANGALAM VILLAGE KALLAKURICHI - POST, VILLUPURAM DISTT., TAMILNADU\\n\\t\\t\\t\\t\\t\\t\\t\\t\\t\\t\\t\\t\\t\\t\\t\\t\\t\\t\\t\\t\\t,606202\\n\\n\\nPhone No:\\n\\t\\t\\t\\t\\t\\t\\t\\t\\t\\t\\t\\t\\t\\t\\t\\t\\t\\t\\t\\t\\t4151\\n\\t\\t\\t\\t\\t\\t\\t\\t\\t\\t\\t\\t\\t\\t\\t\\t\\t\\t\\t\\t\\t,226655\\n\\n\\n\\nEmail:\\n\\t\\t\\t\\t\\t\\t\\t\\t\\t\\t\\t\\t\\t\\t\\t\\t\\t\\t\\t\\t\\tprincipal.aktcbse@gmail.com\\n                                                                                     Website:\\n\\n\\n\\n\\n\\n\\n\\n\\n8\\n\\n\\n\\nAffiliation No.1930354\\n\\n\\nName:\\nA.R.J.  PUBLIC SCHOOL\\n\\n\\nHead/Principal Name:KAVITHA S\\n\\n\\nStatus of the School:Senior Secondary\\n\\n\\nAffiliated up to: 31/03/2025 \\n\\n\\n\\n\\n\\n\\nAddress:\\n\\t\\t\\t\\t\\t\\t\\t\\t\\t\\t\\t\\t\\t\\t\\t\\t\\t\\t\\t\\t\\tTHIRUMANKOTTAI MAIN ROAD, EDAYARNATHAM, MANNARGUDI -614001\\n\\t\\t\\t\\t\\t\\t\\t\\t\\t\\t\\t\\t\\t\\t\\t\\t\\t\\t\\t\\t\\t,614001\\n\\n\\nPhone No:\\n\\t\\t\\t\\t\\t\\t\\t\\t\\t\\t\\t\\t\\t\\t\\t\\t\\t\\t\\t\\t\\t4367\\n\\t\\t\\t\\t\\t\\t\\t\\t\\t\\t\\t\\t\\t\\t\\t\\t\\t\\t\\t\\t\\t,223333\\n\\n\\n\\nEmail:\\n\\t\\t\\t\\t\\t\\t\\t\\t\\t\\t\\t\\t\\t\\t\\t\\t\\t\\t\\t\\t\\tarjps@arj.edu.in\\n                                                                                    Website:\\n\\t\\t\\t\\t\\t\\t\\t\\t\\t\\t\\t\\t\\t\\t\\t\\t\\t\\t\\t\\t\\thttp://www.arj.edu.in\\n\\t\\t\\t\\t\\t\\t\\t\\t\\t\\t\\t\\t\\t\\t\\t\\t\\t\\t\\t\\t\\n\\n\\n\\n\\n\\n\\n\\n9\\n\\n\\n\\nAffiliation No.1930784\\n\\n\\nName:\\nAAA INTERNATIONAL SCHOOL\\n\\n\\nHead/Principal Name:MRS. A V BHUVANESWARI\\n\\n\\nStatus of the School:Senior Secondary\\n\\n\\nAffiliated up to: 31/03/2023 \\n\\n\\n\\n\\n\\n\\nAddress:\\n\\t\\t\\t\\t\\t\\t\\t\\t\\t\\t\\t\\t\\t\\t\\t\\t\\t\\t\\t\\t\\t828, A, S.N. PURAM ROAD, THIRUTHANGAL, SIVAKASI\\n\\t\\t\\t\\t\\t\\t\\t\\t\\t\\t\\t\\t\\t\\t\\t\\t\\t\\t\\t\\t\\t,626130\\n\\n\\nPhone No:\\n\\t\\t\\t\\t\\t\\t\\t\\t\\t\\t\\t\\t\\t\\t\\t\\t\\t\\t\\t\\t\\t0456\\n\\t\\t\\t\\t\\t\\t\\t\\t\\t\\t\\t\\t\\t\\t\\t\\t\\t\\t\\t\\t\\t,2228885\\n\\n\\n\\nEmail:\\n\\t\\t\\t\\t\\t\\t\\t\\t\\t\\t\\t\\t\\t\\t\\t\\t\\t\\t\\t\\t\\tprincipalaaaittl@gmail.com\\n                                                                                     Website:\\n\\t\\t\\t\\t\\t\\t\\t\\t\\t\\t\\t\\t\\t\\t\\t\\t\\t\\t\\t\\t\\thttp://www.aaainternationalschool.com/\\n\\t\\t\\t\\t\\t\\t\\t\\t\\t\\t\\t\\t\\t\\t\\t\\t\\t\\t\\t\\t\\n\\n\\n\\n\\n\\n\\n\\n10\\n\\n\\n\\nAffiliation No.2930008\\n\\n\\nName:\\nAATHMALAYAA MIDDLE SCHOOL\\n\\n\\nHead/Principal Name:MRS. LAYAVARJITHA S\\n\\n\\nStatus of the School:Senior Secondary\\n\\n\\nAffiliated up to: 31/03/2024 \\n\\n\\n\\n\\n\\n\\nAddress:\\n\\t\\t\\t\\t\\t\\t\\t\\t\\t\\t\\t\\t\\t\\t\\t\\t\\t\\t\\t\\t\\tAATHMALAYAA NAGAR, SCHOOL ROAD, KEEZHZKASAKUDI, KARAIKAL - 609609.\\n\\t\\t\\t\\t\\t\\t\\t\\t\\t\\t\\t\\t\\t\\t\\t\\t\\t\\t\\t\\t\\t,609609\\n\\n\\nPhone No:\\n\\t\\t\\t\\t\\t\\t\\t\\t\\t\\t\\t\\t\\t\\t\\t\\t\\t\\t\\t\\t\\t4368\\n\\t\\t\\t\\t\\t\\t\\t\\t\\t\\t\\t\\t\\t\\t\\t\\t\\t\\t\\t\\t\\t,04368292002,\\n\\n\\n\\nEmail:\\n\\t\\t\\t\\t\\t\\t\\t\\t\\t\\t\\t\\t\\t\\t\\t\\t\\t\\t\\t\\t\\tprincipal@aathmalayaa.in\\n                                                                                    Website:\\n\\t\\t\\t\\t\\t\\t\\t\\t\\t\\t\\t\\t\\t\\t\\t\\t\\t\\t\\t\\t\\thttp://www.aathmalayaa.in\\n\\t\\t\\t\\t\\t\\t\\t\\t\\t\\t\\t\\t\\t\\t\\t\\t\\t\\t\\t\\t\\n\\n\\n\\n\\n\\n\\n\\n11\\n\\n\\n\\nAffiliation No.1930238\\n\\n\\nName:\\nABACUS INTERNATIONAL MONTESSORI SCHOOL\\n\\n\\nHead/Principal Name:JOSEPHINE MARIA PREMA\\n\\n\\nStatus of the School:Senior Secondary\\n\\n\\nAffiliated up to: 31/03/2025 \\n\\n\\n\\n\\n\\n\\nAddress:\\n\\t\\t\\t\\t\\t\\t\\t\\t\\t\\t\\t\\t\\t\\t\\t\\t\\t\\t\\t\\t\\tS.F.NO 516 MUDALI PALAYAM PIRIVU, PERUNTHOZHUVU ROAD, KANGAYAM ROAD\\n\\t\\t\\t\\t\\t\\t\\t\\t\\t\\t\\t\\t\\t\\t\\t\\t\\t\\t\\t\\t\\t,641606\\n\\n\\nPhone No:\\n\\t\\t\\t\\t\\t\\t\\t\\t\\t\\t\\t\\t\\t\\t\\t\\t\\t\\t\\t\\t\\t0421\\n\\t\\t\\t\\t\\t\\t\\t\\t\\t\\t\\t\\t\\t\\t\\t\\t\\t\\t\\t\\t\\t,3212321\\n\\n\\n\\nEmail:\\n\\t\\t\\t\\t\\t\\t\\t\\t\\t\\t\\t\\t\\t\\t\\t\\t\\t\\t\\t\\t\\tprincipal@aimstirupur.com\\n                                                                                     Website:\\n\\t\\t\\t\\t\\t\\t\\t\\t\\t\\t\\t\\t\\t\\t\\t\\t\\t\\t\\t\\t\\thttp://www.aims_tirupur.edu.in\\n\\t\\t\\t\\t\\t\\t\\t\\t\\t\\t\\t\\t\\t\\t\\t\\t\\t\\t\\t\\t\\n\\n\\n\\n\\n\\n\\n\\n12\\n\\n\\n\\nAffiliation No.1930573\\n\\n\\nName:\\nABCS KENBRIDGE SCHOOL\\n\\n\\nHead/Principal Name:RAVICHANDRAN S\\n\\n\\nStatus of the School:Senior Secondary\\n\\n\\nAffiliated up to: 31/03/2025 \\n\\n\\n\\n\\n\\n\\nAddress:\\n\\t\\t\\t\\t\\t\\t\\t\\t\\t\\t\\t\\t\\t\\t\\t\\t\\t\\t\\t\\t\\tTRICHY RAMESWARAM MAIN ROAD,NARANAMANGALAM POST,NEAR DEVIPATTINAM, RAMANATHAPURAM DIST\\n\\t\\t\\t\\t\\t\\t\\t\\t\\t\\t\\t\\t\\t\\t\\t\\t\\t\\t\\t\\t\\t,623537\\n\\n\\nPhone No:\\n\\t\\t\\t\\t\\t\\t\\t\\t\\t\\t\\t\\t\\t\\t\\t\\t\\t\\t\\t\\t\\t4567\\n\\t\\t\\t\\t\\t\\t\\t\\t\\t\\t\\t\\t\\t\\t\\t\\t\\t\\t\\t\\t\\t,259364\\n\\n\\n\\nEmail:\\n\\t\\t\\t\\t\\t\\t\\t\\t\\t\\t\\t\\t\\t\\t\\t\\t\\t\\t\\t\\t\\tkenbridgeprincipal@gmail.com\\n                                                                                    Website:\\n\\n\\n\\n\\n\\n\\n\\n\\n13\\n\\n\\n\\nAffiliation No.3630083\\n\\n\\nName:\\nABHAYA SCHOOL\\n\\n\\nHead/Principal Name:L.SHAILAJA\\n\\n\\nStatus of the School:Senior Secondary\\n\\n\\nAffiliated up to: 31/03/2022 \\n\\n\\n\\n\\n\\n\\nAddress:\\n\\t\\t\\t\\t\\t\\t\\t\\t\\t\\t\\t\\t\\t\\t\\t\\t\\t\\t\\t\\t\\tGUNDLA POCHAMPALLY VILLAGE, NEAR APPAREL TEXTILE PARK, MEDCHAL MANDAL DIST, RANGAREDDY,\\n\\t\\t\\t\\t\\t\\t\\t\\t\\t\\t\\t\\t\\t\\t\\t\\t\\t\\t\\t\\t\\t,500014\\n\\n\\nPhone No:\\n\\t\\t\\t\\t\\t\\t\\t\\t\\t\\t\\t\\t\\t\\t\\t\\t\\t\\t\\t\\t\\t01734\\n\\t\\t\\t\\t\\t\\t\\t\\t\\t\\t\\t\\t\\t\\t\\t\\t\\t\\t\\t\\t\\t,08008222356\\n\\n\\n\\nEmail:\\n\\t\\t\\t\\t\\t\\t\\t\\t\\t\\t\\t\\t\\t\\t\\t\\t\\t\\t\\t\\t\\tabhaya_school@yahoo.co.in\\n                                                                                     Website:\\n\\t\\t\\t\\t\\t\\t\\t\\t\\t\\t\\t\\t\\t\\t\\t\\t\\t\\t\\t\\t\\thttp://www.abhayaschool.in\\n\\t\\t\\t\\t\\t\\t\\t\\t\\t\\t\\t\\t\\t\\t\\t\\t\\t\\t\\t\\t\\n\\n\\n\\n\\n\\n\\n\\n14\\n\\n\\n\\nAffiliation No.130301 \\n\\n\\nName:\\nABHYAS THE GLOBAL SCHOOL\\n\\n\\nHead/Principal Name:Mrs.I.Naga Mani\\n\\n\\nStatus of the School:Secondary School\\n\\n\\nAffiliated up to: 31/03/2026 \\n\\n\\n\\n\\n\\n\\nAddress:\\n\\t\\t\\t\\t\\t\\t\\t\\t\\t\\t\\t\\t\\t\\t\\t\\t\\t\\t\\t\\t\\t4-155,JP ROAD PEDAMIRAM VILLAGE, KALLA MANDAL WEST GODAVARI ANDHRA PRADESH\\n\\t\\t\\t\\t\\t\\t\\t\\t\\t\\t\\t\\t\\t\\t\\t\\t\\t\\t\\t\\t\\t,534204\\n\\n\\nPhone No:\\n\\t\\t\\t\\t\\t\\t\\t\\t\\t\\t\\t\\t\\t\\t\\t\\t\\t\\t\\t\\t\\t8816\\n\\t\\t\\t\\t\\t\\t\\t\\t\\t\\t\\t\\t\\t\\t\\t\\t\\t\\t\\t\\t\\t,223445\\n\\n\\n\\nEmail:\\n\\t\\t\\t\\t\\t\\t\\t\\t\\t\\t\\t\\t\\t\\t\\t\\t\\t\\t\\t\\t\\tsyjdora@gmail.com\\n                                                                                    Website:\\n\\t\\t\\t\\t\\t\\t\\t\\t\\t\\t\\t\\t\\t\\t\\t\\t\\t\\t\\t\\t\\thttp://www.abhyastheglobalschool.com\\n\\t\\t\\t\\t\\t\\t\\t\\t\\t\\t\\t\\t\\t\\t\\t\\t\\t\\t\\t\\t\\n\\n\\n\\n\\n\\n\\n\\n15\\n\\n\\n\\nAffiliation No.1930290\\n\\n\\nName:\\nABS VIDHYA MANDHIR\\n\\n\\nHead/Principal Name:RATHI MENON\\n\\n\\nStatus of the School:Senior Secondary\\n\\n\\nAffiliated up to: 31/03/2022 \\n\\n\\n\\n\\n\\n\\nAddress:\\n\\t\\t\\t\\t\\t\\t\\t\\t\\t\\t\\t\\t\\t\\t\\t\\t\\t\\t\\t\\t\\tTHALAKANCHERRY ROAD, IVELI AGARAM, THIRUVALLUR\\n\\t\\t\\t\\t\\t\\t\\t\\t\\t\\t\\t\\t\\t\\t\\t\\t\\t\\t\\t\\t\\t,602001\\n\\n\\nPhone No:\\n\\t\\t\\t\\t\\t\\t\\t\\t\\t\\t\\t\\t\\t\\t\\t\\t\\t\\t\\t\\t\\t0\\n\\t\\t\\t\\t\\t\\t\\t\\t\\t\\t\\t\\t\\t\\t\\t\\t\\t\\t\\t\\t\\t,9244940111\\n\\n\\n\\nEmail:\\n\\t\\t\\t\\t\\t\\t\\t\\t\\t\\t\\t\\t\\t\\t\\t\\t\\t\\t\\t\\t\\tabsvm.rathi@gmail.com\\n                                                                                     Website:\\n\\t\\t\\t\\t\\t\\t\\t\\t\\t\\t\\t\\t\\t\\t\\t\\t\\t\\t\\t\\t\\twww.absvidhyamandhir.com\\n\\t\\t\\t\\t\\t\\t\\t\\t\\t\\t\\t\\t\\t\\t\\t\\t\\t\\t\\t\\t\\n\\n\\n\\n\\n\\n\\n\\n16\\n\\n\\n\\nAffiliation No.3630234\\n\\n\\nName:\\nACADEMIC HEIGHTS PUBLIC SCHOOL\\n\\n\\nHead/Principal Name:MRS. NAJMAUNISA BEGUM\\n\\n\\nStatus of the School:Senior Secondary\\n\\n\\nAffiliated up to: 31/03/2022 \\n\\n\\n\\n\\n\\n\\nAddress:\\n\\t\\t\\t\\t\\t\\t\\t\\t\\t\\t\\t\\t\\t\\t\\t\\t\\t\\t\\t\\t\\t18-4-42/A, ALIABAD SAHMSHERGUNJ\\n\\t\\t\\t\\t\\t\\t\\t\\t\\t\\t\\t\\t\\t\\t\\t\\t\\t\\t\\t\\t\\t,500053\\n\\n\\nPhone No:\\n\\t\\t\\t\\t\\t\\t\\t\\t\\t\\t\\t\\t\\t\\t\\t\\t\\t\\t\\t\\t\\t040\\n\\t\\t\\t\\t\\t\\t\\t\\t\\t\\t\\t\\t\\t\\t\\t\\t\\t\\t\\t\\t\\t,04064546403,\\n\\n\\n\\nEmail:\\n\\t\\t\\t\\t\\t\\t\\t\\t\\t\\t\\t\\t\\t\\t\\t\\t\\t\\t\\t\\t\\tahpscharminar@yahoo.com\\n                                                                                    Website:\\n\\t\\t\\t\\t\\t\\t\\t\\t\\t\\t\\t\\t\\t\\t\\t\\t\\t\\t\\t\\t\\thttp://ahpscharminar.com/\\n\\t\\t\\t\\t\\t\\t\\t\\t\\t\\t\\t\\t\\t\\t\\t\\t\\t\\t\\t\\t\\n\\n\\n\\n\\n\\n\\n\\n17\\n\\n\\n\\nAffiliation No.3630210\\n\\n\\nName:\\nACADEMIC HEIGHTS PUBLIC SCHOOL\\n\\n\\nHead/Principal Name:SINITA YEMPATI\\n\\n\\nStatus of the School:Secondary School\\n\\n\\nAffiliated up to: 31/03/2025 \\n\\n\\n\\n\\n\\n\\nAddress:\\n\\t\\t\\t\\t\\t\\t\\t\\t\\t\\t\\t\\t\\t\\t\\t\\t\\t\\t\\t\\t\\tSURVEY NO:51, VENKAT REDDY COLONY, BOLLIGUDEM ROAD, BODUPPAL\\n\\t\\t\\t\\t\\t\\t\\t\\t\\t\\t\\t\\t\\t\\t\\t\\t\\t\\t\\t\\t\\t,500039\\n\\n\\nPhone No:\\n\\t\\t\\t\\t\\t\\t\\t\\t\\t\\t\\t\\t\\t\\t\\t\\t\\t\\t\\t\\t\\t040\\n\\t\\t\\t\\t\\t\\t\\t\\t\\t\\t\\t\\t\\t\\t\\t\\t\\t\\t\\t\\t\\t,7093903311\\n\\n\\n\\nEmail:\\n\\t\\t\\t\\t\\t\\t\\t\\t\\t\\t\\t\\t\\t\\t\\t\\t\\t\\t\\t\\t\\tahpsboduppalprincipal@gmail.com\\n                                                                                     Website:\\n\\n\\n\\n\\n\\n\\n\\n\\n18\\n\\n\\n\\nAffiliation No.3630288\\n\\n\\nName:\\nACADEMIC HEIGHTS PUBLIC SCHOOL\\n\\n\\nHead/Principal Name:MRS. J.LAKSHMI RAGHAVENDRA\\n\\n\\nStatus of the School:Secondary School\\n\\n\\nAffiliated up to: 31/03/2022 \\n\\n\\n\\n\\n\\n\\nAddress:\\n\\t\\t\\t\\t\\t\\t\\t\\t\\t\\t\\t\\t\\t\\t\\t\\t\\t\\t\\t\\t\\tACADEMIC HEIGHTS PUBLIC SCHOOL, KISTAREDDYPET VILLAGE,AMEENPUR MANDAL, SANGAREDDY DIST\\n\\t\\t\\t\\t\\t\\t\\t\\t\\t\\t\\t\\t\\t\\t\\t\\t\\t\\t\\t\\t\\t,502032\\n\\n\\nPhone No:\\n\\t\\t\\t\\t\\t\\t\\t\\t\\t\\t\\t\\t\\t\\t\\t\\t\\t\\t\\t\\t\\t\\n\\t\\t\\t\\t\\t\\t\\t\\t\\t\\t\\t\\t\\t\\t\\t\\t\\t\\t\\t\\t\\t,9618380022\\n\\n\\n\\nEmail:\\n\\t\\t\\t\\t\\t\\t\\t\\t\\t\\t\\t\\t\\t\\t\\t\\t\\t\\t\\t\\t\\tacademicheightsbeeramguda@gmail.com\\n                                                                                    Website:\\n\\n\\n\\n\\n\\n\\n\\n\\n19\\n\\n\\n\\nAffiliation No.3630321\\n\\n\\nName:\\nACADEMIC HEIGHTS PUBLIC SCHOOL\\n\\n\\nHead/Principal Name:MRS. K MADHAVI KRISHNA\\n\\n\\nStatus of the School:Secondary School\\n\\n\\nAffiliated up to: 31/03/2023 \\n\\n\\n\\n\\n\\n\\nAddress:\\n\\t\\t\\t\\t\\t\\t\\t\\t\\t\\t\\t\\t\\t\\t\\t\\t\\t\\t\\t\\t\\tSY NO 78, VENAKATARAMANA COLONY, GOKUL PLOTS, HAFEEZPET, SERILINGAMPALLY MANDAL\\n\\t\\t\\t\\t\\t\\t\\t\\t\\t\\t\\t\\t\\t\\t\\t\\t\\t\\t\\t\\t\\t,500072\\n\\n\\nPhone No:\\n\\t\\t\\t\\t\\t\\t\\t\\t\\t\\t\\t\\t\\t\\t\\t\\t\\t\\t\\t\\t\\t\\n\\t\\t\\t\\t\\t\\t\\t\\t\\t\\t\\t\\t\\t\\t\\t\\t\\t\\t\\t\\t\\t,9000103540\\n\\n\\n\\nEmail:\\n\\t\\t\\t\\t\\t\\t\\t\\t\\t\\t\\t\\t\\t\\t\\t\\t\\t\\t\\t\\t\\tacademicheightskphb@gmail.com\\n                                                                                     Website:\\n\\t\\t\\t\\t\\t\\t\\t\\t\\t\\t\\t\\t\\t\\t\\t\\t\\t\\t\\t\\t\\thttp://www.academicheightskphb.com\\n\\t\\t\\t\\t\\t\\t\\t\\t\\t\\t\\t\\t\\t\\t\\t\\t\\t\\t\\t\\t\\n\\n\\n\\n\\n\\n\\n\\n20\\n\\n\\n\\nAffiliation No.3630375\\n\\n\\nName:\\nACADEMIC HEIGHTS PUBLIC SCHOOL\\n\\n\\nHead/Principal Name:MRS. YERRA JHANSI LATHA\\n\\n\\nStatus of the School:Secondary School\\n\\n\\nAffiliated up to: 31/03/2024 \\n\\n\\n\\n\\n\\n\\nAddress:\\n\\t\\t\\t\\t\\t\\t\\t\\t\\t\\t\\t\\t\\t\\t\\t\\t\\t\\t\\t\\t\\tPLOT NO,1&2, OPP.VENKATESHWARA COLONY,INJAPUR, ABDULLAPURMET MDL, RANGA REDDY DIST\\n\\t\\t\\t\\t\\t\\t\\t\\t\\t\\t\\t\\t\\t\\t\\t\\t\\t\\t\\t\\t\\t,501510\\n\\n\\nPhone No:\\n\\t\\t\\t\\t\\t\\t\\t\\t\\t\\t\\t\\t\\t\\t\\t\\t\\t\\t\\t\\t\\t\\n\\t\\t\\t\\t\\t\\t\\t\\t\\t\\t\\t\\t\\t\\t\\t\\t\\t\\t\\t\\t\\t,9121019898\\n\\n\\n\\nEmail:\\n\\t\\t\\t\\t\\t\\t\\t\\t\\t\\t\\t\\t\\t\\t\\t\\t\\t\\t\\t\\t\\tprincipalinj@academicheightshyd.com\\n                                                                                    Website:\\n\\n\\n\\n\\n\\n\\n\\n\\n21\\n\\n\\n\\nAffiliation No.3630180\\n\\n\\nName:\\nACADEMIC HEIGHTS SCHOOL\\n\\n\\nHead/Principal Name:RUPA REDDY\\n\\n\\nStatus of the School:Secondary School\\n\\n\\nAffiliated up to: 31/03/2024 \\n\\n\\n\\n\\n\\n\\nAddress:\\n\\t\\t\\t\\t\\t\\t\\t\\t\\t\\t\\t\\t\\t\\t\\t\\t\\t\\t\\t\\t\\tBACHPAN CAMPUS JAGADEEVPUR ROAD HANMAPUR  BHONGIR\\n\\t\\t\\t\\t\\t\\t\\t\\t\\t\\t\\t\\t\\t\\t\\t\\t\\t\\t\\t\\t\\t,508116\\n\\n\\nPhone No:\\n\\t\\t\\t\\t\\t\\t\\t\\t\\t\\t\\t\\t\\t\\t\\t\\t\\t\\t\\t\\t\\t8685\\n\\t\\t\\t\\t\\t\\t\\t\\t\\t\\t\\t\\t\\t\\t\\t\\t\\t\\t\\t\\t\\t,243693\\n\\n\\n\\nEmail:\\n\\t\\t\\t\\t\\t\\t\\t\\t\\t\\t\\t\\t\\t\\t\\t\\t\\t\\t\\t\\t\\tahps.principal@gmail.com\\n                                                                                     Website:\\n\\n\\n\\n\\n\\n\\n\\n\\n22\\n\\n\\n\\nAffiliation No.130371 \\n\\n\\nName:\\nACCORD SCHOOL\\n\\n\\nHead/Principal Name:M Liaqet Ali Khan\\n\\n\\nStatus of the School:Senior Secondary\\n\\n\\nAffiliated up to: 31/03/2023 \\n\\n\\n\\n\\n\\n\\nAddress:\\n\\t\\t\\t\\t\\t\\t\\t\\t\\t\\t\\t\\t\\t\\t\\t\\t\\t\\t\\t\\t\\tRC ROAD, CHIGURUWADA NORTH, TIRUPATI CHITTOOR, ANDHRA PRADESH\\n\\t\\t\\t\\t\\t\\t\\t\\t\\t\\t\\t\\t\\t\\t\\t\\t\\t\\t\\t\\t\\t,517507\\n\\n\\nPhone No:\\n\\t\\t\\t\\t\\t\\t\\t\\t\\t\\t\\t\\t\\t\\t\\t\\t\\t\\t\\t\\t\\t0877\\n\\t\\t\\t\\t\\t\\t\\t\\t\\t\\t\\t\\t\\t\\t\\t\\t\\t\\t\\t\\t\\t,6457775\\n\\n\\n\\nEmail:\\n\\t\\t\\t\\t\\t\\t\\t\\t\\t\\t\\t\\t\\t\\t\\t\\t\\t\\t\\t\\t\\tinfo@theaccordschool.com\\n                                                                                    Website:\\n\\t\\t\\t\\t\\t\\t\\t\\t\\t\\t\\t\\t\\t\\t\\t\\t\\t\\t\\t\\t\\thttp://www.theaccordschool.com\\n\\t\\t\\t\\t\\t\\t\\t\\t\\t\\t\\t\\t\\t\\t\\t\\t\\t\\t\\t\\t\\n\\n\\n\\n\\n\\n\\n\\n23\\n\\n\\n\\nAffiliation No.2930005\\n\\n\\nName:\\nACHARIYA BALA SIKSHA MANDIR\\n\\n\\nHead/Principal Name:DR R ANITA SANTHAKUMAR\\n\\n\\nStatus of the School:Senior Secondary\\n\\n\\nAffiliated up to: 31/03/2026 \\n\\n\\n\\n\\n\\n\\nAddress:\\n\\t\\t\\t\\t\\t\\t\\t\\t\\t\\t\\t\\t\\t\\t\\t\\t\\t\\t\\t\\t\\tACHARIYA COMMUNE, FISHING HARBOUR ROAD, THENGAITHITTU,PONDICHERRY\\n\\t\\t\\t\\t\\t\\t\\t\\t\\t\\t\\t\\t\\t\\t\\t\\t\\t\\t\\t\\t\\t,605004\\n\\n\\nPhone No:\\n\\t\\t\\t\\t\\t\\t\\t\\t\\t\\t\\t\\t\\t\\t\\t\\t\\t\\t\\t\\t\\t0413\\n\\t\\t\\t\\t\\t\\t\\t\\t\\t\\t\\t\\t\\t\\t\\t\\t\\t\\t\\t\\t\\t,3293344\\n\\n\\n\\nEmail:\\n\\t\\t\\t\\t\\t\\t\\t\\t\\t\\t\\t\\t\\t\\t\\t\\t\\t\\t\\t\\t\\tabsmtt@achariya.org\\n                                                                                     Website:\\n\\t\\t\\t\\t\\t\\t\\t\\t\\t\\t\\t\\t\\t\\t\\t\\t\\t\\t\\t\\t\\thttp://www.achariya.in\\n\\t\\t\\t\\t\\t\\t\\t\\t\\t\\t\\t\\t\\t\\t\\t\\t\\t\\t\\t\\t\\n\\n\\n\\n\\n\\n\\n\\n24\\n\\n\\n\\nAffiliation No.1930428\\n\\n\\nName:\\nACHARIYA SCHOOL\\n\\n\\nHead/Principal Name:SUDALAIMUTHU\\n\\n\\nStatus of the School:Senior Secondary\\n\\n\\nAffiliated up to: 31/03/2023 \\n\\n\\n\\n\\n\\n\\nAddress:\\n\\t\\t\\t\\t\\t\\t\\t\\t\\t\\t\\t\\t\\t\\t\\t\\t\\t\\t\\t\\t\\t3/185-1,MUTHUMARIAMMAN KOVIL ROAD\\n\\t\\t\\t\\t\\t\\t\\t\\t\\t\\t\\t\\t\\t\\t\\t\\t\\t\\t\\t\\t\\t,628721\\n\\n\\nPhone No:\\n\\t\\t\\t\\t\\t\\t\\t\\t\\t\\t\\t\\t\\t\\t\\t\\t\\t\\t\\t\\t\\t4632\\n\\t\\t\\t\\t\\t\\t\\t\\t\\t\\t\\t\\t\\t\\t\\t\\t\\t\\t\\t\\t\\t,248689\\n\\n\\n\\nEmail:\\n\\t\\t\\t\\t\\t\\t\\t\\t\\t\\t\\t\\t\\t\\t\\t\\t\\t\\t\\t\\t\\tsudalaimuthu1981@gmail.com\\n                                                                                    Website:\\n\\n\\n\\n\\n\\n\\n\\n\\n25\\n\\n\\n\\nAffiliation No.2930007\\n\\n\\nName:\\nACHARIYA SIKSHA MANDIR\\n\\n\\nHead/Principal Name:MR.MOHAMED FAROOK U.\\n\\n\\nStatus of the School:Senior Secondary\\n\\n\\nAffiliated up to: 31/03/2024 \\n\\n\\n\\n\\n\\n\\nAddress:\\n\\t\\t\\t\\t\\t\\t\\t\\t\\t\\t\\t\\t\\t\\t\\t\\t\\t\\t\\t\\t\\tACHARIYAPURAM\\nURUVAIYARU\\n\\n\\t\\t\\t\\t\\t\\t\\t\\t\\t\\t\\t\\t\\t\\t\\t\\t\\t\\t\\t\\t\\t,605110\\n\\n\\nPhone No:\\n\\t\\t\\t\\t\\t\\t\\t\\t\\t\\t\\t\\t\\t\\t\\t\\t\\t\\t\\t\\t\\t0413\\n\\t\\t\\t\\t\\t\\t\\t\\t\\t\\t\\t\\t\\t\\t\\t\\t\\t\\t\\t\\t\\t,04132660881\\n\\n\\n\\nEmail:\\n\\t\\t\\t\\t\\t\\t\\t\\t\\t\\t\\t\\t\\t\\t\\t\\t\\t\\t\\t\\t\\tasmhead@achariya.org\\n                                                                                     Website:\\n\\t\\t\\t\\t\\t\\t\\t\\t\\t\\t\\t\\t\\t\\t\\t\\t\\t\\t\\t\\t\\thttp://www.achariya.in/\\n\\t\\t\\t\\t\\t\\t\\t\\t\\t\\t\\t\\t\\t\\t\\t\\t\\t\\t\\t\\t\\n\\n\\n\\n\\n\\n\\n\\n'"
     },
     "metadata": {},
     "execution_count": 49
    }
   ],
   "source": [
    "table.getText()"
   ]
  },
  {
   "cell_type": "code",
   "execution_count": null,
   "metadata": {},
   "outputs": [],
   "source": []
  }
 ],
 "metadata": {
  "language_info": {
   "codemirror_mode": {
    "name": "ipython",
    "version": 3
   },
   "file_extension": ".py",
   "mimetype": "text/x-python",
   "name": "python",
   "nbconvert_exporter": "python",
   "pygments_lexer": "ipython3",
   "version": "3.8.4-final"
  },
  "orig_nbformat": 2,
  "kernelspec": {
   "name": "python38432bitfa610af8af154bb2a476cab15e1ae2cd",
   "display_name": "Python 3.8.4 32-bit"
  }
 },
 "nbformat": 4,
 "nbformat_minor": 2
}