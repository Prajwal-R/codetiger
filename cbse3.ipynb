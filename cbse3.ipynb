{
 "cells": [
  {
   "cell_type": "code",
   "execution_count": 2,
   "metadata": {},
   "outputs": [],
   "source": [
    "from selenium import webdriver\n",
    "driver=webdriver.Chrome()\n",
    "driver.get('http://cbseaff.nic.in/cbse_aff/schdir_Report/userview.aspx')\n",
    "radio = driver.find_element_by_id('optlist_3')\n",
    "radio.click()\n",
    "driver.find_element_by_xpath(\"//select[@name='ctl00$ContentPlaceHolder1$ddlitem']/option[text()='Chennai']\").click()\n",
    "button=driver.find_element_by_id('search')\n",
    "button.click()"
   ]
  },
  {
   "cell_type": "code",
   "execution_count": 3,
   "metadata": {},
   "outputs": [],
   "source": [
    "import time,bs4\n",
    "time.sleep(1)\n",
    "soup=bs4.BeautifulSoup(driver.page_source)"
   ]
  },
  {
   "cell_type": "code",
   "execution_count": 4,
   "metadata": {},
   "outputs": [
    {
     "output_type": "execute_result",
     "data": {
      "text/plain": "bs4.BeautifulSoup"
     },
     "metadata": {},
     "execution_count": 4
    }
   ],
   "source": [
    "type(soup)"
   ]
  },
  {
   "cell_type": "code",
   "execution_count": 5,
   "metadata": {
    "tags": []
   },
   "outputs": [
    {
     "output_type": "stream",
     "name": "stdout",
     "text": "2\n"
    },
    {
     "output_type": "execute_result",
     "data": {
      "text/plain": "bs4.element.Tag"
     },
     "metadata": {},
     "execution_count": 5
    }
   ],
   "source": [
    "table=soup.find('table',id='T1')\n",
    "print(len(table))\n",
    "type(table)"
   ]
  },
  {
   "cell_type": "code",
   "execution_count": 6,
   "metadata": {},
   "outputs": [
    {
     "output_type": "execute_result",
     "data": {
      "text/plain": "'\\n\\n\\n\\n\\nSNo\\nAffNo,School & Head Name\\n\\t\\t\\t\\t\\t\\t\\t\\t\\t\\t\\t\\t\\t\\t\\t\\t\\t\\nAddress,Phone & Email\\n\\n\\n\\n\\n1\\n\\n\\n\\nAffiliation No.1931043\\n\\n\\nName:\\nA A PUBLIC SCHOOL\\n\\n\\nHead/Principal Name:MRS. S.GNANA JOTHI\\n\\n\\nStatus of the School:Secondary School\\n\\n\\nAffiliated up to: 31/03/2022 \\n\\n\\n\\n\\n\\n\\nAddress:\\n\\t\\t\\t\\t\\t\\t\\t\\t\\t\\t\\t\\t\\t\\t\\t\\t\\t\\t\\t\\t\\t17/8, ANDIAPPAN GRAMANI STREET, ROYAPURAM, CHENNAI\\n\\t\\t\\t\\t\\t\\t\\t\\t\\t\\t\\t\\t\\t\\t\\t\\t\\t\\t\\t\\t\\t,600013\\n\\n\\nPhone No:\\n\\t\\t\\t\\t\\t\\t\\t\\t\\t\\t\\t\\t\\t\\t\\t\\t\\t\\t\\t\\t\\t\\n\\t\\t\\t\\t\\t\\t\\t\\t\\t\\t\\t\\t\\t\\t\\t\\t\\t\\t\\t\\t\\t,04448595902\\n\\n\\n\\nEmail:\\n\\t\\t\\t\\t\\t\\t\\t\\t\\t\\t\\t\\t\\t\\t\\t\\t\\t\\t\\t\\t\\taapublicschool@gmail.com\\n                                                                                     Website:\\n\\n\\n\\n\\n\\n\\n\\n\\n2\\n\\n\\n\\nAffiliation No.1930134\\n\\n\\nName:\\nA J C ENGLISH SCHOOL\\n\\n\\nHead/Principal Name:ANANDHAVALLI K\\n\\n\\nStatus of the School:Secondary School\\n\\n\\nAffiliated up to: 31/03/2022 \\n\\n\\n\\n\\n\\n\\nAddress:\\n\\t\\t\\t\\t\\t\\t\\t\\t\\t\\t\\t\\t\\t\\t\\t\\t\\t\\t\\t\\t\\tLAL BAHADUR SHASTRI ROAD KUMBAKONAM TAMIL NADU\\n\\t\\t\\t\\t\\t\\t\\t\\t\\t\\t\\t\\t\\t\\t\\t\\t\\t\\t\\t\\t\\t,612001\\n\\n\\nPhone No:\\n\\t\\t\\t\\t\\t\\t\\t\\t\\t\\t\\t\\t\\t\\t\\t\\t\\t\\t\\t\\t\\t0435\\n\\t\\t\\t\\t\\t\\t\\t\\t\\t\\t\\t\\t\\t\\t\\t\\t\\t\\t\\t\\t\\t,2420730\\n\\n\\n\\nEmail:\\n\\t\\t\\t\\t\\t\\t\\t\\t\\t\\t\\t\\t\\t\\t\\t\\t\\t\\t\\t\\t\\tanandhiphysics@gmail.com\\n                                                                                    Website:\\n\\n\\n\\n\\n\\n\\n\\n\\n3\\n\\n\\n\\nAffiliation No.130340 \\n\\n\\nName:\\nA K R G TECHNO SCHOOL\\n\\n\\nHead/Principal Name:GUTTA PADMAJA\\n\\n\\nStatus of the School:Secondary School\\n\\n\\nAffiliated up to: 31/03/2022 \\n\\n\\n\\n\\n\\n\\nAddress:\\n\\t\\t\\t\\t\\t\\t\\t\\t\\t\\t\\t\\t\\t\\t\\t\\t\\t\\t\\t\\t\\tNALLAJERLA\\n\\t\\t\\t\\t\\t\\t\\t\\t\\t\\t\\t\\t\\t\\t\\t\\t\\t\\t\\t\\t\\t,534112\\n\\n\\nPhone No:\\n\\t\\t\\t\\t\\t\\t\\t\\t\\t\\t\\t\\t\\t\\t\\t\\t\\t\\t\\t\\t\\t818\\n\\t\\t\\t\\t\\t\\t\\t\\t\\t\\t\\t\\t\\t\\t\\t\\t\\t\\t\\t\\t\\t,277993\\n\\n\\n\\nEmail:\\n\\t\\t\\t\\t\\t\\t\\t\\t\\t\\t\\t\\t\\t\\t\\t\\t\\t\\t\\t\\t\\takrgschool@gmail.com\\n                                                                                     Website:\\n\\n\\n\\n\\n\\n\\n\\n\\n4\\n\\n\\n\\nAffiliation No.1930516\\n\\n\\nName:\\nA M PUBLIC SCHOOL\\n\\n\\nHead/Principal Name:MRS. THAMAYANTHI S\\n\\n\\nStatus of the School:Senior Secondary\\n\\n\\nAffiliated up to: 31/03/2022 \\n\\n\\n\\n\\n\\n\\nAddress:\\n\\t\\t\\t\\t\\t\\t\\t\\t\\t\\t\\t\\t\\t\\t\\t\\t\\t\\t\\t\\t\\tNADUPATTI\\nKADAYAMPATTI(TK)\\nSALEM DISTRICT\\n\\t\\t\\t\\t\\t\\t\\t\\t\\t\\t\\t\\t\\t\\t\\t\\t\\t\\t\\t\\t\\t,636351\\n\\n\\nPhone No:\\n\\t\\t\\t\\t\\t\\t\\t\\t\\t\\t\\t\\t\\t\\t\\t\\t\\t\\t\\t\\t\\t4290\\n\\t\\t\\t\\t\\t\\t\\t\\t\\t\\t\\t\\t\\t\\t\\t\\t\\t\\t\\t\\t\\t,04290243578\\n\\n\\n\\nEmail:\\n\\t\\t\\t\\t\\t\\t\\t\\t\\t\\t\\t\\t\\t\\t\\t\\t\\t\\t\\t\\t\\tampublicschool12@gmail.com\\n                                                                                    Website:\\n\\t\\t\\t\\t\\t\\t\\t\\t\\t\\t\\t\\t\\t\\t\\t\\t\\t\\t\\t\\t\\thttp://www.ampublicschool.in\\n\\t\\t\\t\\t\\t\\t\\t\\t\\t\\t\\t\\t\\t\\t\\t\\t\\t\\t\\t\\t\\n\\n\\n\\n\\n\\n\\n\\n5\\n\\n\\n\\nAffiliation No.1930194\\n\\n\\nName:\\nA++ NATIONAL SCHOOL\\n\\n\\nHead/Principal Name:MRS T GOMATHI SINGH\\n\\n\\nStatus of the School:Secondary School\\n\\n\\nAffiliated up to: 31/03/2008 \\n\\n\\n\\n\\n\\n\\nAddress:\\n\\t\\t\\t\\t\\t\\t\\t\\t\\t\\t\\t\\t\\t\\t\\t\\t\\t\\t\\t\\t\\tARIVOLI NAGAR, THIRUNALVELI ROAD THIRUCHENDUR, DISTT THOOTHUKUDI TAMIL NADU\\n\\t\\t\\t\\t\\t\\t\\t\\t\\t\\t\\t\\t\\t\\t\\t\\t\\t\\t\\t\\t\\t,628215\\n\\n\\nPhone No:\\n\\t\\t\\t\\t\\t\\t\\t\\t\\t\\t\\t\\t\\t\\t\\t\\t\\t\\t\\t\\t\\t04639\\n\\t\\t\\t\\t\\t\\t\\t\\t\\t\\t\\t\\t\\t\\t\\t\\t\\t\\t\\t\\t\\t,223344\\n\\n\\n\\nEmail:\\nWebsite:\\n\\n\\n\\n\\n\\n\\n\\n\\n6\\n\\n\\n\\nAffiliation No.830315 \\n\\n\\nName:\\nA.C. SHETTY MEMORIAL PRIMARY SCHOOL\\n\\n\\nHead/Principal Name:B. Mahabaleshwara Udupa\\n\\n\\nStatus of the School:Secondary School\\n\\n\\nAffiliated up to: 31/03/2019 \\n\\n\\n\\n\\n\\n\\nAddress:\\n\\t\\t\\t\\t\\t\\t\\t\\t\\t\\t\\t\\t\\t\\t\\t\\t\\t\\t\\t\\t\\tARDI ALBADY, KUNDAPURA TALUK, UDUPI DISTRICT KARNATAKA\\n\\t\\t\\t\\t\\t\\t\\t\\t\\t\\t\\t\\t\\t\\t\\t\\t\\t\\t\\t\\t\\t,576212\\n\\n\\nPhone No:\\n\\t\\t\\t\\t\\t\\t\\t\\t\\t\\t\\t\\t\\t\\t\\t\\t\\t\\t\\t\\t\\t08284\\n\\t\\t\\t\\t\\t\\t\\t\\t\\t\\t\\t\\t\\t\\t\\t\\t\\t\\t\\t\\t\\t,08259-285269, 08259-285369\\n\\n\\n\\nEmail:\\n\\t\\t\\t\\t\\t\\t\\t\\t\\t\\t\\t\\t\\t\\t\\t\\t\\t\\t\\t\\t\\tnkmahajanca@yahoo.co.in\\n                                                                                    Website:\\n\\n\\n\\n\\n\\n\\n\\n\\n7\\n\\n\\n\\nAffiliation No.1930235\\n\\n\\nName:\\nA.K.T. MEMORIAL VIDYA SAAKET SCHOOL\\n\\n\\nHead/Principal Name:S USHA KUMARI\\n\\n\\nStatus of the School:Secondary School\\n\\n\\nAffiliated up to: 31/03/2022 \\n\\n\\n\\n\\n\\n\\nAddress:\\n\\t\\t\\t\\t\\t\\t\\t\\t\\t\\t\\t\\t\\t\\t\\t\\t\\t\\t\\t\\t\\tNEELAMANGALAM VILLAGE KALLAKURICHI - POST, VILLUPURAM DISTT., TAMILNADU\\n\\t\\t\\t\\t\\t\\t\\t\\t\\t\\t\\t\\t\\t\\t\\t\\t\\t\\t\\t\\t\\t,606202\\n\\n\\nPhone No:\\n\\t\\t\\t\\t\\t\\t\\t\\t\\t\\t\\t\\t\\t\\t\\t\\t\\t\\t\\t\\t\\t4151\\n\\t\\t\\t\\t\\t\\t\\t\\t\\t\\t\\t\\t\\t\\t\\t\\t\\t\\t\\t\\t\\t,226655\\n\\n\\n\\nEmail:\\n\\t\\t\\t\\t\\t\\t\\t\\t\\t\\t\\t\\t\\t\\t\\t\\t\\t\\t\\t\\t\\tprincipal.aktcbse@gmail.com\\n                                                                                     Website:\\n\\n\\n\\n\\n\\n\\n\\n\\n8\\n\\n\\n\\nAffiliation No.1930354\\n\\n\\nName:\\nA.R.J.  PUBLIC SCHOOL\\n\\n\\nHead/Principal Name:KAVITHA S\\n\\n\\nStatus of the School:Senior Secondary\\n\\n\\nAffiliated up to: 31/03/2025 \\n\\n\\n\\n\\n\\n\\nAddress:\\n\\t\\t\\t\\t\\t\\t\\t\\t\\t\\t\\t\\t\\t\\t\\t\\t\\t\\t\\t\\t\\tTHIRUMANKOTTAI MAIN ROAD, EDAYARNATHAM, MANNARGUDI -614001\\n\\t\\t\\t\\t\\t\\t\\t\\t\\t\\t\\t\\t\\t\\t\\t\\t\\t\\t\\t\\t\\t,614001\\n\\n\\nPhone No:\\n\\t\\t\\t\\t\\t\\t\\t\\t\\t\\t\\t\\t\\t\\t\\t\\t\\t\\t\\t\\t\\t4367\\n\\t\\t\\t\\t\\t\\t\\t\\t\\t\\t\\t\\t\\t\\t\\t\\t\\t\\t\\t\\t\\t,223333\\n\\n\\n\\nEmail:\\n\\t\\t\\t\\t\\t\\t\\t\\t\\t\\t\\t\\t\\t\\t\\t\\t\\t\\t\\t\\t\\tarjps@arj.edu.in\\n                                                                                    Website:\\n\\t\\t\\t\\t\\t\\t\\t\\t\\t\\t\\t\\t\\t\\t\\t\\t\\t\\t\\t\\t\\thttp://www.arj.edu.in\\n\\t\\t\\t\\t\\t\\t\\t\\t\\t\\t\\t\\t\\t\\t\\t\\t\\t\\t\\t\\t\\n\\n\\n\\n\\n\\n\\n\\n9\\n\\n\\n\\nAffiliation No.1930784\\n\\n\\nName:\\nAAA INTERNATIONAL SCHOOL\\n\\n\\nHead/Principal Name:MRS. A V BHUVANESWARI\\n\\n\\nStatus of the School:Senior Secondary\\n\\n\\nAffiliated up to: 31/03/2023 \\n\\n\\n\\n\\n\\n\\nAddress:\\n\\t\\t\\t\\t\\t\\t\\t\\t\\t\\t\\t\\t\\t\\t\\t\\t\\t\\t\\t\\t\\t828, A, S.N. PURAM ROAD, THIRUTHANGAL, SIVAKASI\\n\\t\\t\\t\\t\\t\\t\\t\\t\\t\\t\\t\\t\\t\\t\\t\\t\\t\\t\\t\\t\\t,626130\\n\\n\\nPhone No:\\n\\t\\t\\t\\t\\t\\t\\t\\t\\t\\t\\t\\t\\t\\t\\t\\t\\t\\t\\t\\t\\t0456\\n\\t\\t\\t\\t\\t\\t\\t\\t\\t\\t\\t\\t\\t\\t\\t\\t\\t\\t\\t\\t\\t,2228885\\n\\n\\n\\nEmail:\\n\\t\\t\\t\\t\\t\\t\\t\\t\\t\\t\\t\\t\\t\\t\\t\\t\\t\\t\\t\\t\\tprincipalaaaittl@gmail.com\\n                                                                                     Website:\\n\\t\\t\\t\\t\\t\\t\\t\\t\\t\\t\\t\\t\\t\\t\\t\\t\\t\\t\\t\\t\\thttp://www.aaainternationalschool.com/\\n\\t\\t\\t\\t\\t\\t\\t\\t\\t\\t\\t\\t\\t\\t\\t\\t\\t\\t\\t\\t\\n\\n\\n\\n\\n\\n\\n\\n10\\n\\n\\n\\nAffiliation No.2930008\\n\\n\\nName:\\nAATHMALAYAA MIDDLE SCHOOL\\n\\n\\nHead/Principal Name:MRS. LAYAVARJITHA S\\n\\n\\nStatus of the School:Senior Secondary\\n\\n\\nAffiliated up to: 31/03/2024 \\n\\n\\n\\n\\n\\n\\nAddress:\\n\\t\\t\\t\\t\\t\\t\\t\\t\\t\\t\\t\\t\\t\\t\\t\\t\\t\\t\\t\\t\\tAATHMALAYAA NAGAR, SCHOOL ROAD, KEEZHZKASAKUDI, KARAIKAL - 609609.\\n\\t\\t\\t\\t\\t\\t\\t\\t\\t\\t\\t\\t\\t\\t\\t\\t\\t\\t\\t\\t\\t,609609\\n\\n\\nPhone No:\\n\\t\\t\\t\\t\\t\\t\\t\\t\\t\\t\\t\\t\\t\\t\\t\\t\\t\\t\\t\\t\\t4368\\n\\t\\t\\t\\t\\t\\t\\t\\t\\t\\t\\t\\t\\t\\t\\t\\t\\t\\t\\t\\t\\t,04368292002,\\n\\n\\n\\nEmail:\\n\\t\\t\\t\\t\\t\\t\\t\\t\\t\\t\\t\\t\\t\\t\\t\\t\\t\\t\\t\\t\\tprincipal@aathmalayaa.in\\n                                                                                    Website:\\n\\t\\t\\t\\t\\t\\t\\t\\t\\t\\t\\t\\t\\t\\t\\t\\t\\t\\t\\t\\t\\thttp://www.aathmalayaa.in\\n\\t\\t\\t\\t\\t\\t\\t\\t\\t\\t\\t\\t\\t\\t\\t\\t\\t\\t\\t\\t\\n\\n\\n\\n\\n\\n\\n\\n11\\n\\n\\n\\nAffiliation No.1930238\\n\\n\\nName:\\nABACUS INTERNATIONAL MONTESSORI SCHOOL\\n\\n\\nHead/Principal Name:JOSEPHINE MARIA PREMA\\n\\n\\nStatus of the School:Senior Secondary\\n\\n\\nAffiliated up to: 31/03/2025 \\n\\n\\n\\n\\n\\n\\nAddress:\\n\\t\\t\\t\\t\\t\\t\\t\\t\\t\\t\\t\\t\\t\\t\\t\\t\\t\\t\\t\\t\\tS.F.NO 516 MUDALI PALAYAM PIRIVU, PERUNTHOZHUVU ROAD, KANGAYAM ROAD\\n\\t\\t\\t\\t\\t\\t\\t\\t\\t\\t\\t\\t\\t\\t\\t\\t\\t\\t\\t\\t\\t,641606\\n\\n\\nPhone No:\\n\\t\\t\\t\\t\\t\\t\\t\\t\\t\\t\\t\\t\\t\\t\\t\\t\\t\\t\\t\\t\\t0421\\n\\t\\t\\t\\t\\t\\t\\t\\t\\t\\t\\t\\t\\t\\t\\t\\t\\t\\t\\t\\t\\t,3212321\\n\\n\\n\\nEmail:\\n\\t\\t\\t\\t\\t\\t\\t\\t\\t\\t\\t\\t\\t\\t\\t\\t\\t\\t\\t\\t\\tprincipal@aimstirupur.com\\n                                                                                     Website:\\n\\t\\t\\t\\t\\t\\t\\t\\t\\t\\t\\t\\t\\t\\t\\t\\t\\t\\t\\t\\t\\thttp://www.aims_tirupur.edu.in\\n\\t\\t\\t\\t\\t\\t\\t\\t\\t\\t\\t\\t\\t\\t\\t\\t\\t\\t\\t\\t\\n\\n\\n\\n\\n\\n\\n\\n12\\n\\n\\n\\nAffiliation No.1930573\\n\\n\\nName:\\nABCS KENBRIDGE SCHOOL\\n\\n\\nHead/Principal Name:RAVICHANDRAN S\\n\\n\\nStatus of the School:Senior Secondary\\n\\n\\nAffiliated up to: 31/03/2025 \\n\\n\\n\\n\\n\\n\\nAddress:\\n\\t\\t\\t\\t\\t\\t\\t\\t\\t\\t\\t\\t\\t\\t\\t\\t\\t\\t\\t\\t\\tTRICHY RAMESWARAM MAIN ROAD,NARANAMANGALAM POST,NEAR DEVIPATTINAM, RAMANATHAPURAM DIST\\n\\t\\t\\t\\t\\t\\t\\t\\t\\t\\t\\t\\t\\t\\t\\t\\t\\t\\t\\t\\t\\t,623537\\n\\n\\nPhone No:\\n\\t\\t\\t\\t\\t\\t\\t\\t\\t\\t\\t\\t\\t\\t\\t\\t\\t\\t\\t\\t\\t4567\\n\\t\\t\\t\\t\\t\\t\\t\\t\\t\\t\\t\\t\\t\\t\\t\\t\\t\\t\\t\\t\\t,259364\\n\\n\\n\\nEmail:\\n\\t\\t\\t\\t\\t\\t\\t\\t\\t\\t\\t\\t\\t\\t\\t\\t\\t\\t\\t\\t\\tkenbridgeprincipal@gmail.com\\n                                                                                    Website:\\n\\n\\n\\n\\n\\n\\n\\n\\n13\\n\\n\\n\\nAffiliation No.3630083\\n\\n\\nName:\\nABHAYA SCHOOL\\n\\n\\nHead/Principal Name:L.SHAILAJA\\n\\n\\nStatus of the School:Senior Secondary\\n\\n\\nAffiliated up to: 31/03/2022 \\n\\n\\n\\n\\n\\n\\nAddress:\\n\\t\\t\\t\\t\\t\\t\\t\\t\\t\\t\\t\\t\\t\\t\\t\\t\\t\\t\\t\\t\\tGUNDLA POCHAMPALLY VILLAGE, NEAR APPAREL TEXTILE PARK, MEDCHAL MANDAL DIST, RANGAREDDY,\\n\\t\\t\\t\\t\\t\\t\\t\\t\\t\\t\\t\\t\\t\\t\\t\\t\\t\\t\\t\\t\\t,500014\\n\\n\\nPhone No:\\n\\t\\t\\t\\t\\t\\t\\t\\t\\t\\t\\t\\t\\t\\t\\t\\t\\t\\t\\t\\t\\t01734\\n\\t\\t\\t\\t\\t\\t\\t\\t\\t\\t\\t\\t\\t\\t\\t\\t\\t\\t\\t\\t\\t,08008222356\\n\\n\\n\\nEmail:\\n\\t\\t\\t\\t\\t\\t\\t\\t\\t\\t\\t\\t\\t\\t\\t\\t\\t\\t\\t\\t\\tabhaya_school@yahoo.co.in\\n                                                                                     Website:\\n\\t\\t\\t\\t\\t\\t\\t\\t\\t\\t\\t\\t\\t\\t\\t\\t\\t\\t\\t\\t\\thttp://www.abhayaschool.in\\n\\t\\t\\t\\t\\t\\t\\t\\t\\t\\t\\t\\t\\t\\t\\t\\t\\t\\t\\t\\t\\n\\n\\n\\n\\n\\n\\n\\n14\\n\\n\\n\\nAffiliation No.130301 \\n\\n\\nName:\\nABHYAS THE GLOBAL SCHOOL\\n\\n\\nHead/Principal Name:Mrs.I.Naga Mani\\n\\n\\nStatus of the School:Secondary School\\n\\n\\nAffiliated up to: 31/03/2026 \\n\\n\\n\\n\\n\\n\\nAddress:\\n\\t\\t\\t\\t\\t\\t\\t\\t\\t\\t\\t\\t\\t\\t\\t\\t\\t\\t\\t\\t\\t4-155,JP ROAD PEDAMIRAM VILLAGE, KALLA MANDAL WEST GODAVARI ANDHRA PRADESH\\n\\t\\t\\t\\t\\t\\t\\t\\t\\t\\t\\t\\t\\t\\t\\t\\t\\t\\t\\t\\t\\t,534204\\n\\n\\nPhone No:\\n\\t\\t\\t\\t\\t\\t\\t\\t\\t\\t\\t\\t\\t\\t\\t\\t\\t\\t\\t\\t\\t8816\\n\\t\\t\\t\\t\\t\\t\\t\\t\\t\\t\\t\\t\\t\\t\\t\\t\\t\\t\\t\\t\\t,223445\\n\\n\\n\\nEmail:\\n\\t\\t\\t\\t\\t\\t\\t\\t\\t\\t\\t\\t\\t\\t\\t\\t\\t\\t\\t\\t\\tsyjdora@gmail.com\\n                                                                                    Website:\\n\\t\\t\\t\\t\\t\\t\\t\\t\\t\\t\\t\\t\\t\\t\\t\\t\\t\\t\\t\\t\\thttp://www.abhyastheglobalschool.com\\n\\t\\t\\t\\t\\t\\t\\t\\t\\t\\t\\t\\t\\t\\t\\t\\t\\t\\t\\t\\t\\n\\n\\n\\n\\n\\n\\n\\n15\\n\\n\\n\\nAffiliation No.1930290\\n\\n\\nName:\\nABS VIDHYA MANDHIR\\n\\n\\nHead/Principal Name:RATHI MENON\\n\\n\\nStatus of the School:Senior Secondary\\n\\n\\nAffiliated up to: 31/03/2022 \\n\\n\\n\\n\\n\\n\\nAddress:\\n\\t\\t\\t\\t\\t\\t\\t\\t\\t\\t\\t\\t\\t\\t\\t\\t\\t\\t\\t\\t\\tTHALAKANCHERRY ROAD, IVELI AGARAM, THIRUVALLUR\\n\\t\\t\\t\\t\\t\\t\\t\\t\\t\\t\\t\\t\\t\\t\\t\\t\\t\\t\\t\\t\\t,602001\\n\\n\\nPhone No:\\n\\t\\t\\t\\t\\t\\t\\t\\t\\t\\t\\t\\t\\t\\t\\t\\t\\t\\t\\t\\t\\t0\\n\\t\\t\\t\\t\\t\\t\\t\\t\\t\\t\\t\\t\\t\\t\\t\\t\\t\\t\\t\\t\\t,9244940111\\n\\n\\n\\nEmail:\\n\\t\\t\\t\\t\\t\\t\\t\\t\\t\\t\\t\\t\\t\\t\\t\\t\\t\\t\\t\\t\\tabsvm.rathi@gmail.com\\n                                                                                     Website:\\n\\t\\t\\t\\t\\t\\t\\t\\t\\t\\t\\t\\t\\t\\t\\t\\t\\t\\t\\t\\t\\twww.absvidhyamandhir.com\\n\\t\\t\\t\\t\\t\\t\\t\\t\\t\\t\\t\\t\\t\\t\\t\\t\\t\\t\\t\\t\\n\\n\\n\\n\\n\\n\\n\\n16\\n\\n\\n\\nAffiliation No.3630234\\n\\n\\nName:\\nACADEMIC HEIGHTS PUBLIC SCHOOL\\n\\n\\nHead/Principal Name:MRS. NAJMAUNISA BEGUM\\n\\n\\nStatus of the School:Senior Secondary\\n\\n\\nAffiliated up to: 31/03/2022 \\n\\n\\n\\n\\n\\n\\nAddress:\\n\\t\\t\\t\\t\\t\\t\\t\\t\\t\\t\\t\\t\\t\\t\\t\\t\\t\\t\\t\\t\\t18-4-42/A, ALIABAD SAHMSHERGUNJ\\n\\t\\t\\t\\t\\t\\t\\t\\t\\t\\t\\t\\t\\t\\t\\t\\t\\t\\t\\t\\t\\t,500053\\n\\n\\nPhone No:\\n\\t\\t\\t\\t\\t\\t\\t\\t\\t\\t\\t\\t\\t\\t\\t\\t\\t\\t\\t\\t\\t040\\n\\t\\t\\t\\t\\t\\t\\t\\t\\t\\t\\t\\t\\t\\t\\t\\t\\t\\t\\t\\t\\t,04064546403,\\n\\n\\n\\nEmail:\\n\\t\\t\\t\\t\\t\\t\\t\\t\\t\\t\\t\\t\\t\\t\\t\\t\\t\\t\\t\\t\\tahpscharminar@yahoo.com\\n                                                                                    Website:\\n\\t\\t\\t\\t\\t\\t\\t\\t\\t\\t\\t\\t\\t\\t\\t\\t\\t\\t\\t\\t\\thttp://ahpscharminar.com/\\n\\t\\t\\t\\t\\t\\t\\t\\t\\t\\t\\t\\t\\t\\t\\t\\t\\t\\t\\t\\t\\n\\n\\n\\n\\n\\n\\n\\n17\\n\\n\\n\\nAffiliation No.3630210\\n\\n\\nName:\\nACADEMIC HEIGHTS PUBLIC SCHOOL\\n\\n\\nHead/Principal Name:SINITA YEMPATI\\n\\n\\nStatus of the School:Secondary School\\n\\n\\nAffiliated up to: 31/03/2025 \\n\\n\\n\\n\\n\\n\\nAddress:\\n\\t\\t\\t\\t\\t\\t\\t\\t\\t\\t\\t\\t\\t\\t\\t\\t\\t\\t\\t\\t\\tSURVEY NO:51, VENKAT REDDY COLONY, BOLLIGUDEM ROAD, BODUPPAL\\n\\t\\t\\t\\t\\t\\t\\t\\t\\t\\t\\t\\t\\t\\t\\t\\t\\t\\t\\t\\t\\t,500039\\n\\n\\nPhone No:\\n\\t\\t\\t\\t\\t\\t\\t\\t\\t\\t\\t\\t\\t\\t\\t\\t\\t\\t\\t\\t\\t040\\n\\t\\t\\t\\t\\t\\t\\t\\t\\t\\t\\t\\t\\t\\t\\t\\t\\t\\t\\t\\t\\t,7093903311\\n\\n\\n\\nEmail:\\n\\t\\t\\t\\t\\t\\t\\t\\t\\t\\t\\t\\t\\t\\t\\t\\t\\t\\t\\t\\t\\tahpsboduppalprincipal@gmail.com\\n                                                                                     Website:\\n\\n\\n\\n\\n\\n\\n\\n\\n18\\n\\n\\n\\nAffiliation No.3630288\\n\\n\\nName:\\nACADEMIC HEIGHTS PUBLIC SCHOOL\\n\\n\\nHead/Principal Name:MRS. J.LAKSHMI RAGHAVENDRA\\n\\n\\nStatus of the School:Secondary School\\n\\n\\nAffiliated up to: 31/03/2022 \\n\\n\\n\\n\\n\\n\\nAddress:\\n\\t\\t\\t\\t\\t\\t\\t\\t\\t\\t\\t\\t\\t\\t\\t\\t\\t\\t\\t\\t\\tACADEMIC HEIGHTS PUBLIC SCHOOL, KISTAREDDYPET VILLAGE,AMEENPUR MANDAL, SANGAREDDY DIST\\n\\t\\t\\t\\t\\t\\t\\t\\t\\t\\t\\t\\t\\t\\t\\t\\t\\t\\t\\t\\t\\t,502032\\n\\n\\nPhone No:\\n\\t\\t\\t\\t\\t\\t\\t\\t\\t\\t\\t\\t\\t\\t\\t\\t\\t\\t\\t\\t\\t\\n\\t\\t\\t\\t\\t\\t\\t\\t\\t\\t\\t\\t\\t\\t\\t\\t\\t\\t\\t\\t\\t,9618380022\\n\\n\\n\\nEmail:\\n\\t\\t\\t\\t\\t\\t\\t\\t\\t\\t\\t\\t\\t\\t\\t\\t\\t\\t\\t\\t\\tacademicheightsbeeramguda@gmail.com\\n                                                                                    Website:\\n\\n\\n\\n\\n\\n\\n\\n\\n19\\n\\n\\n\\nAffiliation No.3630321\\n\\n\\nName:\\nACADEMIC HEIGHTS PUBLIC SCHOOL\\n\\n\\nHead/Principal Name:MRS. K MADHAVI KRISHNA\\n\\n\\nStatus of the School:Secondary School\\n\\n\\nAffiliated up to: 31/03/2023 \\n\\n\\n\\n\\n\\n\\nAddress:\\n\\t\\t\\t\\t\\t\\t\\t\\t\\t\\t\\t\\t\\t\\t\\t\\t\\t\\t\\t\\t\\tSY NO 78, VENAKATARAMANA COLONY, GOKUL PLOTS, HAFEEZPET, SERILINGAMPALLY MANDAL\\n\\t\\t\\t\\t\\t\\t\\t\\t\\t\\t\\t\\t\\t\\t\\t\\t\\t\\t\\t\\t\\t,500072\\n\\n\\nPhone No:\\n\\t\\t\\t\\t\\t\\t\\t\\t\\t\\t\\t\\t\\t\\t\\t\\t\\t\\t\\t\\t\\t\\n\\t\\t\\t\\t\\t\\t\\t\\t\\t\\t\\t\\t\\t\\t\\t\\t\\t\\t\\t\\t\\t,9000103540\\n\\n\\n\\nEmail:\\n\\t\\t\\t\\t\\t\\t\\t\\t\\t\\t\\t\\t\\t\\t\\t\\t\\t\\t\\t\\t\\tacademicheightskphb@gmail.com\\n                                                                                     Website:\\n\\t\\t\\t\\t\\t\\t\\t\\t\\t\\t\\t\\t\\t\\t\\t\\t\\t\\t\\t\\t\\thttp://www.academicheightskphb.com\\n\\t\\t\\t\\t\\t\\t\\t\\t\\t\\t\\t\\t\\t\\t\\t\\t\\t\\t\\t\\t\\n\\n\\n\\n\\n\\n\\n\\n20\\n\\n\\n\\nAffiliation No.3630375\\n\\n\\nName:\\nACADEMIC HEIGHTS PUBLIC SCHOOL\\n\\n\\nHead/Principal Name:MRS. YERRA JHANSI LATHA\\n\\n\\nStatus of the School:Secondary School\\n\\n\\nAffiliated up to: 31/03/2024 \\n\\n\\n\\n\\n\\n\\nAddress:\\n\\t\\t\\t\\t\\t\\t\\t\\t\\t\\t\\t\\t\\t\\t\\t\\t\\t\\t\\t\\t\\tPLOT NO,1&2, OPP.VENKATESHWARA COLONY,INJAPUR, ABDULLAPURMET MDL, RANGA REDDY DIST\\n\\t\\t\\t\\t\\t\\t\\t\\t\\t\\t\\t\\t\\t\\t\\t\\t\\t\\t\\t\\t\\t,501510\\n\\n\\nPhone No:\\n\\t\\t\\t\\t\\t\\t\\t\\t\\t\\t\\t\\t\\t\\t\\t\\t\\t\\t\\t\\t\\t\\n\\t\\t\\t\\t\\t\\t\\t\\t\\t\\t\\t\\t\\t\\t\\t\\t\\t\\t\\t\\t\\t,9121019898\\n\\n\\n\\nEmail:\\n\\t\\t\\t\\t\\t\\t\\t\\t\\t\\t\\t\\t\\t\\t\\t\\t\\t\\t\\t\\t\\tprincipalinj@academicheightshyd.com\\n                                                                                    Website:\\n\\n\\n\\n\\n\\n\\n\\n\\n21\\n\\n\\n\\nAffiliation No.3630180\\n\\n\\nName:\\nACADEMIC HEIGHTS SCHOOL\\n\\n\\nHead/Principal Name:RUPA REDDY\\n\\n\\nStatus of the School:Secondary School\\n\\n\\nAffiliated up to: 31/03/2024 \\n\\n\\n\\n\\n\\n\\nAddress:\\n\\t\\t\\t\\t\\t\\t\\t\\t\\t\\t\\t\\t\\t\\t\\t\\t\\t\\t\\t\\t\\tBACHPAN CAMPUS JAGADEEVPUR ROAD HANMAPUR  BHONGIR\\n\\t\\t\\t\\t\\t\\t\\t\\t\\t\\t\\t\\t\\t\\t\\t\\t\\t\\t\\t\\t\\t,508116\\n\\n\\nPhone No:\\n\\t\\t\\t\\t\\t\\t\\t\\t\\t\\t\\t\\t\\t\\t\\t\\t\\t\\t\\t\\t\\t8685\\n\\t\\t\\t\\t\\t\\t\\t\\t\\t\\t\\t\\t\\t\\t\\t\\t\\t\\t\\t\\t\\t,243693\\n\\n\\n\\nEmail:\\n\\t\\t\\t\\t\\t\\t\\t\\t\\t\\t\\t\\t\\t\\t\\t\\t\\t\\t\\t\\t\\tahps.principal@gmail.com\\n                                                                                     Website:\\n\\n\\n\\n\\n\\n\\n\\n\\n22\\n\\n\\n\\nAffiliation No.130371 \\n\\n\\nName:\\nACCORD SCHOOL\\n\\n\\nHead/Principal Name:M Liaqet Ali Khan\\n\\n\\nStatus of the School:Senior Secondary\\n\\n\\nAffiliated up to: 31/03/2023 \\n\\n\\n\\n\\n\\n\\nAddress:\\n\\t\\t\\t\\t\\t\\t\\t\\t\\t\\t\\t\\t\\t\\t\\t\\t\\t\\t\\t\\t\\tRC ROAD, CHIGURUWADA NORTH, TIRUPATI CHITTOOR, ANDHRA PRADESH\\n\\t\\t\\t\\t\\t\\t\\t\\t\\t\\t\\t\\t\\t\\t\\t\\t\\t\\t\\t\\t\\t,517507\\n\\n\\nPhone No:\\n\\t\\t\\t\\t\\t\\t\\t\\t\\t\\t\\t\\t\\t\\t\\t\\t\\t\\t\\t\\t\\t0877\\n\\t\\t\\t\\t\\t\\t\\t\\t\\t\\t\\t\\t\\t\\t\\t\\t\\t\\t\\t\\t\\t,6457775\\n\\n\\n\\nEmail:\\n\\t\\t\\t\\t\\t\\t\\t\\t\\t\\t\\t\\t\\t\\t\\t\\t\\t\\t\\t\\t\\tinfo@theaccordschool.com\\n                                                                                    Website:\\n\\t\\t\\t\\t\\t\\t\\t\\t\\t\\t\\t\\t\\t\\t\\t\\t\\t\\t\\t\\t\\thttp://www.theaccordschool.com\\n\\t\\t\\t\\t\\t\\t\\t\\t\\t\\t\\t\\t\\t\\t\\t\\t\\t\\t\\t\\t\\n\\n\\n\\n\\n\\n\\n\\n23\\n\\n\\n\\nAffiliation No.2930005\\n\\n\\nName:\\nACHARIYA BALA SIKSHA MANDIR\\n\\n\\nHead/Principal Name:DR R ANITA SANTHAKUMAR\\n\\n\\nStatus of the School:Senior Secondary\\n\\n\\nAffiliated up to: 31/03/2026 \\n\\n\\n\\n\\n\\n\\nAddress:\\n\\t\\t\\t\\t\\t\\t\\t\\t\\t\\t\\t\\t\\t\\t\\t\\t\\t\\t\\t\\t\\tACHARIYA COMMUNE, FISHING HARBOUR ROAD, THENGAITHITTU,PONDICHERRY\\n\\t\\t\\t\\t\\t\\t\\t\\t\\t\\t\\t\\t\\t\\t\\t\\t\\t\\t\\t\\t\\t,605004\\n\\n\\nPhone No:\\n\\t\\t\\t\\t\\t\\t\\t\\t\\t\\t\\t\\t\\t\\t\\t\\t\\t\\t\\t\\t\\t0413\\n\\t\\t\\t\\t\\t\\t\\t\\t\\t\\t\\t\\t\\t\\t\\t\\t\\t\\t\\t\\t\\t,3293344\\n\\n\\n\\nEmail:\\n\\t\\t\\t\\t\\t\\t\\t\\t\\t\\t\\t\\t\\t\\t\\t\\t\\t\\t\\t\\t\\tabsmtt@achariya.org\\n                                                                                     Website:\\n\\t\\t\\t\\t\\t\\t\\t\\t\\t\\t\\t\\t\\t\\t\\t\\t\\t\\t\\t\\t\\thttp://www.achariya.in\\n\\t\\t\\t\\t\\t\\t\\t\\t\\t\\t\\t\\t\\t\\t\\t\\t\\t\\t\\t\\t\\n\\n\\n\\n\\n\\n\\n\\n24\\n\\n\\n\\nAffiliation No.1930428\\n\\n\\nName:\\nACHARIYA SCHOOL\\n\\n\\nHead/Principal Name:SUDALAIMUTHU\\n\\n\\nStatus of the School:Senior Secondary\\n\\n\\nAffiliated up to: 31/03/2023 \\n\\n\\n\\n\\n\\n\\nAddress:\\n\\t\\t\\t\\t\\t\\t\\t\\t\\t\\t\\t\\t\\t\\t\\t\\t\\t\\t\\t\\t\\t3/185-1,MUTHUMARIAMMAN KOVIL ROAD\\n\\t\\t\\t\\t\\t\\t\\t\\t\\t\\t\\t\\t\\t\\t\\t\\t\\t\\t\\t\\t\\t,628721\\n\\n\\nPhone No:\\n\\t\\t\\t\\t\\t\\t\\t\\t\\t\\t\\t\\t\\t\\t\\t\\t\\t\\t\\t\\t\\t4632\\n\\t\\t\\t\\t\\t\\t\\t\\t\\t\\t\\t\\t\\t\\t\\t\\t\\t\\t\\t\\t\\t,248689\\n\\n\\n\\nEmail:\\n\\t\\t\\t\\t\\t\\t\\t\\t\\t\\t\\t\\t\\t\\t\\t\\t\\t\\t\\t\\t\\tsudalaimuthu1981@gmail.com\\n                                                                                    Website:\\n\\n\\n\\n\\n\\n\\n\\n\\n25\\n\\n\\n\\nAffiliation No.2930007\\n\\n\\nName:\\nACHARIYA SIKSHA MANDIR\\n\\n\\nHead/Principal Name:MR.MOHAMED FAROOK U.\\n\\n\\nStatus of the School:Senior Secondary\\n\\n\\nAffiliated up to: 31/03/2024 \\n\\n\\n\\n\\n\\n\\nAddress:\\n\\t\\t\\t\\t\\t\\t\\t\\t\\t\\t\\t\\t\\t\\t\\t\\t\\t\\t\\t\\t\\tACHARIYAPURAM\\nURUVAIYARU\\n\\n\\t\\t\\t\\t\\t\\t\\t\\t\\t\\t\\t\\t\\t\\t\\t\\t\\t\\t\\t\\t\\t,605110\\n\\n\\nPhone No:\\n\\t\\t\\t\\t\\t\\t\\t\\t\\t\\t\\t\\t\\t\\t\\t\\t\\t\\t\\t\\t\\t0413\\n\\t\\t\\t\\t\\t\\t\\t\\t\\t\\t\\t\\t\\t\\t\\t\\t\\t\\t\\t\\t\\t,04132660881\\n\\n\\n\\nEmail:\\n\\t\\t\\t\\t\\t\\t\\t\\t\\t\\t\\t\\t\\t\\t\\t\\t\\t\\t\\t\\t\\tasmhead@achariya.org\\n                                                                                     Website:\\n\\t\\t\\t\\t\\t\\t\\t\\t\\t\\t\\t\\t\\t\\t\\t\\t\\t\\t\\t\\t\\thttp://www.achariya.in/\\n\\t\\t\\t\\t\\t\\t\\t\\t\\t\\t\\t\\t\\t\\t\\t\\t\\t\\t\\t\\t\\n\\n\\n\\n\\n\\n\\n\\n'"
     },
     "metadata": {},
     "execution_count": 6
    }
   ],
   "source": [
    "table.getText()"
   ]
  },
  {
   "cell_type": "code",
   "execution_count": 7,
   "metadata": {},
   "outputs": [],
   "source": [
    "import re"
   ]
  },
  {
   "cell_type": "code",
   "execution_count": 8,
   "metadata": {
    "tags": []
   },
   "outputs": [
    {
     "output_type": "stream",
     "name": "stdout",
     "text": "SNo AffNo,School & Head Name                   Address,Phone & Email     1    Affiliation No.1931043   Name: A A PUBLIC SCHOOL   Head/Principal Name:MRS. S.GNANA JOTHI   Status of the School:Secondary School   Affiliated up to: 31/03/2022        Address:                      17/8, ANDIAPPAN GRAMANI STREET, ROYAPURAM, CHENNAI                      ,600013   Phone No:                                            ,04448595902    Email:                      aapublicschool@gmail.com                                                                                      Website:         2    Affiliation No.1930134   Name: A J C ENGLISH SCHOOL   Head/Principal Name:ANANDHAVALLI K   Status of the School:Secondary School   Affiliated up to: 31/03/2022        Address:                      LAL BAHADUR SHASTRI ROAD KUMBAKONAM TAMIL NADU                      ,612001   Phone No:                      0435                      ,2420730    Email:                      anandhiphysics@gmail.com                                                                                     Website:         3    Affiliation No.130340    Name: A K R G TECHNO SCHOOL   Head/Principal Name:GUTTA PADMAJA   Status of the School:Secondary School   Affiliated up to: 31/03/2022        Address:                      NALLAJERLA                      ,534112   Phone No:                      818                      ,277993    Email:                      akrgschool@gmail.com                                                                                      Website:         4    Affiliation No.1930516   Name: A M PUBLIC SCHOOL   Head/Principal Name:MRS. THAMAYANTHI S   Status of the School:Senior Secondary   Affiliated up to: 31/03/2022        Address:                      NADUPATTI KADAYAMPATTI(TK) SALEM DISTRICT                      ,636351   Phone No:                      4290                      ,04290243578    Email:                      ampublicschool12@gmail.com                                                                                     Website:                      http://www.ampublicschool.in                             5    Affiliation No.1930194   Name: A   NATIONAL SCHOOL   Head/Principal Name:MRS T GOMATHI SINGH   Status of the School:Secondary School   Affiliated up to: 31/03/2008        Address:                      ARIVOLI NAGAR, THIRUNALVELI ROAD THIRUCHENDUR, DISTT THOOTHUKUDI TAMIL NADU                      ,628215   Phone No:                      04639                      ,223344    Email: Website:         6    Affiliation No.830315    Name: A.C. SHETTY MEMORIAL PRIMARY SCHOOL   Head/Principal Name:B. Mahabaleshwara Udupa   Status of the School:Secondary School   Affiliated up to: 31/03/2019        Address:                      ARDI ALBADY, KUNDAPURA TALUK, UDUPI DISTRICT KARNATAKA                      ,576212   Phone No:                      08284                      ,08259-285269, 08259-285369    Email:                      nkmahajanca@yahoo.co.in                                                                                     Website:         7    Affiliation No.1930235   Name: A.K.T. MEMORIAL VIDYA SAAKET SCHOOL   Head/Principal Name:S USHA KUMARI   Status of the School:Secondary School   Affiliated up to: 31/03/2022        Address:                      NEELAMANGALAM VILLAGE KALLAKURICHI - POST, VILLUPURAM DISTT., TAMILNADU                      ,606202   Phone No:                      4151                      ,226655    Email:                      principal.aktcbse@gmail.com                                                                                      Website:         8    Affiliation No.1930354   Name: A.R.J.  PUBLIC SCHOOL   Head/Principal Name:KAVITHA S   Status of the School:Senior Secondary   Affiliated up to: 31/03/2025        Address:                      THIRUMANKOTTAI MAIN ROAD, EDAYARNATHAM, MANNARGUDI -614001                      ,614001   Phone No:                      4367                      ,223333    Email:                      arjps@arj.edu.in                                                                                     Website:                      http://www.arj.edu.in                             9    Affiliation No.1930784   Name: AAA INTERNATIONAL SCHOOL   Head/Principal Name:MRS. A V BHUVANESWARI   Status of the School:Senior Secondary   Affiliated up to: 31/03/2023        Address:                      828, A, S.N. PURAM ROAD, THIRUTHANGAL, SIVAKASI                      ,626130   Phone No:                      0456                      ,2228885    Email:                      principalaaaittl@gmail.com                                                                                      Website:                      http://www.aaainternationalschool.com/                             10    Affiliation No.2930008   Name: AATHMALAYAA MIDDLE SCHOOL   Head/Principal Name:MRS. LAYAVARJITHA S   Status of the School:Senior Secondary   Affiliated up to: 31/03/2024        Address:                      AATHMALAYAA NAGAR, SCHOOL ROAD, KEEZHZKASAKUDI, KARAIKAL - 609609.                      ,609609   Phone No:                      4368                      ,04368292002,    Email:                      principal@aathmalayaa.in                                                                                     Website:                      http://www.aathmalayaa.in                             11    Affiliation No.1930238   Name: ABACUS INTERNATIONAL MONTESSORI SCHOOL   Head/Principal Name:JOSEPHINE MARIA PREMA   Status of the School:Senior Secondary   Affiliated up to: 31/03/2025        Address:                      S.F.NO 516 MUDALI PALAYAM PIRIVU, PERUNTHOZHUVU ROAD, KANGAYAM ROAD                      ,641606   Phone No:                      0421                      ,3212321    Email:                      principal@aimstirupur.com                                                                                      Website:                      http://www.aims_tirupur.edu.in                             12    Affiliation No.1930573   Name: ABCS KENBRIDGE SCHOOL   Head/Principal Name:RAVICHANDRAN S   Status of the School:Senior Secondary   Affiliated up to: 31/03/2025        Address:                      TRICHY RAMESWARAM MAIN ROAD,NARANAMANGALAM POST,NEAR DEVIPATTINAM, RAMANATHAPURAM DIST                      ,623537   Phone No:                      4567                      ,259364    Email:                      kenbridgeprincipal@gmail.com                                                                                     Website:         13    Affiliation No.3630083   Name: ABHAYA SCHOOL   Head/Principal Name:L.SHAILAJA   Status of the School:Senior Secondary   Affiliated up to: 31/03/2022        Address:                      GUNDLA POCHAMPALLY VILLAGE, NEAR APPAREL TEXTILE PARK, MEDCHAL MANDAL DIST, RANGAREDDY,                      ,500014   Phone No:                      01734                      ,08008222356    Email:                      abhaya_school@yahoo.co.in                                                                                      Website:                      http://www.abhayaschool.in                             14    Affiliation No.130301    Name: ABHYAS THE GLOBAL SCHOOL   Head/Principal Name:Mrs.I.Naga Mani   Status of the School:Secondary School   Affiliated up to: 31/03/2026        Address:                      4-155,JP ROAD PEDAMIRAM VILLAGE, KALLA MANDAL WEST GODAVARI ANDHRA PRADESH                      ,534204   Phone No:                      8816                      ,223445    Email:                      syjdora@gmail.com                                                                                     Website:                      http://www.abhyastheglobalschool.com                             15    Affiliation No.1930290   Name: ABS VIDHYA MANDHIR   Head/Principal Name:RATHI MENON   Status of the School:Senior Secondary   Affiliated up to: 31/03/2022        Address:                      THALAKANCHERRY ROAD, IVELI AGARAM, THIRUVALLUR                      ,602001   Phone No:                      0                      ,9244940111    Email:                      absvm.rathi@gmail.com                                                                                      Website:                      www.absvidhyamandhir.com                             16    Affiliation No.3630234   Name: ACADEMIC HEIGHTS PUBLIC SCHOOL   Head/Principal Name:MRS. NAJMAUNISA BEGUM   Status of the School:Senior Secondary   Affiliated up to: 31/03/2022        Address:                      18-4-42/A, ALIABAD SAHMSHERGUNJ                      ,500053   Phone No:                      040                      ,04064546403,    Email:                      ahpscharminar@yahoo.com                                                                                     Website:                      http://ahpscharminar.com/                             17    Affiliation No.3630210   Name: ACADEMIC HEIGHTS PUBLIC SCHOOL   Head/Principal Name:SINITA YEMPATI   Status of the School:Secondary School   Affiliated up to: 31/03/2025        Address:                      SURVEY NO:51, VENKAT REDDY COLONY, BOLLIGUDEM ROAD, BODUPPAL                      ,500039   Phone No:                      040                      ,7093903311    Email:                      ahpsboduppalprincipal@gmail.com                                                                                      Website:         18    Affiliation No.3630288   Name: ACADEMIC HEIGHTS PUBLIC SCHOOL   Head/Principal Name:MRS. J.LAKSHMI RAGHAVENDRA   Status of the School:Secondary School   Affiliated up to: 31/03/2022        Address:                      ACADEMIC HEIGHTS PUBLIC SCHOOL, KISTAREDDYPET VILLAGE,AMEENPUR MANDAL, SANGAREDDY DIST                      ,502032   Phone No:                                            ,9618380022    Email:                      academicheightsbeeramguda@gmail.com                                                                                     Website:         19    Affiliation No.3630321   Name: ACADEMIC HEIGHTS PUBLIC SCHOOL   Head/Principal Name:MRS. K MADHAVI KRISHNA   Status of the School:Secondary School   Affiliated up to: 31/03/2023        Address:                      SY NO 78, VENAKATARAMANA COLONY, GOKUL PLOTS, HAFEEZPET, SERILINGAMPALLY MANDAL                      ,500072   Phone No:                                            ,9000103540    Email:                      academicheightskphb@gmail.com                                                                                      Website:                      http://www.academicheightskphb.com                             20    Affiliation No.3630375   Name: ACADEMIC HEIGHTS PUBLIC SCHOOL   Head/Principal Name:MRS. YERRA JHANSI LATHA   Status of the School:Secondary School   Affiliated up to: 31/03/2024        Address:                      PLOT NO,1&2, OPP.VENKATESHWARA COLONY,INJAPUR, ABDULLAPURMET MDL, RANGA REDDY DIST                      ,501510   Phone No:                                            ,9121019898    Email:                      principalinj@academicheightshyd.com                                                                                     Website:         21    Affiliation No.3630180   Name: ACADEMIC HEIGHTS SCHOOL   Head/Principal Name:RUPA REDDY   Status of the School:Secondary School   Affiliated up to: 31/03/2024        Address:                      BACHPAN CAMPUS JAGADEEVPUR ROAD HANMAPUR  BHONGIR                      ,508116   Phone No:                      8685                      ,243693    Email:                      ahps.principal@gmail.com                                                                                      Website:         22    Affiliation No.130371    Name: ACCORD SCHOOL   Head/Principal Name:M Liaqet Ali Khan   Status of the School:Senior Secondary   Affiliated up to: 31/03/2023        Address:                      RC ROAD, CHIGURUWADA NORTH, TIRUPATI CHITTOOR, ANDHRA PRADESH                      ,517507   Phone No:                      0877                      ,6457775    Email:                      info@theaccordschool.com                                                                                     Website:                      http://www.theaccordschool.com                             23    Affiliation No.2930005   Name: ACHARIYA BALA SIKSHA MANDIR   Head/Principal Name:DR R ANITA SANTHAKUMAR   Status of the School:Senior Secondary   Affiliated up to: 31/03/2026        Address:                      ACHARIYA COMMUNE, FISHING HARBOUR ROAD, THENGAITHITTU,PONDICHERRY                      ,605004   Phone No:                      0413                      ,3293344    Email:                      absmtt@achariya.org                                                                                      Website:                      http://www.achariya.in                             24    Affiliation No.1930428   Name: ACHARIYA SCHOOL   Head/Principal Name:SUDALAIMUTHU   Status of the School:Senior Secondary   Affiliated up to: 31/03/2023        Address:                      3/185-1,MUTHUMARIAMMAN KOVIL ROAD                      ,628721   Phone No:                      4632                      ,248689    Email:                      sudalaimuthu1981@gmail.com                                                                                     Website:         25    Affiliation No.2930007   Name: ACHARIYA SIKSHA MANDIR   Head/Principal Name:MR.MOHAMED FAROOK U.   Status of the School:Senior Secondary   Affiliated up to: 31/03/2024        Address:                      ACHARIYAPURAM URUVAIYARU                       ,605110   Phone No:                      0413                      ,04132660881    Email:                      asmhead@achariya.org                                                                                      Website:                      http://www.achariya.in/                             \n"
    }
   ],
   "source": [
    " text=re.sub('[\\\\n+\\\\t+]',' ',table.getText())\n",
    " print(text)"
   ]
  },
  {
   "cell_type": "code",
   "execution_count": 9,
   "metadata": {},
   "outputs": [
    {
     "output_type": "execute_result",
     "data": {
      "text/plain": "51"
     },
     "metadata": {},
     "execution_count": 9
    }
   ],
   "source": [
    "school=text.split('Name:')\n",
    "len(school)"
   ]
  },
  {
   "cell_type": "code",
   "execution_count": 10,
   "metadata": {
    "tags": []
   },
   "outputs": [
    {
     "output_type": "stream",
     "name": "stdout",
     "text": "['A A PUBLIC SCHOOL', 'A J C ENGLISH SCHOOL', 'A K R G TECHNO SCHOOL', 'A M PUBLIC SCHOOL', 'A   NATIONAL SCHOOL', 'A.C. SHETTY MEMORIAL PRIMARY SCHOOL', 'A.K.T. MEMORIAL VIDYA SAAKET SCHOOL', 'A.R.J.  PUBLIC SCHOOL', 'AAA INTERNATIONAL SCHOOL', 'AATHMALAYAA MIDDLE SCHOOL', 'ABACUS INTERNATIONAL MONTESSORI SCHOOL', 'ABCS KENBRIDGE SCHOOL', 'ABHAYA SCHOOL', 'ABHYAS THE GLOBAL SCHOOL', 'ABS VIDHYA MANDHIR', 'ACADEMIC HEIGHTS PUBLIC SCHOOL', 'ACADEMIC HEIGHTS PUBLIC SCHOOL', 'ACADEMIC HEIGHTS PUBLIC SCHOOL', 'ACADEMIC HEIGHTS PUBLIC SCHOOL', 'ACADEMIC HEIGHTS PUBLIC SCHOOL', 'ACADEMIC HEIGHTS SCHOOL', 'ACCORD SCHOOL', 'ACHARIYA BALA SIKSHA MANDIR', 'ACHARIYA SCHOOL', 'ACHARIYA SIKSHA MANDIR']\n"
    }
   ],
   "source": [
    "schools=[]\n",
    "for i in range(1,len(school),2):\n",
    "    schools.append(school[i].split('Head/Principal')[0].strip())\n",
    "print(schools)"
   ]
  },
  {
   "cell_type": "code",
   "execution_count": 11,
   "metadata": {},
   "outputs": [
    {
     "output_type": "execute_result",
     "data": {
      "text/plain": "26"
     },
     "metadata": {},
     "execution_count": 11
    }
   ],
   "source": [
    "pname=text.split('Head/Principal Name:')\n",
    "len(pname)"
   ]
  },
  {
   "cell_type": "code",
   "execution_count": 12,
   "metadata": {
    "tags": []
   },
   "outputs": [
    {
     "output_type": "stream",
     "name": "stdout",
     "text": "['MRS. S.GNANA JOTHI', 'ANANDHAVALLI K', 'GUTTA PADMAJA', 'MRS. THAMAYANTHI S', 'MRS T GOMATHI SINGH', 'B. Mahabaleshwara Udupa', 'S USHA KUMARI', 'KAVITHA S', 'MRS. A V BHUVANESWARI', 'MRS. LAYAVARJITHA S', 'JOSEPHINE MARIA PREMA', 'RAVICHANDRAN S', 'L.SHAILAJA', 'Mrs.I.Naga Mani', 'RATHI MENON', 'MRS. NAJMAUNISA BEGUM', 'SINITA YEMPATI', 'MRS. J.LAKSHMI RAGHAVENDRA', 'MRS. K MADHAVI KRISHNA', 'MRS. YERRA JHANSI LATHA', 'RUPA REDDY', 'M Liaqet Ali Khan', 'DR R ANITA SANTHAKUMAR', 'SUDALAIMUTHU', 'MR.MOHAMED FAROOK U.']\n"
    }
   ],
   "source": [
    "Pname=[]\n",
    "for i in range(1,len(pname)):\n",
    "    Pname.append(pname[i].split('Status of the School')[0].strip())\n",
    "print(Pname)"
   ]
  },
  {
   "cell_type": "code",
   "execution_count": 13,
   "metadata": {},
   "outputs": [
    {
     "output_type": "execute_result",
     "data": {
      "text/plain": "26"
     },
     "metadata": {},
     "execution_count": 13
    }
   ],
   "source": [
    "phno=text.split('Phone No:')\n",
    "len(phno)"
   ]
  },
  {
   "cell_type": "code",
   "execution_count": 14,
   "metadata": {
    "tags": []
   },
   "outputs": [
    {
     "output_type": "stream",
     "name": "stdout",
     "text": "[',04448595902', '0435                      ,2420730', '818                      ,277993', '4290                      ,04290243578', '04639                      ,223344', '08284                      ,08259-285269, 08259-285369', '4151                      ,226655', '4367                      ,223333', '0456                      ,2228885', '4368                      ,04368292002,', '0421                      ,3212321', '4567                      ,259364', '01734                      ,08008222356', '8816                      ,223445', '0                      ,9244940111', '040                      ,04064546403,', '040                      ,7093903311', ',9618380022', ',9000103540', ',9121019898', '8685                      ,243693', '0877                      ,6457775', '0413                      ,3293344', '4632                      ,248689', '0413                      ,04132660881']\n"
    }
   ],
   "source": [
    "Phno=[]\n",
    "for i in range(1,len(phno)):\n",
    "    Phno.append(phno[i].split(' Email:')[0].strip())\n",
    "print(Phno)"
   ]
  },
  {
   "cell_type": "code",
   "execution_count": 15,
   "metadata": {
    "tags": []
   },
   "outputs": [
    {
     "output_type": "stream",
     "name": "stdout",
     "text": "[',04448595902', '0435,2420730', '818,277993', '4290,04290243578', '04639,223344', '08284,08259-285269,08259-285369', '4151,226655', '4367,223333', '0456,2228885', '4368,04368292002,', '0421,3212321', '4567,259364', '01734,08008222356', '8816,223445', '0,9244940111', '040,04064546403,', '040,7093903311', ',9618380022', ',9000103540', ',9121019898', '8685,243693', '0877,6457775', '0413,3293344', '4632,248689', '0413,04132660881']\n"
    }
   ],
   "source": [
    "ph=[]\n",
    "for i in Phno:\n",
    "   ph.append(re.sub('\\s+','',i))\n",
    "print(ph)"
   ]
  },
  {
   "cell_type": "code",
   "execution_count": 16,
   "metadata": {},
   "outputs": [
    {
     "output_type": "execute_result",
     "data": {
      "text/plain": "26"
     },
     "metadata": {},
     "execution_count": 16
    }
   ],
   "source": [
    "email=text.split('Email:')\n",
    "len(email)"
   ]
  },
  {
   "cell_type": "code",
   "execution_count": 17,
   "metadata": {
    "tags": []
   },
   "outputs": [
    {
     "output_type": "stream",
     "name": "stdout",
     "text": "['aapublicschool@gmail.com', 'anandhiphysics@gmail.com', 'akrgschool@gmail.com', 'ampublicschool12@gmail.com', '', 'nkmahajanca@yahoo.co.in', 'principal.aktcbse@gmail.com', 'arjps@arj.edu.in', 'principalaaaittl@gmail.com', 'principal@aathmalayaa.in', 'principal@aimstirupur.com', 'kenbridgeprincipal@gmail.com', 'abhaya_school@yahoo.co.in', 'syjdora@gmail.com', 'absvm.rathi@gmail.com', 'ahpscharminar@yahoo.com', 'ahpsboduppalprincipal@gmail.com', 'academicheightsbeeramguda@gmail.com', 'academicheightskphb@gmail.com', 'principalinj@academicheightshyd.com', 'ahps.principal@gmail.com', 'info@theaccordschool.com', 'absmtt@achariya.org', 'sudalaimuthu1981@gmail.com', 'asmhead@achariya.org']\n"
    }
   ],
   "source": [
    "Email=[]\n",
    "for i in range(1,len(email)):\n",
    "    Email.append(email[i].split('Website:')[0].strip())\n",
    "print(Email)"
   ]
  },
  {
   "cell_type": "code",
   "execution_count": 18,
   "metadata": {},
   "outputs": [],
   "source": [
    "import csv\n",
    "outputFile = open('chennaicbse.csv', 'w', newline='')\n",
    "outputWriter = csv.writer(outputFile)\n",
    "\n",
    "outputWriter.writerow(['school name', 'principal name','contact no','email'])\n",
    "for i in range (len(schools)):\n",
    "    scname=schools[i]\n",
    "    princiname=Pname[i]\n",
    "    phno=ph[i]\n",
    "    email1=Email[i]\n",
    "    outputWriter.writerow([scname,princiname,phno,email1])\n",
    "outputFile.close()"
   ]
  },
  {
   "cell_type": "code",
   "execution_count": null,
   "metadata": {},
   "outputs": [],
   "source": []
  }
 ],
 "metadata": {
  "language_info": {
   "codemirror_mode": {
    "name": "ipython",
    "version": 3
   },
   "file_extension": ".py",
   "mimetype": "text/x-python",
   "name": "python",
   "nbconvert_exporter": "python",
   "pygments_lexer": "ipython3",
   "version": "3.8.4-final"
  },
  "orig_nbformat": 2,
  "kernelspec": {
   "name": "python38432bitfa610af8af154bb2a476cab15e1ae2cd",
   "display_name": "Python 3.8.4 32-bit"
  }
 },
 "nbformat": 4,
 "nbformat_minor": 2
}