{
 "cells": [
  {
   "cell_type": "code",
   "execution_count": 28,
   "metadata": {},
   "outputs": [],
   "source": [
    "from selenium import webdriver\n",
    "driver=webdriver.Chrome()\n",
    "driver.get('http://cbseaff.nic.in/cbse_aff/schdir_Report/userview.aspx')\n",
    "radio = driver.find_element_by_id('optlist_3')\n",
    "radio.click()\n",
    "driver.find_element_by_xpath(\"//select[@name='ctl00$ContentPlaceHolder1$ddlitem']/option[text()='Chennai']\").click()\n",
    "button=driver.find_element_by_id('search')\n",
    "button.click()"
   ]
  },
  {
   "cell_type": "code",
   "execution_count": 29,
   "metadata": {},
   "outputs": [],
   "source": [
    "import time,bs4"
   ]
  },
  {
   "cell_type": "code",
   "execution_count": 8,
   "metadata": {},
   "outputs": [],
   "source": [
    "#driver.execute_script(\"window.scrollTo(0,document.body.scrollHeight)\")\n",
    "#nextbutton=driver.find_element_by_id('Button1')\n",
    "#nextbutton.click()"
   ]
  },
  {
   "cell_type": "code",
   "execution_count": 27,
   "metadata": {},
   "outputs": [],
   "source": [
    "#while True:\n",
    "  #  driver.execute_script(\"window.scrollTo(0,document.body.scrollHeight)\")\n",
    "  #  nextbutton=driver.find_element_by_id('Button1')\n",
    "  #  nextbutton.click()\n",
    "  #  time.sleep(7)"
   ]
  },
  {
   "cell_type": "code",
   "execution_count": 21,
   "metadata": {},
   "outputs": [],
   "source": [
    "#ttext=''\n",
    "#soup=bs4.BeautifulSoup(driver.page_source)\n",
    "#time.sleep(2)\n",
    "#table=soup.find('table',id='T1')\n",
    "#ttext=ttext+table.getText()\n"
   ]
  },
  {
   "cell_type": "code",
   "execution_count": 22,
   "metadata": {},
   "outputs": [
    {
     "output_type": "stream",
     "name": "stdout",
     "text": [
      "\n\n\n\n\nSNo\nAffNo,School & Head Name\n\t\t\t\t\t\t\t\t\t\t\t\t\t\t\t\t\t\nAddress,Phone & Email\n\n\n\n\n1\n\n\n\nAffiliation No.1931043\n\n\nName:\nA A PUBLIC SCHOOL\n\n\nHead/Principal Name:MRS. S.GNANA JOTHI\n\n\nStatus of the School:Secondary School\n\n\nAffiliated up to: 31/03/2022 \n\n\n\n\n\n\nAddress:\n\t\t\t\t\t\t\t\t\t\t\t\t\t\t\t\t\t\t\t\t\t17/8, ANDIAPPAN GRAMANI STREET, ROYAPURAM, CHENNAI\n\t\t\t\t\t\t\t\t\t\t\t\t\t\t\t\t\t\t\t\t\t,600013\n\n\nPhone No:\n\t\t\t\t\t\t\t\t\t\t\t\t\t\t\t\t\t\t\t\t\t\n\t\t\t\t\t\t\t\t\t\t\t\t\t\t\t\t\t\t\t\t\t,04448595902\n\n\n\nEmail:\n\t\t\t\t\t\t\t\t\t\t\t\t\t\t\t\t\t\t\t\t\taapublicschool@gmail.com\n                                                                                     Website:\n\n\n\n\n\n\n\n\n2\n\n\n\nAffiliation No.1930134\n\n\nName:\nA J C ENGLISH SCHOOL\n\n\nHead/Principal Name:ANANDHAVALLI K\n\n\nStatus of the School:Secondary School\n\n\nAffiliated up to: 31/03/2022 \n\n\n\n\n\n\nAddress:\n\t\t\t\t\t\t\t\t\t\t\t\t\t\t\t\t\t\t\t\t\tLAL BAHADUR SHASTRI ROAD KUMBAKONAM TAMIL NADU\n\t\t\t\t\t\t\t\t\t\t\t\t\t\t\t\t\t\t\t\t\t,612001\n\n\nPhone No:\n\t\t\t\t\t\t\t\t\t\t\t\t\t\t\t\t\t\t\t\t\t0435\n\t\t\t\t\t\t\t\t\t\t\t\t\t\t\t\t\t\t\t\t\t,2420730\n\n\n\nEmail:\n\t\t\t\t\t\t\t\t\t\t\t\t\t\t\t\t\t\t\t\t\tanandhiphysics@gmail.com\n                                                                                    Website:\n\n\n\n\n\n\n\n\n3\n\n\n\nAffiliation No.130340 \n\n\nName:\nA K R G TECHNO SCHOOL\n\n\nHead/Principal Name:GUTTA PADMAJA\n\n\nStatus of the School:Secondary School\n\n\nAffiliated up to: 31/03/2022 \n\n\n\n\n\n\nAddress:\n\t\t\t\t\t\t\t\t\t\t\t\t\t\t\t\t\t\t\t\t\tNALLAJERLA\n\t\t\t\t\t\t\t\t\t\t\t\t\t\t\t\t\t\t\t\t\t,534112\n\n\nPhone No:\n\t\t\t\t\t\t\t\t\t\t\t\t\t\t\t\t\t\t\t\t\t818\n\t\t\t\t\t\t\t\t\t\t\t\t\t\t\t\t\t\t\t\t\t,277993\n\n\n\nEmail:\n\t\t\t\t\t\t\t\t\t\t\t\t\t\t\t\t\t\t\t\t\takrgschool@gmail.com\n                                                                                     Website:\n\n\n\n\n\n\n\n\n4\n\n\n\nAffiliation No.1930516\n\n\nName:\nA M PUBLIC SCHOOL\n\n\nHead/Principal Name:MRS. THAMAYANTHI S\n\n\nStatus of the School:Senior Secondary\n\n\nAffiliated up to: 31/03/2022 \n\n\n\n\n\n\nAddress:\n\t\t\t\t\t\t\t\t\t\t\t\t\t\t\t\t\t\t\t\t\tNADUPATTI\nKADAYAMPATTI(TK)\nSALEM DISTRICT\n\t\t\t\t\t\t\t\t\t\t\t\t\t\t\t\t\t\t\t\t\t,636351\n\n\nPhone No:\n\t\t\t\t\t\t\t\t\t\t\t\t\t\t\t\t\t\t\t\t\t4290\n\t\t\t\t\t\t\t\t\t\t\t\t\t\t\t\t\t\t\t\t\t,04290243578\n\n\n\nEmail:\n\t\t\t\t\t\t\t\t\t\t\t\t\t\t\t\t\t\t\t\t\tampublicschool12@gmail.com\n                                                                                    Website:\n\t\t\t\t\t\t\t\t\t\t\t\t\t\t\t\t\t\t\t\t\thttp://www.ampublicschool.in\n\t\t\t\t\t\t\t\t\t\t\t\t\t\t\t\t\t\t\t\t\n\n\n\n\n\n\n\n5\n\n\n\nAffiliation No.1930194\n\n\nName:\nA++ NATIONAL SCHOOL\n\n\nHead/Principal Name:MRS T GOMATHI SINGH\n\n\nStatus of the School:Secondary School\n\n\nAffiliated up to: 31/03/2008 \n\n\n\n\n\n\nAddress:\n\t\t\t\t\t\t\t\t\t\t\t\t\t\t\t\t\t\t\t\t\tARIVOLI NAGAR, THIRUNALVELI ROAD THIRUCHENDUR, DISTT THOOTHUKUDI TAMIL NADU\n\t\t\t\t\t\t\t\t\t\t\t\t\t\t\t\t\t\t\t\t\t,628215\n\n\nPhone No:\n\t\t\t\t\t\t\t\t\t\t\t\t\t\t\t\t\t\t\t\t\t04639\n\t\t\t\t\t\t\t\t\t\t\t\t\t\t\t\t\t\t\t\t\t,223344\n\n\n\nEmail:\nWebsite:\n\n\n\n\n\n\n\n\n6\n\n\n\nAffiliation No.830315 \n\n\nName:\nA.C. SHETTY MEMORIAL PRIMARY SCHOOL\n\n\nHead/Principal Name:B. Mahabaleshwara Udupa\n\n\nStatus of the School:Secondary School\n\n\nAffiliated up to: 31/03/2019 \n\n\n\n\n\n\nAddress:\n\t\t\t\t\t\t\t\t\t\t\t\t\t\t\t\t\t\t\t\t\tARDI ALBADY, KUNDAPURA TALUK, UDUPI DISTRICT KARNATAKA\n\t\t\t\t\t\t\t\t\t\t\t\t\t\t\t\t\t\t\t\t\t,576212\n\n\nPhone No:\n\t\t\t\t\t\t\t\t\t\t\t\t\t\t\t\t\t\t\t\t\t08284\n\t\t\t\t\t\t\t\t\t\t\t\t\t\t\t\t\t\t\t\t\t,08259-285269, 08259-285369\n\n\n\nEmail:\n\t\t\t\t\t\t\t\t\t\t\t\t\t\t\t\t\t\t\t\t\tnkmahajanca@yahoo.co.in\n                                                                                    Website:\n\n\n\n\n\n\n\n\n7\n\n\n\nAffiliation No.1930235\n\n\nName:\nA.K.T. MEMORIAL VIDYA SAAKET SCHOOL\n\n\nHead/Principal Name:S USHA KUMARI\n\n\nStatus of the School:Secondary School\n\n\nAffiliated up to: 31/03/2022 \n\n\n\n\n\n\nAddress:\n\t\t\t\t\t\t\t\t\t\t\t\t\t\t\t\t\t\t\t\t\tNEELAMANGALAM VILLAGE KALLAKURICHI - POST, VILLUPURAM DISTT., TAMILNADU\n\t\t\t\t\t\t\t\t\t\t\t\t\t\t\t\t\t\t\t\t\t,606202\n\n\nPhone No:\n\t\t\t\t\t\t\t\t\t\t\t\t\t\t\t\t\t\t\t\t\t4151\n\t\t\t\t\t\t\t\t\t\t\t\t\t\t\t\t\t\t\t\t\t,226655\n\n\n\nEmail:\n\t\t\t\t\t\t\t\t\t\t\t\t\t\t\t\t\t\t\t\t\tprincipal.aktcbse@gmail.com\n                                                                                     Website:\n\n\n\n\n\n\n\n\n8\n\n\n\nAffiliation No.1930354\n\n\nName:\nA.R.J.  PUBLIC SCHOOL\n\n\nHead/Principal Name:KAVITHA S\n\n\nStatus of the School:Senior Secondary\n\n\nAffiliated up to: 31/03/2025 \n\n\n\n\n\n\nAddress:\n\t\t\t\t\t\t\t\t\t\t\t\t\t\t\t\t\t\t\t\t\tTHIRUMANKOTTAI MAIN ROAD, EDAYARNATHAM, MANNARGUDI -614001\n\t\t\t\t\t\t\t\t\t\t\t\t\t\t\t\t\t\t\t\t\t,614001\n\n\nPhone No:\n\t\t\t\t\t\t\t\t\t\t\t\t\t\t\t\t\t\t\t\t\t4367\n\t\t\t\t\t\t\t\t\t\t\t\t\t\t\t\t\t\t\t\t\t,223333\n\n\n\nEmail:\n\t\t\t\t\t\t\t\t\t\t\t\t\t\t\t\t\t\t\t\t\tarjps@arj.edu.in\n                                                                                    Website:\n\t\t\t\t\t\t\t\t\t\t\t\t\t\t\t\t\t\t\t\t\thttp://www.arj.edu.in\n\t\t\t\t\t\t\t\t\t\t\t\t\t\t\t\t\t\t\t\t\n\n\n\n\n\n\n\n9\n\n\n\nAffiliation No.1930784\n\n\nName:\nAAA INTERNATIONAL SCHOOL\n\n\nHead/Principal Name:MRS. A V BHUVANESWARI\n\n\nStatus of the School:Senior Secondary\n\n\nAffiliated up to: 31/03/2023 \n\n\n\n\n\n\nAddress:\n\t\t\t\t\t\t\t\t\t\t\t\t\t\t\t\t\t\t\t\t\t828, A, S.N. PURAM ROAD, THIRUTHANGAL, SIVAKASI\n\t\t\t\t\t\t\t\t\t\t\t\t\t\t\t\t\t\t\t\t\t,626130\n\n\nPhone No:\n\t\t\t\t\t\t\t\t\t\t\t\t\t\t\t\t\t\t\t\t\t0456\n\t\t\t\t\t\t\t\t\t\t\t\t\t\t\t\t\t\t\t\t\t,2228885\n\n\n\nEmail:\n\t\t\t\t\t\t\t\t\t\t\t\t\t\t\t\t\t\t\t\t\tprincipalaaaittl@gmail.com\n                                                                                     Website:\n\t\t\t\t\t\t\t\t\t\t\t\t\t\t\t\t\t\t\t\t\thttp://www.aaainternationalschool.com/\n\t\t\t\t\t\t\t\t\t\t\t\t\t\t\t\t\t\t\t\t\n\n\n\n\n\n\n\n10\n\n\n\nAffiliation No.2930008\n\n\nName:\nAATHMALAYAA MIDDLE SCHOOL\n\n\nHead/Principal Name:MRS. LAYAVARJITHA S\n\n\nStatus of the School:Senior Secondary\n\n\nAffiliated up to: 31/03/2024 \n\n\n\n\n\n\nAddress:\n\t\t\t\t\t\t\t\t\t\t\t\t\t\t\t\t\t\t\t\t\tAATHMALAYAA NAGAR, SCHOOL ROAD, KEEZHZKASAKUDI, KARAIKAL - 609609.\n\t\t\t\t\t\t\t\t\t\t\t\t\t\t\t\t\t\t\t\t\t,609609\n\n\nPhone No:\n\t\t\t\t\t\t\t\t\t\t\t\t\t\t\t\t\t\t\t\t\t4368\n\t\t\t\t\t\t\t\t\t\t\t\t\t\t\t\t\t\t\t\t\t,04368292002,\n\n\n\nEmail:\n\t\t\t\t\t\t\t\t\t\t\t\t\t\t\t\t\t\t\t\t\tprincipal@aathmalayaa.in\n                                                                                    Website:\n\t\t\t\t\t\t\t\t\t\t\t\t\t\t\t\t\t\t\t\t\thttp://www.aathmalayaa.in\n\t\t\t\t\t\t\t\t\t\t\t\t\t\t\t\t\t\t\t\t\n\n\n\n\n\n\n\n11\n\n\n\nAffiliation No.1930238\n\n\nName:\nABACUS INTERNATIONAL MONTESSORI SCHOOL\n\n\nHead/Principal Name:JOSEPHINE MARIA PREMA\n\n\nStatus of the School:Senior Secondary\n\n\nAffiliated up to: 31/03/2025 \n\n\n\n\n\n\nAddress:\n\t\t\t\t\t\t\t\t\t\t\t\t\t\t\t\t\t\t\t\t\tS.F.NO 516 MUDALI PALAYAM PIRIVU, PERUNTHOZHUVU ROAD, KANGAYAM ROAD\n\t\t\t\t\t\t\t\t\t\t\t\t\t\t\t\t\t\t\t\t\t,641606\n\n\nPhone No:\n\t\t\t\t\t\t\t\t\t\t\t\t\t\t\t\t\t\t\t\t\t0421\n\t\t\t\t\t\t\t\t\t\t\t\t\t\t\t\t\t\t\t\t\t,3212321\n\n\n\nEmail:\n\t\t\t\t\t\t\t\t\t\t\t\t\t\t\t\t\t\t\t\t\tprincipal@aimstirupur.com\n                                                                                     Website:\n\t\t\t\t\t\t\t\t\t\t\t\t\t\t\t\t\t\t\t\t\thttp://www.aims_tirupur.edu.in\n\t\t\t\t\t\t\t\t\t\t\t\t\t\t\t\t\t\t\t\t\n\n\n\n\n\n\n\n12\n\n\n\nAffiliation No.1930573\n\n\nName:\nABCS KENBRIDGE SCHOOL\n\n\nHead/Principal Name:RAVICHANDRAN S\n\n\nStatus of the School:Senior Secondary\n\n\nAffiliated up to: 31/03/2025 \n\n\n\n\n\n\nAddress:\n\t\t\t\t\t\t\t\t\t\t\t\t\t\t\t\t\t\t\t\t\tTRICHY RAMESWARAM MAIN ROAD,NARANAMANGALAM POST,NEAR DEVIPATTINAM, RAMANATHAPURAM DIST\n\t\t\t\t\t\t\t\t\t\t\t\t\t\t\t\t\t\t\t\t\t,623537\n\n\nPhone No:\n\t\t\t\t\t\t\t\t\t\t\t\t\t\t\t\t\t\t\t\t\t4567\n\t\t\t\t\t\t\t\t\t\t\t\t\t\t\t\t\t\t\t\t\t,259364\n\n\n\nEmail:\n\t\t\t\t\t\t\t\t\t\t\t\t\t\t\t\t\t\t\t\t\tkenbridgeprincipal@gmail.com\n                                                                                    Website:\n\n\n\n\n\n\n\n\n13\n\n\n\nAffiliation No.3630083\n\n\nName:\nABHAYA SCHOOL\n\n\nHead/Principal Name:L.SHAILAJA\n\n\nStatus of the School:Senior Secondary\n\n\nAffiliated up to: 31/03/2022 \n\n\n\n\n\n\nAddress:\n\t\t\t\t\t\t\t\t\t\t\t\t\t\t\t\t\t\t\t\t\tGUNDLA POCHAMPALLY VILLAGE, NEAR APPAREL TEXTILE PARK, MEDCHAL MANDAL DIST, RANGAREDDY,\n\t\t\t\t\t\t\t\t\t\t\t\t\t\t\t\t\t\t\t\t\t,500014\n\n\nPhone No:\n\t\t\t\t\t\t\t\t\t\t\t\t\t\t\t\t\t\t\t\t\t01734\n\t\t\t\t\t\t\t\t\t\t\t\t\t\t\t\t\t\t\t\t\t,08008222356\n\n\n\nEmail:\n\t\t\t\t\t\t\t\t\t\t\t\t\t\t\t\t\t\t\t\t\tabhaya_school@yahoo.co.in\n                                                                                     Website:\n\t\t\t\t\t\t\t\t\t\t\t\t\t\t\t\t\t\t\t\t\thttp://www.abhayaschool.in\n\t\t\t\t\t\t\t\t\t\t\t\t\t\t\t\t\t\t\t\t\n\n\n\n\n\n\n\n14\n\n\n\nAffiliation No.130301 \n\n\nName:\nABHYAS THE GLOBAL SCHOOL\n\n\nHead/Principal Name:Mrs.I.Naga Mani\n\n\nStatus of the School:Secondary School\n\n\nAffiliated up to: 31/03/2026 \n\n\n\n\n\n\nAddress:\n\t\t\t\t\t\t\t\t\t\t\t\t\t\t\t\t\t\t\t\t\t4-155,JP ROAD PEDAMIRAM VILLAGE, KALLA MANDAL WEST GODAVARI ANDHRA PRADESH\n\t\t\t\t\t\t\t\t\t\t\t\t\t\t\t\t\t\t\t\t\t,534204\n\n\nPhone No:\n\t\t\t\t\t\t\t\t\t\t\t\t\t\t\t\t\t\t\t\t\t8816\n\t\t\t\t\t\t\t\t\t\t\t\t\t\t\t\t\t\t\t\t\t,223445\n\n\n\nEmail:\n\t\t\t\t\t\t\t\t\t\t\t\t\t\t\t\t\t\t\t\t\tsyjdora@gmail.com\n                                                                                    Website:\n\t\t\t\t\t\t\t\t\t\t\t\t\t\t\t\t\t\t\t\t\thttp://www.abhyastheglobalschool.com\n\t\t\t\t\t\t\t\t\t\t\t\t\t\t\t\t\t\t\t\t\n\n\n\n\n\n\n\n15\n\n\n\nAffiliation No.1930290\n\n\nName:\nABS VIDHYA MANDHIR\n\n\nHead/Principal Name:RATHI MENON\n\n\nStatus of the School:Senior Secondary\n\n\nAffiliated up to: 31/03/2022 \n\n\n\n\n\n\nAddress:\n\t\t\t\t\t\t\t\t\t\t\t\t\t\t\t\t\t\t\t\t\tTHALAKANCHERRY ROAD, IVELI AGARAM, THIRUVALLUR\n\t\t\t\t\t\t\t\t\t\t\t\t\t\t\t\t\t\t\t\t\t,602001\n\n\nPhone No:\n\t\t\t\t\t\t\t\t\t\t\t\t\t\t\t\t\t\t\t\t\t0\n\t\t\t\t\t\t\t\t\t\t\t\t\t\t\t\t\t\t\t\t\t,9244940111\n\n\n\nEmail:\n\t\t\t\t\t\t\t\t\t\t\t\t\t\t\t\t\t\t\t\t\tabsvm.rathi@gmail.com\n                                                                                     Website:\n\t\t\t\t\t\t\t\t\t\t\t\t\t\t\t\t\t\t\t\t\twww.absvidhyamandhir.com\n\t\t\t\t\t\t\t\t\t\t\t\t\t\t\t\t\t\t\t\t\n\n\n\n\n\n\n\n16\n\n\n\nAffiliation No.3630234\n\n\nName:\nACADEMIC HEIGHTS PUBLIC SCHOOL\n\n\nHead/Principal Name:MRS. NAJMAUNISA BEGUM\n\n\nStatus of the School:Senior Secondary\n\n\nAffiliated up to: 31/03/2022 \n\n\n\n\n\n\nAddress:\n\t\t\t\t\t\t\t\t\t\t\t\t\t\t\t\t\t\t\t\t\t18-4-42/A, ALIABAD SAHMSHERGUNJ\n\t\t\t\t\t\t\t\t\t\t\t\t\t\t\t\t\t\t\t\t\t,500053\n\n\nPhone No:\n\t\t\t\t\t\t\t\t\t\t\t\t\t\t\t\t\t\t\t\t\t040\n\t\t\t\t\t\t\t\t\t\t\t\t\t\t\t\t\t\t\t\t\t,04064546403,\n\n\n\nEmail:\n\t\t\t\t\t\t\t\t\t\t\t\t\t\t\t\t\t\t\t\t\tahpscharminar@yahoo.com\n                                                                                    Website:\n\t\t\t\t\t\t\t\t\t\t\t\t\t\t\t\t\t\t\t\t\thttp://ahpscharminar.com/\n\t\t\t\t\t\t\t\t\t\t\t\t\t\t\t\t\t\t\t\t\n\n\n\n\n\n\n\n17\n\n\n\nAffiliation No.3630210\n\n\nName:\nACADEMIC HEIGHTS PUBLIC SCHOOL\n\n\nHead/Principal Name:SINITA YEMPATI\n\n\nStatus of the School:Secondary School\n\n\nAffiliated up to: 31/03/2025 \n\n\n\n\n\n\nAddress:\n\t\t\t\t\t\t\t\t\t\t\t\t\t\t\t\t\t\t\t\t\tSURVEY NO:51, VENKAT REDDY COLONY, BOLLIGUDEM ROAD, BODUPPAL\n\t\t\t\t\t\t\t\t\t\t\t\t\t\t\t\t\t\t\t\t\t,500039\n\n\nPhone No:\n\t\t\t\t\t\t\t\t\t\t\t\t\t\t\t\t\t\t\t\t\t040\n\t\t\t\t\t\t\t\t\t\t\t\t\t\t\t\t\t\t\t\t\t,7093903311\n\n\n\nEmail:\n\t\t\t\t\t\t\t\t\t\t\t\t\t\t\t\t\t\t\t\t\tahpsboduppalprincipal@gmail.com\n                                                                                     Website:\n\n\n\n\n\n\n\n\n18\n\n\n\nAffiliation No.3630288\n\n\nName:\nACADEMIC HEIGHTS PUBLIC SCHOOL\n\n\nHead/Principal Name:MRS. J.LAKSHMI RAGHAVENDRA\n\n\nStatus of the School:Secondary School\n\n\nAffiliated up to: 31/03/2022 \n\n\n\n\n\n\nAddress:\n\t\t\t\t\t\t\t\t\t\t\t\t\t\t\t\t\t\t\t\t\tACADEMIC HEIGHTS PUBLIC SCHOOL, KISTAREDDYPET VILLAGE,AMEENPUR MANDAL, SANGAREDDY DIST\n\t\t\t\t\t\t\t\t\t\t\t\t\t\t\t\t\t\t\t\t\t,502032\n\n\nPhone No:\n\t\t\t\t\t\t\t\t\t\t\t\t\t\t\t\t\t\t\t\t\t\n\t\t\t\t\t\t\t\t\t\t\t\t\t\t\t\t\t\t\t\t\t,9618380022\n\n\n\nEmail:\n\t\t\t\t\t\t\t\t\t\t\t\t\t\t\t\t\t\t\t\t\tacademicheightsbeeramguda@gmail.com\n                                                                                    Website:\n\n\n\n\n\n\n\n\n19\n\n\n\nAffiliation No.3630321\n\n\nName:\nACADEMIC HEIGHTS PUBLIC SCHOOL\n\n\nHead/Principal Name:MRS. K MADHAVI KRISHNA\n\n\nStatus of the School:Secondary School\n\n\nAffiliated up to: 31/03/2023 \n\n\n\n\n\n\nAddress:\n\t\t\t\t\t\t\t\t\t\t\t\t\t\t\t\t\t\t\t\t\tSY NO 78, VENAKATARAMANA COLONY, GOKUL PLOTS, HAFEEZPET, SERILINGAMPALLY MANDAL\n\t\t\t\t\t\t\t\t\t\t\t\t\t\t\t\t\t\t\t\t\t,500072\n\n\nPhone No:\n\t\t\t\t\t\t\t\t\t\t\t\t\t\t\t\t\t\t\t\t\t\n\t\t\t\t\t\t\t\t\t\t\t\t\t\t\t\t\t\t\t\t\t,9000103540\n\n\n\nEmail:\n\t\t\t\t\t\t\t\t\t\t\t\t\t\t\t\t\t\t\t\t\tacademicheightskphb@gmail.com\n                                                                                     Website:\n\t\t\t\t\t\t\t\t\t\t\t\t\t\t\t\t\t\t\t\t\thttp://www.academicheightskphb.com\n\t\t\t\t\t\t\t\t\t\t\t\t\t\t\t\t\t\t\t\t\n\n\n\n\n\n\n\n20\n\n\n\nAffiliation No.3630375\n\n\nName:\nACADEMIC HEIGHTS PUBLIC SCHOOL\n\n\nHead/Principal Name:MRS. YERRA JHANSI LATHA\n\n\nStatus of the School:Secondary School\n\n\nAffiliated up to: 31/03/2024 \n\n\n\n\n\n\nAddress:\n\t\t\t\t\t\t\t\t\t\t\t\t\t\t\t\t\t\t\t\t\tPLOT NO,1&2, OPP.VENKATESHWARA COLONY,INJAPUR, ABDULLAPURMET MDL, RANGA REDDY DIST\n\t\t\t\t\t\t\t\t\t\t\t\t\t\t\t\t\t\t\t\t\t,501510\n\n\nPhone No:\n\t\t\t\t\t\t\t\t\t\t\t\t\t\t\t\t\t\t\t\t\t\n\t\t\t\t\t\t\t\t\t\t\t\t\t\t\t\t\t\t\t\t\t,9121019898\n\n\n\nEmail:\n\t\t\t\t\t\t\t\t\t\t\t\t\t\t\t\t\t\t\t\t\tprincipalinj@academicheightshyd.com\n                                                                                    Website:\n\n\n\n\n\n\n\n\n21\n\n\n\nAffiliation No.3630180\n\n\nName:\nACADEMIC HEIGHTS SCHOOL\n\n\nHead/Principal Name:RUPA REDDY\n\n\nStatus of the School:Secondary School\n\n\nAffiliated up to: 31/03/2024 \n\n\n\n\n\n\nAddress:\n\t\t\t\t\t\t\t\t\t\t\t\t\t\t\t\t\t\t\t\t\tBACHPAN CAMPUS JAGADEEVPUR ROAD HANMAPUR  BHONGIR\n\t\t\t\t\t\t\t\t\t\t\t\t\t\t\t\t\t\t\t\t\t,508116\n\n\nPhone No:\n\t\t\t\t\t\t\t\t\t\t\t\t\t\t\t\t\t\t\t\t\t8685\n\t\t\t\t\t\t\t\t\t\t\t\t\t\t\t\t\t\t\t\t\t,243693\n\n\n\nEmail:\n\t\t\t\t\t\t\t\t\t\t\t\t\t\t\t\t\t\t\t\t\tahps.principal@gmail.com\n                                                                                     Website:\n\n\n\n\n\n\n\n\n22\n\n\n\nAffiliation No.130371 \n\n\nName:\nACCORD SCHOOL\n\n\nHead/Principal Name:M Liaqet Ali Khan\n\n\nStatus of the School:Senior Secondary\n\n\nAffiliated up to: 31/03/2023 \n\n\n\n\n\n\nAddress:\n\t\t\t\t\t\t\t\t\t\t\t\t\t\t\t\t\t\t\t\t\tRC ROAD, CHIGURUWADA NORTH, TIRUPATI CHITTOOR, ANDHRA PRADESH\n\t\t\t\t\t\t\t\t\t\t\t\t\t\t\t\t\t\t\t\t\t,517507\n\n\nPhone No:\n\t\t\t\t\t\t\t\t\t\t\t\t\t\t\t\t\t\t\t\t\t0877\n\t\t\t\t\t\t\t\t\t\t\t\t\t\t\t\t\t\t\t\t\t,6457775\n\n\n\nEmail:\n\t\t\t\t\t\t\t\t\t\t\t\t\t\t\t\t\t\t\t\t\tinfo@theaccordschool.com\n                                                                                    Website:\n\t\t\t\t\t\t\t\t\t\t\t\t\t\t\t\t\t\t\t\t\thttp://www.theaccordschool.com\n\t\t\t\t\t\t\t\t\t\t\t\t\t\t\t\t\t\t\t\t\n\n\n\n\n\n\n\n23\n\n\n\nAffiliation No.2930005\n\n\nName:\nACHARIYA BALA SIKSHA MANDIR\n\n\nHead/Principal Name:DR R ANITA SANTHAKUMAR\n\n\nStatus of the School:Senior Secondary\n\n\nAffiliated up to: 31/03/2026 \n\n\n\n\n\n\nAddress:\n\t\t\t\t\t\t\t\t\t\t\t\t\t\t\t\t\t\t\t\t\tACHARIYA COMMUNE, FISHING HARBOUR ROAD, THENGAITHITTU,PONDICHERRY\n\t\t\t\t\t\t\t\t\t\t\t\t\t\t\t\t\t\t\t\t\t,605004\n\n\nPhone No:\n\t\t\t\t\t\t\t\t\t\t\t\t\t\t\t\t\t\t\t\t\t0413\n\t\t\t\t\t\t\t\t\t\t\t\t\t\t\t\t\t\t\t\t\t,3293344\n\n\n\nEmail:\n\t\t\t\t\t\t\t\t\t\t\t\t\t\t\t\t\t\t\t\t\tabsmtt@achariya.org\n                                                                                     Website:\n\t\t\t\t\t\t\t\t\t\t\t\t\t\t\t\t\t\t\t\t\thttp://www.achariya.in\n\t\t\t\t\t\t\t\t\t\t\t\t\t\t\t\t\t\t\t\t\n\n\n\n\n\n\n\n24\n\n\n\nAffiliation No.1930428\n\n\nName:\nACHARIYA SCHOOL\n\n\nHead/Principal Name:SUDALAIMUTHU\n\n\nStatus of the School:Senior Secondary\n\n\nAffiliated up to: 31/03/2023 \n\n\n\n\n\n\nAddress:\n\t\t\t\t\t\t\t\t\t\t\t\t\t\t\t\t\t\t\t\t\t3/185-1,MUTHUMARIAMMAN KOVIL ROAD\n\t\t\t\t\t\t\t\t\t\t\t\t\t\t\t\t\t\t\t\t\t,628721\n\n\nPhone No:\n\t\t\t\t\t\t\t\t\t\t\t\t\t\t\t\t\t\t\t\t\t4632\n\t\t\t\t\t\t\t\t\t\t\t\t\t\t\t\t\t\t\t\t\t,248689\n\n\n\nEmail:\n\t\t\t\t\t\t\t\t\t\t\t\t\t\t\t\t\t\t\t\t\tsudalaimuthu1981@gmail.com\n                                                                                    Website:\n\n\n\n\n\n\n\n\n25\n\n\n\nAffiliation No.2930007\n\n\nName:\nACHARIYA SIKSHA MANDIR\n\n\nHead/Principal Name:MR.MOHAMED FAROOK U.\n\n\nStatus of the School:Senior Secondary\n\n\nAffiliated up to: 31/03/2024 \n\n\n\n\n\n\nAddress:\n\t\t\t\t\t\t\t\t\t\t\t\t\t\t\t\t\t\t\t\t\tACHARIYAPURAM\nURUVAIYARU\n\n\t\t\t\t\t\t\t\t\t\t\t\t\t\t\t\t\t\t\t\t\t,605110\n\n\nPhone No:\n\t\t\t\t\t\t\t\t\t\t\t\t\t\t\t\t\t\t\t\t\t0413\n\t\t\t\t\t\t\t\t\t\t\t\t\t\t\t\t\t\t\t\t\t,04132660881\n\n\n\nEmail:\n\t\t\t\t\t\t\t\t\t\t\t\t\t\t\t\t\t\t\t\t\tasmhead@achariya.org\n                                                                                     Website:\n\t\t\t\t\t\t\t\t\t\t\t\t\t\t\t\t\t\t\t\t\thttp://www.achariya.in/\n\t\t\t\t\t\t\t\t\t\t\t\t\t\t\t\t\t\t\t\t\n\n\n\n\n\n\n\n\n"
     ]
    }
   ],
   "source": [
    "#print(ttext)"
   ]
  },
  {
   "cell_type": "code",
   "execution_count": 30,
   "metadata": {},
   "outputs": [],
   "source": [
    "chennaitext=''\n",
    "soup=bs4.BeautifulSoup(driver.page_source)\n",
    "time.sleep(2)\n",
    "table=soup.find('table',id='T1')\n",
    "chennaitext=chennaitext+table.getText()"
   ]
  },
  {
   "cell_type": "code",
   "execution_count": 31,
   "metadata": {
    "tags": []
   },
   "outputs": [
    {
     "output_type": "error",
     "ename": "KeyboardInterrupt",
     "evalue": "",
     "traceback": [
      "\u001b[1;31m---------------------------------------------------------------------------\u001b[0m",
      "\u001b[1;31mKeyboardInterrupt\u001b[0m                         Traceback (most recent call last)",
      "\u001b[1;32m<ipython-input-31-73c3fc2a6585>\u001b[0m in \u001b[0;36m<module>\u001b[1;34m\u001b[0m\n\u001b[0;32m      3\u001b[0m     \u001b[0mnextbutton\u001b[0m\u001b[1;33m=\u001b[0m\u001b[0mdriver\u001b[0m\u001b[1;33m.\u001b[0m\u001b[0mfind_element_by_id\u001b[0m\u001b[1;33m(\u001b[0m\u001b[1;34m'Button1'\u001b[0m\u001b[1;33m)\u001b[0m\u001b[1;33m\u001b[0m\u001b[1;33m\u001b[0m\u001b[0m\n\u001b[0;32m      4\u001b[0m     \u001b[0mnextbutton\u001b[0m\u001b[1;33m.\u001b[0m\u001b[0mclick\u001b[0m\u001b[1;33m(\u001b[0m\u001b[1;33m)\u001b[0m\u001b[1;33m\u001b[0m\u001b[1;33m\u001b[0m\u001b[0m\n\u001b[1;32m----> 5\u001b[1;33m     \u001b[0mtime\u001b[0m\u001b[1;33m.\u001b[0m\u001b[0msleep\u001b[0m\u001b[1;33m(\u001b[0m\u001b[1;36m10\u001b[0m\u001b[1;33m)\u001b[0m\u001b[1;33m\u001b[0m\u001b[1;33m\u001b[0m\u001b[0m\n\u001b[0m\u001b[0;32m      6\u001b[0m     \u001b[0msoup\u001b[0m\u001b[1;33m=\u001b[0m\u001b[0mbs4\u001b[0m\u001b[1;33m.\u001b[0m\u001b[0mBeautifulSoup\u001b[0m\u001b[1;33m(\u001b[0m\u001b[0mdriver\u001b[0m\u001b[1;33m.\u001b[0m\u001b[0mpage_source\u001b[0m\u001b[1;33m)\u001b[0m\u001b[1;33m\u001b[0m\u001b[1;33m\u001b[0m\u001b[0m\n\u001b[0;32m      7\u001b[0m     \u001b[0mtime\u001b[0m\u001b[1;33m.\u001b[0m\u001b[0msleep\u001b[0m\u001b[1;33m(\u001b[0m\u001b[1;36m2\u001b[0m\u001b[1;33m)\u001b[0m\u001b[1;33m\u001b[0m\u001b[1;33m\u001b[0m\u001b[0m\n",
      "\u001b[1;31mKeyboardInterrupt\u001b[0m: "
     ]
    }
   ],
   "source": [
    "while True:\n",
    "    driver.execute_script(\"window.scrollTo(0,document.body.scrollHeight)\")\n",
    "    nextbutton=driver.find_element_by_id('Button1')\n",
    "    nextbutton.click()\n",
    "    time.sleep(10)\n",
    "    soup=bs4.BeautifulSoup(driver.page_source)\n",
    "    time.sleep(2)\n",
    "    table=soup.find('table',id='T1')\n",
    "    chennaitext=chennaitext+table.getText()\n",
    "print('DONE')\n",
    "\n",
    "\n"
   ]
  },
  {
   "cell_type": "code",
   "execution_count": 3,
   "metadata": {},
   "outputs": [],
   "source": [
    "import bs4\n",
    "time.sleep(1)\n",
    "soup=bs4.BeautifulSoup(driver.page_source)"
   ]
  },
  {
   "cell_type": "code",
   "execution_count": 4,
   "metadata": {},
   "outputs": [
    {
     "output_type": "execute_result",
     "data": {
      "text/plain": "bs4.BeautifulSoup"
     },
     "metadata": {},
     "execution_count": 4
    }
   ],
   "source": [
    "type(soup)"
   ]
  },
  {
   "cell_type": "code",
   "execution_count": 5,
   "metadata": {
    "tags": []
   },
   "outputs": [
    {
     "output_type": "stream",
     "name": "stdout",
     "text": "2\n"
    },
    {
     "output_type": "execute_result",
     "data": {
      "text/plain": "bs4.element.Tag"
     },
     "metadata": {},
     "execution_count": 5
    }
   ],
   "source": [
    "table=soup.find('table',id='T1')\n",
    "print(len(table))\n",
    "type(table)"
   ]
  },
  {
   "cell_type": "code",
   "execution_count": 6,
   "metadata": {},
   "outputs": [
    {
     "output_type": "execute_result",
     "data": {
      "text/plain": "'\\n\\n\\n\\n\\nSNo\\nAffNo,School & Head Name\\n\\t\\t\\t\\t\\t\\t\\t\\t\\t\\t\\t\\t\\t\\t\\t\\t\\t\\nAddress,Phone & Email\\n\\n\\n\\n\\n1\\n\\n\\n\\nAffiliation No.1931043\\n\\n\\nName:\\nA A PUBLIC SCHOOL\\n\\n\\nHead/Principal Name:MRS. S.GNANA JOTHI\\n\\n\\nStatus of the School:Secondary School\\n\\n\\nAffiliated up to: 31/03/2022 \\n\\n\\n\\n\\n\\n\\nAddress:\\n\\t\\t\\t\\t\\t\\t\\t\\t\\t\\t\\t\\t\\t\\t\\t\\t\\t\\t\\t\\t\\t17/8, ANDIAPPAN GRAMANI STREET, ROYAPURAM, CHENNAI\\n\\t\\t\\t\\t\\t\\t\\t\\t\\t\\t\\t\\t\\t\\t\\t\\t\\t\\t\\t\\t\\t,600013\\n\\n\\nPhone No:\\n\\t\\t\\t\\t\\t\\t\\t\\t\\t\\t\\t\\t\\t\\t\\t\\t\\t\\t\\t\\t\\t\\n\\t\\t\\t\\t\\t\\t\\t\\t\\t\\t\\t\\t\\t\\t\\t\\t\\t\\t\\t\\t\\t,04448595902\\n\\n\\n\\nEmail:\\n\\t\\t\\t\\t\\t\\t\\t\\t\\t\\t\\t\\t\\t\\t\\t\\t\\t\\t\\t\\t\\taapublicschool@gmail.com\\n                                                                                     Website:\\n\\n\\n\\n\\n\\n\\n\\n\\n2\\n\\n\\n\\nAffiliation No.1930134\\n\\n\\nName:\\nA J C ENGLISH SCHOOL\\n\\n\\nHead/Principal Name:ANANDHAVALLI K\\n\\n\\nStatus of the School:Secondary School\\n\\n\\nAffiliated up to: 31/03/2022 \\n\\n\\n\\n\\n\\n\\nAddress:\\n\\t\\t\\t\\t\\t\\t\\t\\t\\t\\t\\t\\t\\t\\t\\t\\t\\t\\t\\t\\t\\tLAL BAHADUR SHASTRI ROAD KUMBAKONAM TAMIL NADU\\n\\t\\t\\t\\t\\t\\t\\t\\t\\t\\t\\t\\t\\t\\t\\t\\t\\t\\t\\t\\t\\t,612001\\n\\n\\nPhone No:\\n\\t\\t\\t\\t\\t\\t\\t\\t\\t\\t\\t\\t\\t\\t\\t\\t\\t\\t\\t\\t\\t0435\\n\\t\\t\\t\\t\\t\\t\\t\\t\\t\\t\\t\\t\\t\\t\\t\\t\\t\\t\\t\\t\\t,2420730\\n\\n\\n\\nEmail:\\n\\t\\t\\t\\t\\t\\t\\t\\t\\t\\t\\t\\t\\t\\t\\t\\t\\t\\t\\t\\t\\tanandhiphysics@gmail.com\\n                                                                                    Website:\\n\\n\\n\\n\\n\\n\\n\\n\\n3\\n\\n\\n\\nAffiliation No.130340 \\n\\n\\nName:\\nA K R G TECHNO SCHOOL\\n\\n\\nHead/Principal Name:GUTTA PADMAJA\\n\\n\\nStatus of the School:Secondary School\\n\\n\\nAffiliated up to: 31/03/2022 \\n\\n\\n\\n\\n\\n\\nAddress:\\n\\t\\t\\t\\t\\t\\t\\t\\t\\t\\t\\t\\t\\t\\t\\t\\t\\t\\t\\t\\t\\tNALLAJERLA\\n\\t\\t\\t\\t\\t\\t\\t\\t\\t\\t\\t\\t\\t\\t\\t\\t\\t\\t\\t\\t\\t,534112\\n\\n\\nPhone No:\\n\\t\\t\\t\\t\\t\\t\\t\\t\\t\\t\\t\\t\\t\\t\\t\\t\\t\\t\\t\\t\\t818\\n\\t\\t\\t\\t\\t\\t\\t\\t\\t\\t\\t\\t\\t\\t\\t\\t\\t\\t\\t\\t\\t,277993\\n\\n\\n\\nEmail:\\n\\t\\t\\t\\t\\t\\t\\t\\t\\t\\t\\t\\t\\t\\t\\t\\t\\t\\t\\t\\t\\takrgschool@gmail.com\\n                                                                                     Website:\\n\\n\\n\\n\\n\\n\\n\\n\\n4\\n\\n\\n\\nAffiliation No.1930516\\n\\n\\nName:\\nA M PUBLIC SCHOOL\\n\\n\\nHead/Principal Name:MRS. THAMAYANTHI S\\n\\n\\nStatus of the School:Senior Secondary\\n\\n\\nAffiliated up to: 31/03/2022 \\n\\n\\n\\n\\n\\n\\nAddress:\\n\\t\\t\\t\\t\\t\\t\\t\\t\\t\\t\\t\\t\\t\\t\\t\\t\\t\\t\\t\\t\\tNADUPATTI\\nKADAYAMPATTI(TK)\\nSALEM DISTRICT\\n\\t\\t\\t\\t\\t\\t\\t\\t\\t\\t\\t\\t\\t\\t\\t\\t\\t\\t\\t\\t\\t,636351\\n\\n\\nPhone No:\\n\\t\\t\\t\\t\\t\\t\\t\\t\\t\\t\\t\\t\\t\\t\\t\\t\\t\\t\\t\\t\\t4290\\n\\t\\t\\t\\t\\t\\t\\t\\t\\t\\t\\t\\t\\t\\t\\t\\t\\t\\t\\t\\t\\t,04290243578\\n\\n\\n\\nEmail:\\n\\t\\t\\t\\t\\t\\t\\t\\t\\t\\t\\t\\t\\t\\t\\t\\t\\t\\t\\t\\t\\tampublicschool12@gmail.com\\n                                                                                    Website:\\n\\t\\t\\t\\t\\t\\t\\t\\t\\t\\t\\t\\t\\t\\t\\t\\t\\t\\t\\t\\t\\thttp://www.ampublicschool.in\\n\\t\\t\\t\\t\\t\\t\\t\\t\\t\\t\\t\\t\\t\\t\\t\\t\\t\\t\\t\\t\\n\\n\\n\\n\\n\\n\\n\\n5\\n\\n\\n\\nAffiliation No.1930194\\n\\n\\nName:\\nA++ NATIONAL SCHOOL\\n\\n\\nHead/Principal Name:MRS T GOMATHI SINGH\\n\\n\\nStatus of the School:Secondary School\\n\\n\\nAffiliated up to: 31/03/2008 \\n\\n\\n\\n\\n\\n\\nAddress:\\n\\t\\t\\t\\t\\t\\t\\t\\t\\t\\t\\t\\t\\t\\t\\t\\t\\t\\t\\t\\t\\tARIVOLI NAGAR, THIRUNALVELI ROAD THIRUCHENDUR, DISTT THOOTHUKUDI TAMIL NADU\\n\\t\\t\\t\\t\\t\\t\\t\\t\\t\\t\\t\\t\\t\\t\\t\\t\\t\\t\\t\\t\\t,628215\\n\\n\\nPhone No:\\n\\t\\t\\t\\t\\t\\t\\t\\t\\t\\t\\t\\t\\t\\t\\t\\t\\t\\t\\t\\t\\t04639\\n\\t\\t\\t\\t\\t\\t\\t\\t\\t\\t\\t\\t\\t\\t\\t\\t\\t\\t\\t\\t\\t,223344\\n\\n\\n\\nEmail:\\nWebsite:\\n\\n\\n\\n\\n\\n\\n\\n\\n6\\n\\n\\n\\nAffiliation No.830315 \\n\\n\\nName:\\nA.C. SHETTY MEMORIAL PRIMARY SCHOOL\\n\\n\\nHead/Principal Name:B. Mahabaleshwara Udupa\\n\\n\\nStatus of the School:Secondary School\\n\\n\\nAffiliated up to: 31/03/2019 \\n\\n\\n\\n\\n\\n\\nAddress:\\n\\t\\t\\t\\t\\t\\t\\t\\t\\t\\t\\t\\t\\t\\t\\t\\t\\t\\t\\t\\t\\tARDI ALBADY, KUNDAPURA TALUK, UDUPI DISTRICT KARNATAKA\\n\\t\\t\\t\\t\\t\\t\\t\\t\\t\\t\\t\\t\\t\\t\\t\\t\\t\\t\\t\\t\\t,576212\\n\\n\\nPhone No:\\n\\t\\t\\t\\t\\t\\t\\t\\t\\t\\t\\t\\t\\t\\t\\t\\t\\t\\t\\t\\t\\t08284\\n\\t\\t\\t\\t\\t\\t\\t\\t\\t\\t\\t\\t\\t\\t\\t\\t\\t\\t\\t\\t\\t,08259-285269, 08259-285369\\n\\n\\n\\nEmail:\\n\\t\\t\\t\\t\\t\\t\\t\\t\\t\\t\\t\\t\\t\\t\\t\\t\\t\\t\\t\\t\\tnkmahajanca@yahoo.co.in\\n                                                                                    Website:\\n\\n\\n\\n\\n\\n\\n\\n\\n7\\n\\n\\n\\nAffiliation No.1930235\\n\\n\\nName:\\nA.K.T. MEMORIAL VIDYA SAAKET SCHOOL\\n\\n\\nHead/Principal Name:S USHA KUMARI\\n\\n\\nStatus of the School:Secondary School\\n\\n\\nAffiliated up to: 31/03/2022 \\n\\n\\n\\n\\n\\n\\nAddress:\\n\\t\\t\\t\\t\\t\\t\\t\\t\\t\\t\\t\\t\\t\\t\\t\\t\\t\\t\\t\\t\\tNEELAMANGALAM VILLAGE KALLAKURICHI - POST, VILLUPURAM DISTT., TAMILNADU\\n\\t\\t\\t\\t\\t\\t\\t\\t\\t\\t\\t\\t\\t\\t\\t\\t\\t\\t\\t\\t\\t,606202\\n\\n\\nPhone No:\\n\\t\\t\\t\\t\\t\\t\\t\\t\\t\\t\\t\\t\\t\\t\\t\\t\\t\\t\\t\\t\\t4151\\n\\t\\t\\t\\t\\t\\t\\t\\t\\t\\t\\t\\t\\t\\t\\t\\t\\t\\t\\t\\t\\t,226655\\n\\n\\n\\nEmail:\\n\\t\\t\\t\\t\\t\\t\\t\\t\\t\\t\\t\\t\\t\\t\\t\\t\\t\\t\\t\\t\\tprincipal.aktcbse@gmail.com\\n                                                                                     Website:\\n\\n\\n\\n\\n\\n\\n\\n\\n8\\n\\n\\n\\nAffiliation No.1930354\\n\\n\\nName:\\nA.R.J.  PUBLIC SCHOOL\\n\\n\\nHead/Principal Name:KAVITHA S\\n\\n\\nStatus of the School:Senior Secondary\\n\\n\\nAffiliated up to: 31/03/2025 \\n\\n\\n\\n\\n\\n\\nAddress:\\n\\t\\t\\t\\t\\t\\t\\t\\t\\t\\t\\t\\t\\t\\t\\t\\t\\t\\t\\t\\t\\tTHIRUMANKOTTAI MAIN ROAD, EDAYARNATHAM, MANNARGUDI -614001\\n\\t\\t\\t\\t\\t\\t\\t\\t\\t\\t\\t\\t\\t\\t\\t\\t\\t\\t\\t\\t\\t,614001\\n\\n\\nPhone No:\\n\\t\\t\\t\\t\\t\\t\\t\\t\\t\\t\\t\\t\\t\\t\\t\\t\\t\\t\\t\\t\\t4367\\n\\t\\t\\t\\t\\t\\t\\t\\t\\t\\t\\t\\t\\t\\t\\t\\t\\t\\t\\t\\t\\t,223333\\n\\n\\n\\nEmail:\\n\\t\\t\\t\\t\\t\\t\\t\\t\\t\\t\\t\\t\\t\\t\\t\\t\\t\\t\\t\\t\\tarjps@arj.edu.in\\n                                                                                    Website:\\n\\t\\t\\t\\t\\t\\t\\t\\t\\t\\t\\t\\t\\t\\t\\t\\t\\t\\t\\t\\t\\thttp://www.arj.edu.in\\n\\t\\t\\t\\t\\t\\t\\t\\t\\t\\t\\t\\t\\t\\t\\t\\t\\t\\t\\t\\t\\n\\n\\n\\n\\n\\n\\n\\n9\\n\\n\\n\\nAffiliation No.1930784\\n\\n\\nName:\\nAAA INTERNATIONAL SCHOOL\\n\\n\\nHead/Principal Name:MRS. A V BHUVANESWARI\\n\\n\\nStatus of the School:Senior Secondary\\n\\n\\nAffiliated up to: 31/03/2023 \\n\\n\\n\\n\\n\\n\\nAddress:\\n\\t\\t\\t\\t\\t\\t\\t\\t\\t\\t\\t\\t\\t\\t\\t\\t\\t\\t\\t\\t\\t828, A, S.N. PURAM ROAD, THIRUTHANGAL, SIVAKASI\\n\\t\\t\\t\\t\\t\\t\\t\\t\\t\\t\\t\\t\\t\\t\\t\\t\\t\\t\\t\\t\\t,626130\\n\\n\\nPhone No:\\n\\t\\t\\t\\t\\t\\t\\t\\t\\t\\t\\t\\t\\t\\t\\t\\t\\t\\t\\t\\t\\t0456\\n\\t\\t\\t\\t\\t\\t\\t\\t\\t\\t\\t\\t\\t\\t\\t\\t\\t\\t\\t\\t\\t,2228885\\n\\n\\n\\nEmail:\\n\\t\\t\\t\\t\\t\\t\\t\\t\\t\\t\\t\\t\\t\\t\\t\\t\\t\\t\\t\\t\\tprincipalaaaittl@gmail.com\\n                                                                                     Website:\\n\\t\\t\\t\\t\\t\\t\\t\\t\\t\\t\\t\\t\\t\\t\\t\\t\\t\\t\\t\\t\\thttp://www.aaainternationalschool.com/\\n\\t\\t\\t\\t\\t\\t\\t\\t\\t\\t\\t\\t\\t\\t\\t\\t\\t\\t\\t\\t\\n\\n\\n\\n\\n\\n\\n\\n10\\n\\n\\n\\nAffiliation No.2930008\\n\\n\\nName:\\nAATHMALAYAA MIDDLE SCHOOL\\n\\n\\nHead/Principal Name:MRS. LAYAVARJITHA S\\n\\n\\nStatus of the School:Senior Secondary\\n\\n\\nAffiliated up to: 31/03/2024 \\n\\n\\n\\n\\n\\n\\nAddress:\\n\\t\\t\\t\\t\\t\\t\\t\\t\\t\\t\\t\\t\\t\\t\\t\\t\\t\\t\\t\\t\\tAATHMALAYAA NAGAR, SCHOOL ROAD, KEEZHZKASAKUDI, KARAIKAL - 609609.\\n\\t\\t\\t\\t\\t\\t\\t\\t\\t\\t\\t\\t\\t\\t\\t\\t\\t\\t\\t\\t\\t,609609\\n\\n\\nPhone No:\\n\\t\\t\\t\\t\\t\\t\\t\\t\\t\\t\\t\\t\\t\\t\\t\\t\\t\\t\\t\\t\\t4368\\n\\t\\t\\t\\t\\t\\t\\t\\t\\t\\t\\t\\t\\t\\t\\t\\t\\t\\t\\t\\t\\t,04368292002,\\n\\n\\n\\nEmail:\\n\\t\\t\\t\\t\\t\\t\\t\\t\\t\\t\\t\\t\\t\\t\\t\\t\\t\\t\\t\\t\\tprincipal@aathmalayaa.in\\n                                                                                    Website:\\n\\t\\t\\t\\t\\t\\t\\t\\t\\t\\t\\t\\t\\t\\t\\t\\t\\t\\t\\t\\t\\thttp://www.aathmalayaa.in\\n\\t\\t\\t\\t\\t\\t\\t\\t\\t\\t\\t\\t\\t\\t\\t\\t\\t\\t\\t\\t\\n\\n\\n\\n\\n\\n\\n\\n11\\n\\n\\n\\nAffiliation No.1930238\\n\\n\\nName:\\nABACUS INTERNATIONAL MONTESSORI SCHOOL\\n\\n\\nHead/Principal Name:JOSEPHINE MARIA PREMA\\n\\n\\nStatus of the School:Senior Secondary\\n\\n\\nAffiliated up to: 31/03/2025 \\n\\n\\n\\n\\n\\n\\nAddress:\\n\\t\\t\\t\\t\\t\\t\\t\\t\\t\\t\\t\\t\\t\\t\\t\\t\\t\\t\\t\\t\\tS.F.NO 516 MUDALI PALAYAM PIRIVU, PERUNTHOZHUVU ROAD, KANGAYAM ROAD\\n\\t\\t\\t\\t\\t\\t\\t\\t\\t\\t\\t\\t\\t\\t\\t\\t\\t\\t\\t\\t\\t,641606\\n\\n\\nPhone No:\\n\\t\\t\\t\\t\\t\\t\\t\\t\\t\\t\\t\\t\\t\\t\\t\\t\\t\\t\\t\\t\\t0421\\n\\t\\t\\t\\t\\t\\t\\t\\t\\t\\t\\t\\t\\t\\t\\t\\t\\t\\t\\t\\t\\t,3212321\\n\\n\\n\\nEmail:\\n\\t\\t\\t\\t\\t\\t\\t\\t\\t\\t\\t\\t\\t\\t\\t\\t\\t\\t\\t\\t\\tprincipal@aimstirupur.com\\n                                                                                     Website:\\n\\t\\t\\t\\t\\t\\t\\t\\t\\t\\t\\t\\t\\t\\t\\t\\t\\t\\t\\t\\t\\thttp://www.aims_tirupur.edu.in\\n\\t\\t\\t\\t\\t\\t\\t\\t\\t\\t\\t\\t\\t\\t\\t\\t\\t\\t\\t\\t\\n\\n\\n\\n\\n\\n\\n\\n12\\n\\n\\n\\nAffiliation No.1930573\\n\\n\\nName:\\nABCS KENBRIDGE SCHOOL\\n\\n\\nHead/Principal Name:RAVICHANDRAN S\\n\\n\\nStatus of the School:Senior Secondary\\n\\n\\nAffiliated up to: 31/03/2025 \\n\\n\\n\\n\\n\\n\\nAddress:\\n\\t\\t\\t\\t\\t\\t\\t\\t\\t\\t\\t\\t\\t\\t\\t\\t\\t\\t\\t\\t\\tTRICHY RAMESWARAM MAIN ROAD,NARANAMANGALAM POST,NEAR DEVIPATTINAM, RAMANATHAPURAM DIST\\n\\t\\t\\t\\t\\t\\t\\t\\t\\t\\t\\t\\t\\t\\t\\t\\t\\t\\t\\t\\t\\t,623537\\n\\n\\nPhone No:\\n\\t\\t\\t\\t\\t\\t\\t\\t\\t\\t\\t\\t\\t\\t\\t\\t\\t\\t\\t\\t\\t4567\\n\\t\\t\\t\\t\\t\\t\\t\\t\\t\\t\\t\\t\\t\\t\\t\\t\\t\\t\\t\\t\\t,259364\\n\\n\\n\\nEmail:\\n\\t\\t\\t\\t\\t\\t\\t\\t\\t\\t\\t\\t\\t\\t\\t\\t\\t\\t\\t\\t\\tkenbridgeprincipal@gmail.com\\n                                                                                    Website:\\n\\n\\n\\n\\n\\n\\n\\n\\n13\\n\\n\\n\\nAffiliation No.3630083\\n\\n\\nName:\\nABHAYA SCHOOL\\n\\n\\nHead/Principal Name:L.SHAILAJA\\n\\n\\nStatus of the School:Senior Secondary\\n\\n\\nAffiliated up to: 31/03/2022 \\n\\n\\n\\n\\n\\n\\nAddress:\\n\\t\\t\\t\\t\\t\\t\\t\\t\\t\\t\\t\\t\\t\\t\\t\\t\\t\\t\\t\\t\\tGUNDLA POCHAMPALLY VILLAGE, NEAR APPAREL TEXTILE PARK, MEDCHAL MANDAL DIST, RANGAREDDY,\\n\\t\\t\\t\\t\\t\\t\\t\\t\\t\\t\\t\\t\\t\\t\\t\\t\\t\\t\\t\\t\\t,500014\\n\\n\\nPhone No:\\n\\t\\t\\t\\t\\t\\t\\t\\t\\t\\t\\t\\t\\t\\t\\t\\t\\t\\t\\t\\t\\t01734\\n\\t\\t\\t\\t\\t\\t\\t\\t\\t\\t\\t\\t\\t\\t\\t\\t\\t\\t\\t\\t\\t,08008222356\\n\\n\\n\\nEmail:\\n\\t\\t\\t\\t\\t\\t\\t\\t\\t\\t\\t\\t\\t\\t\\t\\t\\t\\t\\t\\t\\tabhaya_school@yahoo.co.in\\n                                                                                     Website:\\n\\t\\t\\t\\t\\t\\t\\t\\t\\t\\t\\t\\t\\t\\t\\t\\t\\t\\t\\t\\t\\thttp://www.abhayaschool.in\\n\\t\\t\\t\\t\\t\\t\\t\\t\\t\\t\\t\\t\\t\\t\\t\\t\\t\\t\\t\\t\\n\\n\\n\\n\\n\\n\\n\\n14\\n\\n\\n\\nAffiliation No.130301 \\n\\n\\nName:\\nABHYAS THE GLOBAL SCHOOL\\n\\n\\nHead/Principal Name:Mrs.I.Naga Mani\\n\\n\\nStatus of the School:Secondary School\\n\\n\\nAffiliated up to: 31/03/2026 \\n\\n\\n\\n\\n\\n\\nAddress:\\n\\t\\t\\t\\t\\t\\t\\t\\t\\t\\t\\t\\t\\t\\t\\t\\t\\t\\t\\t\\t\\t4-155,JP ROAD PEDAMIRAM VILLAGE, KALLA MANDAL WEST GODAVARI ANDHRA PRADESH\\n\\t\\t\\t\\t\\t\\t\\t\\t\\t\\t\\t\\t\\t\\t\\t\\t\\t\\t\\t\\t\\t,534204\\n\\n\\nPhone No:\\n\\t\\t\\t\\t\\t\\t\\t\\t\\t\\t\\t\\t\\t\\t\\t\\t\\t\\t\\t\\t\\t8816\\n\\t\\t\\t\\t\\t\\t\\t\\t\\t\\t\\t\\t\\t\\t\\t\\t\\t\\t\\t\\t\\t,223445\\n\\n\\n\\nEmail:\\n\\t\\t\\t\\t\\t\\t\\t\\t\\t\\t\\t\\t\\t\\t\\t\\t\\t\\t\\t\\t\\tsyjdora@gmail.com\\n                                                                                    Website:\\n\\t\\t\\t\\t\\t\\t\\t\\t\\t\\t\\t\\t\\t\\t\\t\\t\\t\\t\\t\\t\\thttp://www.abhyastheglobalschool.com\\n\\t\\t\\t\\t\\t\\t\\t\\t\\t\\t\\t\\t\\t\\t\\t\\t\\t\\t\\t\\t\\n\\n\\n\\n\\n\\n\\n\\n15\\n\\n\\n\\nAffiliation No.1930290\\n\\n\\nName:\\nABS VIDHYA MANDHIR\\n\\n\\nHead/Principal Name:RATHI MENON\\n\\n\\nStatus of the School:Senior Secondary\\n\\n\\nAffiliated up to: 31/03/2022 \\n\\n\\n\\n\\n\\n\\nAddress:\\n\\t\\t\\t\\t\\t\\t\\t\\t\\t\\t\\t\\t\\t\\t\\t\\t\\t\\t\\t\\t\\tTHALAKANCHERRY ROAD, IVELI AGARAM, THIRUVALLUR\\n\\t\\t\\t\\t\\t\\t\\t\\t\\t\\t\\t\\t\\t\\t\\t\\t\\t\\t\\t\\t\\t,602001\\n\\n\\nPhone No:\\n\\t\\t\\t\\t\\t\\t\\t\\t\\t\\t\\t\\t\\t\\t\\t\\t\\t\\t\\t\\t\\t0\\n\\t\\t\\t\\t\\t\\t\\t\\t\\t\\t\\t\\t\\t\\t\\t\\t\\t\\t\\t\\t\\t,9244940111\\n\\n\\n\\nEmail:\\n\\t\\t\\t\\t\\t\\t\\t\\t\\t\\t\\t\\t\\t\\t\\t\\t\\t\\t\\t\\t\\tabsvm.rathi@gmail.com\\n                                                                                     Website:\\n\\t\\t\\t\\t\\t\\t\\t\\t\\t\\t\\t\\t\\t\\t\\t\\t\\t\\t\\t\\t\\twww.absvidhyamandhir.com\\n\\t\\t\\t\\t\\t\\t\\t\\t\\t\\t\\t\\t\\t\\t\\t\\t\\t\\t\\t\\t\\n\\n\\n\\n\\n\\n\\n\\n16\\n\\n\\n\\nAffiliation No.3630234\\n\\n\\nName:\\nACADEMIC HEIGHTS PUBLIC SCHOOL\\n\\n\\nHead/Principal Name:MRS. NAJMAUNISA BEGUM\\n\\n\\nStatus of the School:Senior Secondary\\n\\n\\nAffiliated up to: 31/03/2022 \\n\\n\\n\\n\\n\\n\\nAddress:\\n\\t\\t\\t\\t\\t\\t\\t\\t\\t\\t\\t\\t\\t\\t\\t\\t\\t\\t\\t\\t\\t18-4-42/A, ALIABAD SAHMSHERGUNJ\\n\\t\\t\\t\\t\\t\\t\\t\\t\\t\\t\\t\\t\\t\\t\\t\\t\\t\\t\\t\\t\\t,500053\\n\\n\\nPhone No:\\n\\t\\t\\t\\t\\t\\t\\t\\t\\t\\t\\t\\t\\t\\t\\t\\t\\t\\t\\t\\t\\t040\\n\\t\\t\\t\\t\\t\\t\\t\\t\\t\\t\\t\\t\\t\\t\\t\\t\\t\\t\\t\\t\\t,04064546403,\\n\\n\\n\\nEmail:\\n\\t\\t\\t\\t\\t\\t\\t\\t\\t\\t\\t\\t\\t\\t\\t\\t\\t\\t\\t\\t\\tahpscharminar@yahoo.com\\n                                                                                    Website:\\n\\t\\t\\t\\t\\t\\t\\t\\t\\t\\t\\t\\t\\t\\t\\t\\t\\t\\t\\t\\t\\thttp://ahpscharminar.com/\\n\\t\\t\\t\\t\\t\\t\\t\\t\\t\\t\\t\\t\\t\\t\\t\\t\\t\\t\\t\\t\\n\\n\\n\\n\\n\\n\\n\\n17\\n\\n\\n\\nAffiliation No.3630210\\n\\n\\nName:\\nACADEMIC HEIGHTS PUBLIC SCHOOL\\n\\n\\nHead/Principal Name:SINITA YEMPATI\\n\\n\\nStatus of the School:Secondary School\\n\\n\\nAffiliated up to: 31/03/2025 \\n\\n\\n\\n\\n\\n\\nAddress:\\n\\t\\t\\t\\t\\t\\t\\t\\t\\t\\t\\t\\t\\t\\t\\t\\t\\t\\t\\t\\t\\tSURVEY NO:51, VENKAT REDDY COLONY, BOLLIGUDEM ROAD, BODUPPAL\\n\\t\\t\\t\\t\\t\\t\\t\\t\\t\\t\\t\\t\\t\\t\\t\\t\\t\\t\\t\\t\\t,500039\\n\\n\\nPhone No:\\n\\t\\t\\t\\t\\t\\t\\t\\t\\t\\t\\t\\t\\t\\t\\t\\t\\t\\t\\t\\t\\t040\\n\\t\\t\\t\\t\\t\\t\\t\\t\\t\\t\\t\\t\\t\\t\\t\\t\\t\\t\\t\\t\\t,7093903311\\n\\n\\n\\nEmail:\\n\\t\\t\\t\\t\\t\\t\\t\\t\\t\\t\\t\\t\\t\\t\\t\\t\\t\\t\\t\\t\\tahpsboduppalprincipal@gmail.com\\n                                                                                     Website:\\n\\n\\n\\n\\n\\n\\n\\n\\n18\\n\\n\\n\\nAffiliation No.3630288\\n\\n\\nName:\\nACADEMIC HEIGHTS PUBLIC SCHOOL\\n\\n\\nHead/Principal Name:MRS. J.LAKSHMI RAGHAVENDRA\\n\\n\\nStatus of the School:Secondary School\\n\\n\\nAffiliated up to: 31/03/2022 \\n\\n\\n\\n\\n\\n\\nAddress:\\n\\t\\t\\t\\t\\t\\t\\t\\t\\t\\t\\t\\t\\t\\t\\t\\t\\t\\t\\t\\t\\tACADEMIC HEIGHTS PUBLIC SCHOOL, KISTAREDDYPET VILLAGE,AMEENPUR MANDAL, SANGAREDDY DIST\\n\\t\\t\\t\\t\\t\\t\\t\\t\\t\\t\\t\\t\\t\\t\\t\\t\\t\\t\\t\\t\\t,502032\\n\\n\\nPhone No:\\n\\t\\t\\t\\t\\t\\t\\t\\t\\t\\t\\t\\t\\t\\t\\t\\t\\t\\t\\t\\t\\t\\n\\t\\t\\t\\t\\t\\t\\t\\t\\t\\t\\t\\t\\t\\t\\t\\t\\t\\t\\t\\t\\t,9618380022\\n\\n\\n\\nEmail:\\n\\t\\t\\t\\t\\t\\t\\t\\t\\t\\t\\t\\t\\t\\t\\t\\t\\t\\t\\t\\t\\tacademicheightsbeeramguda@gmail.com\\n                                                                                    Website:\\n\\n\\n\\n\\n\\n\\n\\n\\n19\\n\\n\\n\\nAffiliation No.3630321\\n\\n\\nName:\\nACADEMIC HEIGHTS PUBLIC SCHOOL\\n\\n\\nHead/Principal Name:MRS. K MADHAVI KRISHNA\\n\\n\\nStatus of the School:Secondary School\\n\\n\\nAffiliated up to: 31/03/2023 \\n\\n\\n\\n\\n\\n\\nAddress:\\n\\t\\t\\t\\t\\t\\t\\t\\t\\t\\t\\t\\t\\t\\t\\t\\t\\t\\t\\t\\t\\tSY NO 78, VENAKATARAMANA COLONY, GOKUL PLOTS, HAFEEZPET, SERILINGAMPALLY MANDAL\\n\\t\\t\\t\\t\\t\\t\\t\\t\\t\\t\\t\\t\\t\\t\\t\\t\\t\\t\\t\\t\\t,500072\\n\\n\\nPhone No:\\n\\t\\t\\t\\t\\t\\t\\t\\t\\t\\t\\t\\t\\t\\t\\t\\t\\t\\t\\t\\t\\t\\n\\t\\t\\t\\t\\t\\t\\t\\t\\t\\t\\t\\t\\t\\t\\t\\t\\t\\t\\t\\t\\t,9000103540\\n\\n\\n\\nEmail:\\n\\t\\t\\t\\t\\t\\t\\t\\t\\t\\t\\t\\t\\t\\t\\t\\t\\t\\t\\t\\t\\tacademicheightskphb@gmail.com\\n                                                                                     Website:\\n\\t\\t\\t\\t\\t\\t\\t\\t\\t\\t\\t\\t\\t\\t\\t\\t\\t\\t\\t\\t\\thttp://www.academicheightskphb.com\\n\\t\\t\\t\\t\\t\\t\\t\\t\\t\\t\\t\\t\\t\\t\\t\\t\\t\\t\\t\\t\\n\\n\\n\\n\\n\\n\\n\\n20\\n\\n\\n\\nAffiliation No.3630375\\n\\n\\nName:\\nACADEMIC HEIGHTS PUBLIC SCHOOL\\n\\n\\nHead/Principal Name:MRS. YERRA JHANSI LATHA\\n\\n\\nStatus of the School:Secondary School\\n\\n\\nAffiliated up to: 31/03/2024 \\n\\n\\n\\n\\n\\n\\nAddress:\\n\\t\\t\\t\\t\\t\\t\\t\\t\\t\\t\\t\\t\\t\\t\\t\\t\\t\\t\\t\\t\\tPLOT NO,1&2, OPP.VENKATESHWARA COLONY,INJAPUR, ABDULLAPURMET MDL, RANGA REDDY DIST\\n\\t\\t\\t\\t\\t\\t\\t\\t\\t\\t\\t\\t\\t\\t\\t\\t\\t\\t\\t\\t\\t,501510\\n\\n\\nPhone No:\\n\\t\\t\\t\\t\\t\\t\\t\\t\\t\\t\\t\\t\\t\\t\\t\\t\\t\\t\\t\\t\\t\\n\\t\\t\\t\\t\\t\\t\\t\\t\\t\\t\\t\\t\\t\\t\\t\\t\\t\\t\\t\\t\\t,9121019898\\n\\n\\n\\nEmail:\\n\\t\\t\\t\\t\\t\\t\\t\\t\\t\\t\\t\\t\\t\\t\\t\\t\\t\\t\\t\\t\\tprincipalinj@academicheightshyd.com\\n                                                                                    Website:\\n\\n\\n\\n\\n\\n\\n\\n\\n21\\n\\n\\n\\nAffiliation No.3630180\\n\\n\\nName:\\nACADEMIC HEIGHTS SCHOOL\\n\\n\\nHead/Principal Name:RUPA REDDY\\n\\n\\nStatus of the School:Secondary School\\n\\n\\nAffiliated up to: 31/03/2024 \\n\\n\\n\\n\\n\\n\\nAddress:\\n\\t\\t\\t\\t\\t\\t\\t\\t\\t\\t\\t\\t\\t\\t\\t\\t\\t\\t\\t\\t\\tBACHPAN CAMPUS JAGADEEVPUR ROAD HANMAPUR  BHONGIR\\n\\t\\t\\t\\t\\t\\t\\t\\t\\t\\t\\t\\t\\t\\t\\t\\t\\t\\t\\t\\t\\t,508116\\n\\n\\nPhone No:\\n\\t\\t\\t\\t\\t\\t\\t\\t\\t\\t\\t\\t\\t\\t\\t\\t\\t\\t\\t\\t\\t8685\\n\\t\\t\\t\\t\\t\\t\\t\\t\\t\\t\\t\\t\\t\\t\\t\\t\\t\\t\\t\\t\\t,243693\\n\\n\\n\\nEmail:\\n\\t\\t\\t\\t\\t\\t\\t\\t\\t\\t\\t\\t\\t\\t\\t\\t\\t\\t\\t\\t\\tahps.principal@gmail.com\\n                                                                                     Website:\\n\\n\\n\\n\\n\\n\\n\\n\\n22\\n\\n\\n\\nAffiliation No.130371 \\n\\n\\nName:\\nACCORD SCHOOL\\n\\n\\nHead/Principal Name:M Liaqet Ali Khan\\n\\n\\nStatus of the School:Senior Secondary\\n\\n\\nAffiliated up to: 31/03/2023 \\n\\n\\n\\n\\n\\n\\nAddress:\\n\\t\\t\\t\\t\\t\\t\\t\\t\\t\\t\\t\\t\\t\\t\\t\\t\\t\\t\\t\\t\\tRC ROAD, CHIGURUWADA NORTH, TIRUPATI CHITTOOR, ANDHRA PRADESH\\n\\t\\t\\t\\t\\t\\t\\t\\t\\t\\t\\t\\t\\t\\t\\t\\t\\t\\t\\t\\t\\t,517507\\n\\n\\nPhone No:\\n\\t\\t\\t\\t\\t\\t\\t\\t\\t\\t\\t\\t\\t\\t\\t\\t\\t\\t\\t\\t\\t0877\\n\\t\\t\\t\\t\\t\\t\\t\\t\\t\\t\\t\\t\\t\\t\\t\\t\\t\\t\\t\\t\\t,6457775\\n\\n\\n\\nEmail:\\n\\t\\t\\t\\t\\t\\t\\t\\t\\t\\t\\t\\t\\t\\t\\t\\t\\t\\t\\t\\t\\tinfo@theaccordschool.com\\n                                                                                    Website:\\n\\t\\t\\t\\t\\t\\t\\t\\t\\t\\t\\t\\t\\t\\t\\t\\t\\t\\t\\t\\t\\thttp://www.theaccordschool.com\\n\\t\\t\\t\\t\\t\\t\\t\\t\\t\\t\\t\\t\\t\\t\\t\\t\\t\\t\\t\\t\\n\\n\\n\\n\\n\\n\\n\\n23\\n\\n\\n\\nAffiliation No.2930005\\n\\n\\nName:\\nACHARIYA BALA SIKSHA MANDIR\\n\\n\\nHead/Principal Name:DR R ANITA SANTHAKUMAR\\n\\n\\nStatus of the School:Senior Secondary\\n\\n\\nAffiliated up to: 31/03/2026 \\n\\n\\n\\n\\n\\n\\nAddress:\\n\\t\\t\\t\\t\\t\\t\\t\\t\\t\\t\\t\\t\\t\\t\\t\\t\\t\\t\\t\\t\\tACHARIYA COMMUNE, FISHING HARBOUR ROAD, THENGAITHITTU,PONDICHERRY\\n\\t\\t\\t\\t\\t\\t\\t\\t\\t\\t\\t\\t\\t\\t\\t\\t\\t\\t\\t\\t\\t,605004\\n\\n\\nPhone No:\\n\\t\\t\\t\\t\\t\\t\\t\\t\\t\\t\\t\\t\\t\\t\\t\\t\\t\\t\\t\\t\\t0413\\n\\t\\t\\t\\t\\t\\t\\t\\t\\t\\t\\t\\t\\t\\t\\t\\t\\t\\t\\t\\t\\t,3293344\\n\\n\\n\\nEmail:\\n\\t\\t\\t\\t\\t\\t\\t\\t\\t\\t\\t\\t\\t\\t\\t\\t\\t\\t\\t\\t\\tabsmtt@achariya.org\\n                                                                                     Website:\\n\\t\\t\\t\\t\\t\\t\\t\\t\\t\\t\\t\\t\\t\\t\\t\\t\\t\\t\\t\\t\\thttp://www.achariya.in\\n\\t\\t\\t\\t\\t\\t\\t\\t\\t\\t\\t\\t\\t\\t\\t\\t\\t\\t\\t\\t\\n\\n\\n\\n\\n\\n\\n\\n24\\n\\n\\n\\nAffiliation No.1930428\\n\\n\\nName:\\nACHARIYA SCHOOL\\n\\n\\nHead/Principal Name:SUDALAIMUTHU\\n\\n\\nStatus of the School:Senior Secondary\\n\\n\\nAffiliated up to: 31/03/2023 \\n\\n\\n\\n\\n\\n\\nAddress:\\n\\t\\t\\t\\t\\t\\t\\t\\t\\t\\t\\t\\t\\t\\t\\t\\t\\t\\t\\t\\t\\t3/185-1,MUTHUMARIAMMAN KOVIL ROAD\\n\\t\\t\\t\\t\\t\\t\\t\\t\\t\\t\\t\\t\\t\\t\\t\\t\\t\\t\\t\\t\\t,628721\\n\\n\\nPhone No:\\n\\t\\t\\t\\t\\t\\t\\t\\t\\t\\t\\t\\t\\t\\t\\t\\t\\t\\t\\t\\t\\t4632\\n\\t\\t\\t\\t\\t\\t\\t\\t\\t\\t\\t\\t\\t\\t\\t\\t\\t\\t\\t\\t\\t,248689\\n\\n\\n\\nEmail:\\n\\t\\t\\t\\t\\t\\t\\t\\t\\t\\t\\t\\t\\t\\t\\t\\t\\t\\t\\t\\t\\tsudalaimuthu1981@gmail.com\\n                                                                                    Website:\\n\\n\\n\\n\\n\\n\\n\\n\\n25\\n\\n\\n\\nAffiliation No.2930007\\n\\n\\nName:\\nACHARIYA SIKSHA MANDIR\\n\\n\\nHead/Principal Name:MR.MOHAMED FAROOK U.\\n\\n\\nStatus of the School:Senior Secondary\\n\\n\\nAffiliated up to: 31/03/2024 \\n\\n\\n\\n\\n\\n\\nAddress:\\n\\t\\t\\t\\t\\t\\t\\t\\t\\t\\t\\t\\t\\t\\t\\t\\t\\t\\t\\t\\t\\tACHARIYAPURAM\\nURUVAIYARU\\n\\n\\t\\t\\t\\t\\t\\t\\t\\t\\t\\t\\t\\t\\t\\t\\t\\t\\t\\t\\t\\t\\t,605110\\n\\n\\nPhone No:\\n\\t\\t\\t\\t\\t\\t\\t\\t\\t\\t\\t\\t\\t\\t\\t\\t\\t\\t\\t\\t\\t0413\\n\\t\\t\\t\\t\\t\\t\\t\\t\\t\\t\\t\\t\\t\\t\\t\\t\\t\\t\\t\\t\\t,04132660881\\n\\n\\n\\nEmail:\\n\\t\\t\\t\\t\\t\\t\\t\\t\\t\\t\\t\\t\\t\\t\\t\\t\\t\\t\\t\\t\\tasmhead@achariya.org\\n                                                                                     Website:\\n\\t\\t\\t\\t\\t\\t\\t\\t\\t\\t\\t\\t\\t\\t\\t\\t\\t\\t\\t\\t\\thttp://www.achariya.in/\\n\\t\\t\\t\\t\\t\\t\\t\\t\\t\\t\\t\\t\\t\\t\\t\\t\\t\\t\\t\\t\\n\\n\\n\\n\\n\\n\\n\\n'"
     },
     "metadata": {},
     "execution_count": 6
    }
   ],
   "source": [
    "table.getText()"
   ]
  },
  {
   "cell_type": "code",
   "execution_count": 32,
   "metadata": {},
   "outputs": [],
   "source": [
    "import re"
   ]
  },
  {
   "cell_type": "code",
   "execution_count": 33,
   "metadata": {},
   "outputs": [],
   "source": [
    "CHENNAItext=re.sub('[\\\\n+\\\\t+]',' ',chennaitext)"
   ]
  },
  {
   "cell_type": "code",
   "execution_count": 35,
   "metadata": {},
   "outputs": [
    {
     "output_type": "execute_result",
     "data": {
      "text/plain": [
       "4961"
      ]
     },
     "metadata": {},
     "execution_count": 35
    }
   ],
   "source": [
    "chennaischool=CHENNAItext.split('Name:')\n",
    "len(chennaischool)"
   ]
  },
  {
   "cell_type": "code",
   "execution_count": 36,
   "metadata": {},
   "outputs": [
    {
     "output_type": "stream",
     "name": "stdout",
     "text": [
      "['A A PUBLIC SCHOOL', 'A J C ENGLISH SCHOOL', 'A K R G TECHNO SCHOOL', 'A M PUBLIC SCHOOL', 'A   NATIONAL SCHOOL', 'A.C. SHETTY MEMORIAL PRIMARY SCHOOL', 'A.K.T. MEMORIAL VIDYA SAAKET SCHOOL', 'A.R.J.  PUBLIC SCHOOL', 'AAA INTERNATIONAL SCHOOL', 'AATHMALAYAA MIDDLE SCHOOL', 'ABACUS INTERNATIONAL MONTESSORI SCHOOL', 'ABCS KENBRIDGE SCHOOL', 'ABHAYA SCHOOL', 'ABHYAS THE GLOBAL SCHOOL', 'ABS VIDHYA MANDHIR', 'ACADEMIC HEIGHTS PUBLIC SCHOOL', 'ACADEMIC HEIGHTS PUBLIC SCHOOL', 'ACADEMIC HEIGHTS PUBLIC SCHOOL', 'ACADEMIC HEIGHTS PUBLIC SCHOOL', 'ACADEMIC HEIGHTS PUBLIC SCHOOL', 'ACADEMIC HEIGHTS SCHOOL', 'ACCORD SCHOOL', 'ACHARIYA BALA SIKSHA MANDIR', 'ACHARIYA SCHOOL', 'ACHARIYA SIKSHA MANDIR', 'ACHARIYA SIKSHA MANDIR', 'ACHARYA MAHASHRAMAN TERAPANTH JAIN PUBLIC SCHOOL', 'ACHYUTA ACADEMY SCHOOL', 'ADARSH CONCEPT SCHOOL', 'ADARSH PUBLIC SCHOOL', 'ADARSH VIDYA KENDRA', 'ADHARSH VIDHYALAYA PUBLIC SCHOOL', 'ADHARSH VIDHYALAYA PUBLIC SCHOOL', 'ADHIYAMAN PUBLIC SCHOOL', 'ADHYAPANA SCHOOL', 'ADITHYA GLOBAL SCHOOL', 'ADITHYA INTERNATIONAL SCHOOL', 'ADITYA BIDYASHRAM', 'ADITYA VIDYASHRAM GURUGRAM CAMPUS E TECHNO SCHOOL', 'ADVAITH INTERNATIONAL ACADEMY', 'ADWAITH THOUGHT ACADEMY', 'AGARAM PUBLIC SCHOOL', 'AGARWAL VIDYALAYA AND JUNIOR COLLEGE', 'AGASTYA ACADEMY', 'AGR  GLOBAL SCHOOL', 'AGURCHAND MANMULL JAIN SCHOOL', 'AIR FORCE SCHOOL', 'AIR FORCE SCHOOL', 'AIR FORCE SCHOOL', 'AJ HIGHER SECONDARY SCHOOL', 'ACHARIYA SIKSHA MANDIR', 'ACHARYA MAHASHRAMAN TERAPANTH JAIN PUBLIC SCHOOL', 'ACHYUTA ACADEMY SCHOOL', 'ADARSH CONCEPT SCHOOL', 'ADARSH PUBLIC SCHOOL', 'ADARSH VIDYA KENDRA', 'ADHARSH VIDHYALAYA PUBLIC SCHOOL', 'ADHARSH VIDHYALAYA PUBLIC SCHOOL', 'ADHIYAMAN PUBLIC SCHOOL', 'ADHYAPANA SCHOOL', 'ADITHYA GLOBAL SCHOOL', 'ADITHYA INTERNATIONAL SCHOOL', 'ADITYA BIDYASHRAM', 'ADITYA VIDYASHRAM GURUGRAM CAMPUS E TECHNO SCHOOL', 'ADVAITH INTERNATIONAL ACADEMY', 'ADWAITH THOUGHT ACADEMY', 'AGARAM PUBLIC SCHOOL', 'AGARWAL VIDYALAYA AND JUNIOR COLLEGE', 'AGASTYA ACADEMY', 'AGR  GLOBAL SCHOOL', 'AGURCHAND MANMULL JAIN SCHOOL', 'AIR FORCE SCHOOL', 'AIR FORCE SCHOOL', 'AIR FORCE SCHOOL', 'AJ HIGHER SECONDARY SCHOOL', 'AJC PUBLIC SCHOOL', 'AKARA WORLD SCHOOLS - CBSE', 'AKCHARA BALA BHAVAN', 'AKG PUBLIC SCHOOL', 'AKR ACADEMY SCHOOL', 'AKRG HIGH SCHOOL', 'AKSARA VIDHYAMANDIR', 'AKSHARA INTERNATIONAL SCHOOL', 'AKSHARA PUBLIC SCHOOL', 'AKSHARA SCHOOL', 'AKSHARA THE SCHOOL', 'AKSHARA THE SCHOOL', 'AKSHARA VAAGDEVI INTERNATIONAL SCHOOL', 'AKSHARA VIDYA MANDIR', 'AKSHARA VIDYAASHRAM', 'AKSHARA VIDYALAYA', 'AKSHARAM INTERNATIONAL SCHOOL', 'AKSHAYA ACADEMY CBSE SCHOOL', 'AKSHAYA ACADEMY CBSE SCHOOL', 'AKV PUBLIC SCHOOL', 'AL - FALAH SCHOOL', 'AL - HIRA MODEL SCHOOL', 'AL-MADINAH PUBLIC SCHOOL', 'AL-MUNAWARA ISLAMIC SCHOOL CBSE', 'AL-QALAM INTERNATIONAL SCHOOL', 'ALAGAR PUBLIC SCHOOL', 'ALAGU JOTHI ACADEMY', 'ALCHEMY PUBLIC SCHOOL', 'ALL INDIA MODERN SCHOOL (AIMS)', 'ALLURI SITARAMARAJU PUB.SCHOOL', 'ALMAS HIGH SCHOOL', 'ALMIGHTY VIDHYALAYA PUBLIC SCHOOL', 'ALPHA ELITE HIGH', 'ALPHA INTERNATIONAL SCHOOL', 'ALPHA SCHOOL', 'ALPHA SCHOOL', 'ALPHA WISDOM VIDYASHRAM', 'ALPHORES HIGH SCHOOL', 'ALTUS HIGH SCHOOL', 'ALWIN INTERNATIONAL PUBLIC SCHOOL', 'ALWIN MEMORIAL PUBLIC SCHOOL', 'AMALORPAVAM LOURDS ACADEMY', 'AMARA RAJA VIDYALAYAM', 'AMARARAJA VIDYALAYAM', 'AMBARI VIDYA MANDIR', 'AMBARI VIDYA MANDIR', 'AMBERWOOD INTERNATIONAL SCHOOL', 'AMBITUS WORLD SCHOOL', 'AMBITUS WORLD SCHOOL', 'AMEYA WORLD SCHOOL', 'AMRITA VIDYALAYAM', 'AMRITA VIDYALAYAM', 'AMRITA VIDYALAYAM', 'AMRITA VIDYALAYAM,', 'AMRITA VIDYALAYAM,', 'AMRITA VIDYALAYAM,', 'AMRITA VIDYALAYAM, ETTIMADAI', 'AMRITA VIDYALAYAM, KANYAKUMARI', 'AMRITA VIDYALAYAM, PONDICHERRY', 'AMRITA VIDYALAYAM, RAMANATHAPURAM', 'AMRITA VIDYALAYAM, RAMESWARAM', 'AMRITA VIDYALAYAM, THOOTHUKUDI', 'AMRITA VIDYALAYAM, TIRUPUR', 'ANAN INTERNATIONAL SCHOOL', 'ANGAPPA EDU. TRUST SR SEC SCHOOL', 'ANNA MEMORIAL  HIGH SCHOOL', 'ANNAI CHELLAMMAL CBSESCHOOL', 'ANNAI MEENAKSHI PUBLIC SCHOOL', 'ANNAI VIOLET INTERNATIONAL SCHOOL', 'ANSARI OXFORD CENTRAL SCHOOL', 'ANTONY PUBLIC SCHOOL', 'ANUGRAGHA INTERNATIONAL SCHOOL', 'ANUGRAHA MANDHIR', 'ANUVRAT VIDHYALAYA SCHOOL', 'APEX PON VIDYASHRAM', 'APOLLO VIDYASHRAM', 'APPLE I ENGLISH MEDIUM SCHOOL', 'APPLE PERKS INTERNATIONAL SCHOOL', 'APPU ARIVAALAYEM SECONDARY SCHOOL', 'APTWEMURJC (G) KODAVALURU', 'ARB INTERNATIONAL SCHOOL', 'ARBOR INTERNATIONAL SCHOOL', 'ARISTO PUBLIC SCHOOL', 'ARKA SCHOOL', 'ARMY PUBLIC  SCHOOL', 'ARMY PUBLIC SCHOOL', 'ARMY PUBLIC SCHOOL', 'ARMY PUBLIC SCHOOL', 'ARMY PUBLIC SCHOOL, CHENNAI', 'ARMY PUBLIC SCHOOL.', 'ARR SL VIDYASHRAAM SCHOOL', 'ARRS ACADEMY', 'ARSHA VIDYA MANDIR', 'ARUDHRA INTERNATIONAL SCHOOL', 'ARULMIGU MEENAKSHI AMMAN PUBLIC SCHOOL', 'ARUMUGHAM PALANIGURU MODERN SCHOOL', 'ARYA VIDHYASSHRAM INTERNATIONAL RESIDENTIAL SCHOOL', 'ARYABHATTA HIGH SCHOOL', 'ASAN MEMORIAL SR SEC SCHOOL', 'ASHIRWADS INTERNATIONAL SCHOOL', 'ASHRAM PUBLIC SCHOOL', 'ASIAN CHRISTIAN HIGH SCHOOL', 'ASIAN INTERNATIONAL RESIDENTIAL SCHOOL', 'ATHENA GLOBAL SCHOOL', 'ATKINSON HIGH SCHOOL', 'ATKINSON HIGH SCHOOL', 'ATLANTIC INTERNATIONAL SCHOOL', 'ATOMIC ENERGY CENTRAL SCHOOL', 'ATOMIC ENERGY CENTRAL SCHOOL', 'ATOMIC ENERGY CENTRAL SCHOOL', 'ATOMIC ENERGY CENTRAL SCHOOL', 'ATOMIC ENERGY CENTRAL SCHOOL', 'ATOMIC ENERGY CENTRAL SCHOOL', 'ATOMIC ENERGY CENTRAL SCHOOL - 3', 'ATOMIC ENERGY CENTRAL SCHOOL NO-2', 'AUROBINDO INTERNATIONAL SCHOOL', 'AUROBINDO PUBLIC SCHOOL', 'AUROBINDO VIDHYALAYA SCHOOL', 'AVATAR PUBLIC SCHOOL', 'AVENUES ENGLISH MEDIUM HIGH SCHOOL', 'AVINSHREE INTERNATIONAL SCHOOL', 'AVK INTERNATIONAL RESIDENTIAL SCHOOL', 'AVN VIDA SCHOOL', 'AVP TRUST PUBLIC SCHOOL', 'AVS GLOBAL SCHOOL', 'AVVAI VIDHYASHRAM PUBLIC SCHOOL (CBSE)', 'AWNIYYA PUBLIC SCHOOL', 'AZAAN INTERNATIONAL SCHOOL', 'AZRA PUBLIC SCHOOL', 'B G ACADEMY (PRATHAM)', \"B V BHAVAN'S RAJAJI VIDYASHRAM\", \"B V BHAVAN'S RES PUBLIC SCHOOL\", 'B V BHAVANS INTERNATIONAL RES PUB SC', 'B V REDDY SR SEC SCHOOL', 'B.V.M. GLOBAL', 'B.V.M. GLOBAL', 'B.V.M. GLOBAL BOLLINENI HILL SIDE', 'B.V.M. GLOBAL KARPAGAM CAMPUS', 'BABAJI VIDHYASHRAM', 'BAL BHARATI PUBLIC SCHOOL', 'BALA VIDYA MANDIR SR SEC SCHOOL', 'BALAJI HIGH SCHOOL', 'BALAJI SIKSHA MANDIR', 'BALSAM ACADEMY', 'BANNARI AMMAN PUBLIC SCHOOL', 'BARANI INTERNATIONAL SCHOOL', 'BELIEF CENTRAL SCHOOL', 'BENGLEN PUBLIC SCHOOL', 'BES MODEL HIGH SCHOOL', 'BESANT ARUNDALE SR SEC SCHOOL', 'BEST SCHOOL', 'BETA PUBLIC SCHOOL', 'BETHANY NAVAJEEVAN SCHOOL', 'BETHESDA INTEGRATED SCHOOL', 'BETHLAHEM NEW CBSE CENTRAL SCHOOL', 'BHAARATH PUBLIC CBSE SCHOOL', 'BHAARATH PUBLIC SCHOOL', 'BHADRACHALAM PUBLIC SCHOOL & JR. COLLEGE', 'BHAKTAVATSALAM VIDYASHRAM', 'BHARANI INTERNATIONAL MODERN SCHOOL', 'BHARANI VIDHYALAYA', 'BHARAT INTERNATIONAL SCHOOL', 'BHARAT PUBLIC SCHOOL', 'BHARATH SR SEC SCHOOL', 'BHARATH VIDYA MANDIR', 'BHARATHI ACADEMY', 'BHARATHI INTERNATIONAL SCHOOL', 'BHARATHI VIDHYA BHAVAN SCHOOL', 'BHARATHI VIDHYALAYA SCHOOL', 'BHARATHIYAR HI-TECH INTERNATIONAL SCHOOL', 'BHARATI VIDYALAYA SR. SECONDARY SCHOOL', \"BHARATIYA VIDYA BHAVAN'S PUBLIC SCHOOL\", \"BHARATIYA VIDYA BHAVAN'S VIDYASHRAM\", 'BHARATIYA VIDYA BHAVAN, MONDAL PUBLIC SCHOOL', 'BHARATIYA VIDYA BHAVANS ATMAKURI RAMA RAO SCHOOL', 'BHARATIYA VIDYA BHAVANS PUBLIC SCHOO', 'BHARATIYA VIDYA BHAVANS RESIDENTIONAL PUBLIC SCHOOL', 'BHARATIYA VIDYA BHAVANS VIDYASHRAM', 'BHARTIYA VIDYA BHAVANS SRI VENKATESWARA VIDYALAYA', 'BHARTIYA VIDYA BHAWAN, BHAVANS SRI RAMAKRISHNA VIDYALAYA', 'BHASHYAM BLOOMS', 'BHASHYAM BLOOMS SCHOOL', 'BHASHYAM BLOOMS SCHOOL', 'BHASHYAM BLOOMS SCHOOL', 'BHASHYAM BLOOMS SCHOOL', 'BHASHYAM BLOOMS THE GLOBAL SCHOOL', 'BHASHYAM BLOOMS THE SCHOOL', 'BHASHYAM BROOKS UPS', \"BHAVAN'S GANDHI VIDYASHRAM\", 'BHAVANI VIDYASHRAM CBSE SCHOOL', 'BHAVISYAA SCHOOL', 'BHAVYA CEMENTS D A V SCHOOL', 'BHEERAM SREEDHAR REDDY INTERNATIONAL SCHOOL', 'BHPV SR SEC SCHOOL', 'BIG DREAMERS ACADEMY', 'BILLABONG HIGH INTERNATIONAL SCHOOL', 'BILLABONG HIGH INTERNATIONAL SCHOOL', 'BILLABONG HIGH INTERNATIONAL SCHOOL', 'BILLABONG HIGH INTERNATIONAL SCHOOL', 'BIRLA OPEN MINDS INTERNATIONAL SCHOOL', 'BIRLA OPEN MINDS SCHOOL', 'BIRLA OPEN MINDS SCHOOL', 'BISHOP DEVADASS AMBROSE VIDYALAYA', 'BISHOP REMIGIUS SCHOOL', 'BLESSINGS INTERNATIONAL SCHOOL', 'BLOOMING MINDS CENTRAL SCHOOL', 'BLOOMINGDALE', 'BLOSSOM PUBLIC SCHOOL', 'BOAZ PUBLIC SCHOOL', 'BODHI INTERNATIONAL SCHOOL', 'BOHARA CENTRAL SCHOOL JAMNER', 'BOLTON SCHOOL', 'BON SECOURS PUBLIC SCHOOL', 'BOON SCHOOL', 'BRAHM PRAKASH D A V SCHOOL', 'BRAINY BLOOMS LECOLE INTERNATIONALE', 'BRAMMAAS VIDHYALAYA SCHOOL', \"BREEK'S ALL INDIA SECONDARY SCHOOL\", 'BRIGADE PUBLIC SCHOOL', 'BRIGHT ACADEMY', 'BRIGHT MINDS VIDYODAYA', 'BRIGHT PUBLIC SCHOOL', 'BRILLIANT KIDS GLOBAL SCHOOL', 'BRILLIANT SCHOOL', 'BRILLIANT VIDYA BHAVAN', 'BRINDAVAN ANGLO VEDIC INTERNATIONAL SCHOOL', 'BRINDHAVAN PUBLIC SCHOOL', 'BRINDHAVAN VIDHYALAYA PUBLIC SCHOOL', 'BRINDHAVANNA VIDHIALAYA', 'BRUNDAVAN ENGLISH MEDIUM SCHOOL', 'BS & JR HIGH SCHOOL', 'BUDS VIDHYASHRAM CBSE SCHOOL', 'BVB KAMALA RANI SANGHI PUB SCHOOL', 'C A L PUBLIC SCHOOL', 'C V R D E SECONDARY SCHOOL', 'C.S.I. EWART GLOBAL SCHOOL', 'CAMBRIDGE INTERNATIONAL PUBLIC SCH', 'CAMBRIDGE INTERNATIONAL SCHOOL', 'CAMBRIDGE PUBLIC E-SCHOOL', 'CAMBRIDGE PUBLIC E-SCHOOL', 'CANARY THE SCHOOL', 'CANDOR SHRINE I SCHOOL', 'CANTONMENT BOARD SEC. SCHOOL', 'CARE INTERNATIONAL SCHOOL', 'CARISBROOK SCHOOL', 'CARMEL CONVENT SCHOOL', 'CARMEL ENGLISH SCHOOL', 'CARMEL SEC SCHOOL', 'CAUVERY GLOBAL SCHOOL', 'CAUVERY INTERNATIONAL SCHOOL', 'CAUVERY PUBLIC SCHOOL', 'CEEDEEYES DAV PUBLIC SCHOOL', 'CENTRAL RAILWAY SECONDARY ENGLISH MEDIUM SCHOOL', 'CENTURY FOUNDATION PUBLIC SCHOOL', 'CGR INTERNATIONAL SCHOOL', 'CHAITANYA BHARATHI PUBLIC SCHOOL', 'CHAITANYA CENTRAL SCHOOL', 'CHAKRA VIDYALAYA SCHOOL', 'CHANAKYA INTERNATIONAL SCHOOL', 'CHANAKYA VIDYASHRAM', 'CHANDRA CHELLAPPAN INTERNATIONAL SCHOOL', 'CHANDRA NATIONAL SCHOOL', 'CHANDRAKANTHI PUBLIC SCHOOL', 'CHATHRAPATHY SHIVAJI D A V SCHOOL', 'CHAVARA ACADEMY MAVALA,', 'CHELAMMAL VIDHYAASHRAM', 'CHELLAMMAL VIDYALAYA', 'CHELLAPPAN VIDYA MANDIR', 'CHENNAI PUBLIC SCHOOL', 'CHENNAI PUBLIC SCHOOL,', 'CHETTINAD PUBLIC SCHOOL', 'CHETTINAD VIDYA MANDIR', 'CHETTINAD VIDYASHRAM', 'CHIGURUPATI SRI KRISHNAVENI SCHOOL', 'CHINMAYA INTERNATIONAL RESIDENTIAL SCHOOL', 'CHINMAYA VIDYALAYA', 'CHINMAYA VIDYALAYA', 'CHINMAYA VIDYALAYA', 'CHINMAYA VIDYALAYA', 'CHINMAYA VIDYALAYA', 'CHINMAYA VIDYALAYA', 'CHINMAYA VIDYALAYA', 'CHIREC INTERNATIONAL SCHOOL', 'CHITRA KRISHNASSWAMY VIDYALAYA', 'CHITTURI HIGH SCHOOL', 'CHRIST CMI CENTRAL SCHOOL', 'CHRIST INTERNATIONAL SCHOOL', 'CHRIST INTERNATIONAL SCHOOL', 'CHRIST THE KING CBSE PUBLIC SCHOOL', 'CHRIST THE KING INTERNATIONAL SCHOOL', 'CHRIST THE KING SCHOOL', 'CHRIST THE KING SCHOOL', 'CHRISTUS REX HIGHER SECONDARY SCHOOL', 'CITY CENTRAL SCHOOL', 'CK SCHOOL OF PROGRESSIVE EDUCATION', 'CK SCHOOL OF PROGRESSIVE EDUCATION', 'CLUNY VIDYA NIKETHAN', 'CMC INTERNATIONAL SCHOOL', 'CMR INTERNATIONAL SCHOOL', 'CMR INTERNATIONAL SCHOOL', 'CMR INTERNATIONAL THE SCHOOL', 'COIMBATE PUBLIC SCHOOL', 'COLOURS INDIAN SCHOOL', 'CORNERSTONE SCHOOL', 'COSMOPOLITAN MODEL VIDYALAYA', 'CRAYONS PUBLIC SCHOOL', 'CREEKSIDE SCHOOL', 'CRESCENT PUBLIC SCHOOL', 'CRPF PUBLIC SCHOOL', 'CRR SECONDARY SCHOOL (PRI TO X CLASS) CBSE, DINNEDEVARAPADU, KURNOOL-2', 'CS ACADEMY', 'CS ACADEMY', 'CT INTERNATIONAL SCHOOL', 'D A V  B H E L SCHOOL', 'D A V  PUBLIC SCHOOL', 'D A V BOYS SENIOR SEC SCHOOL', 'D A V CENTENARY PUBLIC SCHOOL', 'D A V GIRLS SR SEC SCHOOL', 'D A V PUBLIC SCHOOL', 'D A V SCHOOL', 'D A V SENIOR SEC SCHOOL', 'D A V SENIOR SECONDARY SCHOOL', 'D R S INTERNATIONAL SCHOOL', 'D.A.V SECONDARY SCHOOL, MOGAPPAIR.', 'D.A.V. PUBLIC SCHOOL', 'D.A.V. SCHOOL', 'D.A.V.BABA SCHOOL', 'DA VINCI INTERNATIONAL SCHOOL', 'DAFFODILS HIGH SCHOOL', 'DALMIA VIDYA MANDIR', 'DAMIEN PUBLIC SCHOOL', 'DAV BDL PUBLIC SCHOOL', 'DAV PUBLIC SCHOOL', 'DAVE BABA VIDYALAYA', 'DAWN SCHOOL', 'DAWN SHIKSHALAYA PUBLIC SCHOOL', 'DAYASADAN AGARWAL VIDYALAYA', 'DEFENCE LABORATORIES SCHOOL', 'DEFENCE LABORATORIES SCHOOL', 'DELHI PUBLIC SCHOOL', 'DELHI PUBLIC SCHOOL', 'DELHI PUBLIC SCHOOL', 'DELHI PUBLIC SCHOOL', 'DELHI PUBLIC SCHOOL', 'DELHI PUBLIC SCHOOL', 'DELHI PUBLIC SCHOOL', 'DELHI PUBLIC SCHOOL', 'DELHI PUBLIC SCHOOL', 'DELHI PUBLIC SCHOOL', 'DELHI PUBLIC SCHOOL', 'DELHI PUBLIC SCHOOL', 'DELHI PUBLIC SCHOOL LAVA', 'DELHI PUBLIC SCHOOL VISAKHAPATNAM', 'DELHI PUBLIC WORLD SCHOOL', 'DELHI SCHOOL', 'DELHI SCHOOL OF EXCELLENCE', 'DELHI SCHOOL OF EXCELLENCE,', 'DELHI SCHOOL OF EXCELLENCE, MANIKONDA', 'DELHI WORLD PUBLIC SCHOOL', 'DELHI WORLD PUBLIC SCHOOL', 'DELHI WORLD SCHOOL', 'DELTA PUBLIC SCHOOL', 'DEVI ACADEMY', 'DHARANI INTERNATIONAL SCHOOL', 'DHARMAMBAL VEERAPPAN PUBLIC SCHOOL', 'DHATRAK MODEL SCHOOL', 'DHEERAN ACADEMY', 'DHEERAN CHINNAMALAI INTERNATIONAL RESIDENTIAL SCHOOL', 'DHRONA PUBLIC SCHOOL', 'DIKSHA SCHOOL', 'DINDIGUL NADAR URAVINMURAI S.M.B.MANICKAM NADAR PACKIATHAMMAL NATIONAL PUBLIC SCHOOL', 'DKT GLOBAL PUBLIC SCHOOL', 'DLV PUBLIC SCHOOL(DREAMLAND VIDHYASHRAAM)', 'DMI ST. JOSEPH GLOBAL SCHOOL', 'DMI ST. JOSEPH GLOBAL SCHOOL', 'DMI ST. JOSEPH GLOBAL SCHOOL', 'DMI ST. JOSEPH INTERNATIONAL SCHOOL', 'DMI ST. JOSEPH INTERNATIONAL SCHOOL', 'DOBBS PUBLIC SCHOOL', 'DOCTORS PUBLIC SCHOOL', 'DOLPHINS INTERNATIONAL SCHOOL', 'DON BOSCO SCHOOL', 'DON BOSCO SCHOOL', 'DON BOSCO SCHOOL OF EXCELLENCE', 'DON BOSCO SCHOOL OF EXCELLENCE', 'DON BOSCO SCHOOL OF EXCELLENCE, TIRUPATTUR', 'DPS NADERGUL', 'DR .THANGAMMA INTERNATIONAL RESIDENTIAL SCHOOL', 'DR ALAGAPPA ACADEMY', 'DR K L PRASAD PUBLIC SCHOOL', \"DR K.K.R'S GOWTHAM CONCEPT SCHOOL,IIT FOUNDATION SCHOOL\", 'DR M S U MURTHY SCHOOL OF EXCELLENCE', 'DR VARALAKSHMI PUBLIC SCHOOL', 'DR. BESANT ENGLISH MEDIUM SCHOOL', 'DR. JACOBS HITECH SCHOOL', 'DR. NALLI KUPPUSWAMY VIVEKANANDA VIDYALAYA JUNIOR COLLEGE,', 'DR. S. RAMAKRISHNAN MEMORIAL CBSE SCHOOL', 'DR.G.S.KALYANASUNDARAM MEMORIAL SCHOOL', 'DR.K.K.R GOWTHAM ENGLISH MEDIUM SCHOOL', 'DR.K.K.R GOWTHAM SCHOOL', \"DR.K.K.R'S GOWTHAM INTERNATIONAL SCHOOL,IIT FOUNDATION SCHOOL\", 'DR.KKRS GOWTHAM SCHOOL', 'DR.SRK VIDHYALAYA', 'DURGA BHAVANI SCHOOL', 'DURGA PUBLIC SCHOOL', 'DWARAKA SCHOOL', 'DWARAKESH VIDHYASHRAM CBSE SCHOOL', 'E.S.LORDS INTERNATIONAL SCHOOL', 'EBENEZER MARCUS INTERNATIONAL SCHOOL & JUNIOR COLLEGE', 'ECR INTERNATIONAL SCHOOL', 'EDEN GARDEN ENGLISH SCHOOL', 'EDIFY SCHOOL', 'EDIFY SCHOOL', 'EDIFY WORLD SCHOOL', 'EDISON G AGORAM MEMORIAL SCHOOL', 'EDU ASIA INTERNATIONAL SCHOOL', 'EDUSTAR INTERNATIONAL SCHOOL', 'EDUSTAR MODEL SCHOOL', 'EGSPJ INTERNATIONAL SCHOOL', 'EINSTEIN PUBLIC SCHOOL', 'EKALAVYA MODEL RESIDENTIAL', 'EKALAVYA MODEL RESIDENTIAL SCHOOL', 'EKALAVYA MODEL RESIDENTIAL SCHOOL', 'EKALAVYA MODEL RESIDENTIAL SCHOOL', 'EKALAVYA MODEL RESIDENTIAL SCHOOL', 'EKALAVYA MODEL RESIDENTIAL SCHOOL', 'EKASHILA ANGELS SCHOOL', 'EKASHILA HIGH SCHOOL', 'EKASHILA HIGH SCHOOL', 'EKASHILA HIGH SCHOOL', 'EKASHILA HIGH SCHOOL', 'EKASHILA HIGH SCHOOL', 'EKASHILA INTERNATIONAL SCHOOL', 'EKLAVYA  MODEL RESIDENTIAL SCHOOL', 'EKLAVYA MODEL RESIDENTIAL SCHOOL', 'EKLAVYA MODEL RESIDENTIAL SCHOOL', 'EKLAVYA MODEL RESIDENTIAL SCHOOL', 'EKLAVYA MODEL RESIDENTIAL SCHOOL', 'EKLAVYA MODEL RESIDENTIAL SCHOOL', 'EKLAVYA MODEL RESIDENTIAL SCHOOL', 'EKLAVYA MODEL RESIDENTIAL SCHOOL', 'EKLAVYA MODEL RESIDENTIAL SCHOOL', 'EKLAVYA MODEL RESIDENTIAL SCHOOL', 'EKLAVYA MODEL RESIDENTIAL SCHOOL', 'EKLAVYA MODEL RESIDENTIAL SCHOOL', 'EKLAVYA MODEL RESIDENTIAL SCHOOL', 'EKLAVYA MODEL RESIDENTIAL SCHOOL', 'EKLAVYA MODEL RESIDENTIAL SCHOOL', 'EKLAVYA MODEL RESIDENTIAL SCHOOL ADILABAD,', 'EKLAVYA MODEL RESIDENTIAL SCHOOL BAYYARAM', 'EKLAVYA MODEL RESIDENTIAL SCHOOL NARNOOR', 'ELATE SCHOOL', 'ELITE PUBLIC SCHOOL', 'EMERALD VALLEY PUBLIC SCHOOL', 'EMRS MARRIMADLA', 'EMRS UTNOOR GIRLS, HNTC BUILDING', 'EMRS, MUNCHANGIPUTTU', 'ENGLISH UNION SCHOOL', 'EPISTEMO VIKAS LEADERSHIP SCHOOL', 'ERA INTERNATIONAL SCHOOL', 'ESAKI VIDYAASHRAM', 'ETERNAL LIGHT PUBLIC SCHOOL', 'EURO SCHOOL', 'EVANS SCHOOL OF EXCELLENCE', 'EVEREST KENBRIDGE SCHOOL', 'EVERGREEN VIDHYAASHRAM CBSE SCHOOL', 'EVERWIN PUBLIC SCHOOL', 'EVERWIN VIDHYASHRAM', 'EVERWIN VIDHYASHRAM', 'EXCELLENCIA INFINITUM SCHOOL', 'FAIRLANDS A FOUNDATION SCHOOL', 'FIRST STEP PUBLIC SCHOOL', 'FORT CITY SCHOOL', 'FORTUNE BUTTERFLY SCHOOL', 'FOSTER BILLABONG HIGH INTERNATIONAL SCHOOL', 'FRANCIS XAVIER SCHOOL', 'FREEDOM CONCEPT SCHOOL', 'FROBELS HIGH SCHOOL', 'FRONTLINE MILLENNIUM SCHOOL', 'FUSION INTERNATIONAL SCHOOL', 'FUTURE SCHOOL', 'G B PUBLIC SCHOOL', 'G E T PUBLIC SCHOOL', 'G K SHETTY VIVEKANANDA VIDYALAYA', 'G PULLA REDDY HIGH SCHOOL', 'G PULLA REDDY MEMORIAL SCHOOL', 'G R THANGAMALIGAI MAHALAKSHMI V VIDY', 'G.K PUBLIC SCHOOL', 'GANAPATHY CHETTIAR VIDYALAYA', 'GANGES VALLEY SCHOOL', 'GARDENCOURT CAMBRIDGE SCHOOL', 'GATEWAY INTERNATIONAL HIGH SCHOOL', 'GATEWAY INTERNATIONAL SCHOOL', 'GATEWAY INTERNATIONAL SCHOOLS', 'GAUTAMI VIDYA KSHETRA', 'GAYATRI SCHOOL', 'GD PUBLIC SCHOOL', 'GEDEE PUBLIC SCHOOL', 'GEETANJALI HIGH SCHOOL', 'GEETHA SHRI HIGH SCHOOL', 'GEETHAANJALI ALL INDIA', 'GEETHIKA SCHOOL', 'GEM INTERNATIONAL SCHOOL', 'GEMS SCHOOL', 'GENESIS E M SCHOOL', 'GENESIS INTERNATIONAL SCHOOL', 'GENESIS SCHOOL', 'GENESIS SCHOOL', 'GENIUS HIGH SCHOOL', 'GET SCHOOL OF EXCELLENCE', 'GFC GLOBAL PUBLIC SCHOOL', 'GITANJALI DEVAKUL', 'GITANJALI DEVASHRAY', 'GITANJALI PUBLIC SCHOOL', 'GITHANJALI PUBLIC SCHOOL', 'GKM VIDYASHRAM', 'GLAZEBROOKE PUBLIC SCHOOL', 'GLENDALE ACADEMY', 'GLOBAL EDGE SCHOOL', 'GLOBAL GATEWAY HI-TECH SCHOOL', 'GLOBAL INDIAN INTERNATIONAL SCHOOL', 'GLOBAL INTERNATIONAL SCHOOL', 'GLOBAL PUBLIC SCHOOL', 'GLOBAL PUBLIC SCHOOL-CBSE', 'GMR CHINMAYA VIDYALAYA', 'GMR VARALAKSHMI DAV PUBLIC SCHOOL', 'GNANA VIDYA MANDIR', 'GNANABHARATI ENGLISH MEDIUM SCHOOL', 'GNANODAYA INTERNATIONAL SCHOOL', 'GODSON PUBLIC SCHOOL', 'GOKILAMBAL INTERNATIONAL SCHOOL', 'GOLDEN GATES VIDHYASHRAM', 'GOLDEN PUBLIC SCHOOL', 'GOMATHY ENGLISH MEDIUM SCHOOL', 'GOOD SAMARITAN PUBLIC SCHOOL', 'GOOD SHEPHERD ENGLISH SCHOOL', 'GOOD SHEPHERD HIGH SCHOOL', 'GOOD SHEPHERD INTERNATIONAL SCHOOL', 'GOOD SHEPHERD MATRICULATION SCHOOL', 'GOOD SHEPHERD MODEL SCHOOL', 'GOOD WORD PUBLIC SCHOOL', 'GOPIKRISHNA CENTRAL SCHOOL', 'GORKEY PUBLIC SCHOOL', 'GOVERNMENT SECONDARY SCHOOL', 'GOVERNMENT SECONDARY SCHOOL', 'GOVERNMENT SECONDARY SCHOOL', 'GOVERNMENT SR SECONDARY SCHOOL', 'GOVT  SECONDARY SCHOOL', 'GOVT  SENIOR SECONDARY SCHOOL', 'GOVT  SR SECONDARY SCHOOL', 'GOVT BOYS SR SEC SCHOOL', 'GOVT DECONDARY SCHOOL', 'GOVT GIRLS SR SEC SCHOOL', 'GOVT MODEL SENI SECONDARY SCHOOL', 'GOVT MODEL SENIOR SECONDARY SCHOOL', 'GOVT MODEL SR SEC SCHOOL', 'GOVT RABINDRA BANGLA VIDYALAYA', 'GOVT SEC SCHOOL', 'GOVT SEC SCHOOL', 'GOVT SEC SCHOOL', 'GOVT SEC SCHOOL', 'GOVT SEC SCHOOL', 'GOVT SEC SCHOOL', 'GOVT SEC SCHOOL', 'GOVT SEC SCHOOL', 'GOVT SEC SCHOOL', 'GOVT SEC SCHOOL', 'GOVT SEC SCHOOL', 'GOVT SEC SCHOOL (TAMIL & ENGLISH)', 'GOVT SECONDARY  SCHOOL', 'GOVT SECONDARY SCHOOL', 'GOVT SECONDARY SCHOOL', 'GOVT SECONDARY SCHOOL', 'GOVT SECONDARY SCHOOL', 'GOVT SECONDARY SCHOOL', 'GOVT SECONDARY SCHOOL', 'GOVT SECONDARY SCHOOL', 'GOVT SECONDARY SCHOOL', 'GOVT SECONDARY SCHOOL', 'GOVT SECONDARY SCHOOL', 'GOVT SECONDARY SCHOOL', 'GOVT SECONDARY SCHOOL', 'GOVT SECONDARY SCHOOL', 'GOVT SECONDARY SCHOOL', 'GOVT SECONDARY SCHOOL', 'GOVT SECONDARY SCHOOL', 'GOVT SECONDARY SCHOOL', 'GOVT SECONDARY SCHOOL', 'GOVT SECONDARY SCHOOL', 'GOVT SECONDARY SCHOOL', 'GOVT SENI SECONDARY SCHOOL', 'GOVT SENIOR SECONDARY SCHOOL', 'GOVT SENIOR SECONDARY SCHOOL', 'GOVT SENIOR SECONDARY SCHOOL', 'GOVT SENIOR SECONDARY SCHOOL', 'GOVT SENIOR SECONDARY SCHOOL', 'GOVT SR  SEC SCHOOL', 'GOVT SR  SEC SCHOOL', 'GOVT SR  SEC SCHOOL', 'GOVT SR SEC SCHOOL', 'GOVT SR SEC SCHOOL', 'GOVT SR SEC SCHOOL', 'GOVT SR SEC SCHOOL', 'GOVT SR SEC SCHOOL', 'GOVT SR SEC SCHOOL', 'GOVT SR SEC SCHOOL', 'GOVT SR SEC SCHOOL', 'GOVT SR SEC SCHOOL', 'GOVT SR SEC SCHOOL', 'GOVT SR SEC SCHOOL', 'GOVT SR SEC SCHOOL', 'GOVT SR SEC SCHOOL', 'GOVT SR SEC SCHOOL', 'GOVT SR SEC SCHOOL', 'GOVT SR SEC SCHOOL', 'GOVT SR SEC SCHOOL (HINDI MEDIUM)', 'GOVT SR SEC SCHOOL (TELUGU MEDIUM)', 'GOVT SR SECONDARY SCHOOL', 'GOVT SR SECONDARY SCHOOL', 'GOVT SR SECONDARY SCHOOL', 'GOVT SR SECONDARY SCHOOL', 'GOVT SR SECONDARY SCHOOL', 'GOVT SR. SEC SCHOOL', 'GOVT SR. SECONDARY SCHOOL', 'GOVT SR.SECONDARY SCHOOL', 'GOVT. DEMONSTRATION MULTI PURPOSE', 'GOVT. MODEL SEC. SCHOOL', 'GOVT. MODEL SR. SEC. SCHOOL', 'GOVT. SECONDARY SCHOOL', 'GOVT. SECONDARY SCHOOL', 'GOVT. SECONDARY SCHOOL', 'GOVT. SECONDARY SCHOOL', 'GOVT. SECONDARY SCHOOL', 'GOVT. SECONDARY SCHOOL', 'GOVT. SECONDARY SCHOOL', 'GOWTHAM CONCEPT SCHOOL', 'GRACE INTERNATIONAL SCHOOL', 'GRD PUBLIC SCHOOL', 'GRD PUBLIC SCHOOL', 'GREAT HARVEST VIDYALAYA', 'GREEN CITY ENGLISH MEDIUM SCHOOL', 'GREEN FIELD SCHOOL', 'GREEN LAND SCHOOL', 'GREEN PARADISE SCHOOL', 'GREEN PARK INTERNATIONAL SCHOOL', 'GREEN PARK INTERNATIONAL SCHOOL', 'GREEN PARK INTERNATIONAL SCHOOL', 'GREEN PARK SMART SCHOOL', 'GREEN VALLEY PUBLIC SCHOOL', 'GREEN VALLEY SCHOOL', 'GREEN WORLD EXCEL SCHOOL', 'GREENDALE SCHOOL', 'GREENFIELD CHENNAI INTERNATIONAL SCHOOL', 'GREENFIELD INTERNATIONAL SCHOOL', 'GREENWICH ACADEMY THE SCHOOL', 'GREENWOOD HIGH SCHOOL', 'GREENWOOD HIGH SCHOOL', 'GRT MAHALAKSHMI VIDYALAYA', 'GT ALOHA VIDHYA MANDIR', 'GT VIDHYA MANDIR', 'GURU SHREE SANTHIVIJAY JAIN VIDYALAY', 'GURUKSHETRA PUBLIC SCHOOL', 'GURUKULA VIDYAPEETH HIGH SCHOOL', 'GURUKULAM VIDYASHRAM', 'GURUMUKI VIDHYASSHRAM  MATRICULATION SCHOOL', 'GV ACADEMY', 'GVJ INTERNATIONAL SCHOOL', 'GVK CHINMAYA VIDYALAYA', 'H M S PUBLIC SCHOOL', 'HADAS CBSE SCHOOL', 'HAL HIGH SCHOOL', 'HAMSAVAHINI VIDYALAYA', 'HANS ROEVER PUBLIC SCHOOL', 'HAPPY VALLEY INTERNATIONAL SCHOOL', 'HARUR INTERNATIONAL SCHOOL', 'HARVEST PUBLIC SCHOOL', 'HAYAGREEVERS KONGUNAD ACADEMY', 'HAYAGRIVA VIDHYASHRAM SCHOOL', 'HAYAGRIVAR VIDYAASHRAM', 'HAYAGRIVAS INTERNATIONAL SCHOOL', 'HEAL SCHOOL', 'HERITAGE VIDHYALAYA', 'HI -TECH MODERN HIGH SCHOOL', 'HI TECH SCHOLARS RESIDENTIAL HIGH SCHOOL', 'HILDAS PUBLIC SCHOOL', 'HILLOCK INTERNATIONAL SCHOOL', 'HINDU COLONY CHELLAMAL VIDYALAYA', 'HINDU PUBLIC SCHOOL', 'HINDU VIDYALAYA', 'HINDUSTAN INTERNATIONAL SCHOOL', 'HINDUSTAN INTERNATIONAL SCHOOL', 'HOLY ANGEL SCHOOL CBSE', 'HOLY ANGELS BCV INTERNATIONAL SCHOOL', 'HOLY ANGELS PUBLIC SCHOOL', 'HOLY CROSS SCHOOL', 'HOLY FLOWERS HIGHER SECONDARY SCHOOL', 'HOLY TRINITY INTERNATIONAL SCHOOL', 'HOLY TRINITY PUBLIC SCHOOL', 'HONEY BUNCH SCHOOL', 'HOSUR PUBLIC SCHOOL', 'HOWARD PUBLIC SCHOOL', 'HRD SCHOOL OF EXCELLENCE', 'HRD SCHOOL OF EXCELLENCE', 'HYDERABAD INSTITUTE OF EXCELLENCE HIGH SCHOOL', 'ICF VIDYANIKETAN', 'IDEAL HIGH SCHOOL', 'IDEAL MOUNT LITERA ZEE SCHOOL', 'IDEAL SCHOOL', 'IGROW ENGLISH MEDIUM SCHOOL', 'INDIAN HIGH SCHOOL', 'INDIAN PUBLIC SCHOOL', 'INDO AUSTRALIAN ACADEMY OF EXCELLENCE', 'INDU INTERNATIONAL SCHOOL', 'INDUS UNIVERSAL SCHOOL', 'INDUS VALLEY SCHOOL', 'INFANT JESUS INTERNATIONAL SCHOOL', 'INFANT JESUS PUBLIC SCHOOL', 'INVENT PUBLIC SCHOOL', 'IQBALIA SCHOOL', 'IQRA PUBLIC SCHOOL', 'ITHAKA ENGISH MEDIUM SCHOOL', 'IVY LEAGUE ACADEMY', 'J S S PUBLIC SCHOOL', 'J SIKILE SCHOOL', 'J.K.INTERNATIONAL SCHOOL', 'J.M.J GLOBAL SCHOOL', 'J.N.N VIDYALLAYA', 'JAGANNATH VIDYALAYA', 'JAIGOPAL GARODIA VIVEKANANDA VIDYALAYA', 'JAIKRISH VIDHYASHRAM SCHOOL', 'JAIN HERITAGE SCHOOL', 'JAIN HERITAGE-A CAMBRIDGE SCHOOL', 'JAIN PUBLIC SCHOOL-SCHOOL FOR LEADERS', 'JAIN VIDYAASHRAM', 'JAIN VIDYALAYA', 'JAIRAM PUBLIC SCHOOL', 'JAIVINS ACADEMY', 'JAN PETER MEMORIAL SCHOOL', 'JANAPRIYA SCHOOL', 'JANNAH PUBLIC SCHOOL', 'JANUS GLOBAL SCHOOL', 'JAWAHAR D A V PUBLIC SCHOOL', 'JAWAHAR D A V PUBLIC SCHOOL', 'JAWAHAR HR SECONDARY SCHOOL', 'JAWAHAR NAVODAYA VIDYALAYA', 'JAWAHAR NAVODAYA VIDYALAYA', 'JAWAHAR NAVODAYA VIDYALAYA', 'JAWAHAR NAVODAYA VIDYALAYA', 'JAWAHAR NAVODAYA VIDYALAYA', 'JAWAHAR NAVODAYA VIDYALAYA', 'JAWAHAR NAVODAYA VIDYALAYA', 'JAWAHAR NAVODAYA VIDYALAYA', 'JAWAHAR NAVODAYA VIDYALAYA', 'JAWAHAR NAVODAYA VIDYALAYA', 'JAWAHAR NAVODAYA VIDYALAYA', 'JAWAHAR NAVODAYA VIDYALAYA', 'JAWAHAR NAVODAYA VIDYALAYA', 'JAWAHAR NAVODAYA VIDYALAYA', 'JAWAHAR NAVODAYA VIDYALAYA', 'JAWAHAR NAVODAYA VIDYALAYA', 'JAWAHAR NAVODAYA VIDYALAYA', 'JAWAHAR NAVODAYA VIDYALAYA', 'JAWAHAR NAVODAYA VIDYALAYA', 'JAWAHAR NAVODAYA VIDYALAYA', 'JAWAHAR NAVODAYA VIDYALAYA', 'JAWAHAR NAVODAYA VIDYALAYA', 'JAWAHAR NAVODAYA VIDYALAYA', 'JAWAHAR NAVODAYA VIDYALAYA', 'JAWAHAR NAVODAYA VIDYALAYA', 'JAWAHAR NAVODAYA VIDYALAYA', 'JAWAHAR NAVODAYA VIDYALAYA', 'JAWAHAR NAVODAYA VIDYALAYA', 'JAWAHAR NAVODAYA VIDYALAYA CHOULDARI, SOUTH ANDAMAN', 'JAWAHAR NAVODAYA VIDYALAYA II', 'JAWAHAR NAVODAYA VIDYALAYA NO. 2', 'JAWAHAR VIDYALAYA SR SEC SCHOOL', 'JAY TECH INTERNATIONAL SCHOOL', 'JAYA JAYA SANKARA INT. SCHOOL', 'JAYA PUBLIC SCHOOL', 'JAYAM VIDYASHRAM SCHOOL', 'JAYANTHI PUBLIC SCHOOL', 'JAYAPRIYA VIDYALAYA', 'JEEVA MEMORIAL PUBLIC SCHOOL', 'JEEVA PUBLIC SCHOOL', 'JEEVA VELU INTERNATIONAL SCHOOL', 'JEI MATHAAJEE SCHOOL', 'JESUS SCHOOL FOR EXCELLENCE', 'JEYAMALLI INTERNATIONAL SCHOOL', 'JIJAYU INTERNATIONAL ENGLISH MEDIUM SCHOOL', 'JIVA GURUKULAM', 'JNANAVAHINI RESIDENTIAL VIDYASAMSTHE', 'JOHN DEWEY INTERNATIONAL SCHOOL', 'JOHNS CENTRAL SCHOOL', 'JOHNSON GRAMMAR SCHOOL', 'JRK GLOBAL SCHOOL', 'JS CENTRAL SCHOOL', 'JS GLOBAL ACADEMY', 'JSM PUBLIC SCHOOL', 'JUBILEE HILLS PUBLIC SCHOOL', 'JUBILEE HILLS PUBLIC SCHOOL, RAMPALLY', 'JYOTHI VIDYA NIKETAN EM HIGH SCHOOL', 'JYOTHI VIDYALAYA HIGH SCHOOL', 'JYOTHISHMATI ACADEMY', 'K C P SIDDHARTHA ADARSH RESIDENTIAL PUBLIC SCHOOL', 'K N R CENTRAL SCHOOL', 'K-ZONE SCHOOL', 'K. K. DHANDAPANI WORLD SCHOOL', 'K.C. VIDYALAYAM', 'K.G.INTERNATIONAL SCHOOL', 'K.L.N.VIDYALAYA', 'K.S.MANIAM VIDHYA BHAVAN', 'K.V.PATSHALA', 'KADAPA PUBLIC SCHOOL', 'KAILASH MAANSAROVAR SCHOOL', 'KAIROS SCHOOL', 'KAKATIYA PUBLIC SCHOOL', 'KAKINADA PUBLIC SCHOOL', 'KALAIMAGAL VIDYALAYA HIGH SCHOOL', 'KALPANA KENDHRIYA ACADEMY', 'KAMALA NIKETAN MONTESSORI SCHOOL', 'KAMALA SUBRAMANIAM SECONDARY SCHOOL', 'KAMALAM INTERNATIONAL SCHOOL', 'KAMALAVATI HIGHER SECONDARY SCHOOL', 'KAMARAJ ENG MED SCHOOL', 'KAMARAJ INTERNATIONAL SCHOOL', 'KAMARAJAR PUBLIC SCHOOL', 'KANCHI VANI VIDYALAYA', 'KANNA INTERNATIONAL SCHOOL', 'KANNADIVAPPA INTERNATIONAL SCHOOL', 'KANNAMMAL INTERNATIONAL SCHOOL', 'KARIDHA PUBLIC SCHOOL', 'KARUNYA CHRISTIAN SCHOOL', 'KATHIR VIDYAA MANDHIR', 'KAVI BHARATHI VIDYALAYA', 'KAVIRAYANI PUBLIC SCHOOL', 'KENBRIDGE SCHOOL', 'KENCREST INTERNATIONAL SCHOOL', 'KENDRIYA VIDYALAYA', 'KENDRIYA VIDYALAYA', 'KENDRIYA VIDYALAYA', 'KENDRIYA VIDYALAYA', 'KENDRIYA VIDYALAYA', 'KENDRIYA VIDYALAYA', 'KENDRIYA VIDYALAYA', 'KENDRIYA VIDYALAYA', 'KENDRIYA VIDYALAYA', 'KENDRIYA VIDYALAYA', 'KENDRIYA VIDYALAYA', 'KENDRIYA VIDYALAYA', 'KENDRIYA VIDYALAYA', 'KENDRIYA VIDYALAYA', 'KENDRIYA VIDYALAYA', 'KENDRIYA VIDYALAYA', 'KENDRIYA VIDYALAYA', 'KENDRIYA VIDYALAYA', 'KENDRIYA VIDYALAYA', 'KENDRIYA VIDYALAYA', 'KENDRIYA VIDYALAYA', 'KENDRIYA VIDYALAYA', 'KENDRIYA VIDYALAYA', 'KENDRIYA VIDYALAYA', 'KENDRIYA VIDYALAYA', 'KENDRIYA VIDYALAYA', 'KENDRIYA VIDYALAYA', 'KENDRIYA VIDYALAYA', 'KENDRIYA VIDYALAYA', 'KENDRIYA VIDYALAYA', 'KENDRIYA VIDYALAYA', 'KENDRIYA VIDYALAYA', 'KENDRIYA VIDYALAYA', 'KENDRIYA VIDYALAYA', 'KENDRIYA VIDYALAYA', 'KENDRIYA VIDYALAYA', 'KENDRIYA VIDYALAYA', 'KENDRIYA VIDYALAYA', 'KENDRIYA VIDYALAYA', 'KENDRIYA VIDYALAYA', 'KENDRIYA VIDYALAYA', 'KENDRIYA VIDYALAYA', 'KENDRIYA VIDYALAYA', 'KENDRIYA VIDYALAYA', 'KENDRIYA VIDYALAYA', 'KENDRIYA VIDYALAYA', 'KENDRIYA VIDYALAYA', 'KENDRIYA VIDYALAYA', 'KENDRIYA VIDYALAYA', 'KENDRIYA VIDYALAYA', 'KENDRIYA VIDYALAYA', 'KENDRIYA VIDYALAYA', 'KENDRIYA VIDYALAYA', 'KENDRIYA VIDYALAYA', 'KENDRIYA VIDYALAYA', 'KENDRIYA VIDYALAYA', 'KENDRIYA VIDYALAYA', 'KENDRIYA VIDYALAYA', 'KENDRIYA VIDYALAYA', 'KENDRIYA VIDYALAYA', 'KENDRIYA VIDYALAYA', 'KENDRIYA VIDYALAYA', 'KENDRIYA VIDYALAYA', 'KENDRIYA VIDYALAYA', 'KENDRIYA VIDYALAYA', 'KENDRIYA VIDYALAYA', 'KENDRIYA VIDYALAYA', 'KENDRIYA VIDYALAYA', 'KENDRIYA VIDYALAYA', 'KENDRIYA VIDYALAYA', 'KENDRIYA VIDYALAYA', 'KENDRIYA VIDYALAYA', 'KENDRIYA VIDYALAYA', 'KENDRIYA VIDYALAYA', 'KENDRIYA VIDYALAYA', 'KENDRIYA VIDYALAYA', 'KENDRIYA VIDYALAYA', 'KENDRIYA VIDYALAYA', 'KENDRIYA VIDYALAYA', 'KENDRIYA VIDYALAYA', 'KENDRIYA VIDYALAYA  NO.1', 'KENDRIYA VIDYALAYA  NO.2', 'KENDRIYA VIDYALAYA BHONGIR', 'KENDRIYA VIDYALAYA BODHAN', 'KENDRIYA VIDYALAYA GOLDENROCK (SR) TRICHY', 'KENDRIYA VIDYALAYA JHARASANGAM', 'KENDRIYA VIDYALAYA NO 1', 'KENDRIYA VIDYALAYA NO 1', 'KENDRIYA VIDYALAYA NO 1', 'KENDRIYA VIDYALAYA NO 2', 'KENDRIYA VIDYALAYA NO 2', 'KENDRIYA VIDYALAYA NO 2', 'KENDRIYA VIDYALAYA NO 2', 'KENDRIYA VIDYALAYA NO 2', 'KENDRIYA VIDYALAYA NO.1', 'KENDRIYA VIDYALAYA NO.1', 'KENDRIYA VIDYALAYA NO.1', 'KENDRIYA VIDYALAYA NO.1', 'KENDRIYA VIDYALAYA NO.1', 'KENDRIYA VIDYALAYA NO.1', 'KENDRIYA VIDYALAYA NO.1', 'KENDRIYA VIDYALAYA NO.2', 'KENDRIYA VIDYALAYA NO.2', 'KENDRIYA VIDYALAYA NO.2', 'KENDRIYA VIDYALAYA NO.2', 'KENDRIYA VIDYALAYA NO.2', 'KENDRIYA VIDYALAYA NO.2', 'KENDRIYA VIDYALAYA NO.2', 'KENDRIYA VIDYALAYA NO.I', 'KENDRIYA VIDYALAYA RAJAMPALLI', 'KENDRIYA VIDYALAYA SANGATHAN', 'KENDRIYA VIDYALAYA SATTENAPALLI', 'KENDRIYA VIDYALAYA SIRCILLA', 'KENDRIYA VIDYALAYA VIRUDHUNDAGAR', 'KENDRIYA VIDYALAYA, RAJAMPET', 'KENNEDY EM HIGH SCHOOL', 'KENNEDY HIGH - THE MAGNET SCHOOL', 'KENNEDY HIGH SCHOOL', 'KENNEDY HIGH THE GLOBAL SCHOOL', 'KEREN PUBLIC SCHOOL', 'KEREN PUBLIC SCHOOL', 'KG VIDHYASHRAM', 'KGR PUBLIC SCHOOL', 'KHALSA PUBLIC SCHOOL', 'KIDS CLUB SCHOOL', 'KIKANI VIDHYA MANDIR', 'KING OF KINGS SCHOOL', 'KINGS & QUEENS RESIDENTIAL SCHOOL', 'KINGS SCHOOL', 'KINGSTON INTERNATIONAL ACADEMY', 'KINKAR INTERNATIONAL SCHOOL,SELOO', 'KIRAN INTERNATIONAL SCHOOL', 'KMC PUBLIC SCHOOL', 'KMR INTERNATIONAL SCHOOL(CBSE)', 'KNOWLEDGE PARK INTERNATIONAL SCHOOL, NIZAMABAD', 'KOLA SARASWATHI VAISHNAV SR SEC SCHO', 'KOLAPERUMAL CHETTY VAISHNAV S S SCHO', 'KONGU PUBLIC SCHOOL - CBSE', 'KONGU SCHOOL OF EXCELLENCE', 'KONGUNADU SCHOOL', 'KOTAGIRI PUBLIC SCHOOL', 'KOTHAKOTA PUPILS HIGH SCHOOL', 'KOTWAL SCHOOL', 'KOVAI PUBLIC SCHOOL', 'KOVAI VIDYASHRAM', 'KOVAI VIDYASHRAM', 'KRISHNA INTERNATIONAL SCHOOL', 'KRISHNAMAL RAMASUBBAIYER SCHOOL', 'KRISHNASWAMY VIDYANIKETHAN', 'KRM PUBLIC SCHOOL', 'KSC PUBLIC SCHOOL', 'KSHATRIYA SCHOOL', 'KSHATRIYA VIDHYASALA CENTENARY SCHOOL', 'KSHATRIYA VIDYA SALA(KVS) ENGLISH MEDIUM SCHOOL', 'KSHETRA VIDYALAYA', 'KSR AKSHARA ACADEMY', 'KSR HITECH SCHOOL, VRIDHACHALAM', 'KULAPATI DR S BALAKRISHNA JOSHI GURRUKULAM', 'KURINCHI SCHOOL', 'KURINJI SCHOOL', 'L R G PUBLIC SCHOOL', 'L R G PUBLIC SCHOOL', 'LA CHATALINE RESIDENTIAL JR.COLLEGE', 'LAKSHYA SCHOOL', 'LALAJI MEMORIAL OMEGA INTERNATIONAL SCHOOL', 'LALCHAND MILAPCHAND DADHA SCHOOL', 'LALITHA LAL BAHADUR SHASTRI PUBLIC SCHOOL', 'LAUREL HIGH E.M SCHOOL', 'LAUREL SECONDARY SCHOOL', 'LAURUS - THE SCHOOL OF EXCELLENCE', 'LEAD INDIA BHARAT RATNAS SCHOOL', 'LHL CBSE SCHOOL', 'LIGHTWORKERS ACADEMY', 'LINGA GLOBAL SCHOOL', 'LISIEUX CMI PUBLIC SCHOOL', 'LITERA VALLEY ZEE SCHOOL', 'LITTLE  ANGELS HIGH SCHOOL', 'LITTLE ANGELS PUBLIC SCHOOL', 'LITTLE ANGELS SCHOOL', 'LITTLE ANGLES SCHOOL', 'LITTLE CHAMPION SCHOOL', 'LITTLE FLOWER CBSE INNOVATIVE SCHOOL', 'LITTLE FLOWER PUBLIC SCHOOL', 'LITTLE FLOWER SCHOOL', 'LITTLE KINGDOM SCHOOL', 'LITTLE SCHOLAR SCHOOL', 'LITTLE WOODS SCHOOL', 'LKR (EM) SCHOOL', 'LOTUS HIGH SCHOOL(EM)', 'LOTUS INTERNATIONAL SCHOOL', 'LOTUS LAP PUBLIC SCHOOL', 'LOTUS NATIONAL SCHOOL', 'LOTUS NATIONAL SCHOOL', 'LOTUS NATIONAL SCHOOL', 'LOTUS NATIONAL SCHOOL', 'LOTUS NATIONAL SCHOOL', 'LOYALA INTERNATIONAL RESIDENTIAL SCHOOL', 'LOYOLA ACADEMY', 'LOYOLA ENGLISH MEDIUM SCHOOL', 'LOYOLA INTERNATIONAL PUBLIC SCHOOL', 'LYCEUM SCHOOL', 'M E S BOYS HIGH SCHOOL & JR COLLEGE', 'M E S SCHOOL', 'M.A.M. SCHOOL', 'M.A.V VIDYASHRAM', 'M.E.S. SCHOOL, SALAH NAGAR, OGRABRAJ', 'M.J.R. VIDYA EM HIGH SCHOOL', 'M.M. VIDYASHRAM', 'M.P. & E.V. (ENGLISH MEDIUM) SCHOOL', 'M.S.R. CENTRAL SCHOOL', 'M.V.M CAMBRIDGE VIDYA MANDIR', 'M.V.RAMAN HIGH SCHOOL', 'MADHA PUBLIC SCHOOL', 'MADINA HIGH SCHOOL', 'MADURAI PUBLIC SCHOOL', 'MAHABHARATHI INTERNATIONAL SCHOOL', 'MAHALAKSHMI VIDYA MANDIR (CBSE)', 'MAHALASHMI SCHOOL', 'MAHALASHMI VIDHYA MANDHIR', 'MAHALASHMI VIDHYA MANDHIR', 'MAHARISHI INTERNATIONAL RESIDENTIAL SCHOOL', 'MAHARISHI INTERNATIONAL SCHOOL', 'MAHARISHI SCHOOL OF EXCELLENCE', 'MAHARISHI VIDYA MANDIR', 'MAHARISHI VIDYA MANDIR', 'MAHARISHI VIDYA MANDIR', 'MAHARISHI VIDYA MANDIR', 'MAHARISHI VIDYA MANDIR', 'MAHARISHI VIDYA MANDIR', 'MAHARISHI VIDYA MANDIR', 'MAHARISHI VIDYA MANDIR', 'MAHARISHI VIDYA MANDIR', 'MAHARISHI VIDYA MANDIR', 'MAHARISHI VIDYA MANDIR', 'MAHARISHI VIDYA MANDIR', 'MAHARISHI VIDYA MANDIR', 'MAHARISHI VIDYA MANDIR', 'MAHARISHI VIDYA MANDIR', 'MAHARISHI VIDYA MANDIR', 'MAHARISHI VIDYA MANDIR', 'MAHARISHI VIDYA MANDIR', 'MAHARISHI VIDYA MANDIR', 'MAHARISHI VIDYA MANDIR', 'MAHARISHI VIDYA MANDIR', 'MAHARISHI VIDYA MANDIR', 'MAHARISHI VIDYA MANDIR', 'MAHARISHI VIDYA MANDIR SR SEC SCHOOL', 'MAHATHMA SCHOOL OF EXCELLENCE', 'MAHATMA GANDHI CENTENARY VIDYALAYA', 'MAHATMA GANDHI INTERNATIONAL SCHOOL', 'MAHATMA GANDHI INTERNATIONAL SCHOOL', 'MAHATMA GANDHI MEMORIAL HIGH SCHOOL', 'MAHATMA GANDHI VIDYALAYA', 'MAHATMA GLOBAL GATEWAY SCHOOL', 'MAHATMA MONTESSORI SCHOOL', 'MAHATMA MONTESSORI SCHOOL', 'MAHAVEER RAJASTHANI INTERNATIONAL SCHOOL', 'MAHENDRA INTERNATIONAL SCHOOL', 'MAHESH VIDYA BHAVAN HIGH SCHOOL', 'MAHINDRA WORLD SCHOOL', 'MAI SKOOL', 'MALAR ACE PUBLIC SCHOOL', 'MALAR PUBLIC SCHOOL', 'MANAIR HIGH SCHOOL', 'MANCHESTER INTERNATIONAL SCHOOL', 'MANCHESTER INTERNATIONAL SCHOOL', 'MANGADU PUBLIC SCHOOL', 'MANGAL VIDYALAYAM', 'MANGALAM CENTRAL SCHOOL', 'MANGALAM VIDHYASHRAM', 'MANGALAM VIDHYASHRAM', 'MANTHAN SCHOOL', 'MANUU MODEL SCHOOL', 'MAR IVANIOS CBSE SCHOOL', 'MARG CHINMAYA VIDYALAYA', 'MARG NAVAJYOTHI VIDYALAYA', 'MARG VIDHYALAYA', 'MARICA HIGH SCHOOL', 'MARK GLOBAL SCHOOL,', 'MARUTHI MATRICULATION HIGHER SECONDARY SCHOOL', 'MARY MATHA CMI PUBLIC SCHOOL', 'MARYMATHA ENGLISH MEDIUM HIGH SCHOOL', 'MASTER MIND GLOBAL ENGLISH SCHOOL', 'MASTERJI HIGH SCHOOL, MADIKONDA,HANAMKONDA, WARANGAL DIST', 'MATHAKONDAPALLI MODEL SCHOOL', 'MATHIOLI VIDHYA BHAVAN', 'MATRUSRI DAV PUBLIC SCHOOL', 'MAYFIELD RESIDENTIAL SCHOOL', 'MCC PUBLIC SCHOOL', 'MDN FUTURE SCHOOL', 'MEDHA HIGH SCHOOL', 'MEENAKSHI AMMAL GLOBAL SCHOOL', 'MEENAKSHI RAMASAMY VIDHYALAYA', 'MELUHA SCHOOL', 'MERIDIAN HIGH SCHOOL', 'MERIDIAN SCHOOL', 'MERIDIAN SCHOOL FOR BOYS & GIRLS', 'MERIDIAN SCHOOL, KUKATPALLY', 'MERU  SCHOOL', 'METRO ENGLISH MEDIUM SCHOOL', 'MILLENNIUM HIGH SCHOOL', 'MINERVA PUBLIC SCHOOL', 'MIT BODHI VIDHYALAYA', 'MNR I EXCEED SCHOOL', 'MNR SCHOOL OF EXCELLENCE', 'MNR SCHOOL OF EXCELLENCE', 'MODERN SENI SEC SCHOOL', 'MOHAMED SATHAK KABEER PUBLIC SCHOOL', 'MONA PLAY SCHOOL', 'MONTÉ SCHOOL', 'MONTESSORI E.M HIGH SCHOOL', 'MONTESSORI ELITE E.M SCHOOL', 'MONTESSORI ENGLISH MEDIUM PRIMARY SCHOOL A-CAMP KURNOOL', 'MONTESSORI INDUS EM PRIMARY SCHOOL', 'MONTFORT SCHOOL', 'MONTFORT SCHOOL', 'MONTFORT SCHOOL', 'MONTFORT SCHOOL', 'MONTFORT SCHOOL', 'MONTFORT SCHOOL', 'MONTFORT SCHOOL', 'MONTFORT SCHOOL', 'MONTFORT SCHOOL', 'MONTRIDGE SCHOOL', 'MORNING STAR HR SEC SCHOOL', 'MOUNT BASIL HIGH SCHOOL', 'MOUNT CARMEL GLOBAL SCHOOL', 'MOUNT LITERA ZEE SCHOOL', 'MOUNT LITERA ZEE SCHOOL', 'MOUNT LITERA ZEE SCHOOL', 'MOUNT LITERA ZEE SCHOOL', 'MOUNT LITERA ZEE SCHOOL', 'MOUNT LITERA ZEE SCHOOL', 'MOUNT LITERA ZEE SCHOOL', 'MOUNT LITERA ZEE SCHOOL', 'MOUNT LITERA ZEE SCHOOL  MYLAUDY', 'MOUNT LITERA ZEE SCHOOL PARAMAKUDI', 'MOUNT LITERA ZEE SCHOOL SIVAGANGAI', 'MOUNT LITERA ZEE SCHOOL, MADURAI', 'MOUNT LITERA ZEE SCHOOL, OMR', 'MOUNT LITERA ZEE SCHOOL-NEYYOOR', 'MOUNT PARK PUBLIC SCHOOL', 'MOUNT ZION ACADEMY', 'MOUNT ZION INTERNATIONAL SCHOOL', 'MRM INTERNATIONAL SCHOOL', 'MRS PUBLIC SCHOOL', 'MUKUNDHA INTERNATIONAL SCHOOL', 'MUTHAMIL PUBLIC SCHOOL', 'MVP SUNRISE SCHOOL', 'N S P VIDHYAPEETAM', 'N V K S HIGHER SECONDARY SCHOOL', 'N.S.N. MEMORIAL SCHOOL', \"N.ST.MATHEW'S PUBLIC SCHOOL\", 'N.V.K.S.VIDYALAYA, VETTUVENNI', 'NAAHAR PUBLIC SCHOOL', 'NAALANDA PUBLIC SCHOOL', 'NAG VIDYASHRAM SCHOOL', 'NAGASIVA VIDYALAYA', 'NAIRS VIDHYA MANDHIR', 'NALANDA GURUKUL INTENATIONAL', 'NALANDA INTERNATIONAL PUBLIC SCHOOL', 'NALANDA INTERNATIONAL PUBLIC SCHOOL', 'NALANDA VIDYANIKETAN', 'NALLA MALLA REDDY FOUNDATION SCHOOL', 'NALLAMANI VIDHYALAYA SCHOOL', 'NAMMA OORU GLOBAL SCHOOLS', 'NANDHA CENTRAL CITY SCHOOL', 'NANDHA CENTRAL SCHOOL', 'NANDI ACADEMY', 'NANJIL CATHOLIC SCHOOL', 'NARAYANA CONCEPT SCHOOL', 'NARAYANA E TECHNO SCHOOL', 'NARAYANA E TECHNO SCHOOL', 'NARAYANA E-TECHNO SCHOOL', 'NARAYANA E-TECHNO SCHOOL', 'NARAYANA E-TECHNO SCHOOL', 'NARAYANA E-TECHNO SCHOOL', 'NARAYANA E-TECHNO SCHOOL', 'NARAYANA E-TECHNO SCHOOL', 'NARAYANA E-TECHNO SCHOOL', 'NARAYANA E-TECHNO SCHOOL', 'NARAYANA E-TECHNO SCHOOL', 'NARAYANA E-TECHNO SCHOOL', 'NARAYANA EM HIGH SCHOOL', 'NARAYANA ENGLISH MEDIUM SCHOOL', 'NARAYANA ETECHNO SCHOOL', 'NARAYANA ETECHNO SCHOOL', 'NARAYANA HIGH SCHOOL', 'NARAYANA HIGH SCHOOL', 'NARAYANA OLYMPIAD SCHOOL', 'NARAYANA OLYMPIAD SCHOOL', 'NARAYANAPILLAI MEMORIAL VIDYA KENDRA', 'NATCO HIGH SCHOOL', 'NATCO SCHOOL OF LEARNING', 'NATHELLA VIDHYODAYA', 'NATIONAL ACADEMY CENTRAL SCHOOL', 'NATIONAL MODEL SECONDARY SCHOOL', 'NATIONAL PUBLIC SCHOOL', 'NATIONAL PUBLIC SCHOOL', 'NATIONAL VIDYALAYA', 'NAVA BHARATH INTERNATIONAL SCHOOL', 'NAVA BHARATH NATIONAL SCHOOL', 'NAVA BHARATH VIDYALAYA', 'NAVAA INTERNATIONAL SCHOOL', 'NAVABHARAT PUBLIC SCHOOL', 'NAVANEETA PUBLIC SCHOOL', 'NAVAYUGA WORLD SCHOOL', 'NAVY CHILDERN SCHOOL', 'NAVY CHILDREN SCHOOL', 'NAVY CHILDREN SCHOOL', 'NAVY CHILDREN SCHOOL', 'NAVY CHILDREN SCHOOL', 'NAVY CHILDREN SCHOOL', 'NAVYABHARATHI GLOBAL SCHOOL', 'NEELKANTH VIDYAPEETH RESIDENTIAL SCHOOL', 'NEHRU HIGH SCHOOL', 'NEHRUJI CENTRAL HIGHER SECONDARY SCHOOL', 'NEO SCHOOL AIZZA', 'NEW CREATION - A FREE PROGRESS SCHOOL', 'NEW CREATION BILINGUAL SCHOOL', 'NEW ERA SECONDARY SCHOOL', 'NEW LITTLE FLOWER E.M SCHOOL', 'NEW PRINCE SHRI BHAVANI VIDYASHRAM', 'NEW PRINCE SHRI BHAVANI VIDYASHRAM', 'NEWTONS APPLE PUBLIC SCHOOL', 'NEXTGEN INTERNATIONAL SCHOOL', 'NICE', 'NIRAJ INTERNATIONAL SCHOOL', 'NIRMALA HIGH SCHOOL', 'NIRMALA SR SEC SCHOOL', 'NMS VIJAYALAKSHMI SANJEEVIMALAYAN KALVIYAGAM', 'NOBLE PUBLIC SCHOOL', 'NOTREDAME OF HOLYCROSS SCHOOL', 'NOYYAL PUBLIC SCHOOL', 'NR PUBLIC SCHOOL', 'NSR HIGH SCHOOL', 'NTR INTERNATIONAL SCHOOL', 'NTR MODEL SCHOOL', 'NUTHAN INTERNATIONAL PUBLIC SCHOOL', 'OAK VALLEY SCHOOL', 'OAKDALE INTERNATIONAL SCHOOL', 'OAKRIDGE INTERNATIONAL SCHOOL', 'OAKRIDGE INTERNATIONAL SCHOOL', 'OAKRIDGE INTERNATIONAL SCHOOL', 'OAKWOOD INTERNATIONAL SCHOOL', 'OAKWOOD THE RAJAHMUNDRY SCHOOL', 'OASIS PUBLIC SCHOOL', 'OASIS SCHOOL', 'OASIS SCHOOL OF EXCELLENCE', 'OCEAN THE ABM SCHOOL', 'OCIMUM INTERNATIONAL SCHOOL', 'OLIVE PUBLIC SCHOOL', 'OLIVEMOUNT GLOBAL SCHOOL', 'OLYMPIA SCHOOL', 'OM SADHANA CENTRAL SCHOOL', 'OM SAI ENGLISH MEDIUM SCHOOL', 'OM SHANTHI HIGHER SEC SCHOOL', 'OMGS MATRIC HIGH SCHOOL', 'ONGC PUBLIC SCHOOL', 'OPEN ARMS INTERNATIONAL SCHOOL', 'ORANGE BRITISH ACADEMY', 'ORCHIDS THE INTERNATIONAL SCHOOL', 'ORDNANCE CLOTHING FACTORY SCHOOL', 'ORISON ACADEMY', 'OXALISS INTERNATIONAL SCHOOL,', 'OXFORD ENGLISH SCHOOL', 'OXFORD GRAMMAR SCHOOL', 'OXFORD INTERNATIONAL SCHOOL', 'OXFORD INTERNATIONAL SCHOOL', 'OXFORD PUBLIC SCHOOL', 'P OBUL REDDY PUBLIC SCHOOL', 'P S B B MILLENIUM SCHOOL', 'P S B B SENIOR SECONDARY SCHOOL', 'P S B B SENIOR SECONDARY SCHOOL', 'P S CHIDAMBARA NADAR SR ENGLISH SCHOOL', 'P S SENIOR SECONDARY SCHOOL', 'P V KRISHNA RAO MEMORIAL KUMAR E.M SCHOOL', 'P. A. INTERNATIONAL SCHOOL', 'P.D. JAIN PUBLIC SCHOOL', 'P.E.S. PUBLIC SCHOOL', 'P.S.TEMPLE GREEN VIDYASHRAM', 'PAAVAI VIDHYASHRAM', 'PACE SCHOOL', 'PADMA SESHADRI BALA BHAVAN SENIOR SECONDARY SCHOOL', 'PADMASHREE SCHOOL', 'PADMAVATHI VIDYALAYA', 'PALLAVA INTERNATIONAL SCHOOL', 'PALLAVI AWARE SCHOOL', 'PALLAVI MODEL SCHOOL', 'PALLAVI MODEL SCHOOL', 'PALLAVI MODEL SCHOOL', 'PALLAVI PROGRESSIVE HIGH SCHOOL', 'PALLAVI SCHOOL', 'PANDUGUDI SRI LAKSHMI NARAYANA VIDYALAYA', 'PANINEEYA MAHAVIDYALAYA PUBLIC SCHOOL', 'PANNAI PUBLIC SCHOOL', 'PARAM POOJYA SHREE RAMKRISHNA SARASWATI GURUKUL', 'PARAMAHANSA YOGANANDA VIDYALAYA', 'PARAMITA HERITAGE SCHOOL', 'PARAMPARA ACADEMY', 'PARK GLOBAL SCHOOL', 'PARK PUBLIC SCHOOL', 'PARK VIEW ACADEMY', 'PARVATHYS ANUGRAHAA INTERNATIONAL SCHOOL', 'PATHANJALI RES SCHOOL', 'PEACE ON GREEEN EARTH PUBLIC SCHOOL', 'PEARLS PUBLIC SCHOOL', 'PEARSON SCHOOL,', 'PEBBLE CREEK LIFE SCHOOL', 'PEEPAL PRODIGY SCHOOL', 'PEM SCHOOL OF EXCELLENCE', 'PENCHALREDDY HIGH SCHOOL', 'PENIEL SCHOOL', 'PETER INTERNATIONAL SCHOOL', 'PETIT SEMINAIRE CBSE SCHOOL', 'PGP INTERNATIONAL SCHOOL', 'PHOENIX ACADEMY', 'PHOENIX GREENS SCHOOL OF LEARNING', 'PICT MODEL SCHOOL', 'PINKZ PUBLIC SCHOOL', 'PIONEER PUBLIC SCHOOL', 'PIONEERS SCHOOL', 'PKN VIDYALAYA - CBSE', 'POINT CALIMERE INTERNATIONAL SCHOOL', 'POLLOCKS INTELLI SCHOOL', 'PON VIDYA MANDIR', 'PON VIDYASHRAM', 'PON VIDYASHRAM', 'PON VIDYASHRAM UNIQUE SCHOOL,', 'PONJESLY PUBLIC SCHOOL', 'PONNAIYAH RAMAJAYAM PUBLIC SCHOOL(CBSE PATTERN)', 'PONNAIYAH RAMAJAYAM PUBLIC SCHOOL.', 'POOJA INTERNATIONAL TECHNO SCHOOL', 'PRABODHANANDA PRASHANTI NIKETAN', 'PRACHIN GLOBAL SCHOOL', 'PRAGATHI CENTRAL SCHOOL', 'PRAGNYA GLOBAL SCHOOL', 'PRANAV INTERNATIONAL SCHOOL', 'PRASAN VIDYA MANDIR', 'PRASHANTI GURUKULAM', 'PRASIDDHI VIDYODAYA', 'PRERANA WALDORF SCHOOL', 'PRESENTATION CONVENT LOWER HIGHER PRIMARY ENGLISH MEDIUM SCHOOL', 'PRIDE INTERNATIONAL SCHOOL', 'PRIME INTERNATIONAL SCHOOL', 'PRINCE SRIVARI VIDYALAYA', 'PRINCE SRIVARI VIDYALAYA', 'PRINCETON PUBLIC SCHOOL', 'PRIST UNIVERSITY PUBLIC SCHOOL', 'PSG PUBLIC SCHOOL', 'PSK HI-TECH ACADEMY', 'PURNA VIDYA BHAVAN PUBLIC SCHOOL', 'PUSHKARA PUBLIC SCHOOL', 'PUSHPAGIRI RESIDENTIAL PUBLIC SCHOOL', 'PUSHPALATA VIDYA MANDIR', 'Q.I.S.U.P SCHOOL', 'QUANTUM LEAP SCHOOL', 'QUEEN MIRA INTERNATIONAL SCHOOL', 'R R INTERNATIONAL SCHOOL', 'R S KRISHNAN HR SEC SCHOOL', 'R.G.T. PUBLIC VIDYALAYA', 'R.M.K. PATASHAALA', 'R.M.K.RESIDENTIAL SCHOOL', 'R.N.OXFORD PUBLIC SCHOOL', 'R.P.A CENTRAL SCHOOL', 'RADCLIFFE SCHOOL HYDERABAD', 'RADIANCE PUBLIC SCHOOL', 'RADIANT INTERNATIONAL SCHOOL', 'RAIGAD MILITARY SCHOOL & JUNIOR COLLEGE', 'RAILWAY HIGHER SECONDARY SCHOOL', 'RAILWAY HIGHER SECONDARY SCHOOL', 'RAILWAY JUNIOR COLLEGE', 'RAILWAY MIXED HIGH SCHOOL', 'RAILWAY MIXED HIGH SCHOOL', 'RAILWAY MIXED HIGH SCHOOL GOLDEN ROCK', 'RAINBOW INTERNATIONAL SCHOOL', 'RAINBOW PUBLIC SCHOOL', 'RAINBOW SCHOOL', 'RAJA DESING PUBLIC SCHOOL', 'RAJADHANI RESIDENTIAL SCHOOL', 'RAJAJI VIDYALAYA', 'RAJAMAHENDRI INTERNATIONAL SCHOOL(EM)', 'RAJAS INTERNATIONAL SCHOOL', 'RAJMATA JIJAU ENGLISH SCHOOL', 'RAMACHANDRA INTERNATIONAL PUBLIC SCHOOL', 'RAMACHANDRAA PUBLIC SCHOOL', 'RAMAKRISHNA VIDHYA BHAVAN', 'RAMANA VIDYALAYA', 'RAMANATH SECONDARY SCHOOL', 'RAMCO VIDYALAYA', 'RAMIREDDY SUBBARAMIREDDY INTERNATIONAL SCHOOL', 'RAMSUNS INTERNATIONAL SCHOOL', 'RAMYA SATHIANATHAN VIDHYASHRAM', 'RANE VIDYALAYA', 'RANGUMUDRI  GRAMMAR  SCHOOL', 'RANK INTERNATIONAL SCHOOL', 'RASHTRIYA MILITARY SCHOOL', 'RASI INTERNATIONAL SCHOOL', 'RASI VIDHYASHRAM', 'RATHINAM INTERNATIONAL PUBLIC SCHOOL', 'RATNAM ENGLISH MEDIUM HIGH SCHOOL', 'RATNAM HIGH SCHOOL', 'RATNAPURI VIDYALAYAM', 'RAVINDRA BHARATHI GLOBAL SCHOOL', 'RAVINDRA BHARATHI GLOBAL SCHOOL', 'RAVINDRA BHARATHI GLOBAL SCHOOL', 'RAVINDRA BHARATHI GLOBAL SCHOOL', 'RAVINDRA BHARATHI GLOBAL SCHOOL', 'RAVINDRA BHARATHI HIGH SCHOOL', 'RAVINDRA BHARATHIS GREEN SCHOOL', 'RD INTERNATIONAL SCHOOL', 'REEDS WLD SCHOOL', 'REQELFORD INTERNATIONAL SCHOOL', 'RESERVE BANK STAFF QUARTERS SCHOOL', 'RGM INTERNATIONAL SCHOOL', 'RIDGE SCHOOL', 'RISHI PUBLIC SCHOOL', 'RISHI VIDYALAYA', 'RISHS INTERNATIONAL SCHOOL', 'RKN GYAN JOTHI PUBLIC SCHOOL', 'RKV SENIOR SECONDARY SCHOOL', 'RMK SCHOOL', 'RMT INTERNATIONAL SCHOOL', 'ROCKFORD SENIOR SECONDARY SCHOOL', 'ROCKWELL INTERNATIONAL SCHOOL', 'ROCKWOODS SCHOOL', 'ROOTS MONTESSORI SCHOOL', 'ROSARY HIGH SCHOOL', 'ROSE MARY IDEAL PUBLIC SCHOOL', 'ROSE MARY MODEL PUBLIC SCHOOL', 'ROSE MARY PUBLIC SCHOOL', 'ROSEMARY SCHOOL OF EXCELLENCE', 'ROTTERDAM SCHOOL', 'ROUNDTABLE 30 VIVEKANANDA VIDYALAYA', 'ROYAL INTERNATIONAL SCHOOL', 'RPES JNANA SARASWATHI PUBLIC SCHOOL', 'RSK INTERNATIONAL SCHOOL', 'RUDRAPPASAMY SCHOOL', 'RUKMIN SCHOOL', 'RVS INTERNATIONAL SCHOOL', 'RYAN INTERNATIONAL SCHOOL', 'RYAN INTERNATIONAL SCHOOL', 'S B O A  SCHOOL & JR COLLEGE', 'S M K VIDHYASHRAM', 'S P D H SINDHI MODEL SR SEC SCHOOL', 'S R DIGI SCHOOL', 'S R S VIDYA MANDIR', 'S R V INNOVATIVE PUBLIC SCHOOL', 'S V M CENTRAL PUBLIC SCHOOL', 'S V PUBLIC SCHOOL', 'S. R. N. MEHTA SCHOOL', 'S.B.I.O.A. SCHOOL', 'S.E.S - V V CENTRAL PUBLIC SCHOOL', 'S.F.S.SCHOOL', 'S.K.P VANITHA INTERNATIONAL SCHOOL', 'S.M.P. MODEL HIGH SCHOOL', 'S.S. CITIZEN SCHOOL', 'SAANVI INTERNATIONAL UPPER PRIMARY SCHOOL', 'SABARMATHI VIDHYALAYA PUBLIC SCHOOL', 'SACRED HEART CENTRAL SCHOOL', 'SACRED HEART PUBLIC SCHOOL', 'SACRED HEART SCHOOL', 'SADASHIVA HIGH SCHOOL', 'RUKMIN SCHOOL', 'RVS INTERNATIONAL SCHOOL', 'RYAN INTERNATIONAL SCHOOL', 'RYAN INTERNATIONAL SCHOOL', 'S B O A  SCHOOL & JR COLLEGE', 'S M K VIDHYASHRAM', 'S P D H SINDHI MODEL SR SEC SCHOOL', 'S R DIGI SCHOOL', 'S R S VIDYA MANDIR', 'S R V INNOVATIVE PUBLIC SCHOOL', 'S V M CENTRAL PUBLIC SCHOOL', 'S V PUBLIC SCHOOL', 'S. R. N. MEHTA SCHOOL', 'S.B.I.O.A. SCHOOL', 'S.E.S - V V CENTRAL PUBLIC SCHOOL', 'S.F.S.SCHOOL', 'S.K.P VANITHA INTERNATIONAL SCHOOL', 'S.M.P. MODEL HIGH SCHOOL', 'S.S. CITIZEN SCHOOL', 'SAANVI INTERNATIONAL UPPER PRIMARY SCHOOL', 'SABARMATHI VIDHYALAYA PUBLIC SCHOOL', 'SACRED HEART CENTRAL SCHOOL', 'SACRED HEART PUBLIC SCHOOL', 'SACRED HEART SCHOOL', 'SADASHIVA HIGH SCHOOL', 'RUKMIN SCHOOL', 'RVS INTERNATIONAL SCHOOL', 'RYAN INTERNATIONAL SCHOOL', 'RYAN INTERNATIONAL SCHOOL', 'S B O A  SCHOOL & JR COLLEGE', 'S M K VIDHYASHRAM', 'S P D H SINDHI MODEL SR SEC SCHOOL', 'S R DIGI SCHOOL', 'S R S VIDYA MANDIR', 'S R V INNOVATIVE PUBLIC SCHOOL', 'S V M CENTRAL PUBLIC SCHOOL', 'S V PUBLIC SCHOOL', 'S. R. N. MEHTA SCHOOL', 'S.B.I.O.A. SCHOOL', 'S.E.S - V V CENTRAL PUBLIC SCHOOL', 'S.F.S.SCHOOL', 'S.K.P VANITHA INTERNATIONAL SCHOOL', 'S.M.P. MODEL HIGH SCHOOL', 'S.S. CITIZEN SCHOOL', 'SAANVI INTERNATIONAL UPPER PRIMARY SCHOOL', 'SABARMATHI VIDHYALAYA PUBLIC SCHOOL', 'SACRED HEART CENTRAL SCHOOL', 'SACRED HEART PUBLIC SCHOOL', 'SACRED HEART SCHOOL', 'SADASHIVA HIGH SCHOOL', 'SADASHIVA SCHOOL', 'SADHANA INFINITY SCHOOL', 'SADHANA UPPER PRIMARY SCHOOL (EM)', 'SADHU VASWANI INTERNATIONAL SCHOOL', 'SAGAR INTERNATIONAL SCHOOL', 'SAGE INTERNATIONAL  SCHOOL', 'SAGE SCHOOL', 'SAGRITARA SCHOOL', 'SAI BABA CENTRAL SCHOOL', 'SAI LAUREL INTERNATIONAL SCHOOL', 'SAI SPURTHI D.A.V SCHOOL', 'SAI VIDHYALAYA', 'SAINIK SCHOOL', 'SAINIK SCHOOL', 'SAINIK SCHOOL', 'SAINIK SCHOOL', 'SAINIK SCHOOL KALIKIRI', 'SAINIK SCHOOL KODAGU', 'SAIRAM VIDYALAYA', 'SAIRAM VIDYALAYA', 'SAMADH HR SECONDARY SCHOOL', 'SAMARTHA  SCHOOL', 'SAMASHTI INTERNATIONAL SCHOOL', 'SAMVIDA VIDYA PEETH', 'SAN ACADEMY', 'SAN ACADEMY', 'SAN ACADEMY', 'SAN MARIA HIGH SCHOOL', 'SANA MODEL SCHOOL', 'SANDUR RES. COMPOSITE JR COLLEGE', 'SANGFORD MATRICULATION HIGHER SECONDARY SCHOOL', 'SANGHAMITRA SCHOOL', 'SANKALP SCHOOL', 'SANSKAR INNOVATIVE SCHOOL', 'SANSKRITI SCHOOL', 'SANSKRITI THE SCHOOL', 'SANSKRUTI GLOBAL SCHOOL', 'SANTHANAM VIDHYALAYA', 'SANTINIKETAN PUBLIC SCHOOL', 'SANTINOS GLOBAL SCHOOL', 'SARANYA CONCEPT SCHOOL', 'SARASWATHI HIGH SCHOOL', 'SARASWATHI VIDYALAYA', 'SARASWATI SHISHU MANDIR', 'SARATHA INTERNATIONAL SCHOOL', 'SARITHA VIDYA NIKETAN', 'SARTHI SCHOOL', 'SAS VIDYALAYA', 'SASI E.M. HIGH SCHOOL', 'SASSI GNANODAYA ACADEMY', 'SATCHIDANANDA JOTHI NIKETHAN INTERNATIONAL SCHOOL', 'SATHYA SAAI PUBLIC SCHOOL', 'SATHYA VIDYALAYA', 'SATHYAM INTERNATIONAL SCHOOL', 'SAV BALAKRISHNA SCHOOL', 'SBG VIDHYALAYA', 'SBIOA INTERNATIONAL SCHOOL', 'SBK INTERNATIONAL SCHOOL', 'SBOA GLOBAL SCHOOL', 'SBOA SCHOOL', 'SCAD INTERNATIONAL SCHOOL', 'SCAD WORLD SCHOOL', 'SCAD WORLD SCHOOL', 'SCHOLARS ACADEMY', 'SCHOLARS INTERNATIONAL SCHOOL', 'SCISM PUBLIC SCHOOL', 'SCOPE GLOBAL SCHOOL', 'SDR (EM) HIGH SCHOOL', 'SECUNDERABAD PUBLIC SCHOOL', 'SEETHA MAHALAKSHMI DAV PUBLIC SCHOOL', 'SEETHARAM INTERNATIONAL SCHOOL', 'SELVA INTERNATIONAL SCHOOL', 'SENGUNTHAR PUBLIC SCHOOL', 'SENTHIL PUBLIC SCHOOL', 'SENTHIL PUBLIC SCHOOL', 'SENTIA THE GLOBAL SCHOOL', 'SERVITE SCHOOL', 'SFS PUBLIC SCHOOL', 'SFS SCHOOL CBSE', \"SH SHAYAMALA'S CENTRAL SCHOOL\", 'SHAKTHI PUBLIC SCHOOL', 'SHAKTI VINAYAKAR HINDU VIDYALAYA S S', 'SHANTINIKETAN SCHOOL', 'SHANTINIKETAN VIDYALAYA', 'SHARANALAYA INTERNATIONAL MONTESSORI SCHOOL', 'SHARVALAKSHA VIDHYAALAYAA', 'SHASTRA SCHOOL', 'SHAZAMMAL VIDHYA MANDHIR', 'SHEFFIELD INNOVATIVE SCHOOL', 'SHEMFORD FUTURISTIC SCHOOL', 'SHEMFORD FUTURISTIC SCHOOL', 'SHEMFORD FUTURISTIC SCHOOL', 'SHEMFORD FUTURISTIC SCHOOL', 'SHEMPARK PUBLIC SCHOOL', 'SHERWOOD HALL SR SEC SCHOOL', 'SHEVAROYS VALLEY SCHOOL', 'SHIFAN NOOR GLOBAL ACADEMY', 'SHIKSHAA PUBLIC SCHOOL', 'SHIVA NIKETAN SCHOOL', 'SHIVAANI  VIDHYAA MANDIR', 'SHIVAJI VIDYA PEETH HIGH SCHOOL', 'SHLOKA - A BIRLA SCHOOL', 'SHLOKA A BIRLA SCHOOL', 'SHLOKA ENGLISH MEDIUM SCHOOL', 'SHLOKA SCHOOL', 'SHRADDHA CHILDREN ACADEMY', 'SHREE BHARATH VIDYAASHRAM', 'SHREE BHARATH VIDYAASHRAM', 'SHREE GUGANS SCHOOL', 'SHREE GURUKULAM PUBLIC SCHOOL', 'SHREE NIKETAN PATASALA', 'SHREE NIKETAN PATASALA', 'SHREE RAAJA RAJAN SCHOOL', 'SHREE RAGHAVENDRA SCHOOL', 'SHREE SANKALPA SCHOOL', 'SHREE SARASSWATHI VIDHYAAH MANDHEER', 'SHREE SWAMINARAYAN GURUKUL INTERNATIONAL SCHOOL', 'SHREE SWAMINARAYAN GURUKUL SCHOOL', 'SHREE SWAMINARAYAN GURUKUL VIDYALAYA', 'SHRI B S MOOTHA GIRLS SR SEC SCHOOL', 'SHRI HANUMAN VYAYAM SHALA PUBLIC SCHOOL', 'SHRI JAY RAJ VIDYA MANDIR SCHOOL (INTERNATIONAL SCHOOL)', 'SHRI JAYENDRA VIDHYALAYA', 'SHRI KRISHNASWAMY VIDYASHRAM', 'SHRI MAHARISHI VIDYA MANDIR', 'SHRI NATARAJAN MEMORIAL PUBLIC SCHOOL', 'SHRI RAM SCHOOL', 'SHRI ROSY VIDYAALAYA', 'SHRI SAI VIDHYASHARAM', 'SHRI SENTHUR INTERNATIONAL SCHOOL', 'SHRI SOMANATHA GREEN FIELDS PUBLIC', 'SHRI SWAMY PUBLIC SCHOOL', 'SHRI VIDHYA BHARATHI MODERN SCHOOL', 'SHRI VIDHYA MANDHIR', 'SHRIKARRA VIDHYA MANDHIR', 'SHRINE VAILANKANNI SR SEC SCHOOL', 'SHRISHTI VIDYASHRAM', 'SIDDARTH VILLAGE SCHOOL', 'SIDDHARHA PUBLIC SCHOOL', 'SIDDHARTH PUBLIC SCHOOL', 'SIDDHARTHA QUEST SCHOOL', 'SIDHAR GNANA PEEDAM SENIOR SECONDARY SCHOOL', 'SIGARAM INTERNATIONAL SCHOOL', 'SIGMA SCHOOL', 'SILVER BELLS CENTRAL SCHOOL', 'SILVER OAKS EDUCATIONAL SOCIETY', 'SILVER OAKS HIGH SCHOOL', 'SIR C R REDDY PUBLIC SCHOOL', 'SIR ISSAC NEWTON SCHOOL', 'SIR MUTHA SCHOOL', 'SIR SIVASWAMI KALALAYA SR SEC SCHOOL', 'SISHYA SCHOOL', 'SISTER ALPHONSA SCHOOL', 'SISTER NIVEDITA SCHOOL', 'SISTER STANISLAS MEMORIAL ENGLISH SCHOOL', 'SITA RAJARAM PUBLIC SCHOOL', 'SIVA SAKTHI VIDYALAYA', 'SIVAGAMIAMMAL INTERNATIONAL PUBLIC SCHOOL', 'SIVAM INTERNATIONAL SCHOOL', 'SIVANANDA RAJARAM SENIOR SECONDARY SCHOOL', 'SIVANTHI PUBLIC SCHOOL', 'SIVASAKTHI INTERNATIONAL SCHOOL', 'SKILL STORK SCHOOL', 'SKV INTERNATIONAL PUBLIC SCHOOL', 'SKV INTERNATIONAL SCHOOL', 'SKV VIDHYAASHRAM', 'SLATE - THE SCHOOL', 'SLOKA  SCHOOL', 'SLOKA THE HYDERABAD WALDORF SCHOOL', 'SLOKA THE SCHOOL', 'SMART MODERN SCHOOL', 'SMR NATIONAL SCHOOL', 'SMT DURGADEVI CHOUDHARI V VIDYALAYA', 'SMT GODAVARI DEVI SARAF HIGH SCHOOL', 'SMT K N SHAH & P.M CHETTY V VIDYALAY', 'SMT NARBADA DEVI J AGARWAL V VIDYALA', 'SMT RAMKUWAR DEVI FOMRA VIVEKANAND VIDYALAYA', 'SMT SUNDARAVALLI MEMORIAL SCHOOL', 'SMT. SETHU RAMAMAL VIDYA MANDIR', 'SMT.ESWARAMMA HIGH SCHOOL', 'SNS ACADEMY', 'SNV GLOBAL SCHOOL', 'SOUNDARARAJA VIDYALAYA', 'SOUTHSIDE INTERNATIONAL SCHOOL', 'SOWMA PUBLIC SCHOOL', 'SPACE CENTRAL SCHOOL', 'SPARK SCHOOL (CBSE)', 'SPARK SCHOOL (CBSE)', 'SPARKRILL INTERNATIONAL SCHOOL', 'SPARTAN EXCLUSIVE SCHOOL', 'SPARTAN INTERNATIONAL SCHOOL', 'SPDS JAYANTHI VIDYAPEEDAM', 'SPECTRUM LIFE SCHOOL', 'SPR SCHOOL OF EXCELLENCE', 'SPRING MOUNT PUBLIC SCHOOL', 'SPRINGDALE PUBLIC SCHOOL', 'SPRINGDAYS SCHOOL (CBSE)', 'SPRINGFIELDS HIGH SCHOOL', 'SR PRIME SCHOOL', 'SR PRIME SCHOOL', 'SR SCHOOL OF EXCELLENCE', 'SR VIDYANIKETHAN', 'SREE BHANODAYA ENGLISH MEDIUM HIGH SCHOOL', 'SREE GOKULAM PUBLIC SCHOOL', 'SREE MOTHER VIDHYASHRAM', 'SREE NARAYANA MISSION SR SEC SCHOOL', 'SREE SANKARA BALA VIDYALAYA GOLDEN JUBILEE SCHOOL', 'SREE SHANTHI ANAND VIDYALAYA', 'SREE SWAMINARAYAN GURUKUL INTERNATIONAL SCHOOL', 'SREE VASAWI WINNERS SCHOOL', 'SREE VIDYA NIKETHAN RES. SCHOOL', 'SREE VIDYA PEETH', 'SREE VIDYA VIDYALAYAM EM SCHOOL', 'SREE VIDYANIKETHAN HIGH SCHOOL', 'SREE VIDYANIKETHAN INTERNATIONAL SCHOOL', 'SREEVATSA VISWANANTHAN VIVEKANANDA', 'SRI AKILANDESWARI VIDYALAYA', 'SRI AKSHARA VIDYALAYA HIGH SCHOOL', 'SRI AMBAL PUBLIC SCHOOL(CBSE)', 'SRI AMBAL THULASI PUBLIC SCHOOL', 'SRI AMBAL VIDHYALAYA', 'SRI ANNAI RAANI CONVENT HR. SEC. SCHOOL', 'SRI ANNAPURNA (E.M.) HIGH SCHOOL', 'SRI AUROBINDO MIRA UNIVERSAL SCHOOL', 'SRI AYYAN KENDRA VIDYALAYA INTERNATIONAL SCHOOL', 'SRI BALA VIDYALAYA SCHOOL', 'SRI CHAITANYA HIGH SCHOOL', 'SRI CHAITANYA HIGH SCHOOL', 'SRI CHAITANYA HIGH SCHOOL', 'SRI CHAITANYA INTERNATIONAL SCHOOL', 'SRI CHAITANYA SCHOOL', 'SRI CHAITANYA SCHOOL', 'SRI CHAITANYA SCHOOL', 'SRI CHAITANYA SCHOOL', 'SRI CHAITANYA TECHNO SCHOOL', 'SRI CHAITANYA TECHNO SCHOOL', 'SRI CHAITANYA TECHNO SCHOOL', 'SRI CHAITANYA TECHNO SCHOOL', 'SRI CHAITANYA TECHNO SCHOOL', 'SRI CHAITANYA TECHNO SCHOOL', 'SRI CHAITANYA TECHNO SCHOOL', 'SRI CHAITANYA TECHNO SCHOOL', 'SRI CHAITANYA TECHNO SCHOOL', 'SRI CHAITANYA TECHNO SCHOOL', 'SRI CHAITANYA TECHNO SCHOOL', 'SRI CHAITANYA TECHNO SCHOOL', 'SRI CHAITANYA TECHNO SCHOOL', 'SRI CHAITANYA TECHNO SCHOOL', 'SRI CHAITANYA TECHNO SCHOOL', 'SRI CHAITANYA TECHNO SCHOOL', 'SRI CHAITANYA TECHNO SCHOOL', 'SRI CHAITANYA TECHNO SCHOOL', 'SRI CHAITANYA TECHNO SCHOOL', 'SRI CHAITANYA TECHNO SCHOOL', 'SRI CHAITANYA TECHNO SCHOOL', 'SRI CHAITANYA TECHNO SCHOOL', 'SRI CHAITANYA TECHNO SCHOOL,IYYAPPANTHANGAL', 'SRI CHAITANYA VIDYA NIKETAN', 'SRI CITY CHINMAYA VIDYALAYA', 'SRI DHARAMCHAND JAIN SCHOOL', 'SRI DHARANI INTERNATIONAL SCHOOL', 'SRI DHAYANANDAPURI MODEL PUBLIC SCHOOL', 'SRI GURU VIDYALAYA', 'SRI GURUKULAM SECONDARY SCHOOL', 'SRI JAIVIKAS PUBLIC SCHOOL', 'SRI JAWANTHRAJ TEJRAJ SURANA JAIN VIDYALAYA', 'SRI JAYENDRA GOLDEN JUBILEE SCHOOL', 'SRI JAYENDRA SARASWATHY VIDYALAYA SCHOOL', 'SRI JAYENDRA SWAMIGAL VIDHYA KENDRA', 'SRI K.R.P. ACADEMY', 'SRI KANCHIMAHASWAMI VIDHYA MANDIR', 'SRI KRISH INTERNATIONAL SCHOOL', 'SRI KRISH INTERNATIONAL SCHOOL', 'SRI KRISHNA SCHOOL', 'SRI KRISHNASAMY INTERNATIONAL SCHOOL', 'SRI KUMARAN PUBLIC SCHOOL', 'SRI LAKSHMI (EM)HIGH SCHOOL', 'SRI LAKSHMI VIDHYAASHRAM', 'SRI LALITHA VIDHYALAYA', 'SRI MARUTHI  PRIMARY AND HIGH SCHOOL', 'SRI MUNEESHWARA GURUKULA VIDYAMANDIRA', 'SRI NACHAMMAL VIDYAVANI', 'SRI NAKSHATRA SCHOOL', 'SRI NARAYANI VIDYASHRAM SCHOOL', 'SRI NATIONAL SCHOOL', 'SRI PARASAKTHI VIDYALAYA', 'SRI PATIBANDLA SITARAMAIAH HIGH SCHOOL', 'SRI PRAKASH RESIDENTIAL SCHOOL', 'SRI PRAKASH SYNERGY SCHOOL', 'SRI PRAKASH VIDYA NIKETAN', 'SRI PRAKASH VIDYA NIKETAN', 'SRI PRAKASH VIDYANIKETAN', 'SRI PRAKASH VIDYANIKETAN ENGLISH MEDIUM SCHOOL', 'SRI R M  JAIN VIDYASHARAM', 'SRI RAAM VIDYALAYA PUBLIC SCHOOL', 'SRI RAGHAVENDRA GURUKULA HIGHER PRIMARY SCHOOL', 'SRI RAJA MURUGA CBSE SCHOOL', 'SRI RAJA VIDYA VIKAAS SCHOOL', 'SRI RAJU HIGH SCHOOL', 'SRI RAM DAYAL KHEMKA VIVEKANANDA VIDYALAYA JUNIOR COLLEGE', 'SRI RAM PUBLIC SCHOOL', 'SRI RAM VIDHYA MANDIR SCHOOL (CBSE)', 'SRI RAM VINAYAKA SCHOOL', 'SRI RAMA RURAL (EM&TM) HIGH SCHOOL', 'SRI RAMAJAYAM GLOBAL SCHOOL', 'SRI RAMAKRISHNA CENTRAL SCHOOL (CBSE)', 'SRI RAMAKRISHNA PUBLIC SCHOOL', 'SRI RAMAKRISHNA VIDYA MANDIR INTERNATIONAL SCHOOL', 'SRI RAMANA ACADEMY', 'SRI RAMANA PUBLIC SCHOOL', 'SRI SABARI NATIONAL SCHOOL', 'SRI SADINENI CHOWDARAIAH RESIDENTIAL PUBLIC SCHOOL', 'SRI SAI RAM PUBLIC SCHOOL', 'SRI SAI VIDYASHRAM', 'SRI SAKTHI VINAYAGAR INTERNATIONAL SCHOOL', 'SRI SANKARA SR SEC SCHOOL', 'SRI SANKARA VIDYALAYAA', 'SRI SARADA SECONDARY SCHOOL', 'SRI SARADHA NIKETHAN PUBLIC SCHOOL', 'SRI SARADHA VIDHYASHRAM', 'SRI SARASWATHI VIDYALAYA', 'SRI SATHYA SAI HR SEC SCHOOL', 'SRI SATHYA SAI INSTITUTE OF EDUCARE', 'SRI SATHYA SAI VIDYA VIHAR', 'SRI SESHAAS INTERNATIONAL PUBLIC SCHOOL', 'SRI SHAKTHI INTERNATIONAL SCHOOL', 'SRI SHIRDI SAI VIDYA NIKETAN', 'SRI SHIRDI SAI VIDYA NIKETAN EM HIGH SCHOOL', 'SRI SIKSHA KENDRA INTERNATIONAL SCHOOL', 'SRI SIVANANDA BALALAYA', 'SRI SLOKA SCHOOL', 'SRI SRI ACADEMY', 'SRI SUDHA ENGLISH MEDIUM HIGH SCHOOL', 'SRI SUSHWANI MATHA JAIN VIDYALAYA', 'SRI SWAMI CHINNA JEEYAR  SCHOOL', 'SRI SWAMY INTERNATIONAL SCHOOL', 'SRI SWARNA VIDHYASHRAM', 'SRI TVS RAO SRIKRISHNA VIDYA MANDIR', 'SRI USHODAYA HIGH SCHOOL', 'SRI VAMSHIDHAR HIGH SCHOOL', 'SRI VANI INTERNATIONAL SCHOOL', 'SRI VENKATESHWARA INTERNATIONAL SCHOOL', 'SRI VENKATESHWARA VIDYALAYA SCHOOL', 'SRI VENKATESWARA BALA KUTEER', 'SRI VENKATESWARA VIDHYALAYA', 'SRI VETRI VIDHYALAYA PUBLIC SCHOOL', 'SRI VIDHYA ACADEMY INTERNATIONAL RESIDENTIAL SCHOOL', 'SRI VIDYA MANDIR HIGHER SEC. SCHOOL', 'SRI VIDYA MANDIR HIGHER SECONDARY SC', 'SRI VIDYA MANDIR HR SEC SCHOOL', 'SRI VIDYA MANDIR HR SEC SCHOOL', 'SRI VIDYA MANDIR INTERNATIONAL SCHOOL', 'SRI VIDYA MANDIR SCHOOL', 'SRI VIDYA MANDIR SECONDARY SCHOOL', 'SRI VIDYA MANDIR SENIOR SECONDARY SCHOOL', 'SRI VIDYA SECONDARY SCHOOL', 'SRI VIDYAVIHAR SCHOOL', 'SRI VIGNESH PUBLIC SCHOOL', 'SRI VIGNESH VIDYALAYA SCHOOL', 'SRI VIJAY VIDYASHRAM', 'SRI VIJAY VIDYASHRAM', 'SRI VIJNANA VIHARA ENGLISH MEDIUM SCHOOL', 'SRI VIMALA VIDYALAYA', 'SRI VINAYAGA INTERNATIONAL SCHOOL', 'SRI VINAYAGA VIDHYALAYA SCHOOL', 'SRI VINAYAKA PUBLIC SCHOOL', 'SRI VIVEKANANDA CENTRAL SCHOOL', 'SRI VIVEKANANDHA PUBLIC SCHOOL', 'SRIMATHI SUNDARAVALLI MEMORIAL SCHOOL', 'SRINIVASA PUBLIC SCHOOL', 'SRINIVASA RAMANUJAN HIGH SCHOOL', 'SRISHTI WORLD SCHOOL', 'SRIVAGEESHA VIDHYASHRAM', 'SRIVATSAL GURUKUL VIDYALAYA', 'SRIVI LIONS INTERNATIONAL SCHOOL', 'SRK INTERNATIONAL SCHOOL', 'SRK INTERNATIONAL SCHOOL', 'SRM PUBLIC SCHOOL', 'SRM PUBLIC SCHOOL', 'SRRI SPK PUBLIC SENIOR SECONDARY SCHOOL', 'SRV PUBLIC SCHOOL', 'SRV PUBLIC SCHOOL', 'SRV PUBLIC SCHOOL', 'SSM ACADEMY', 'SSM CENTRAL SCHOOL', 'SSR CONCEPT SCHOOL', 'SSR DISCOVERY ACADEMY', 'SSVM SCHOOL OF EXCELLENCE', 'SSVM WORLD SCHOOL', 'ST BRITTOS ACADEMY', 'ST JOHNS PUBLIC SCHOOL', \"ST MICHAEL'S SCHOOL\", 'ST MICHAELS ACADEMY', 'ST PAULS ACADEMY', 'ST PETERS HIGH SCHOOL', 'ST RITA HIGH SCHOOL', 'ST THOMAS SCHOOL', 'ST. ANDREWS HIGH SCHOOL', 'ST. ANNES CBSE SCHOOL', 'ST. ANNES SCHOOL', 'ST. ASSISI PUBLIC SCHOOL', 'ST. AUGUSTINE E.M. SCHOOL', 'ST. BEDES ACADEMY', 'ST. CHARLES SCHOOL', 'ST. CLARET SCHOOL', 'ST. ELIZABETH CONVENT (E.M.) HIGH SCHOOL', 'ST. FRANCIS E.M. SCHOOL', 'ST. JAMES ACADEMY', \"ST. JOHN'S ENGLISH SCHOOL\", \"ST. JOHN'S INTERNATIONAL RESIDENTIAL SCHOOL\", \"ST. JOHN'S SCHOOL\", \"ST. JOHN'S SENIOR SEC SCHOOL\", 'ST. JOHNS ENGLISH MEDIUM HIGH SCHOOL', 'ST. JOHNS UNIVERSAL SCHOOL', 'ST. JOSEPH CALASANZ SCHOOL', 'ST. JOSEPH GLOBAL SCHOOL', 'ST. JOSEPH GLOBAL SCHOOL', 'ST. JOSEPH INTERNATIONAL SCHOOL', 'ST. JOSEPH INTERNATIONAL SCHOOL', 'ST. JOSEPH INTERNATIONAL SCHOOL', 'ST. JOSEPH INTERNATIONAL SCHOOL', 'ST. JOSEPH OF CLUNY SCHOOL - CBSE', 'ST. JOSEPH PUBLIC SCHOOL', 'ST. JOSEPH PUBLIC SCHOOL', \"ST. JOSEPH'S ENGLISH SCHOOL\", \"ST. JOSEPH'S RESIDENTIAL SCHOOL\", 'ST. JOSEPHS ACADEMY', 'ST. JOSEPHS HIGH SCHOOL, GUNTUR', 'ST. JOSEPHS SCHOOL', 'ST. MARY UPPER PRIMARY SCHOOL', 'ST. MARYS CENTRAL SCHOOL', 'ST. MARYS CENTRAL SCHOOL, KALIYAL', 'ST. MARYS SCHOOL', 'ST. MARYS SCHOOL, MARIAGIRI', 'ST. MARYS VIDYANIKETAN HIGH SCHOOL', 'ST. PATRICKS ACADEMY', \"ST. PETER'S CENTRAL PUBLIC SCHOOL\", 'ST. PETERS HIGH SCHOOL', 'ST. PETERS HIGH SCHOOL', 'ST. PETERS MODEL SCHOOL', 'ST. ROSSELLOS CENTRAL SCHOOL', 'ST. THERESAS  SECONDARY SCHOOL', 'ST. THOMAS  ACADEMY', 'ST. XAVIER SCHOOL,(ENGLISH MEDIUM MIDDLE SCHOOL)', 'ST.ANDREWS SCHOOL', 'ST.ANNS ENGLISH MEDIUM HIGH SCHOOL', 'ST.ANNS SCHOOL', 'ST.ANTONYS PUBLIC SCHOOL', 'ST.AROKIA ANNAI SCHOOL', 'ST.CHRISTOPHERS ACADEMY', 'ST.GEORGE INTERNATIONAL SCHOOL', 'ST.JOAN OF ARC INTERNATIONAL SCHOOL', 'ST.JOHN PAUL ACADEMY (CBSE)', 'ST.JOHNS ENGLISH MEDIUM SCHOOL', 'ST.JOHNS NATIONAL ACADEMY', 'ST.JOHNS PUBLIC SCHOOL', 'ST.JOSEPH OF CLUNY PUBLIC SCHOOL', 'ST.JOSEPHS HIGH SCHOOL', 'ST.JOSEPHS INTERNATIONAL SCHOOL', 'ST.JOSEPHS SCHOOL, VIRAPANDIANPATNAM', 'ST.KANAKADASA PUBLIC SCHOOL', 'ST.MARTINS HIGH SCHOOL', 'ST.MARTINS HIGH SCHOOL', 'ST.MARYS HIGH SCHOOL', 'ST.PAUL PUBLIC SCHOOL', 'ST.PAULA MONTAL SCHOOL', \"ST.PETER'S EDU SCHOOL\", 'ST.PETERS HIGH SCHOOL, CHURCH CAMPUS OLD', 'ST.XAVIERS PUBLIC SCHOOL', 'STACG HI-TECH SCHOOL', 'STAGNES HIGH SCHOOL', 'STANES SCHOOL', 'STANFORD PUBLIC SCHOOL', 'STANSFORD INTERNATIONAL HR. SEC. SCHOOL', 'STAR SCHOOL', 'STELLA MARYS CBSE SCHOOL', 'STEPPING STONES HIGH SCHOOL', 'STMARTINS HIGH SCHOOL MIYAPUR', 'SUBBIAH CENTRAL SCHOOL', 'SUBHA NIKETAN(ENGLISH MEDIUM) SCHOOL', 'SUBHAM VIDHYALAYAA', 'SUBHAM VIDYA MANDIR', 'SUCHITRA ACADEMY', 'SUDDHANANDA VIDYALAYA', 'SUDHARSANAM VIDYAASHRAM', 'SUGUNA INTERNATIONAL SCHOOL', 'SUGUNA PIP SCHOOL', 'SULTAN-UL-ULOOM PUBLIC SCHOOL', 'SUNBEAM SCHOOL', 'SUNFLOWER SCHOOL', 'SUNFLOWER VEDIC SCHOOL', 'SUNSHINE CHENNAI SENIOR SECONDARY SCHOOL', 'SUPRABHAT MODEL HIGH SCHOOL', 'SURYA ACADEMY THE GLOBAL SCHOOL', 'SUSHIL HARI INTL. RES. SCHOOL', 'SVC SAI NIKETAN SCHOOL', 'SVS INTERNATIONAL SCHOOL', 'SWAMI VIVEKANANDA VIDYA PEEDAM', 'SWAMI VIVEKANANDA VIDYAMANDIR', 'SWAMYS  SCHOOL', 'SWAMYS SCHOOL', 'SWAMYS SCHOOL', 'SWARNANDHRA INTERNATIONAL SCHOOL', 'SWISS ACADEMY PRIMARY ENGLISH SCHOOL', 'SYED AMMAL PUBLIC SCHOOL', 'T.I.M.E SCHOOL', 'T.I.M.E SCHOOL', 'T.J.S.PUBLIC SCHOOL (CBSE)', 'TAGORE HIGH SCHOOL', 'TAGORE PUBLIC SCHOOL', 'TAKSHASILA PUBLIC SCHOOL.', 'TALLA PADMAVATHI SCHOOL', 'TARUWIN VIDHYA MANDIR SCHOOL', 'TATVA GLOBAL SCHOOL', 'TEJASVI VIDYARANYA', 'TEJASWI HIGH SCHOOL', 'TEJASWI PUBLIC SCHOOL', 'TELUGU KULALAR SRI SOOLAI VINAYAGAR VIDYALA', 'THAAI SCHOOL', 'THAMARAI INTERNATIONAL SCHOOL', 'THAMARAI INTERNATIONAL SCHOOL', 'THANGAM MOUNT LITERA ZEE SCHOOL', 'THE ADHYAYANA INTERNATIONAL PUBLIC SCHOOL', 'THE ADITYA BIRLA PUBLIC SCHOOL', 'THE ADITYA BIRLA PUBLIC SCHOOL', 'THE ADITYA BIRLA SCHOOL', 'THE ASHOK LEYLAND SCHOOL', 'THE ATHENA SCHOOL', 'THE B.V.B. SCHOOL THERKUPPALLAM', 'THE BRIGADE SCHOOL  AT MAHADEVAPURA', 'THE BRIGADE SCHOOL AT MALLESWARAM', 'THE CAMFORD INTERNATIONAL SCHOOL', 'THE CHILDPLAN ACADEMY', 'THE CREEK PLANET SCHOOL', 'THE CREEK PLANET SCHOOL - VENUS CAMPUS', 'THE CREEK PLANET SCHOOL, NEPTUNE CAMPUS', 'THE CREEK PLANET SCHOOL, ORBIT CAMPUS', 'THE EARNEST ACADEMY', 'THE FATHIMA MATRICULATION HR. SEC. SCHOOL', 'THE GAUDIUM SCHOOL', 'THE GEEKAY WORLD SCHOOL', 'THE GLOBAL EDGE SCHOOL', 'THE GLOBAL EDGE SCHOOL', 'THE GREEN MOUNT INTERNATIONAL SCHOOL', 'THE GREENS SCHOOL', 'THE HINDU SENIOR SEC  SCHOOL', 'THE HINDU SENIOR SECONDARY SCHOOL', 'THE HYDERABAD PUBLIC SCHOOL', 'THE INDIAN MODEL SCHOOL', 'THE INDIAN PUBLIC SCHOOL', 'THE INDIAN PUBLIC SCHOOL', 'THE INDIAN PUBLIC SCHOOL', 'THE INDIAN PUBLIC SCHOOL', 'THE INDO ENGLISH HIGH SCHOOL', 'THE JAIN INTERNATIONAL SCHOOL', 'THE KRISAR ACADEMY', 'THE LAWRENCE SCHOOL', 'THE LEADERS ACADEMY', 'THE MERIDIAN INTERNATIONAL SCHOOL', 'THE NALGONDA PUBLIC SCHOOL', 'THE NANDYAL PUBLIC SCHOOL', 'THE NAVODAYA ACADEMY', 'THE NAZARETH ACADEMY', 'THE NGP SCHOOL', 'THE OOTY PUBLIC SCHOOL', 'THE PACKIANATH PUBLIC SCHOOL', 'THE PATH GLOBAL PUBLIC SCHOOL', 'THE PIONEER SCHOOL', 'THE PRESIDENTIAL SCHOOL', 'THE PSBB MILLENNIUM SCHOOL', 'THE PSBB MILLENNIUM SCHOOL', 'THE PSBB MILLENNIUM SCHOOL', 'THE PUPIL - SAVEETHA ECO SCHOOL', 'THE QUEST INTERNATIONAL SCHOOL', 'THE RICHMOND PUBLIC SCHOOL', 'THE SAMHITA ACADEMY', 'THE SCHRAM ACADEMY', 'THE SHRI RAM UNIVERSAL SCHOOL', 'THE SPICE VALLEY PUBLIC SCHOOL', 'THE STUDY', 'THE SUN SCHOOL', 'THE TAKSHILAH GLOBAL SCHOOL', 'THE TITAN SCHOOL', 'THE TRINITY ACADEMY', 'THE UNITED PUBLIC SCHOOL', 'THE VELAMMAL INTERNATIONAL SCHOOL', 'THE VIJAY MILLENNIUM SCHOOL', 'THE VIJAY MILLENNIUM SCHOOL', 'THE VIKASA SCHOOL', 'THE VIKASA SCHOOL', 'THE VIZAG INTERNATIONAL SCHOOL', 'THE WESTERN GHATS INTERNATIONAL', 'THECHOLA-ISCHOOL', 'THENI KAMMAVAR SANGAM PUBLIC SCHOOL', 'THEOPTIMUSPUBLICSCHOOL', 'THIRUGNANAM INTERNATIONAL SCHOOL', 'THIRUTHANGAL NADAR VIDHYALAYA', 'THRAYAMBIKA VIDYA MANDIR', 'THRIVENI ACADEMY', 'TIAANO VIDYASHRM', 'TILFORD SCHOOL', 'TILFORD SCHOOL', 'TIMPANY SECONDARY SCHOOL', 'TIMPANY STEEL CITY SCHOOL', 'TINY TOTS ENGLISH MEDIUM HIGH SCHOOL', 'TIRUCHY PUBLIC SCHOOL', 'TMHNU NADAR SARASWATHI PUBLIC SCHOOL', 'TNPL PUBLIC SCHOOL', 'TOP KID SCHOOL', 'TREASURE ILAND INTERNATIONAL SCHOOL', 'TRILEAVES GLOBAL SCHOOL', 'TRINITY ACADEMY', 'TRINITY CENTRAL SCHOOL', 'TRINITY INTERNATIONAL SCHOOL', 'TRIPLAAR SCHOOL OF LEARNING', 'TRIPURA ENG MEDIUM SCHOOL', 'TRS GLOBAL PUBLIC SCHOOL', 'TSWR SAINIK SCHOOL', 'TTWEMRS (B) GANDHARI', 'TTWEMRS (G) KURAVI,', 'TTWEMRS(B) BALANAGAR (VILL)& (M), MAHBUBNAGAR', 'TTWEMRS(G) GANDUGULAPALLY, GANDUGULAPALLY (VILLAGE)(POST),', 'TTWEMRS(G) INDALWAI', 'TTWEMRS(G)SEEROLE (VILL)', 'TULIP INTERNATIONAL SCHOOL', 'TVS ACADEMY', 'TVS ACADEMY', 'TWEMRS(G) YELLAREDDYPET DUMALA VILLAGE,', 'UMMAT PUBLIC SCHOOL', 'UNICENT SCHOOL', 'UNICENT SCHOOL', 'UNICENT SCHOOL', 'UNION CHRISTIAN PUBLIC SCHOOL', 'UNITED PUBLIC SCHOOL', 'UNITY PUBLIC SCHOOL', 'UNIVERSAL ACADEMY HIGH SCHOOL', 'UNIVERSITY OF HYDERABAD CAMPUS SCHOOL', 'USHODAYA ENGLISH MEDIUM SCHOOL', 'USWATHUN HASANA ISLAMIC INTERNATIONAL SCHOOL', 'V P SIDDHARTHA PUBLIC SCHOOL', 'V V N K M ENGLISH MEDIUM SCHOOL', 'V.K.M. VIDHYALAYA', 'V.S.ST. JOHNS HR SEC. SCHOOL', 'V.S.STARS PUBLIC SCHOOL', 'VAANI PUBLIC SCHOOL', 'VAASAVI INTERNATIONAL SCHOOL', 'VAGGISVARI VIDYALAYA', 'VAILANKANNI PUBLIC SCHOOL', 'VAIRAMS PUBLIC SCHOOL', 'VALARAIGATE VIDYALAYAM', 'VALLABA VIDYALAYA', 'VANAPRASTHA INTERNATIONAL SCHOOL', 'VANI VIDYALAYA', 'VANI VIDYALAYA  SCHOOL', 'VARADHA VIKAS PUBLIC SCHOOL', 'VASAVI IDEAL PUBLIC SCHOOL', 'VASAVI PUBLIC SCHOOL', 'VAV INTERNATIONAL SCHOOL', 'VCS HI-TECH INTERNATIONAL SCHOOL', 'VEDANTA ACADEMY', 'VEDANTA ACADEMY', 'VEDANTA ACADEMY', 'VEDANTA ACADEMY', 'VEDAVALLI VIDYA MANDIR', 'VEDAVALLI VIDYALAYA', 'VEDAVALLI VIDYALAYA', 'VEDHA VIDHYA PUBLIC SCHOOL', 'VEDIC VIDYASHRAM SCHOOL', 'VEDIC VIDYASHRAM SCHOOL', 'VEDIC VIDYASHRAM SCHOOL', 'VEE GEE VIKAS PUBLIC SCHOOL', 'VEETA VARSITY INTERNATIONAL SCHOOL', 'VEL INTERNATIONAL PUBLIC SCHOOL', \"VEL'S VIDYASHRAM\", 'VELALAR VIDYALAYAA', 'VELAMMAL BODHI CAMPUS', 'VELAMMAL BODHI CAMPUS', 'VELAMMAL BODHI CAMPUS', 'VELAMMAL NEW GEN SCHOOL', 'VELAMMAL NEWGEN SCHOOL', 'VELAMMAL NEWGEN SCHOOL', 'VELAMMAL RESIDENTIAL SCHOOL', 'VELAMMAL VIDHYASHRAM', 'VELAMMAL VIDHYASHRAM', 'VELAMMAL VIDHYASHRAM', 'VELAMMAL VIDHYASHRAM', 'VELAMMAL VIDHYASHRAM', 'VELAMMAL VIDHYASHRAM', 'VELAMMAL VIDHYASHRAM', 'VELAMMAL VIDYALAYA', 'VELAMMAL VIDYALAYA', 'VELAMMAL VIDYALAYA', 'VELAMMAL VIDYALAYA', 'VELAMMAL VIDYALAYA', 'VELAMMAL VIDYALAYA', 'VELAMMAL VIDYALAYA', 'VELAMMAL VIDYALAYA', 'VELAMMAL VIDYALAYA', 'VELAMMAL VIDYALAYA', 'VELAMMAL VIDYALAYA (ANNEXURE)', 'VELAMMAL VIDYALAYA SCHOOL', 'VELAMMAL VIDYALAYA, THENI', 'VELANKANNI PUBLIC SCHOOL', 'VELANKANNI PUBLIC SCHOOL', 'VELS PUBLIC SCHOOL', 'VELS VIDHYALAYA', 'VELS VIDHYALAYA', 'VELS VIDHYALAYA', 'VELS VIDHYALAYA', 'VELS VIDYASHRAM', 'VELS VIDYASHRAM', 'VENUS GLOBAL CAMPUS SCHOOL', 'VET VIDYAA MANDHIR', 'VETHALOGA VIDHYALAYA', 'VETRI VIKAAS PUBLIC SCHOOL', 'VEVEAHAM PRIME ACADEMY', 'VGN CHINMAYA VIDYALAYA', 'VICTORIA SCHOOL', 'VICTORY PUBLIC SCHOOL (CBSE)', 'VIDHYA NIKETAN PUBLIC SCHOOL', 'VIDHYA NIKETAN SCHOOL', 'VIDHYA PARTHI NATIONAL ACADEMY', 'VIDHYA PEETHAM I-SCHOOL', 'VIDHYA SAGAR GLOBAL SCHOOL', 'VIDHYA SAGAR INTERNATIONAL PUBLIC SCHOOL', 'VIDHYALAKSHMI SCHOOL', 'VIDHYO AMRITHAS PUBLIC SCHOOL', 'VIDYA MANDIR ENGLISH MEDIUM HIGH SCH', 'VIDYA MANDIR ESTANCIA', 'VIDYA MANDIR SCHOOL', 'VIDYA MANDIR SR SEC SCHOOL', 'VIDYA NETHRRA INTERNATIONAL SCHOOL', 'VIDYA PEETAM', 'VIDYA VANAM ( A UNIT OF BHUVANA FOUNDATION)', 'VIDYA VARDHAKA SANGHA GANDHI CENTENARY ENGLISH PRIMARY SCHOOL', 'VIDYA VINAYALAYA SCHOOL', 'VIDYAA VIKAS INTERNATIONAL SCHOOL', 'VIDYAA VIKAS INTERNATIONAL SCHOOL', 'VIDYAA VIKAS INTERNATIONAL SCHOOL', 'VIDYANJALI CO.EDU. ENGLISH MEDIUM HIGH SCHOOL', 'VIDYANJALI GRAMMAR SCHOOL', 'VIDYANJALI SCHOOL', 'VIGNAN GLOBAL GEN SCHOOL', 'VIGNAN GLOBAL GEN SCHOOL', 'VIGNAN HIGH SCHOOL', 'VIGNAN STEEL CITY PUBLIC SCHOOL', 'VIGNAN VIDYALAYA', 'VIGNANA JYOTHI PUBLIC SCHOOL', 'VIGNANA VIDYALAYAM SCHOOL', 'VIGNESH INTERNATIONAL SCHOOL', 'VIJAY VIDHYA MANDIR', 'VIJAY VIDYA MANDIR', 'VIJAY VIKAS INTERNATIONAL SCHOOL', 'VIJAYA VIDHYALAYA SCHOOL', 'VIJAYAM SCHOOL', 'VIJAYANTHA SR SEC SCHOOL', 'VIJETHA VIDYALAYA', 'VIJNANA VIHARA RESIDENTIAL SCHOOL', 'VIKAS MANTRA PUBLIC SCHOOL', 'VIKAS THE CONCEPT SCHOOL', 'VIKAS VIDYANIKETAN', 'VINAYAGA PUBLIC SCHOOL', 'VINS SCHOOL OF EXCELLENCE', 'VIPASYAA THE SCHOOL', 'VIRUTCHAM INTERNATIONAL PUBLIC SCHOOL', 'VISAKAN SCHOOL', 'VISAKHA VALLEY SCHOOL', 'VISHNU SCHOOL', 'VISHWA SISHYA VIDYODAYA SCHOOL', 'VISHWAJYOT HIGH SCHOOL', 'VISHWAKSENA GLOBAL SCHOOL', 'VISHWANKAR PUBLIC SCHOOL', 'VISTA SCHOOL', 'VISVODAYA CBSE SCHOOL,', 'VISWABHARATHI WISEWOODS (EM) HIGH SCHOOL', 'VISWAM ENGLISH MEDIUM HIGH SCHOOL', 'VISWASANTI ENGLISH MED. HIGH SCHOOL', 'VITALA PUBLIC SCHOOL', 'VIVA THE SCHOOL', 'VIVEGAA SCHOOL', 'VIVEGAA SCHOOL', 'VIVEK VIDYA MANDIR', 'VIVEKA PUBLIC SCHOOL', 'VIVEKAM SCHOOL', 'VIVEKANAND KENDRA ZILA PRISHAD VIDYALAYA', 'VIVEKANANDA E.M. HIGH SCHOOL', 'VIVEKANANDA GLOBAL SCHOOL', 'VIVEKANANDA HIGH SCHOOL', 'VIVEKANANDA KENDRA NAGARPALIKA VIDYALAYA', 'VIVEKANANDA KENDRA VIDYALAYA', 'VIVEKANANDA KENDRA VIDYALAYA', 'VIVEKANANDA KENDRA ZILLA PARISHAD VIDYALAYA', 'VIVEKANANDA KENDRA ZILLA PARISHAD VIDYALAYA,', 'VIVEKANANDA KENDRA ZILLA PARISHAD VIDYALAYA, DIGLIPUR', 'VIVEKANANDA KENDRA ZILLA PARISHAD VIDYALAYA, PT MOUT', 'VIVEKANANDA MILLENNIUM SCHOOL', 'VIVEKANANDA RESIDENTIAL SCHOOL', 'VIVEKANANDA VIDYA KALA ASHRAM GURUKULAM RESIDENTIAL SCHOOL', 'VIVEKANANDA VIDYALAYA', 'VIVEKANANDA VIDYALAYAM', 'VIVEKANANDA VISION SCHOOL', 'VIVEKANANDAM VIDYASHRAM', 'VIVEKANANDAR VIDHYA MANDIR', 'VIVEKANANDHA ACADEMY', 'VIVEKANANDHA SCHOOL', 'VIVEKANANDHA VIDYALAYA', 'VRIKSHA GLOBAL SCHOOL', 'VRS & VJ RESIDENTIAL SCHOOL', 'VRUKSHA VIDHYAASHRAM SCHOOL,', 'VSR INTERNATIONAL SCHOOL', 'WARANGAL PUBLIC SCHOOL', 'WEST BERRY SCHOOL', 'WESTBERRY HIGH SCHOOL', 'WHITE CLOUDS WORLD SCHOOL', 'WHITE EAGLE PUBLIC SCHOOL', 'WINMORE ACADEMY', 'WINNAR VIKAS INTERNATIONAL SCHOOL', 'WISDOM PARK INTERNATIONAL SCHOOL', 'WISDOM PUBLIC SCHOOL', 'WISDOM VIDHYASHRAM INTERNATIONAL SCHOOL', 'WONDER SCHOOL', 'WOODSIDE SCHOOL', 'WORLD ONE SCHOOL', 'YAGAPPA INTERNATIONAL RESIDENTIAL SCHOOL', 'YOUNG CHAMPS (E.M.) SCHOOL', 'YOUNG INDIA PUBLIC SCHOOL', 'YUVA PUBLIC SCHOOL', 'YUVA SANGATHAN SCHOOL', 'YUVABHARATHI PUBLIC SCHOOL', 'ZEE HIGH SCHOOL', 'ZEE LITERA VALLEY SCHOOL', 'ZENITH PUBLIC SCHOOL', 'ZION INTERNATIONAL PUBLIC SCHOOL', 'ZION INTERNATIONAL SCHOOL', 'ZION INTERNATIONAL SCHOOL (CBSE)', 'YOUNG INDIA PUBLIC SCHOOL', 'YUVA PUBLIC SCHOOL', 'YUVA SANGATHAN SCHOOL', 'YUVABHARATHI PUBLIC SCHOOL', 'ZEE HIGH SCHOOL', 'ZEE LITERA VALLEY SCHOOL', 'ZENITH PUBLIC SCHOOL', 'ZION INTERNATIONAL PUBLIC SCHOOL', 'ZION INTERNATIONAL SCHOOL', 'ZION INTERNATIONAL SCHOOL (CBSE)', 'YOUNG INDIA PUBLIC SCHOOL', 'YUVA PUBLIC SCHOOL', 'YUVA SANGATHAN SCHOOL', 'YUVABHARATHI PUBLIC SCHOOL', 'ZEE HIGH SCHOOL', 'ZEE LITERA VALLEY SCHOOL', 'ZENITH PUBLIC SCHOOL', 'ZION INTERNATIONAL PUBLIC SCHOOL', 'ZION INTERNATIONAL SCHOOL', 'ZION INTERNATIONAL SCHOOL (CBSE)']\n"
     ]
    }
   ],
   "source": [
    "chennaischools=[]\n",
    "for i in range(1,len(chennaischool),2):\n",
    "    chennaischools.append(chennaischool[i].split('Head/Principal')[0].strip())\n",
    "print(chennaischools)"
   ]
  },
  {
   "cell_type": "code",
   "execution_count": 50,
   "metadata": {},
   "outputs": [
    {
     "output_type": "stream",
     "name": "stdout",
     "text": [
      "2480\n<class 'list'>\n"
     ]
    }
   ],
   "source": [
    "print(len(chennaischools))\n",
    "print(type(chennaischools))"
   ]
  },
  {
   "cell_type": "code",
   "execution_count": 39,
   "metadata": {},
   "outputs": [
    {
     "output_type": "execute_result",
     "data": {
      "text/plain": [
       "2481"
      ]
     },
     "metadata": {},
     "execution_count": 39
    }
   ],
   "source": [
    "chennaipname=CHENNAItext.split('Head/Principal Name:')\n",
    "len(chennaipname)"
   ]
  },
  {
   "cell_type": "code",
   "execution_count": 41,
   "metadata": {},
   "outputs": [
    {
     "output_type": "stream",
     "name": "stdout",
     "text": [
      "2480\n"
     ]
    }
   ],
   "source": [
    "chennaiPname=[]\n",
    "for i in range(1,len(chennaipname)):\n",
    "    chennaiPname.append(chennaipname[i].split('Status of the School')[0].strip())\n",
    "print(len(chennaiPname))"
   ]
  },
  {
   "cell_type": "code",
   "execution_count": 42,
   "metadata": {},
   "outputs": [
    {
     "output_type": "execute_result",
     "data": {
      "text/plain": [
       "2481"
      ]
     },
     "metadata": {},
     "execution_count": 42
    }
   ],
   "source": [
    "chennaiphno=CHENNAItext.split('Phone No:')\n",
    "len(chennaiphno)"
   ]
  },
  {
   "cell_type": "code",
   "execution_count": 43,
   "metadata": {},
   "outputs": [
    {
     "output_type": "stream",
     "name": "stdout",
     "text": [
      "2480\n"
     ]
    }
   ],
   "source": [
    "chennaiPhno=[]\n",
    "for i in range(1,len(chennaiphno)):\n",
    "    chennaiPhno.append(chennaiphno[i].split(' Email:')[0].strip())\n",
    "print(len(chennaiPhno))"
   ]
  },
  {
   "cell_type": "code",
   "execution_count": 44,
   "metadata": {},
   "outputs": [
    {
     "output_type": "stream",
     "name": "stdout",
     "text": [
      "2480\n"
     ]
    }
   ],
   "source": [
    "chennaiph=[]\n",
    "for i in chennaiPhno:\n",
    "   chennaiph.append(re.sub('\\s+','',i))\n",
    "print(len(chennaiph))"
   ]
  },
  {
   "cell_type": "code",
   "execution_count": 45,
   "metadata": {},
   "outputs": [
    {
     "output_type": "execute_result",
     "data": {
      "text/plain": [
       "2481"
      ]
     },
     "metadata": {},
     "execution_count": 45
    }
   ],
   "source": [
    "chennaiemail=CHENNAItext.split('Email:')\n",
    "len(chennaiemail)"
   ]
  },
  {
   "cell_type": "code",
   "execution_count": 46,
   "metadata": {},
   "outputs": [
    {
     "output_type": "stream",
     "name": "stdout",
     "text": [
      "2480\n"
     ]
    }
   ],
   "source": [
    "chennaiEmail=[]\n",
    "for i in range(1,len(chennaiemail)):\n",
    "    chennaiEmail.append(chennaiemail[i].split('Website:')[0].strip())\n",
    "print(len(chennaiEmail))"
   ]
  },
  {
   "cell_type": "code",
   "execution_count": 51,
   "metadata": {},
   "outputs": [
    {
     "output_type": "stream",
     "name": "stdout",
     "text": [
      "2480\n<class 'list'>\n2480\n<class 'list'>\n2480\n<class 'list'>\n2480\n<class 'list'>\n"
     ]
    }
   ],
   "source": [
    "\n",
    "print(len(chennaischools))\n",
    "print(type(chennaischools))\n",
    "print(len(chennaiPname))\n",
    "print(type(chennaiPname))\n",
    "print(len(chennaiph))\n",
    "print(type(chennaiph))\n",
    "print(len(chennaiEmail))\n",
    "print(type(chennaiEmail))"
   ]
  },
  {
   "cell_type": "code",
   "execution_count": 48,
   "metadata": {},
   "outputs": [],
   "source": [
    "import csv\n",
    "outputFile = open('CHENNAIcbse.csv', 'w', newline='')\n",
    "outputWriter = csv.writer(outputFile)\n",
    "\n",
    "outputWriter.writerow(['school name', 'principal name','contact no','email'])\n",
    "for i in range (len(chennaischools)):\n",
    "    scname=chennaischools[i]\n",
    "    princiname=chennaiPname[i]\n",
    "    phno=chennaiph[i]\n",
    "    email1=chennaiEmail[i]\n",
    "    outputWriter.writerow([scname,princiname,phno,email1])\n",
    "outputFile.close()"
   ]
  },
  {
   "cell_type": "code",
   "execution_count": 8,
   "metadata": {
    "tags": []
   },
   "outputs": [
    {
     "output_type": "stream",
     "name": "stdout",
     "text": "SNo AffNo,School & Head Name                   Address,Phone & Email     1    Affiliation No.1931043   Name: A A PUBLIC SCHOOL   Head/Principal Name:MRS. S.GNANA JOTHI   Status of the School:Secondary School   Affiliated up to: 31/03/2022        Address:                      17/8, ANDIAPPAN GRAMANI STREET, ROYAPURAM, CHENNAI                      ,600013   Phone No:                                            ,04448595902    Email:                      aapublicschool@gmail.com                                                                                      Website:         2    Affiliation No.1930134   Name: A J C ENGLISH SCHOOL   Head/Principal Name:ANANDHAVALLI K   Status of the School:Secondary School   Affiliated up to: 31/03/2022        Address:                      LAL BAHADUR SHASTRI ROAD KUMBAKONAM TAMIL NADU                      ,612001   Phone No:                      0435                      ,2420730    Email:                      anandhiphysics@gmail.com                                                                                     Website:         3    Affiliation No.130340    Name: A K R G TECHNO SCHOOL   Head/Principal Name:GUTTA PADMAJA   Status of the School:Secondary School   Affiliated up to: 31/03/2022        Address:                      NALLAJERLA                      ,534112   Phone No:                      818                      ,277993    Email:                      akrgschool@gmail.com                                                                                      Website:         4    Affiliation No.1930516   Name: A M PUBLIC SCHOOL   Head/Principal Name:MRS. THAMAYANTHI S   Status of the School:Senior Secondary   Affiliated up to: 31/03/2022        Address:                      NADUPATTI KADAYAMPATTI(TK) SALEM DISTRICT                      ,636351   Phone No:                      4290                      ,04290243578    Email:                      ampublicschool12@gmail.com                                                                                     Website:                      http://www.ampublicschool.in                             5    Affiliation No.1930194   Name: A   NATIONAL SCHOOL   Head/Principal Name:MRS T GOMATHI SINGH   Status of the School:Secondary School   Affiliated up to: 31/03/2008        Address:                      ARIVOLI NAGAR, THIRUNALVELI ROAD THIRUCHENDUR, DISTT THOOTHUKUDI TAMIL NADU                      ,628215   Phone No:                      04639                      ,223344    Email: Website:         6    Affiliation No.830315    Name: A.C. SHETTY MEMORIAL PRIMARY SCHOOL   Head/Principal Name:B. Mahabaleshwara Udupa   Status of the School:Secondary School   Affiliated up to: 31/03/2019        Address:                      ARDI ALBADY, KUNDAPURA TALUK, UDUPI DISTRICT KARNATAKA                      ,576212   Phone No:                      08284                      ,08259-285269, 08259-285369    Email:                      nkmahajanca@yahoo.co.in                                                                                     Website:         7    Affiliation No.1930235   Name: A.K.T. MEMORIAL VIDYA SAAKET SCHOOL   Head/Principal Name:S USHA KUMARI   Status of the School:Secondary School   Affiliated up to: 31/03/2022        Address:                      NEELAMANGALAM VILLAGE KALLAKURICHI - POST, VILLUPURAM DISTT., TAMILNADU                      ,606202   Phone No:                      4151                      ,226655    Email:                      principal.aktcbse@gmail.com                                                                                      Website:         8    Affiliation No.1930354   Name: A.R.J.  PUBLIC SCHOOL   Head/Principal Name:KAVITHA S   Status of the School:Senior Secondary   Affiliated up to: 31/03/2025        Address:                      THIRUMANKOTTAI MAIN ROAD, EDAYARNATHAM, MANNARGUDI -614001                      ,614001   Phone No:                      4367                      ,223333    Email:                      arjps@arj.edu.in                                                                                     Website:                      http://www.arj.edu.in                             9    Affiliation No.1930784   Name: AAA INTERNATIONAL SCHOOL   Head/Principal Name:MRS. A V BHUVANESWARI   Status of the School:Senior Secondary   Affiliated up to: 31/03/2023        Address:                      828, A, S.N. PURAM ROAD, THIRUTHANGAL, SIVAKASI                      ,626130   Phone No:                      0456                      ,2228885    Email:                      principalaaaittl@gmail.com                                                                                      Website:                      http://www.aaainternationalschool.com/                             10    Affiliation No.2930008   Name: AATHMALAYAA MIDDLE SCHOOL   Head/Principal Name:MRS. LAYAVARJITHA S   Status of the School:Senior Secondary   Affiliated up to: 31/03/2024        Address:                      AATHMALAYAA NAGAR, SCHOOL ROAD, KEEZHZKASAKUDI, KARAIKAL - 609609.                      ,609609   Phone No:                      4368                      ,04368292002,    Email:                      principal@aathmalayaa.in                                                                                     Website:                      http://www.aathmalayaa.in                             11    Affiliation No.1930238   Name: ABACUS INTERNATIONAL MONTESSORI SCHOOL   Head/Principal Name:JOSEPHINE MARIA PREMA   Status of the School:Senior Secondary   Affiliated up to: 31/03/2025        Address:                      S.F.NO 516 MUDALI PALAYAM PIRIVU, PERUNTHOZHUVU ROAD, KANGAYAM ROAD                      ,641606   Phone No:                      0421                      ,3212321    Email:                      principal@aimstirupur.com                                                                                      Website:                      http://www.aims_tirupur.edu.in                             12    Affiliation No.1930573   Name: ABCS KENBRIDGE SCHOOL   Head/Principal Name:RAVICHANDRAN S   Status of the School:Senior Secondary   Affiliated up to: 31/03/2025        Address:                      TRICHY RAMESWARAM MAIN ROAD,NARANAMANGALAM POST,NEAR DEVIPATTINAM, RAMANATHAPURAM DIST                      ,623537   Phone No:                      4567                      ,259364    Email:                      kenbridgeprincipal@gmail.com                                                                                     Website:         13    Affiliation No.3630083   Name: ABHAYA SCHOOL   Head/Principal Name:L.SHAILAJA   Status of the School:Senior Secondary   Affiliated up to: 31/03/2022        Address:                      GUNDLA POCHAMPALLY VILLAGE, NEAR APPAREL TEXTILE PARK, MEDCHAL MANDAL DIST, RANGAREDDY,                      ,500014   Phone No:                      01734                      ,08008222356    Email:                      abhaya_school@yahoo.co.in                                                                                      Website:                      http://www.abhayaschool.in                             14    Affiliation No.130301    Name: ABHYAS THE GLOBAL SCHOOL   Head/Principal Name:Mrs.I.Naga Mani   Status of the School:Secondary School   Affiliated up to: 31/03/2026        Address:                      4-155,JP ROAD PEDAMIRAM VILLAGE, KALLA MANDAL WEST GODAVARI ANDHRA PRADESH                      ,534204   Phone No:                      8816                      ,223445    Email:                      syjdora@gmail.com                                                                                     Website:                      http://www.abhyastheglobalschool.com                             15    Affiliation No.1930290   Name: ABS VIDHYA MANDHIR   Head/Principal Name:RATHI MENON   Status of the School:Senior Secondary   Affiliated up to: 31/03/2022        Address:                      THALAKANCHERRY ROAD, IVELI AGARAM, THIRUVALLUR                      ,602001   Phone No:                      0                      ,9244940111    Email:                      absvm.rathi@gmail.com                                                                                      Website:                      www.absvidhyamandhir.com                             16    Affiliation No.3630234   Name: ACADEMIC HEIGHTS PUBLIC SCHOOL   Head/Principal Name:MRS. NAJMAUNISA BEGUM   Status of the School:Senior Secondary   Affiliated up to: 31/03/2022        Address:                      18-4-42/A, ALIABAD SAHMSHERGUNJ                      ,500053   Phone No:                      040                      ,04064546403,    Email:                      ahpscharminar@yahoo.com                                                                                     Website:                      http://ahpscharminar.com/                             17    Affiliation No.3630210   Name: ACADEMIC HEIGHTS PUBLIC SCHOOL   Head/Principal Name:SINITA YEMPATI   Status of the School:Secondary School   Affiliated up to: 31/03/2025        Address:                      SURVEY NO:51, VENKAT REDDY COLONY, BOLLIGUDEM ROAD, BODUPPAL                      ,500039   Phone No:                      040                      ,7093903311    Email:                      ahpsboduppalprincipal@gmail.com                                                                                      Website:         18    Affiliation No.3630288   Name: ACADEMIC HEIGHTS PUBLIC SCHOOL   Head/Principal Name:MRS. J.LAKSHMI RAGHAVENDRA   Status of the School:Secondary School   Affiliated up to: 31/03/2022        Address:                      ACADEMIC HEIGHTS PUBLIC SCHOOL, KISTAREDDYPET VILLAGE,AMEENPUR MANDAL, SANGAREDDY DIST                      ,502032   Phone No:                                            ,9618380022    Email:                      academicheightsbeeramguda@gmail.com                                                                                     Website:         19    Affiliation No.3630321   Name: ACADEMIC HEIGHTS PUBLIC SCHOOL   Head/Principal Name:MRS. K MADHAVI KRISHNA   Status of the School:Secondary School   Affiliated up to: 31/03/2023        Address:                      SY NO 78, VENAKATARAMANA COLONY, GOKUL PLOTS, HAFEEZPET, SERILINGAMPALLY MANDAL                      ,500072   Phone No:                                            ,9000103540    Email:                      academicheightskphb@gmail.com                                                                                      Website:                      http://www.academicheightskphb.com                             20    Affiliation No.3630375   Name: ACADEMIC HEIGHTS PUBLIC SCHOOL   Head/Principal Name:MRS. YERRA JHANSI LATHA   Status of the School:Secondary School   Affiliated up to: 31/03/2024        Address:                      PLOT NO,1&2, OPP.VENKATESHWARA COLONY,INJAPUR, ABDULLAPURMET MDL, RANGA REDDY DIST                      ,501510   Phone No:                                            ,9121019898    Email:                      principalinj@academicheightshyd.com                                                                                     Website:         21    Affiliation No.3630180   Name: ACADEMIC HEIGHTS SCHOOL   Head/Principal Name:RUPA REDDY   Status of the School:Secondary School   Affiliated up to: 31/03/2024        Address:                      BACHPAN CAMPUS JAGADEEVPUR ROAD HANMAPUR  BHONGIR                      ,508116   Phone No:                      8685                      ,243693    Email:                      ahps.principal@gmail.com                                                                                      Website:         22    Affiliation No.130371    Name: ACCORD SCHOOL   Head/Principal Name:M Liaqet Ali Khan   Status of the School:Senior Secondary   Affiliated up to: 31/03/2023        Address:                      RC ROAD, CHIGURUWADA NORTH, TIRUPATI CHITTOOR, ANDHRA PRADESH                      ,517507   Phone No:                      0877                      ,6457775    Email:                      info@theaccordschool.com                                                                                     Website:                      http://www.theaccordschool.com                             23    Affiliation No.2930005   Name: ACHARIYA BALA SIKSHA MANDIR   Head/Principal Name:DR R ANITA SANTHAKUMAR   Status of the School:Senior Secondary   Affiliated up to: 31/03/2026        Address:                      ACHARIYA COMMUNE, FISHING HARBOUR ROAD, THENGAITHITTU,PONDICHERRY                      ,605004   Phone No:                      0413                      ,3293344    Email:                      absmtt@achariya.org                                                                                      Website:                      http://www.achariya.in                             24    Affiliation No.1930428   Name: ACHARIYA SCHOOL   Head/Principal Name:SUDALAIMUTHU   Status of the School:Senior Secondary   Affiliated up to: 31/03/2023        Address:                      3/185-1,MUTHUMARIAMMAN KOVIL ROAD                      ,628721   Phone No:                      4632                      ,248689    Email:                      sudalaimuthu1981@gmail.com                                                                                     Website:         25    Affiliation No.2930007   Name: ACHARIYA SIKSHA MANDIR   Head/Principal Name:MR.MOHAMED FAROOK U.   Status of the School:Senior Secondary   Affiliated up to: 31/03/2024        Address:                      ACHARIYAPURAM URUVAIYARU                       ,605110   Phone No:                      0413                      ,04132660881    Email:                      asmhead@achariya.org                                                                                      Website:                      http://www.achariya.in/                             \n"
    }
   ],
   "source": [
    " text=re.sub('[\\\\n+\\\\t+]',' ',table.getText())\n",
    " print(text)"
   ]
  },
  {
   "cell_type": "code",
   "execution_count": 9,
   "metadata": {},
   "outputs": [
    {
     "output_type": "execute_result",
     "data": {
      "text/plain": "51"
     },
     "metadata": {},
     "execution_count": 9
    }
   ],
   "source": [
    "school=text.split('Name:')\n",
    "len(school)"
   ]
  },
  {
   "cell_type": "code",
   "execution_count": 10,
   "metadata": {
    "tags": []
   },
   "outputs": [
    {
     "output_type": "stream",
     "name": "stdout",
     "text": "['A A PUBLIC SCHOOL', 'A J C ENGLISH SCHOOL', 'A K R G TECHNO SCHOOL', 'A M PUBLIC SCHOOL', 'A   NATIONAL SCHOOL', 'A.C. SHETTY MEMORIAL PRIMARY SCHOOL', 'A.K.T. MEMORIAL VIDYA SAAKET SCHOOL', 'A.R.J.  PUBLIC SCHOOL', 'AAA INTERNATIONAL SCHOOL', 'AATHMALAYAA MIDDLE SCHOOL', 'ABACUS INTERNATIONAL MONTESSORI SCHOOL', 'ABCS KENBRIDGE SCHOOL', 'ABHAYA SCHOOL', 'ABHYAS THE GLOBAL SCHOOL', 'ABS VIDHYA MANDHIR', 'ACADEMIC HEIGHTS PUBLIC SCHOOL', 'ACADEMIC HEIGHTS PUBLIC SCHOOL', 'ACADEMIC HEIGHTS PUBLIC SCHOOL', 'ACADEMIC HEIGHTS PUBLIC SCHOOL', 'ACADEMIC HEIGHTS PUBLIC SCHOOL', 'ACADEMIC HEIGHTS SCHOOL', 'ACCORD SCHOOL', 'ACHARIYA BALA SIKSHA MANDIR', 'ACHARIYA SCHOOL', 'ACHARIYA SIKSHA MANDIR']\n"
    }
   ],
   "source": [
    "schools=[]\n",
    "for i in range(1,len(school),2):\n",
    "    schools.append(school[i].split('Head/Principal')[0].strip())\n",
    "print(schools)"
   ]
  },
  {
   "cell_type": "code",
   "execution_count": 11,
   "metadata": {},
   "outputs": [
    {
     "output_type": "execute_result",
     "data": {
      "text/plain": "26"
     },
     "metadata": {},
     "execution_count": 11
    }
   ],
   "source": [
    "pname=text.split('Head/Principal Name:')\n",
    "len(pname)"
   ]
  },
  {
   "cell_type": "code",
   "execution_count": 12,
   "metadata": {
    "tags": []
   },
   "outputs": [
    {
     "output_type": "stream",
     "name": "stdout",
     "text": "['MRS. S.GNANA JOTHI', 'ANANDHAVALLI K', 'GUTTA PADMAJA', 'MRS. THAMAYANTHI S', 'MRS T GOMATHI SINGH', 'B. Mahabaleshwara Udupa', 'S USHA KUMARI', 'KAVITHA S', 'MRS. A V BHUVANESWARI', 'MRS. LAYAVARJITHA S', 'JOSEPHINE MARIA PREMA', 'RAVICHANDRAN S', 'L.SHAILAJA', 'Mrs.I.Naga Mani', 'RATHI MENON', 'MRS. NAJMAUNISA BEGUM', 'SINITA YEMPATI', 'MRS. J.LAKSHMI RAGHAVENDRA', 'MRS. K MADHAVI KRISHNA', 'MRS. YERRA JHANSI LATHA', 'RUPA REDDY', 'M Liaqet Ali Khan', 'DR R ANITA SANTHAKUMAR', 'SUDALAIMUTHU', 'MR.MOHAMED FAROOK U.']\n"
    }
   ],
   "source": [
    "Pname=[]\n",
    "for i in range(1,len(pname)):\n",
    "    Pname.append(pname[i].split('Status of the School')[0].strip())\n",
    "print(Pname)"
   ]
  },
  {
   "cell_type": "code",
   "execution_count": 13,
   "metadata": {},
   "outputs": [
    {
     "output_type": "execute_result",
     "data": {
      "text/plain": "26"
     },
     "metadata": {},
     "execution_count": 13
    }
   ],
   "source": [
    "phno=text.split('Phone No:')\n",
    "len(phno)"
   ]
  },
  {
   "cell_type": "code",
   "execution_count": 14,
   "metadata": {
    "tags": []
   },
   "outputs": [
    {
     "output_type": "stream",
     "name": "stdout",
     "text": "[',04448595902', '0435                      ,2420730', '818                      ,277993', '4290                      ,04290243578', '04639                      ,223344', '08284                      ,08259-285269, 08259-285369', '4151                      ,226655', '4367                      ,223333', '0456                      ,2228885', '4368                      ,04368292002,', '0421                      ,3212321', '4567                      ,259364', '01734                      ,08008222356', '8816                      ,223445', '0                      ,9244940111', '040                      ,04064546403,', '040                      ,7093903311', ',9618380022', ',9000103540', ',9121019898', '8685                      ,243693', '0877                      ,6457775', '0413                      ,3293344', '4632                      ,248689', '0413                      ,04132660881']\n"
    }
   ],
   "source": [
    "Phno=[]\n",
    "for i in range(1,len(phno)):\n",
    "    Phno.append(phno[i].split(' Email:')[0].strip())\n",
    "print(Phno)"
   ]
  },
  {
   "cell_type": "code",
   "execution_count": 15,
   "metadata": {
    "tags": []
   },
   "outputs": [
    {
     "output_type": "stream",
     "name": "stdout",
     "text": "[',04448595902', '0435,2420730', '818,277993', '4290,04290243578', '04639,223344', '08284,08259-285269,08259-285369', '4151,226655', '4367,223333', '0456,2228885', '4368,04368292002,', '0421,3212321', '4567,259364', '01734,08008222356', '8816,223445', '0,9244940111', '040,04064546403,', '040,7093903311', ',9618380022', ',9000103540', ',9121019898', '8685,243693', '0877,6457775', '0413,3293344', '4632,248689', '0413,04132660881']\n"
    }
   ],
   "source": [
    "ph=[]\n",
    "for i in Phno:\n",
    "   ph.append(re.sub('\\s+','',i))\n",
    "print(ph)"
   ]
  },
  {
   "cell_type": "code",
   "execution_count": 16,
   "metadata": {},
   "outputs": [
    {
     "output_type": "execute_result",
     "data": {
      "text/plain": "26"
     },
     "metadata": {},
     "execution_count": 16
    }
   ],
   "source": [
    "email=text.split('Email:')\n",
    "len(email)"
   ]
  },
  {
   "cell_type": "code",
   "execution_count": 17,
   "metadata": {
    "tags": []
   },
   "outputs": [
    {
     "output_type": "stream",
     "name": "stdout",
     "text": "['aapublicschool@gmail.com', 'anandhiphysics@gmail.com', 'akrgschool@gmail.com', 'ampublicschool12@gmail.com', '', 'nkmahajanca@yahoo.co.in', 'principal.aktcbse@gmail.com', 'arjps@arj.edu.in', 'principalaaaittl@gmail.com', 'principal@aathmalayaa.in', 'principal@aimstirupur.com', 'kenbridgeprincipal@gmail.com', 'abhaya_school@yahoo.co.in', 'syjdora@gmail.com', 'absvm.rathi@gmail.com', 'ahpscharminar@yahoo.com', 'ahpsboduppalprincipal@gmail.com', 'academicheightsbeeramguda@gmail.com', 'academicheightskphb@gmail.com', 'principalinj@academicheightshyd.com', 'ahps.principal@gmail.com', 'info@theaccordschool.com', 'absmtt@achariya.org', 'sudalaimuthu1981@gmail.com', 'asmhead@achariya.org']\n"
    }
   ],
   "source": [
    "Email=[]\n",
    "for i in range(1,len(email)):\n",
    "    Email.append(email[i].split('Website:')[0].strip())\n",
    "print(Email)"
   ]
  },
  {
   "cell_type": "code",
   "execution_count": 18,
   "metadata": {},
   "outputs": [],
   "source": [
    "import csv\n",
    "outputFile = open('chennaicbse.csv', 'w', newline='')\n",
    "outputWriter = csv.writer(outputFile)\n",
    "\n",
    "outputWriter.writerow(['school name', 'principal name','contact no','email'])\n",
    "for i in range (len(schools)):\n",
    "    scname=schools[i]\n",
    "    princiname=Pname[i]\n",
    "    phno=ph[i]\n",
    "    email1=Email[i]\n",
    "    outputWriter.writerow([scname,princiname,phno,email1])\n",
    "outputFile.close()"
   ]
  },
  {
   "cell_type": "code",
   "execution_count": null,
   "metadata": {},
   "outputs": [],
   "source": [
    "                                          #Guwahati"
   ]
  },
  {
   "cell_type": "code",
   "execution_count": 1,
   "metadata": {},
   "outputs": [],
   "source": [
    "from selenium import webdriver\n",
    "import time,bs4"
   ]
  },
  {
   "cell_type": "code",
   "execution_count": 4,
   "metadata": {},
   "outputs": [],
   "source": [
    "driver=webdriver.Chrome()\n",
    "driver.get('http://cbseaff.nic.in/cbse_aff/schdir_Report/userview.aspx')\n",
    "radio = driver.find_element_by_id('optlist_3')\n",
    "radio.click()\n",
    "driver.find_element_by_xpath(\"//select[@name='ctl00$ContentPlaceHolder1$ddlitem']/option[text()='Guwahati']\").click()\n",
    "button=driver.find_element_by_id('search')\n",
    "button.click()"
   ]
  },
  {
   "cell_type": "code",
   "execution_count": 5,
   "metadata": {},
   "outputs": [],
   "source": [
    "Guwahatitext=''\n",
    "soup=bs4.BeautifulSoup(driver.page_source)\n",
    "time.sleep(2)\n",
    "table=soup.find('table',id='T1')\n",
    "Guwahatitext=Guwahatitext+table.getText()"
   ]
  },
  {
   "cell_type": "code",
   "execution_count": 6,
   "metadata": {},
   "outputs": [
    {
     "output_type": "stream",
     "name": "stdout",
     "text": [
      "DONE\n"
     ]
    }
   ],
   "source": [
    "for i in range(46):\n",
    "    driver.execute_script(\"window.scrollTo(0,document.body.scrollHeight)\")\n",
    "    nextbutton=driver.find_element_by_id('Button1')\n",
    "    nextbutton.click()\n",
    "    time.sleep(10)\n",
    "    soup=bs4.BeautifulSoup(driver.page_source)\n",
    "    time.sleep(2)\n",
    "    table=soup.find('table',id='T1')\n",
    "    Guwahatitext=Guwahatitext+table.getText()\n",
    "print('DONE')"
   ]
  },
  {
   "cell_type": "code",
   "execution_count": 7,
   "metadata": {},
   "outputs": [
    {
     "output_type": "stream",
     "name": "stdout",
     "text": [
      "DONE\n"
     ]
    }
   ],
   "source": [
    "for i in range(15):\n",
    "    driver.execute_script(\"window.scrollTo(0,document.body.scrollHeight)\")\n",
    "    nextbutton=driver.find_element_by_id('Button1')\n",
    "    nextbutton.click()\n",
    "    time.sleep(10)\n",
    "    soup=bs4.BeautifulSoup(driver.page_source)\n",
    "    time.sleep(2)\n",
    "    table=soup.find('table',id='T1')\n",
    "    Guwahatitext=Guwahatitext+table.getText()\n",
    "print('DONE')"
   ]
  },
  {
   "cell_type": "code",
   "execution_count": 8,
   "metadata": {},
   "outputs": [],
   "source": [
    "import re"
   ]
  },
  {
   "cell_type": "code",
   "execution_count": 9,
   "metadata": {},
   "outputs": [],
   "source": [
    "GUWAHATItext=re.sub('[\\\\n+\\\\t+]',' ',Guwahatitext)"
   ]
  },
  {
   "cell_type": "code",
   "execution_count": 10,
   "metadata": {},
   "outputs": [
    {
     "output_type": "execute_result",
     "data": {
      "text/plain": [
       "3037"
      ]
     },
     "metadata": {},
     "execution_count": 10
    }
   ],
   "source": [
    "Guwahatischool=GUWAHATItext.split('Name:')\n",
    "len(Guwahatischool)"
   ]
  },
  {
   "cell_type": "code",
   "execution_count": 11,
   "metadata": {},
   "outputs": [
    {
     "output_type": "stream",
     "name": "stdout",
     "text": [
      "['ABANTI KUMAR MAHANTA EDUCATIONAL INSTITUTION', 'ABOTANI VIDYA NIKETAN', 'ADARSH VIDYALAYA', 'ADARSH VIDYALAYA', 'ADARSH VIDYALAYA', 'ADARSH VIDYALAYA', 'ADARSH VIDYALAYA', 'ADARSH VIDYALAYA DAHALAPARA', 'ADARSH VIDYALAYA DALIMBARI', 'ADARSH VIDYALAYA,', 'ADARSH VIDYALAYA,', 'ADARSH VIDYALAYA,', 'ADARSH VIDYALAYA,', 'ADARSH VIDYALAYA,', 'ADARSH VIDYALAYA,', 'ADARSH VIDYALAYA, BARAKHETRI', 'AIR FORCE SCHOOL', 'AIR FORCE SCHOOL CHABUA', 'AIR FORCE SCHOOL TEZPUR', 'ALL SAINTS DIOCESAN SCHOOL', 'ALPHA BCI MEMORIAL ACADEMY', 'AMARPUR ENGLISH MEDIUM HIGHER SECONDARY SCHOOL', 'ANAKUM ACADEMY', 'ANANDA MARGA SCHOOL', 'ANE MORIAM SCHOOL', 'ANGUN ASIR ACADEMY', 'ARECA SCHOOL', 'ARMY PUBLIC SCHOOL', 'ARMY PUBLIC SCHOOL', 'ARMY PUBLIC SCHOOL', 'ARMY PUBLIC SCHOOL', 'ARMY PUBLIC SCHOOL', 'ARMY PUBLIC SCHOOL', 'ARMY PUBLIC SCHOOL', 'ARMY PUBLIC SCHOOL', 'ARMY PUBLIC SCHOOL', 'ARMY PUBLIC SCHOOL', 'ARMY PUBLIC SCHOOL', 'ARMY PUBLIC SCHOOL HAPPY VALLEY', 'ARMY SCHOOL', 'ARMY SCHOOL', 'ARUNACHAL PALI VIDYAPITH', 'ASIAN PUBLIC SCHOOL', 'ASSAM PUBLIC SCHOOL', 'ASSAM RIFFLES PUBLIC SCHOOL', 'ASSAM RIFLE SCHOOL', 'ASSAM RIFLES HIGH SCHOOL', 'ASSAM RIFLES HIGH SCHOOL', 'ASSAM RIFLES HIGH SCHOOL', 'ASSAM RIFLES JR HIGH SCHOOL', 'ASSAM RIFLES JUNIOR SCHOOL', 'ASSAM RIFLES MIDDLE SCHOOL', 'ASSAM RIFLES MIDDLE SCHOOL', 'ASSAM RIFLES PUBLIC SCHOOL', 'ASSAM RIFLES PUBLIC SCHOOL', 'ASSAM RIFLES PUBLIC SCHOOL', 'ASSAM RIFLES PUBLIC SCHOOL', 'ASSAM RIFLES PUBLIC SCHOOL', 'ASSAM RIFLES PUBLIC SCHOOL', 'ASSAM RIFLES PUBLIC SCHOOL (HIGH SCHOOL) PALLEL', 'ASSAM RIFLES PUBLIC SCHOOL (HIGH),', 'ASSAM RIFLES SCHOOL', 'ASSAM RIFLES SCHOOL', 'ASSAM RIFLES SCHOOL', 'ASSAM RIFLES SCHOOL', 'ASSAM RIFLES SCHOOL', 'ASSAM RIFLES SCHOOL', 'ASSAM RIFLES SCHOOL, BALIPARA, SONITPUR, ASSAM', 'ASSAM RIFLES SCHOOL, ZUNHEBOTO', 'ASSAM RIFLES SECONDARY SCHOOL', 'ASSAM RIFLES TRAINING CENTRE HIGH', 'ASUFÜ CHRISTIAN SCHOOL', 'ATURKIMI ACADEMY', 'AUXILIUM GIRLS SCHOOL', 'AXEL PUBLIC SCHOOL, LOKHRA,GUWAHATI, ASSAM', 'B K BAJORIA SCHOOL', 'B S F SR SEC SCHOOL', 'B.B. MEMORIAL PUBLIC SCHOOL', 'BAHAI SR. SEC. SCHOOL', \"BAHAI'S SCHOOL\", 'BELONIA GOVERNMENT ENGLISH MEDIUM H.S SCHOOL', 'BEREAN ENGLISH MEDIUM SCHOOL', 'BHAKTIVEDANTS INSITUTE MISSION HIGHER SECONDARY SCHOOL', 'BHAVANS TRIPURA VIDYAMANDIR', 'BHURATALI, SABROOM', 'BIMALA ACADEMY', 'BISHALGARH ENGLISH MEDIUM H.S. SCHOOL', 'BISWANATH JNAN BHARATI SCHOOL', 'BLESSED ANDRE ENGLISH MEDIUM SCHOOL', 'BLOOMING BUDS SCHOOL', 'BLUE BIRD SCHOOL', 'BLUE PINE RESIDENTIAL ENGLISH SCHOOL', 'BODOLAND PUBLIC SCHOOL', 'BOUM KAKIR MISSION SCHOOL', 'BOUM KAKIR MISSION SCHOOL', 'BRAHMAPUTRA VALLEY ENGLISH ACADEMY', 'BRAHMAPUTRA VALLEY SCHOOL SIVASAGAR', 'BRILLIANT STARS SCHOOL', 'BUDDING BUDS SCHOOL', 'BUNNYS FANTASY WORLD SCHOOL', 'C.S. RAI SECONDARY SCHOOL', 'CALVARY ENGLISH SCHOOL, MOINHAPPA', 'CAMBRIDGE PUBLIC SCHOOL', 'CAMPS ENGLISH ACADEMY', 'CAPT. WILLIAMS SCHOOL', 'CARMEL SCHOOL', 'CENTRAL ACADEMY', 'CENTRAL MARTAM SEC. SCHOOL', 'CENTRAL PUBLIC SCHOOL', 'CENTRAL PUBLIC SCHOOL,BADARPUR', 'CENTRE FOR NEW LEARNING', 'CHAILENGTA  GOVERNMENT ENGLISH MEDIUM HIGHER SECONDARY SCHOOL', 'CHARIS HIGH ACADEMY', 'CHOW NANDA MEMIAL SCHOOL', 'CHRIST JYOTI SCHOOL', 'CHRIST SCHOOL', 'CITY MONTESSORI HIGHER SECONDARY SCHOOL', 'D ERING MEMORIAL GOVT SEC SCHOOL', \"DAFFODIL'S HOME SEC. SCHOOL\", 'DAII APUNG PUBLIC SCHOOL SEPPA', 'DANI KUNIA GOVT. HIGHER SECONDARY SCHOOL, ZIRO', 'DARCHAWI CHRISTIAN H.S. SCHOOL', 'DAV PUBLIC SCHOOL', 'DAV PUBLIC SCHOOL', \"DE-PAUL'S PUBLIC SCHOOL\", 'DELHI PUBLIC SCHOOL', 'DELHI PUBLIC SCHOOL', 'DELHI PUBLIC SCHOOL', 'DELHI PUBLIC SCHOOL', 'DELHI PUBLIC SCHOOL', 'DELHI PUBLIC SCHOOL', 'DELHI PUBLIC SCHOOL', 'DELHI PUBLIC SCHOOL', 'DELHI PUBLIC SCHOOL DIBRUGARH', 'DELHI PUBLIC SCHOOL JORHAT', 'DELHI PUBLIC SCHOOL KAMRUP', 'DELHI PUBLIC SCHOOL KHANAPARA', 'DELHI PUBLIC SCHOOL,', 'DEROZEO MISSION SCHOOL', 'DHAMMA DIPA SCHOOL', 'DIVINE WORD SCHOOL', 'DMI ST. JOSEPH GLOBAL SCHOOL', 'DON BOSCO SCHOOL', 'DON BOSCO SCHOOL', 'DON BOSCO SCHOOL', 'DON BOSCO SCHOOL', 'DON BOSCO SCHOOL', 'DON BOSCO SCHOOL', 'DON BOSCO SCHOOL', 'DON BOSCO SCHOOL', 'DONYI POLO MISSION SCHOOL', 'DONYI POLO VIDYA BHAWAN', 'DONYI POLO VIDYA NIKETAN', 'DONYI POLO VIDYA NIKETAN PASIGHAT', 'DOON PUBLIC SCHOOL, SIVASAGAR', 'DR. B.R. AMBEDKAR ENGLISH MODEL SCHOOL', 'EAST POINT SENIOR SECONDARY SCHOOL', 'EBENEZER HIGH SCHOOL', 'EKLAVYA MODEL RESIDENITAL SCHOOL', 'EKLAVYA MODEL RESIDENTIAL SCHOOL', 'EKLAVYA MODEL RESIDENTIAL SCHOOL', 'EKLAVYA MODEL RESIDENTIAL SCHOOL', 'EKLAVYA MODEL RESIDENTIAL SCHOOL', 'EKLAVYA MODEL RESIDENTIAL SCHOOL', 'EKLAVYA MODEL RESIDENTIAL SCHOOL', 'EKLAVYA MODEL RESIDENTIAL SCHOOL', 'EKLAVYA MODEL RESIDENTIAL SCHOOL', 'EKLAVYA MODEL RESIDENTIAL SCHOOL DALBARI', 'EKLAVYA MODEL RESIDENTIAL SCHOOL TAMENGLONG', 'EKLAVYA MODEL RESIDENTIAL SCHOOL, GAMNOM SAPORMEINA', 'ELITE ACADEMY', 'ERUDITE ACADEMY', 'EXALT FOUNDATION SCHOOL', 'FACULTY HR SEC SCHOOL', 'FACULTY SENIOR SECONDARY SCHOOL', 'FATIMA CONVENT SCHOOL', 'FRONTIER SCHOOL', 'G RIO SCHOOL', 'GARDEN DEW SCHOOL', 'GARIA ACADEMY (MODEL)', 'GLOBAL ACADEMY', 'GLOBAL COLLEGIATE SCHOOL', 'GLOBAL PUBLIC CENTRAL SCHOOL', 'GOALPARA ENGLISH SCHOOL', 'GODWINS SCHOOL', 'GOLDEN VALLEY H.S.( 2STAGE) SCHOOL', 'GOOD SHEPHERD PUBLIC SCHOOL', 'GOVE SEC SCHOOL', 'GOVERNMENT JUNIOR SECONDARY SCHOOL', 'GOVERNMENT SEC. SCHOOL', 'GOVERNMENT SECONDARY SCHOOL', 'GOVERNMENT SECONDARY SCHOOL', 'GOVERNMENT SECONDARY SCHOOL', 'GOVERNMENT SECONDARY SCHOOL', 'GOVERNMENT SECONDARY SCHOOL', 'GOVERNMENT SECONDARY SCHOOL', 'GOVERNMENT SECONDARY SCHOOL', 'GOVERNMENT SECONDARY SCHOOL', 'GOVERNMENT SECONDARY SCHOOL', 'GOVERNMENT SECONDARY SCHOOL', 'FATIMA CONVENT SCHOOL', 'FRONTIER SCHOOL', 'G RIO SCHOOL', 'GARDEN DEW SCHOOL', 'GARIA ACADEMY (MODEL)', 'GLOBAL ACADEMY', 'GLOBAL COLLEGIATE SCHOOL', 'GLOBAL PUBLIC CENTRAL SCHOOL', 'GOALPARA ENGLISH SCHOOL', 'GODWINS SCHOOL', 'GOLDEN VALLEY H.S.( 2STAGE) SCHOOL', 'GOOD SHEPHERD PUBLIC SCHOOL', 'GOVE SEC SCHOOL', 'GOVERNMENT JUNIOR SECONDARY SCHOOL', 'GOVERNMENT SEC. SCHOOL', 'GOVERNMENT SECONDARY SCHOOL', 'GOVERNMENT SECONDARY SCHOOL', 'GOVERNMENT SECONDARY SCHOOL', 'GOVERNMENT SECONDARY SCHOOL', 'GOVERNMENT SECONDARY SCHOOL', 'GOVERNMENT SECONDARY SCHOOL', 'GOVERNMENT SECONDARY SCHOOL', 'GOVERNMENT SECONDARY SCHOOL', 'GOVERNMENT SECONDARY SCHOOL', 'GOVERNMENT SECONDARY SCHOOL', 'FATIMA CONVENT SCHOOL', 'FRONTIER SCHOOL', 'G RIO SCHOOL', 'GARDEN DEW SCHOOL', 'GARIA ACADEMY (MODEL)', 'GLOBAL ACADEMY', 'GLOBAL COLLEGIATE SCHOOL', 'GLOBAL PUBLIC CENTRAL SCHOOL', 'GOALPARA ENGLISH SCHOOL', 'GODWINS SCHOOL', 'GOLDEN VALLEY H.S.( 2STAGE) SCHOOL', 'GOOD SHEPHERD PUBLIC SCHOOL', 'GOVE SEC SCHOOL', 'GOVERNMENT JUNIOR SECONDARY SCHOOL', 'GOVERNMENT SEC. SCHOOL', 'GOVERNMENT SECONDARY SCHOOL', 'GOVERNMENT SECONDARY SCHOOL', 'GOVERNMENT SECONDARY SCHOOL', 'GOVERNMENT SECONDARY SCHOOL', 'GOVERNMENT SECONDARY SCHOOL', 'GOVERNMENT SECONDARY SCHOOL', 'GOVERNMENT SECONDARY SCHOOL', 'GOVERNMENT SECONDARY SCHOOL', 'GOVERNMENT SECONDARY SCHOOL', 'GOVERNMENT SECONDARY SCHOOL', 'FATIMA CONVENT SCHOOL', 'FRONTIER SCHOOL', 'G RIO SCHOOL', 'GARDEN DEW SCHOOL', 'GARIA ACADEMY (MODEL)', 'GLOBAL ACADEMY', 'GLOBAL COLLEGIATE SCHOOL', 'GLOBAL PUBLIC CENTRAL SCHOOL', 'GOALPARA ENGLISH SCHOOL', 'GODWINS SCHOOL', 'GOLDEN VALLEY H.S.( 2STAGE) SCHOOL', 'GOOD SHEPHERD PUBLIC SCHOOL', 'GOVE SEC SCHOOL', 'GOVERNMENT JUNIOR SECONDARY SCHOOL', 'GOVERNMENT SEC. SCHOOL', 'GOVERNMENT SECONDARY SCHOOL', 'GOVERNMENT SECONDARY SCHOOL', 'GOVERNMENT SECONDARY SCHOOL', 'GOVERNMENT SECONDARY SCHOOL', 'GOVERNMENT SECONDARY SCHOOL', 'GOVERNMENT SECONDARY SCHOOL', 'GOVERNMENT SECONDARY SCHOOL', 'GOVERNMENT SECONDARY SCHOOL', 'GOVERNMENT SECONDARY SCHOOL', 'GOVERNMENT SECONDARY SCHOOL', 'FATIMA CONVENT SCHOOL', 'FRONTIER SCHOOL', 'G RIO SCHOOL', 'GARDEN DEW SCHOOL', 'GARIA ACADEMY (MODEL)', 'GLOBAL ACADEMY', 'GLOBAL COLLEGIATE SCHOOL', 'GLOBAL PUBLIC CENTRAL SCHOOL', 'GOALPARA ENGLISH SCHOOL', 'GODWINS SCHOOL', 'GOLDEN VALLEY H.S.( 2STAGE) SCHOOL', 'GOOD SHEPHERD PUBLIC SCHOOL', 'GOVE SEC SCHOOL', 'GOVERNMENT JUNIOR SECONDARY SCHOOL', 'GOVERNMENT SEC. SCHOOL', 'GOVERNMENT SECONDARY SCHOOL', 'GOVERNMENT SECONDARY SCHOOL', 'GOVERNMENT SECONDARY SCHOOL', 'GOVERNMENT SECONDARY SCHOOL', 'GOVERNMENT SECONDARY SCHOOL', 'GOVERNMENT SECONDARY SCHOOL', 'GOVERNMENT SECONDARY SCHOOL', 'GOVERNMENT SECONDARY SCHOOL', 'GOVERNMENT SECONDARY SCHOOL', 'GOVERNMENT SECONDARY SCHOOL', 'FATIMA CONVENT SCHOOL', 'FRONTIER SCHOOL', 'G RIO SCHOOL', 'GARDEN DEW SCHOOL', 'GARIA ACADEMY (MODEL)', 'GLOBAL ACADEMY', 'GLOBAL COLLEGIATE SCHOOL', 'GLOBAL PUBLIC CENTRAL SCHOOL', 'GOALPARA ENGLISH SCHOOL', 'GODWINS SCHOOL', 'GOLDEN VALLEY H.S.( 2STAGE) SCHOOL', 'GOOD SHEPHERD PUBLIC SCHOOL', 'GOVE SEC SCHOOL', 'GOVERNMENT JUNIOR SECONDARY SCHOOL', 'GOVERNMENT SEC. SCHOOL', 'GOVERNMENT SECONDARY SCHOOL', 'GOVERNMENT SECONDARY SCHOOL', 'GOVERNMENT SECONDARY SCHOOL', 'GOVERNMENT SECONDARY SCHOOL', 'GOVERNMENT SECONDARY SCHOOL', 'GOVERNMENT SECONDARY SCHOOL', 'GOVERNMENT SECONDARY SCHOOL', 'GOVERNMENT SECONDARY SCHOOL', 'GOVERNMENT SECONDARY SCHOOL', 'GOVERNMENT SECONDARY SCHOOL', 'FATIMA CONVENT SCHOOL', 'FRONTIER SCHOOL', 'G RIO SCHOOL', 'GARDEN DEW SCHOOL', 'GARIA ACADEMY (MODEL)', 'GLOBAL ACADEMY', 'GLOBAL COLLEGIATE SCHOOL', 'GLOBAL PUBLIC CENTRAL SCHOOL', 'GOALPARA ENGLISH SCHOOL', 'GODWINS SCHOOL', 'GOLDEN VALLEY H.S.( 2STAGE) SCHOOL', 'GOOD SHEPHERD PUBLIC SCHOOL', 'GOVE SEC SCHOOL', 'GOVERNMENT JUNIOR SECONDARY SCHOOL', 'GOVERNMENT SEC. SCHOOL', 'GOVERNMENT SECONDARY SCHOOL', 'GOVERNMENT SECONDARY SCHOOL', 'GOVERNMENT SECONDARY SCHOOL', 'GOVERNMENT SECONDARY SCHOOL', 'GOVERNMENT SECONDARY SCHOOL', 'GOVERNMENT SECONDARY SCHOOL', 'GOVERNMENT SECONDARY SCHOOL', 'GOVERNMENT SECONDARY SCHOOL', 'GOVERNMENT SECONDARY SCHOOL', 'GOVERNMENT SECONDARY SCHOOL', 'FATIMA CONVENT SCHOOL', 'FRONTIER SCHOOL', 'G RIO SCHOOL', 'GARDEN DEW SCHOOL', 'GARIA ACADEMY (MODEL)', 'GLOBAL ACADEMY', 'GLOBAL COLLEGIATE SCHOOL', 'GLOBAL PUBLIC CENTRAL SCHOOL', 'GOALPARA ENGLISH SCHOOL', 'GODWINS SCHOOL', 'GOLDEN VALLEY H.S.( 2STAGE) SCHOOL', 'GOOD SHEPHERD PUBLIC SCHOOL', 'GOVE SEC SCHOOL', 'GOVERNMENT JUNIOR SECONDARY SCHOOL', 'GOVERNMENT SEC. SCHOOL', 'GOVERNMENT SECONDARY SCHOOL', 'GOVERNMENT SECONDARY SCHOOL', 'GOVERNMENT SECONDARY SCHOOL', 'GOVERNMENT SECONDARY SCHOOL', 'GOVERNMENT SECONDARY SCHOOL', 'GOVERNMENT SECONDARY SCHOOL', 'GOVERNMENT SECONDARY SCHOOL', 'GOVERNMENT SECONDARY SCHOOL', 'GOVERNMENT SECONDARY SCHOOL', 'GOVERNMENT SECONDARY SCHOOL', 'FATIMA CONVENT SCHOOL', 'FRONTIER SCHOOL', 'G RIO SCHOOL', 'GARDEN DEW SCHOOL', 'GARIA ACADEMY (MODEL)', 'GLOBAL ACADEMY', 'GLOBAL COLLEGIATE SCHOOL', 'GLOBAL PUBLIC CENTRAL SCHOOL', 'GOALPARA ENGLISH SCHOOL', 'GODWINS SCHOOL', 'GOLDEN VALLEY H.S.( 2STAGE) SCHOOL', 'GOOD SHEPHERD PUBLIC SCHOOL', 'GOVE SEC SCHOOL', 'GOVERNMENT JUNIOR SECONDARY SCHOOL', 'GOVERNMENT SEC. SCHOOL', 'GOVERNMENT SECONDARY SCHOOL', 'GOVERNMENT SECONDARY SCHOOL', 'GOVERNMENT SECONDARY SCHOOL', 'GOVERNMENT SECONDARY SCHOOL', 'GOVERNMENT SECONDARY SCHOOL', 'GOVERNMENT SECONDARY SCHOOL', 'GOVERNMENT SECONDARY SCHOOL', 'GOVERNMENT SECONDARY SCHOOL', 'GOVERNMENT SECONDARY SCHOOL', 'GOVERNMENT SECONDARY SCHOOL', 'FATIMA CONVENT SCHOOL', 'FRONTIER SCHOOL', 'G RIO SCHOOL', 'GARDEN DEW SCHOOL', 'GARIA ACADEMY (MODEL)', 'GLOBAL ACADEMY', 'GLOBAL COLLEGIATE SCHOOL', 'GLOBAL PUBLIC CENTRAL SCHOOL', 'GOALPARA ENGLISH SCHOOL', 'GODWINS SCHOOL', 'GOLDEN VALLEY H.S.( 2STAGE) SCHOOL', 'GOOD SHEPHERD PUBLIC SCHOOL', 'GOVE SEC SCHOOL', 'GOVERNMENT JUNIOR SECONDARY SCHOOL', 'GOVERNMENT SEC. SCHOOL', 'GOVERNMENT SECONDARY SCHOOL', 'GOVERNMENT SECONDARY SCHOOL', 'GOVERNMENT SECONDARY SCHOOL', 'GOVERNMENT SECONDARY SCHOOL', 'GOVERNMENT SECONDARY SCHOOL', 'GOVERNMENT SECONDARY SCHOOL', 'GOVERNMENT SECONDARY SCHOOL', 'GOVERNMENT SECONDARY SCHOOL', 'GOVERNMENT SECONDARY SCHOOL', 'GOVERNMENT SECONDARY SCHOOL', 'FATIMA CONVENT SCHOOL', 'FRONTIER SCHOOL', 'G RIO SCHOOL', 'GARDEN DEW SCHOOL', 'GARIA ACADEMY (MODEL)', 'GLOBAL ACADEMY', 'GLOBAL COLLEGIATE SCHOOL', 'GLOBAL PUBLIC CENTRAL SCHOOL', 'GOALPARA ENGLISH SCHOOL', 'GODWINS SCHOOL', 'GOLDEN VALLEY H.S.( 2STAGE) SCHOOL', 'GOOD SHEPHERD PUBLIC SCHOOL', 'GOVE SEC SCHOOL', 'GOVERNMENT JUNIOR SECONDARY SCHOOL', 'GOVERNMENT SEC. SCHOOL', 'GOVERNMENT SECONDARY SCHOOL', 'GOVERNMENT SECONDARY SCHOOL', 'GOVERNMENT SECONDARY SCHOOL', 'GOVERNMENT SECONDARY SCHOOL', 'GOVERNMENT SECONDARY SCHOOL', 'GOVERNMENT SECONDARY SCHOOL', 'GOVERNMENT SECONDARY SCHOOL', 'GOVERNMENT SECONDARY SCHOOL', 'GOVERNMENT SECONDARY SCHOOL', 'GOVERNMENT SECONDARY SCHOOL', 'FATIMA CONVENT SCHOOL', 'FRONTIER SCHOOL', 'G RIO SCHOOL', 'GARDEN DEW SCHOOL', 'GARIA ACADEMY (MODEL)', 'GLOBAL ACADEMY', 'GLOBAL COLLEGIATE SCHOOL', 'GLOBAL PUBLIC CENTRAL SCHOOL', 'GOALPARA ENGLISH SCHOOL', 'GODWINS SCHOOL', 'GOLDEN VALLEY H.S.( 2STAGE) SCHOOL', 'GOOD SHEPHERD PUBLIC SCHOOL', 'GOVE SEC SCHOOL', 'GOVERNMENT JUNIOR SECONDARY SCHOOL', 'GOVERNMENT SEC. SCHOOL', 'GOVERNMENT SECONDARY SCHOOL', 'GOVERNMENT SECONDARY SCHOOL', 'GOVERNMENT SECONDARY SCHOOL', 'GOVERNMENT SECONDARY SCHOOL', 'GOVERNMENT SECONDARY SCHOOL', 'GOVERNMENT SECONDARY SCHOOL', 'GOVERNMENT SECONDARY SCHOOL', 'GOVERNMENT SECONDARY SCHOOL', 'GOVERNMENT SECONDARY SCHOOL', 'GOVERNMENT SECONDARY SCHOOL', 'FATIMA CONVENT SCHOOL', 'FRONTIER SCHOOL', 'G RIO SCHOOL', 'GARDEN DEW SCHOOL', 'GARIA ACADEMY (MODEL)', 'GLOBAL ACADEMY', 'GLOBAL COLLEGIATE SCHOOL', 'GLOBAL PUBLIC CENTRAL SCHOOL', 'GOALPARA ENGLISH SCHOOL', 'GODWINS SCHOOL', 'GOLDEN VALLEY H.S.( 2STAGE) SCHOOL', 'GOOD SHEPHERD PUBLIC SCHOOL', 'GOVE SEC SCHOOL', 'GOVERNMENT JUNIOR SECONDARY SCHOOL', 'GOVERNMENT SEC. SCHOOL', 'GOVERNMENT SECONDARY SCHOOL', 'GOVERNMENT SECONDARY SCHOOL', 'GOVERNMENT SECONDARY SCHOOL', 'GOVERNMENT SECONDARY SCHOOL', 'GOVERNMENT SECONDARY SCHOOL', 'GOVERNMENT SECONDARY SCHOOL', 'GOVERNMENT SECONDARY SCHOOL', 'GOVERNMENT SECONDARY SCHOOL', 'GOVERNMENT SECONDARY SCHOOL', 'GOVERNMENT SECONDARY SCHOOL', 'FATIMA CONVENT SCHOOL', 'FRONTIER SCHOOL', 'G RIO SCHOOL', 'GARDEN DEW SCHOOL', 'GARIA ACADEMY (MODEL)', 'GLOBAL ACADEMY', 'GLOBAL COLLEGIATE SCHOOL', 'GLOBAL PUBLIC CENTRAL SCHOOL', 'GOALPARA ENGLISH SCHOOL', 'GODWINS SCHOOL', 'GOLDEN VALLEY H.S.( 2STAGE) SCHOOL', 'GOOD SHEPHERD PUBLIC SCHOOL', 'GOVE SEC SCHOOL', 'GOVERNMENT JUNIOR SECONDARY SCHOOL', 'GOVERNMENT SEC. SCHOOL', 'GOVERNMENT SECONDARY SCHOOL', 'GOVERNMENT SECONDARY SCHOOL', 'GOVERNMENT SECONDARY SCHOOL', 'GOVERNMENT SECONDARY SCHOOL', 'GOVERNMENT SECONDARY SCHOOL', 'GOVERNMENT SECONDARY SCHOOL', 'GOVERNMENT SECONDARY SCHOOL', 'GOVERNMENT SECONDARY SCHOOL', 'GOVERNMENT SECONDARY SCHOOL', 'GOVERNMENT SECONDARY SCHOOL', 'FATIMA CONVENT SCHOOL', 'FRONTIER SCHOOL', 'G RIO SCHOOL', 'GARDEN DEW SCHOOL', 'GARIA ACADEMY (MODEL)', 'GLOBAL ACADEMY', 'GLOBAL COLLEGIATE SCHOOL', 'GLOBAL PUBLIC CENTRAL SCHOOL', 'GOALPARA ENGLISH SCHOOL', 'GODWINS SCHOOL', 'GOLDEN VALLEY H.S.( 2STAGE) SCHOOL', 'GOOD SHEPHERD PUBLIC SCHOOL', 'GOVE SEC SCHOOL', 'GOVERNMENT JUNIOR SECONDARY SCHOOL', 'GOVERNMENT SEC. SCHOOL', 'GOVERNMENT SECONDARY SCHOOL', 'GOVERNMENT SECONDARY SCHOOL', 'GOVERNMENT SECONDARY SCHOOL', 'GOVERNMENT SECONDARY SCHOOL', 'GOVERNMENT SECONDARY SCHOOL', 'GOVERNMENT SECONDARY SCHOOL', 'GOVERNMENT SECONDARY SCHOOL', 'GOVERNMENT SECONDARY SCHOOL', 'GOVERNMENT SECONDARY SCHOOL', 'GOVERNMENT SECONDARY SCHOOL', 'FATIMA CONVENT SCHOOL', 'FRONTIER SCHOOL', 'G RIO SCHOOL', 'GARDEN DEW SCHOOL', 'GARIA ACADEMY (MODEL)', 'GLOBAL ACADEMY', 'GLOBAL COLLEGIATE SCHOOL', 'GLOBAL PUBLIC CENTRAL SCHOOL', 'GOALPARA ENGLISH SCHOOL', 'GODWINS SCHOOL', 'GOLDEN VALLEY H.S.( 2STAGE) SCHOOL', 'GOOD SHEPHERD PUBLIC SCHOOL', 'GOVE SEC SCHOOL', 'GOVERNMENT JUNIOR SECONDARY SCHOOL', 'GOVERNMENT SEC. SCHOOL', 'GOVERNMENT SECONDARY SCHOOL', 'GOVERNMENT SECONDARY SCHOOL', 'GOVERNMENT SECONDARY SCHOOL', 'GOVERNMENT SECONDARY SCHOOL', 'GOVERNMENT SECONDARY SCHOOL', 'GOVERNMENT SECONDARY SCHOOL', 'GOVERNMENT SECONDARY SCHOOL', 'GOVERNMENT SECONDARY SCHOOL', 'GOVERNMENT SECONDARY SCHOOL', 'GOVERNMENT SECONDARY SCHOOL', 'GOVERNMENT SECONDARY SCHOOL', 'GOVERNMENT SECONDARY SCHOOL', 'GOVERNMENT SECONDARY SCHOOL', 'GOVERNMENT SECONDARY SCHOOL', 'GOVERNMENT SECONDARY SCHOOL', 'GOVERNMENT SECONDARY SCHOOL', 'GOVERNMENT SECONDARY SCHOOL', 'GOVERNMENT SECONDARY SCHOOL', 'GOVERNMENT SECONDARY SCHOOL', 'GOVERNMENT SECONDARY SCHOOL', 'GOVERNMENT SECONDARY SCHOOL', 'GOVERNMENT SECONDARY SCHOOL', 'GOVERNMENT SECONDARY SCHOOL', 'GOVERNMENT SECONDARY SCHOOL', 'GOVERNMENT SECONDARY SCHOOL', 'GOVERNMENT SECONDARY SCHOOL', 'GOVERNMENT SECONDARY SCHOOL', 'GOVERNMENT SECONDARY SCHOOL', 'GOVERNMENT SECONDARY SCHOOL', 'GOVERNMENT SECONDARY SCHOOL', 'GOVERNMENT SECONDARY SCHOOL BERING', 'GOVERNMENT SECONDARY SCHOOL CHANATAR RANGPO', 'GOVERNMENT SECONDARY SCHOOL RALEY', 'GOVERNMENT SECONDARY SCHOOL RUMBUK, WEST SIKKIM', 'GOVERNMENT SECONDARY SCHOOL, RABITAR', 'GOVERNMENT SECONDARY SCHOOL, RONGLI', 'GOVERNMENT SECONDARY SHCOOL,NACHO', 'GOVERNMENT SR. SECONDARY SCHOOL', 'GOVERNMENT SR. SECONDARY SCHOOL', 'GOVERNMENT SR. SECONDARY SCHOOL', 'GOVT GIRLS SR. SEC SCHOOL', 'GOVT HIGH SCHOOL', 'GOVT HIGHER SEC SCHOOL', 'GOVT HIGHER SEC SCHOOL', 'GOVT HIGHER SEC SCHOOL', 'GOVT HIGHER SEC SCHOOL', 'GOVT HIGHER SECONDARY SCHOOL', 'GOVT HIGHER SECONDARY SCHOOL', 'GOVT HR SEC SCHOOL', 'GOVT HR SEC SCHOOL', 'GOVT HR SEC SCHOOL', 'GOVT HR SEC SCHOOL', 'GOVT HR SEC SCHOOL', 'GOVT HR SEC SCHOOL', 'GOVT HR SEC SCHOOL', 'GOVT HR SEC SCHOOL', 'GOVT HR SEC SCHOOL', 'GOVT HR SEC SCHOOL', 'GOVT HR SEC SCHOOL', 'GOVT HR SEC SCHOOL', 'GOVT HR SEC SCHOOL', 'GOVT HR SEC SCHOOL', 'GOVT HR SEC SCHOOL', 'GOVT HR SEC SCHOOL', 'GOVT HR SEC SCHOOL', 'GOVT HR SEC SCHOOL', 'GOVT HR SEC SCHOOL', 'GOVT HR SEC SCHOOL', 'GOVT HR SEC SCHOOL', 'GOVT HR SEC SCHOOL', 'GOVT HR SEC SCHOOL', 'GOVT HR SEC SCHOOL', 'GOVT HR SEC SCHOOL', 'GOVT HR SEC SCHOOL', 'GOVT HR SEC SCHOOL', 'GOVT HR SEC SCHOOL', 'GOVT HR SEC SCHOOL', 'GOVT HR SEC SCHOOL', 'GOVT HR SEC SCHOOL', 'GOVT HR SEC SCHOOL', 'GOVT HR SEC SCHOOL', 'GOVT HR SEC SCHOOL', 'GOVT HR SEC SCHOOL', 'GOVT HR SEC SCHOOL', 'GOVT HR SEC SCHOOL', 'GOVT HR SEC SCHOOL', 'GOVT HR SEC SCHOOL', 'GOVT HR SEC SCHOOL', 'GOVT HR SEC SCHOOL', 'GOVT HR SEC SCHOOL', 'GOVT HR SEC SCHOOL', 'GOVT HR SEC SCHOOL', 'GOVT HR SEC SCHOOL', 'GOVT HR SEC SCHOOL', 'GOVT HR SEC SCHOOL', 'GOVT HR SEC SCHOOL', 'GOVT HR SEC SCHOOL', 'GOVT HR SEC SCHOOL', 'GOVT HR SEC SCHOOL', 'GOVT HR SEC SCHOOL', 'GOVT HR SEC SCHOOL', 'GOVT HR. SEC SCHOOL', 'GOVT HR. SEC SCHOOL', 'GOVT HR. SEC. SCHOOL', 'GOVT HR. SR SEC SCHOOL', 'GOVT NEHRU MEMORIAL HR SEC SCHOOL', 'GOVT RANGCHANG SEC SCHOOL', 'GOVT SANGAY LHADEN SPORTS ACADEMY', 'GOVT SEC  SCHOOL', 'GOVT SEC SCHOOL', 'GOVT SEC SCHOOL', 'GOVT SEC SCHOOL', 'GOVT SEC SCHOOL', 'GOVT SEC SCHOOL', 'GOVT SEC SCHOOL', 'GOVT SEC SCHOOL', 'GOVT SEC SCHOOL', 'GOVT SEC SCHOOL', 'GOVT SEC SCHOOL', 'GOVT SEC SCHOOL', 'GOVT SEC SCHOOL', 'GOVT SEC SCHOOL', 'GOVT SEC SCHOOL', 'GOVT SEC SCHOOL', 'GOVT SEC SCHOOL', 'GOVT SEC SCHOOL', 'GOVT SEC SCHOOL', 'GOVT SEC SCHOOL', 'GOVT SEC SCHOOL', 'GOVT SEC SCHOOL', 'GOVT SEC SCHOOL', 'GOVT SEC SCHOOL', 'GOVT SEC SCHOOL', 'GOVT SEC SCHOOL', 'GOVT SEC SCHOOL', 'GOVT SEC SCHOOL', 'GOVT SEC SCHOOL', 'GOVT SEC SCHOOL', 'GOVT SEC SCHOOL', 'GOVT SEC SCHOOL', 'GOVT SEC SCHOOL', 'GOVT SEC SCHOOL', 'GOVT SEC SCHOOL', 'GOVT SEC SCHOOL', 'GOVT SEC SCHOOL', 'GOVT SEC SCHOOL', 'GOVT SEC SCHOOL', 'GOVT SEC SCHOOL', 'GOVT SEC SCHOOL', 'GOVT SEC SCHOOL', 'GOVT SEC SCHOOL', 'GOVT SEC SCHOOL', 'GOVT SEC SCHOOL', 'GOVT SEC SCHOOL', 'GOVT SEC SCHOOL', 'GOVT SEC SCHOOL', 'GOVT SEC SCHOOL', 'GOVT SEC SCHOOL', 'GOVT SEC SCHOOL', 'GOVT SEC SCHOOL', 'GOVT SEC SCHOOL', 'GOVT SEC SCHOOL', 'GOVT SEC SCHOOL', 'GOVT SEC SCHOOL', 'GOVT SEC SCHOOL', 'GOVT SEC SCHOOL', 'GOVT SEC SCHOOL', 'GOVT SEC SCHOOL', 'GOVT SEC SCHOOL', 'GOVT SEC SCHOOL', 'GOVT SEC SCHOOL', 'GOVT SEC SCHOOL', 'GOVT SEC SCHOOL', 'GOVT SEC SCHOOL', 'GOVT SEC SCHOOL', 'GOVT SEC SCHOOL', 'GOVT SEC SCHOOL', 'GOVT SEC SCHOOL', 'GOVT SEC SCHOOL', 'GOVT SEC SCHOOL', 'GOVT SEC SCHOOL', 'GOVT SEC SCHOOL', 'GOVT SEC SCHOOL', 'GOVT SEC SCHOOL', 'GOVT SEC SCHOOL', 'GOVT SEC SCHOOL', 'GOVT SEC SCHOOL', 'GOVT SEC SCHOOL', 'GOVT SEC SCHOOL', 'GOVT SEC SCHOOL', 'GOVT SEC SCHOOL', 'GOVT SEC SCHOOL', 'GOVT SEC SCHOOL', 'GOVT SEC SCHOOL', 'GOVT SEC SCHOOL', 'GOVT SEC SCHOOL', 'GOVT SEC SCHOOL', 'GOVT SEC SCHOOL', 'GOVT SEC SCHOOL', 'GOVT SEC SCHOOL', 'GOVT SEC SCHOOL', 'GOVT SEC SCHOOL', 'GOVT SEC SCHOOL', 'GOVT SEC SCHOOL', 'GOVT SEC SCHOOL', 'GOVT SEC SCHOOL', 'GOVT SEC SCHOOL', 'GOVT SEC SCHOOL', 'GOVT SEC SCHOOL', 'GOVT SEC SCHOOL', 'GOVT SEC SCHOOL', 'GOVT SEC SCHOOL', 'GOVT SEC SCHOOL', 'GOVT SEC SCHOOL', 'GOVT SEC SCHOOL GELLING', 'GOVT SEC SHOOL', 'GOVT SECONDARY SCHOOL', 'GOVT SECONDARY SCHOOL', 'GOVT SECONDARY SCHOOL', 'GOVT SECONDARY SCHOOL', 'GOVT SECONDARY SCHOOL', 'GOVT SECONDARY SCHOOL', 'GOVT SECONDARY SCHOOL', 'GOVT SECONDARY SCHOOL', 'GOVT SECONDARY SCHOOL', 'GOVT SECONDARY SCHOOL', 'GOVT SECONDARY SCHOOL', 'GOVT SECONDARY SCHOOL', 'GOVT SECONDARY SCHOOL', 'GOVT SECONDARY SCHOOL', 'GOVT SECONDARY SCHOOL', 'GOVT SECONDARY SCHOOL', 'GOVT SECONDARY SCHOOL', 'GOVT SECONDARY SCHOOL', 'GOVT SECONDARY SCHOOL', 'GOVT SECONDARY SCHOOL', 'GOVT SECONDARY SCHOOL', 'GOVT SECONDARY SCHOOL', 'GOVT SR SEC SCHOOL', 'GOVT SR SEC SCHOOL', 'GOVT SR SEC SCHOOL', 'GOVT SR SEC SCHOOL', 'GOVT SR SEC SCHOOL', 'GOVT SR SEC SCHOOL', 'GOVT SR SEC SCHOOL', 'GOVT SR SEC SCHOOL', 'GOVT SR SEC SCHOOL', 'GOVT SR SEC SCHOOL', 'GOVT SR SEC SCHOOL', 'GOVT SR SEC SCHOOL', 'GOVT SR SEC SCHOOL', 'GOVT SR SEC SCHOOL', 'GOVT SR SEC SCHOOL', 'GOVT SR SEC SCHOOL', 'GOVT SR SEC SCHOOL', 'GOVT SR SEC SCHOOL', 'GOVT SR SEC SCHOOL', 'GOVT SR SEC SCHOOL', 'GOVT SR SEC SCHOOL', 'GOVT SR SEC SCHOOL', 'GOVT SR SEC SCHOOL', 'GOVT SR. SEC SCHOOL', 'GOVT SR. SEC SCHOOL', 'GOVT SR. SEC SCHOOL', 'GOVT SR. SEC SCHOOL', 'GOVT SR. SEC SCHOOL', 'GOVT SR. SEC SCHOOL', 'GOVT SR. SEC. SCHOOL', 'GOVT SR. SEC. SCHOOL', 'GOVT SR.SEC SCHOOL', 'GOVT SR.SEC SCHOOL', 'GOVT TOWN SECONDARY SCHOOL', 'GOVT WEST POINT SR.SEC. SCHOOL,', 'GOVT. BARUL SECONDARY SCHOOL', 'GOVT. BIRASPATI PARSAI SR. SEC SCHOOL,', 'GOVT. C M RAI GOVT. SEC SCHOOL,', 'GOVT. CO-EDN. SEC SCHOOL', 'GOVT. GANDHI SEC. SCHOOL', 'GOVT. GIRLS SR SEC SCHOOL', 'GOVT. HR SEC SCHOOL', 'GOVT. HR SEC SCHOOL', 'GOVT. HR. SEC. SCHOOL', 'GOVT. JR. HIGH SCHOOL,', 'GOVT. KARZI SEC SCHOOL,', 'GOVT. KRIPASALYAN SR. SEC. SCHOOL,', 'GOVT. LOWER SYARI SEC. SCHOOL,', 'GOVT. RESHI SEC. SCHOOL,', 'GOVT. SEC SCHOOL', 'GOVT. SEC SCHOOL', 'GOVT. SEC SCHOOL', 'GOVT. SEC SCHOOL', 'GOVT. SEC SCHOOL', 'GOVT. SEC SCHOOL', 'GOVT. SEC SCHOOL', 'GOVT. SEC SCHOOL', 'GOVT. SEC SCHOOL', 'GOVT. SEC SCHOOL', 'GOVT. SEC SCHOOL', 'GOVT. SEC SCHOOL', 'GOVT. SEC SCHOOL', 'GOVT. SEC SCHOOL', 'GOVT. SEC SCHOOL', 'GOVT. SEC SCHOOL', 'GOVT. SEC SCHOOL', 'GOVT. SEC SCHOOL', 'GOVT. SEC SCHOOL', 'GOVT. SEC SCHOOL', 'GOVT. SEC SCHOOL', 'GOVT. SEC SCHOOL', 'GOVT. SEC SCHOOL', 'GOVT. SEC SCHOOL', 'GOVT. SEC SCHOOL', 'GOVT. SEC SCHOOL', 'GOVT. SEC. SCHOOL', 'GOVT. SEC. SCHOOL', 'GOVT. SEC. SCHOOL', 'GOVT. SEC. SCHOOL', 'GOVT. SEC. SCHOOL', 'GOVT. SEC. SCHOOL', 'GOVT. SEC. SCHOOL', 'GOVT. SEC. SCHOOL', 'GOVT. SEC. SCHOOL', 'GOVT. SEC. SCHOOL', 'GOVT. SEC. SCHOOL', 'GOVT. SEC. SCHOOL', 'GOVT. SEC. SCHOOL', 'GOVT. SEC. SCHOOL', 'GOVT. SEC. SCHOOL LINGI PAYONG,', 'GOVT. SEC. SCHOOL PANIA, P.O. PALIN', 'GOVT. SEC. SCHOOL RINGHIM, MANGAM,', 'GOVT. SEC. SCHOOL ROING', 'GOVT. SEC. SCHOOL,', 'GOVT. SEC. SCHOOL,', 'GOVT. SEC. SCHOOL,', 'GOVT. SEC. SCHOOL, GANGA P.O', 'GOVT. SECONDARY SCHOOL', 'GOVT. SECONDARY SCHOOL', 'GOVT. SECONDARY SCHOOL', 'GOVT. SECONDARY SCHOOL', 'GOVT. SECONDARY SCHOOL', 'GOVT. SECONDARY SCHOOL', 'GOVT. SECONDARY SCHOOL', 'GOVT. SECONDARY SCHOOL', 'GOVT. SECONDARY SCHOOL', 'GOVT. SECONDARY SCHOOL', 'GOVT. SECONDARY SCHOOL', 'GOVT. SECONDARY SCHOOL', 'GOVT. SECONDARY SCHOOL', 'GOVT. SECONDARY SCHOOL', 'GOVT. SECONDARY SCHOOL', 'GOVT. SECONDARY SCHOOL', 'GOVT. SECONDARY SCHOOL', 'GOVT. SECONDARY SCHOOL', 'GOVT. SECONDARY SCHOOL', 'GOVT. SECONDARY SCHOOL', 'GOVT. SECONDARY SCHOOL ALUBARI', 'GOVT. SECONDARY SCHOOL DUI', 'GOVT. SECONDARY SCHOOL,', 'GOVT. SECONDARY SCHOOL,', 'GOVT. SECONDARY SCHOOL,', 'GOVT. SECONDARY SCHOOL,', 'GOVT. SECONDARY SCHOOL, BANDERDEWA', 'GOVT. SIR T N SR. SEC. SCHOOL,', 'GOVT. SR SEC SCHOOL', 'GOVT. SR SEC SCHOOL', 'GOVT. SR SEC SCHOOL', 'GOVT. SR SEC SCHOOL', 'GOVT. SR SEC SCHOOL', 'GOVT. SR SEC SCHOOL', 'GOVT. SR SEC SCHOOL', 'GOVT. SR. SEC. SCHOOL', 'GOVT. SR. SEC. SCHOOL', 'GOVT. SR. SEC. SCHOOL', 'GOVT. SR. SEC. SCHOOL', 'GOVT. SR. SEC. SCHOOL', 'GOVT. SR. SEC. SCHOOL', 'GOVT. SR. SEC. SCHOOL,', 'GOVT. SR. SEC. SCHOOL,', 'GOVT. SR. SEC. SCHOOL,', 'GOVT. SR. SEC. SCHOOL,', 'GOVT. SR. SEC. SCHOOL,', 'GOVT. SR. SEC. SCHOOL,', 'GOVT. TOWN SEC. SCHOOL', 'GOVT.HR. SR SEC SCHOOL', 'GOVT.SEC SCHOOL RESTARING', 'GOVT.SEC.SCHOOL MULUKEY', 'GOVT.SONAMATI MEMO SR. SEC. SCHOOL,', 'GOVT.SR. SEC. SCHOOL,', 'GRACE COTTAGE CULTURAL & EDUCATIONAL DEVELOPMENT FOUNDATION', 'GREEN DALE SCHOOL', 'GREEN DALE SCHOOL', 'GREEN MEADOWS SCHOOL', 'GREEN MOUNT SCHOOL', 'GREEN VALLEY PUBLIC SCHOOL', 'GREEN VALLEY SCHOOL', 'GREENVIEW SCHOOL', 'GURU TEG BAHADUR ACADEMY', 'GURUKUL GRAMMAR SCHOOL', 'GURUKUL GROUP OF EDUCATIONAL WING', 'GURUKUL NATIONAL SCHOOL', 'GUWAHATI PUBLIC SCHOOL', 'GYAN BHARATI PUBLIC SCHOOL', 'GYAN BHARTI ACADEMY', 'GYAN EDUCATIONAL INSTITUTION', 'GYAN EDUCATIONAL INSTITUTION,', 'GYAN GANGA VIDYAPEETH', 'GYANJYOTI ACADEMY', 'H.S. SCHOOL,', 'HAPPY CONVENT SCHOOL', 'HASEEN CHISHTI ISLAMIA COLLEGE(JUNI)', 'HEMLATA HANDIQUI MEMORIAL INSTITUTE', 'HENRY DEROZIO ACADEMY HS', 'HERITAGE PUBLIC SCHOOL', 'HIM INTERNATIONAL SCHOOL', 'HIMALAYAN ACADEMY', 'HINDI HIGHER SEC. SCHOOL', 'HINDUSTANI KENDRIYA VIDYALAYA', 'HINDUSTANI KENDRIYA VIDYALAYA', 'HINDUSTANI KENDRIYA VIDYALAYA', 'HOLLOTOLI SCHOOL', 'HOLY BROOK SCHOOL', 'HOLY CHILD ENGLISH SCHOOL', 'HOLY CHILD H.S.SCHOOL', 'HOLY CHILD PUBLIC SCHOOL', 'HOLY CHILD SCHOOL', 'HOLY CROSS SCHOOL', 'HOLY CROSS SCHOOL', 'HOLY CROSS SCHOOL KUMARGHAT', 'HOLY CROWN SCHOOL', 'HOLY FLOWER HIGH SCHOOL', 'HOLY HOME SECONDARY SCHOOL', 'HOLY SPIRIT SCHOOL', 'HOPE ACADEMY', 'HUMAN RESOURCE DEVELOPEMENT, PHAYENG, IMPHAL WEST.', 'HUNDRED FLOWERS HIGHER SECONDARY SCHOOL', 'I T B P PUBLIC SCHOOL', 'IAS CHIEF SECRETARY', 'ICON ENGLISH SCHOOL', 'IDEAL ENGLISH SCHOOL', 'IMPHAL VALLEY SCHOOL, NURTURING TOMORROW', 'INDIRA ACADEMY', 'INDUS ACADEMY', 'INTAYA PUBLIC SCHOOL', 'INTERNATIONAL SCHOOL GUWAHATI', 'ITBP PUBLIC SCHOOL', 'ITBP PUBLIC SCHOOL', 'J P PUBLIC SCHOOL, ITANAGAR', 'J.N PUBLIC SCHOOL', 'J.N.K.PUBLIC SCHOOL', 'JAWAHAR NAVODAYA VIDYALAYA', 'JAWAHAR NAVODAYA VIDYALAYA', 'JAWAHAR NAVODAYA VIDYALAYA', 'JAWAHAR NAVODAYA VIDYALAYA', 'JAWAHAR NAVODAYA VIDYALAYA', 'JAWAHAR NAVODAYA VIDYALAYA', 'JAWAHAR NAVODAYA VIDYALAYA', 'JAWAHAR NAVODAYA VIDYALAYA', 'JAWAHAR NAVODAYA VIDYALAYA', 'JAWAHAR NAVODAYA VIDYALAYA', 'JAWAHAR NAVODAYA VIDYALAYA', 'JAWAHAR NAVODAYA VIDYALAYA', 'JAWAHAR NAVODAYA VIDYALAYA', 'JAWAHAR NAVODAYA VIDYALAYA', 'JAWAHAR NAVODAYA VIDYALAYA', 'JAWAHAR NAVODAYA VIDYALAYA', 'JAWAHAR NAVODAYA VIDYALAYA', 'JAWAHAR NAVODAYA VIDYALAYA', 'JAWAHAR NAVODAYA VIDYALAYA', 'JAWAHAR NAVODAYA VIDYALAYA', 'JAWAHAR NAVODAYA VIDYALAYA', 'JAWAHAR NAVODAYA VIDYALAYA', 'JAWAHAR NAVODAYA VIDYALAYA', 'JAWAHAR NAVODAYA VIDYALAYA', 'JAWAHAR NAVODAYA VIDYALAYA', 'JAWAHAR NAVODAYA VIDYALAYA', 'JAWAHAR NAVODAYA VIDYALAYA', 'JAWAHAR NAVODAYA VIDYALAYA', 'JAWAHAR NAVODAYA VIDYALAYA', 'JAWAHAR NAVODAYA VIDYALAYA', 'JAWAHAR NAVODAYA VIDYALAYA', 'JAWAHAR NAVODAYA VIDYALAYA', 'JAWAHAR NAVODAYA VIDYALAYA', 'JAWAHAR NAVODAYA VIDYALAYA', 'JAWAHAR NAVODAYA VIDYALAYA', 'JAWAHAR NAVODAYA VIDYALAYA', 'JAWAHAR NAVODAYA VIDYALAYA', 'JAWAHAR NAVODAYA VIDYALAYA', 'JAWAHAR NAVODAYA VIDYALAYA', 'JAWAHAR NAVODAYA VIDYALAYA', 'JAWAHAR NAVODAYA VIDYALAYA', 'JAWAHAR NAVODAYA VIDYALAYA', 'JAWAHAR NAVODAYA VIDYALAYA', 'JAWAHAR NAVODAYA VIDYALAYA', 'JAWAHAR NAVODAYA VIDYALAYA', 'JAWAHAR NAVODAYA VIDYALAYA', 'JAWAHAR NAVODAYA VIDYALAYA', 'JAWAHAR NAVODAYA VIDYALAYA', 'JAWAHAR NAVODAYA VIDYALAYA', 'JAWAHAR NAVODAYA VIDYALAYA', 'JAWAHAR NAVODAYA VIDYALAYA', 'JAWAHAR NAVODAYA VIDYALAYA', 'JAWAHAR NAVODAYA VIDYALAYA', 'JAWAHAR NAVODAYA VIDYALAYA', 'JAWAHAR NAVODAYA VIDYALAYA', 'JAWAHAR NAVODAYA VIDYALAYA', 'JAWAHAR NAVODAYA VIDYALAYA', 'JAWAHAR NAVODAYA VIDYALAYA', 'JAWAHAR NAVODAYA VIDYALAYA', 'JAWAHAR NAVODAYA VIDYALAYA', 'JAWAHAR NAVODAYA VIDYALAYA', 'JAWAHAR NAVODAYA VIDYALAYA', 'JAWAHAR NAVODAYA VIDYALAYA', 'JAWAHAR NAVODAYA VIDYALAYA', 'JAWAHAR NAVODAYA VIDYALAYA', 'JAWAHAR NAVODAYA VIDYALAYA', 'JAWAHAR NAVODAYA VIDYALAYA', 'JAWAHAR NAVODAYA VIDYALAYA', 'JAWAHAR NAVODAYA VIDYALAYA', 'JAWAHAR NAVODAYA VIDYALAYA', 'JAWAHAR NAVODAYA VIDYALAYA', 'JAWAHAR NAVODAYA VIDYALAYA', 'JAWAHAR NAVODAYA VIDYALAYA', 'JAWAHAR NAVODAYA VIDYALAYA', 'JAWAHAR NAVODAYA VIDYALAYA', 'JAWAHAR NAVODAYA VIDYALAYA', 'JAWAHAR NAVODAYA VIDYALAYA', 'JAWAHAR NAVODAYA VIDYALAYA', 'JAWAHAR NAVODAYA VIDYALAYA', 'JAWAHAR NAVODAYA VIDYALAYA', 'JAWAHAR NAVODAYA VIDYALAYA', 'JAWAHAR NAVODAYA VIDYALAYA', 'JAWAHAR NAVODAYA VIDYALAYA', 'JAWAHAR NAVODAYA VIDYALAYA', 'JAWAHAR NAVODAYA VIDYALAYA', 'JAWAHAR NAVODAYA VIDYALAYA', 'JAWAHAR NAVODAYA VIDYALAYA', 'JAWAHAR NAVODAYA VIDYALAYA', 'JAWAHAR NAVODAYA VIDYALAYA BELONIA', 'JAWAHAR NAVODYA VIDYALAYA', 'JAWAHAR NAVODYA VIDYALAYA', 'JAWAHAR NAVODYA VIDYALAYA JESSAMI UKHRUL II DIST, MANIPUR', 'JAWLAI PUBLIC SCHOOL', 'JESUS MARY SCHOOL', 'JNV SEPAHIJALA', 'JOHN FIRTH CHRISTIAN ENGLISH HIGH SCHOOL', 'JWALAMUKHI PUBLIC SCHOOL', 'KAMALPUR GOVT. ENGLISH MEDIUM CLASS XII SCHOOL', 'KANAN DEVI MEMORIAL SCHOOL', 'KANCHANPUR GOVT. ENGLISH MEDIUM HS SCHOOL', 'KASTURBA GANDI BALIKA VIDYALAYA', 'KAZIRANGA ENG ACADEMY', 'KENDERIYA VIDYALAYA ZIRO', 'KENDRIYA VIDYALAYA', 'KENDRIYA VIDYALAYA', 'KENDRIYA VIDYALAYA', 'KENDRIYA VIDYALAYA', 'KENDRIYA VIDYALAYA', 'KENDRIYA VIDYALAYA', 'KENDRIYA VIDYALAYA', 'KENDRIYA VIDYALAYA', 'KENDRIYA VIDYALAYA', 'KENDRIYA VIDYALAYA', 'KENDRIYA VIDYALAYA', 'KENDRIYA VIDYALAYA', 'KENDRIYA VIDYALAYA', 'KENDRIYA VIDYALAYA', 'KENDRIYA VIDYALAYA', 'KENDRIYA VIDYALAYA', 'KENDRIYA VIDYALAYA', 'KENDRIYA VIDYALAYA', 'KENDRIYA VIDYALAYA', 'KENDRIYA VIDYALAYA', 'KENDRIYA VIDYALAYA', 'KENDRIYA VIDYALAYA', 'KENDRIYA VIDYALAYA', 'KENDRIYA VIDYALAYA', 'KENDRIYA VIDYALAYA', 'KENDRIYA VIDYALAYA', 'KENDRIYA VIDYALAYA', 'KENDRIYA VIDYALAYA', 'KENDRIYA VIDYALAYA', 'KENDRIYA VIDYALAYA', 'KENDRIYA VIDYALAYA', 'KENDRIYA VIDYALAYA', 'KENDRIYA VIDYALAYA', 'KENDRIYA VIDYALAYA', 'KENDRIYA VIDYALAYA', 'KENDRIYA VIDYALAYA', 'KENDRIYA VIDYALAYA', 'KENDRIYA VIDYALAYA', 'KENDRIYA VIDYALAYA', 'KENDRIYA VIDYALAYA', 'KENDRIYA VIDYALAYA', 'KENDRIYA VIDYALAYA', 'KENDRIYA VIDYALAYA', 'KENDRIYA VIDYALAYA', 'KENDRIYA VIDYALAYA', 'KENDRIYA VIDYALAYA', 'KENDRIYA VIDYALAYA', 'KENDRIYA VIDYALAYA', 'KENDRIYA VIDYALAYA', 'KENDRIYA VIDYALAYA', 'KENDRIYA VIDYALAYA', 'KENDRIYA VIDYALAYA', 'KENDRIYA VIDYALAYA', 'KENDRIYA VIDYALAYA', 'KENDRIYA VIDYALAYA', 'KENDRIYA VIDYALAYA', 'KENDRIYA VIDYALAYA', 'KENDRIYA VIDYALAYA', 'KENDRIYA VIDYALAYA', 'KENDRIYA VIDYALAYA', 'KENDRIYA VIDYALAYA', 'KENDRIYA VIDYALAYA', 'KENDRIYA VIDYALAYA', 'KENDRIYA VIDYALAYA', 'KENDRIYA VIDYALAYA', 'KENDRIYA VIDYALAYA', 'KENDRIYA VIDYALAYA', 'KENDRIYA VIDYALAYA', 'KENDRIYA VIDYALAYA', 'KENDRIYA VIDYALAYA', 'KENDRIYA VIDYALAYA', 'KENDRIYA VIDYALAYA', 'KENDRIYA VIDYALAYA', 'KENDRIYA VIDYALAYA', 'KENDRIYA VIDYALAYA', 'KENDRIYA VIDYALAYA', 'KENDRIYA VIDYALAYA', 'KENDRIYA VIDYALAYA', 'KENDRIYA VIDYALAYA', 'KENDRIYA VIDYALAYA', 'KENDRIYA VIDYALAYA', 'KENDRIYA VIDYALAYA', 'KENDRIYA VIDYALAYA', 'KENDRIYA VIDYALAYA', 'KENDRIYA VIDYALAYA', 'KENDRIYA VIDYALAYA', 'KENDRIYA VIDYALAYA', 'KENDRIYA VIDYALAYA', 'KENDRIYA VIDYALAYA', 'KENDRIYA VIDYALAYA', 'KENDRIYA VIDYALAYA', 'KENDRIYA VIDYALAYA', 'KENDRIYA VIDYALAYA', 'KENDRIYA VIDYALAYA', 'KENDRIYA VIDYALAYA', 'KENDRIYA VIDYALAYA', 'KENDRIYA VIDYALAYA', 'KENDRIYA VIDYALAYA', 'KENDRIYA VIDYALAYA', 'KENDRIYA VIDYALAYA AKAMPAT', 'KENDRIYA VIDYALAYA KIMIN', 'KENDRIYA VIDYALAYA LONGDING', 'KENDRIYA VIDYALAYA NO 1', 'KENDRIYA VIDYALAYA NO 1', 'KENDRIYA VIDYALAYA NO 2', 'KENDRIYA VIDYALAYA NO 2', 'KENDRIYA VIDYALAYA NO.1', 'KENDRIYA VIDYALAYA,', 'KHOWAI GOVT. ENGLISH MEDIUM CLASS XII SCHOOL', 'KHUMPUI ACADEMY,', 'KHY DE KHANG SEC SCHOOL', 'KIDS FOUNDATION', 'KIDS FOUNDATION SCHOOL', 'KIDZEE AND SUNSHINE HIGH SCHOOL', 'KINDERGARTEN MONTESSORI SCHOOL', 'KINGCUP PUBLIC SCHOOL', 'KV LUMAMI NU', 'LEKHI PUBLIC SCHOOL', 'LITTLE ANGEL SCHOOL', \"LITTLE ANGLE'S ENGLISH SCHOOL\", 'LITTLE FLOWER SCHOOL', 'LITTLE FLOWER SCHOOL', 'LITTLE ROSE HIGHER SECONDARY SCHOOL', 'LITTLE STAR SCHOOL, PAPUNALAH', 'LIVINGSTONE FOUNDATION HIGHER SECONDARY SCHOOL', 'LOTUS ACADEMY', 'LOVE DALE RESIDENTIAL SCHOOL', 'MA ANANDAMAYEE VIDYAPEETH', 'MAHABODHI SCHOOL', 'MAHARISHI VIDYA MANDIR', 'MAHARISHI VIDYA MANDIR', 'MAHARISHI VIDYA MANDIR', 'MAHARISHI VIDYA MANDIR', 'MAHARISHI VIDYA MANDIR', 'MAHARISHI VIDYA MANDIR PUBLIC SCHOOL', 'MAHARISHI VIDYA MANDIR PUBLIC SCHOOL', 'MAHARISHI VIDYAMANDIR', 'MAHASHAY DHARAMPAL (MDH) DAYANAND ARYA VIDYA NIKETAN', 'MANAS VALLEY ACADEMY', 'MANGALDAI MAHARISHI VIDYA MANDIR', 'MANIPUR PUBLIC SCHOOL', 'MANJUSRI PUBLIC SCHOOL', 'MANNU ENGLISH SCHOOL', 'MAPLE TREE SCHOOL', 'MARIA MONTESSORI SCHOOL', \"MARIA'S PUBLIC SCHOOL\", 'MARJAM MEMORIAL PUBLIC SCHOOL', 'MARRYS PUBLIC SCHOOL', 'MEGA MANIPUR SCHOOL', 'MIHIN BAGANG GOVT. SECONDARY SCHOOL, HAPOLI', 'MILLING GOVT. SECONDARY SCHOOL,', 'MIZORAM INSTITUTE OF COMPREHENSIVE', 'MODEL ENGLISH SCHOOL', 'MODERN ENGLISH SCHOOL', 'MODERN GOVT. SEC SCHOOL', 'MODERN HIGH SCHOOL', 'MODERN HIGH SCHOOL', 'MODERN PUBLIC ACADEMY', 'MONTFORT HIGHER SECONDARY SCHOOL', 'MONTFORT SCHOOL', 'MONTFORT SCHOOL', 'MONTFORT SCHOOL', 'MOTHERS PRIDE SCHOOL, DHEMAJI', 'MOUNT KANCHAN ACADEMY', 'MOUNTZIONSCHOOL', 'MT EVEREST HIGHER SECONDARY SCHOOL, SENAPATI, MANIPUR', 'MT ZION ENGLISH SCHOOL', 'NABAROON PUBLIC SCHOOL', \"NABIL'S MEMORIAL SCHOOL\", 'NALANDA PUBLIC SCHOOL', 'NARAYANA SCHOOL', 'NATIONAL ACADEMY', 'NATIONAL SCHOOL', 'NATIONAL SPORTS ACADEMY,', 'NAZRETH RESIDENTIAL SCHOOL', 'NETAJIVIDYAPITH ENGLISH MED. HS SCHOOL', 'NEW HINDI SEC SCHOOL', 'NEW HORIZON SCHOOL', 'NEW LIGHT ACADEMY', 'NIME ASHRAM SCHOOL', 'NOBEL ENGLISH SCHOOL', 'NOONMATI PUBLIC SCHOOL', 'NORTH EAST GLOBAL SCHOOL', 'NORTH EAST PUBLIC SCHOOL, ROWTA', 'NORTH POINT HIGHER SECONDARY SCHOOL', 'NORTH SIKKIM ACADEMY', 'NOTRE DAME HOLY CROSS HIGH SCHOOL', 'NPS INTERNATIONAL SCHOOL', 'NRI PUBLIC SCHOOL', 'NTL GOVT SR SEC SCHOOL', 'NURTURE INTERNATIONAL SCHOOL', 'OIL VALLEY GIRLS & BOYS SCHOOL', 'OIL VALLEY SCHOOL', 'OJU MISSION SCHOOL', 'OUR ABC ACADEMY', 'PADI LAILANG MEMORIAL SCHOOL', 'PADMA ODZER CHOELING', 'PALJOR NAMGYAL GIRLS SR SEC SCHOOL', 'PATHSALA PUBLIC SCHOOL', 'PHUL MOTI MEMORIAL UNIVERSAL SMART', 'PINE DALE PUBLIC SCHOOL', 'PINE WOOD SCHOOL', 'PINEWOOD RESIDENTIAL SCHOOL', 'POI VIDYA NIKETAN', 'POLESTAR ACADEMY', 'PRABHAT TARA CHILDREN ENGLISH ACADEMY', 'PRAGJYOTISH SCHOOL', 'PRANABANANDA VIDYAMANDIR', 'PRANAVANANDA VIDYA MANDIR', 'PRASHANTI VIDYA MANDIR GOVERNMENT SECONDARY SCHOOL', 'PRERANA VIDYAMANDIR', 'PRETTIFY KNOWLEDGE MODEL ENGLISH MEDIUM SCHOOL', 'PURNA VIKASH CENTRAL SCHOOL', 'PUSPANJALI VIDYALAYA', 'RADHAKRISHNAN CENTRAL ACADEMY', 'RADIANCE SCHOOL, DIMAKUCHI', 'RADIANT-STAR EDUCATION CENTRE', 'RAILWAY HIGHER SECONDARY SCHOOL', 'RAJDHANI PUBLIC SCHOOL', 'RAJESHWARI KARUNA SCHOOL', 'RAJKUMARI SANATOMBI DEVI VIDYALAYA', 'RAMAKRISHNA MISSION SCHOOL', 'RAMAKRISHNA MISSION SCHOOL', 'RAMAKRISHNA MISSION SCHOOL', 'RAMAKRISHNA MISSION VIDYALAYA', 'RAMAKRISHNA SARADA MISSION', 'RAMAKRISHNA SARADA MISSION GIRLS SCH', 'RAYBURN HIGH', 'RK SANATOMBI VIDYALAYA,', 'ROOPLAND PUBLIC SCHOOL', 'ROYAL GLOBAL SCHOOL', 'ROYAL INTERNATIONAL SCHOOL', 'ROYAL SIANG ACADEMY', 'RUDA ACADEMY', 'S.V.GETWELL SCHOOL', 'SABROOM ENGLISH MEDIUM H.S. SCHOOL,', 'SACRED HEART HIGH SCHOOL', 'SAI RNS ACADEMY', 'SAI VIKASH VIDYANIKETAN', 'SAINIK SCHOOL', 'SAINIK SCHOOL', 'SAINIK SCHOOL CHHINGCHHIP', 'SAINIK SCHOOL EAST SIANG', 'SAINT ALPHONSA PUBLIC SCHOOL', 'SAINT CAPITANIO SCHOOL', 'SAINT JOHNS HIGH SCHOOL', 'SAINT JOSEPHS SCHOOL', 'SAKLIM CHRISTIAN ENGLISH SCHOOL', 'SAMPOORNA KENDRA VIDYALAYA', 'SANDIPANI VIDYA MANDIR', 'SANGAM ACADEMY', 'SARALA BIRLA GYAN JYOTI', 'SARALA BIRLA GYAN JYOTI (SR. SEC. SCHOOL)', 'SARASWATI PUBLIC SCHOOL', 'SARASWATI VIDYA NIKETAN', 'SBOA PUBLIC SCHOOL', 'SECONDARY LEVEL TO GOVT. SEC. SCHOOL', 'SERS PUBLIC SCHOOL, RANGIA', 'SHALOM PUBLIC SCHOOL', 'SHANTI DEVA VIDYALAYA', 'SHIKSHA VALLEY SCHOOL', 'SHISHU NISTHA NIKETAN', 'SHREE AGRASEN ACADEMY', 'SHRIMANTA SHANKAR ACADEMY', 'SI-DONYI PUBLIC SCHOOL', 'SIANG MODEL SCHOOL', 'SIANG ROYAL SCHOOL', 'SIKSHA BHAVAN MONTESSORI SCHOOL', 'SIYOM VALLEY  SCHOOL PESSING  AALO', 'SLOPE LAND PUBLIC SCHOOL', 'SONAMURA ENGLISH MEDIUM H.S. SCHOOL', 'SOUTH POINT ENGLISH SCHOOL', 'SOUTH POINT SCHOOL', 'SOUTHPOINT ACADEMY', 'SPRING DALE INTERNATIONAL SCHOOL', 'SPRING DALES ACADEMY: BHANGARPAR', 'SPRING VALLEY CENTRAL SCHOOL', 'SPRING VALLEY SCHOOL', 'SPRINGDALE HIGH SCHOOL', 'SREERAM ACADEMY', 'SRI KRISHNA MISSION SCHOOL', 'SRI SATYA SAI VIDIYA VIHAR', 'SRI SRI RAVISHANKAR VIDYA MANDIR', 'SRI SRI RAVISHANKAR VIDYAMANDIR', 'ST CLARES CONVENT HIGH SCHOOL', 'ST CLARET SCHOOL', \"ST FRANCIS D' ASSISI HIGH SCHOOL\", 'ST JOHN BOSCO SCHOOL', 'ST JOSEPHS SCHOOL', 'ST MARYS HIGHER SECONDARY SCHOOL', 'ST PAULS INSTITUTE', 'ST THOMAS SCHOOL', \"ST XAVIER'S SCHOOL\", 'ST XAVIERS PUBLIC SCHOOL', \"ST. ANTHONY'S HIGH SCHOOL\", 'ST. ANTHONYS SCHOOL', 'ST. DOMINIC SAVIO CBSE SCHOOL', \"ST. FRANCIS D' ASSISI SCHOOL\", 'ST. FRANCIS DE SALES SCHOOL', 'ST. FRANCIS DE SALES SCHOOL', \"ST. JOSEPH'S SCHOOL\", 'ST. MARYS ENGLISH SCHOOL', 'ST. MARYS SCHOOL', 'ST. PAULS SCHOOL', \"ST. PETER'S NATIONAL ACADEMY\", 'ST. SAVIO SCHOOL', 'ST. THOMAS SCHOOL, DHAKUAKHANA', 'ST. VINCENTS ENGLISH SCHOOL', 'ST. XAVIER SCHOOL', \"ST. XAVIER'S PUBLIC SCHOOL\", \"ST. XAVIER'S SCHOOL\", \"ST. XAVIER'S SCHOOL\", 'ST.FRANCIS DE SALES SCHOOL', 'ST.JAMES HIGH SCHOOL', 'ST.LOPON ENGLISH SCHOOL', \"ST.MARY'S ENGLISH HIGH SCHOOL\", \"ST.XAVIER'S HIGHER SECONDARY SCHOOL\", \"ST.XAVIER'S INTERNATIONAL SCHOOL\", 'STANDARD ENGLISH SCHOOL', 'STAR PUBLIC SCHOOL', 'SUKANTA ACADEMY ENGLISH MEDIUM H.S. SCHOOL', 'SUNSHINE ACADEMY', 'SWAMI DHANANJOY DAS KATHIA BABA MISSION SCHOOL', 'SWAMI DHANONJOY DAS KATHIA BABA MISSION SCHOOL', 'SWAMI VIVEKANANDA KENDRIYA VIDYALAYA', 'SYNOD FOUNDATION ENGLISH MEDIUM SCHOOL', 'TAGORE SCHOOL OF STUDIES', 'TANGSA MODEL SCHOOL', 'TATHANGCHEN SECONDARY SCHOOL', 'TAWANG PUBLIC SCHOOL', 'TEJPUR GURUKUL CHATAI CHAPORI', 'TEMPLE TOWN EURO SCHOOL', 'TENDONG EDUCATIONAL INSTITUTE', 'THE AGARTALA INTERNATIONAL SCHOOL', 'THE EAST INDIAN SCHOOL', 'THE EDEN PUBLIC SCHOOL', 'THE LITTLE STARS SCHOOL', 'THE LODESTAR PUBLIC SCHOOL', 'THE MADHUMANGOL MEMORIAL HIGHER SECONDARY SCHOOL', 'THE MILES BRONSON RESIDENTIAL SCHOOL', 'THE REALITY PUBLIC SCHOOL', 'TINSUKIA ENGLISH ACADEMY', 'TOLCHOU IBETON MEMORIAL ACADEMY', 'TOMI ENGLISH MEDIUM SCHOOL', 'TRINITY PUBLIC SCHOOL', 'TRIPURESWARI VIDYA MANDIR', 'TWIMUK CHRISTIAN ACADEMY', 'UDALGURI MAHARISHI VIDYALAYA', 'UMAKANTA ACADEMY', 'UNACCO SCHOOL', 'VALLEY VIEW SCHOOL', 'VIDYANCHAL THE SCHOOL', 'VIVEKANAND KENDRA VIDYALAYA', 'VIVEKANAND KENDRA VIDYALAYA', 'VIVEKANAND KENDRA VIDYALAYA', 'VIVEKANAND KENDRA VIDYALAYA', 'VIVEKANAND KENDRA VIDYALAYA', 'VIVEKANAND KENDRA VIDYALAYA', 'VIVEKANAND KENDRA VIDYALAYA', 'VIVEKANAND KENDRA VIDYALAYA', 'VIVEKANANDA CENTRAL SCHOOL', 'VIVEKANANDA KENDRA VIDYALAYA', 'VIVEKANANDA KENDRA VIDYALAYA', 'VIVEKANANDA KENDRA VIDYALAYA', 'VIVEKANANDA KENDRA VIDYALAYA', 'VIVEKANANDA KENDRA VIDYALAYA', 'VIVEKANANDA KENDRA VIDYALAYA', 'VIVEKANANDA KENDRA VIDYALAYA', 'VIVEKANANDA KENDRA VIDYALAYA', 'VIVEKANANDA KENDRA VIDYALAYA', 'VIVEKANANDA KENDRA VIDYALAYA', 'VIVEKANANDA KENDRA VIDYALAYA', 'VIVEKANANDA KENDRA VIDYALAYA', 'VIVEKANANDA KENDRA VIDYALAYA', 'VIVEKANANDA KENDRA VIDYALAYA', 'VIVEKANANDA KENDRA VIDYALAYA', 'VIVEKANANDA KENDRA VIDYALAYA', 'VIVEKANANDA KENDRA VIDYALAYA', 'VIVEKANANDA KENDRA VIDYALAYA', 'VIVEKANANDA KENDRA VIDYALAYA', 'VIVEKANANDA KENDRA VIDYALAYA (NEC)', 'VIVEKANANDA KENDRA VIDYALAYA (NEEPCO)', 'VIVEKANANDA KENDRA VIDYALAYA TINGRAI', 'VIVEKANANDA KENDRA VIDYALAYA, SADIYA', 'VIVEKANANDA KENDRA VIDYALAYA, SIVASAGAR', 'VIVEKANANDA KENDRA VIDYALAYA, TEZPUR', 'VIVEKANANDA PUBLIC SCHOOL', 'VIVEKANANDA RESIDENTIAL PUBLIC SCHOOL', 'WOOD STOCK SCHOOL', 'ZENITH ACADEMY', 'ZENITH CHILD SCHOOL', 'ZIRO VALLEY SCHOOL', 'VIVEKANANDA KENDRA VIDYALAYA, SADIYA', 'VIVEKANANDA KENDRA VIDYALAYA, SIVASAGAR', 'VIVEKANANDA KENDRA VIDYALAYA, TEZPUR', 'VIVEKANANDA PUBLIC SCHOOL', 'VIVEKANANDA RESIDENTIAL PUBLIC SCHOOL', 'WOOD STOCK SCHOOL', 'ZENITH ACADEMY', 'ZENITH CHILD SCHOOL', 'ZIRO VALLEY SCHOOL']\n"
     ]
    }
   ],
   "source": [
    "Guwahatischools=[]\n",
    "for i in range(1,len(Guwahatischool),2):\n",
    "    Guwahatischools.append(Guwahatischool[i].split('Head/Principal')[0].strip())\n",
    "print(Guwahatischools)"
   ]
  },
  {
   "cell_type": "code",
   "execution_count": 12,
   "metadata": {},
   "outputs": [
    {
     "output_type": "execute_result",
     "data": {
      "text/plain": [
       "1518"
      ]
     },
     "metadata": {},
     "execution_count": 12
    }
   ],
   "source": [
    "len(Guwahatischools)"
   ]
  },
  {
   "cell_type": "code",
   "execution_count": 13,
   "metadata": {},
   "outputs": [
    {
     "output_type": "execute_result",
     "data": {
      "text/plain": [
       "1519"
      ]
     },
     "metadata": {},
     "execution_count": 13
    }
   ],
   "source": [
    "Guwahatipname=GUWAHATItext.split('Head/Principal Name:')\n",
    "len(Guwahatipname)"
   ]
  },
  {
   "cell_type": "code",
   "execution_count": 14,
   "metadata": {},
   "outputs": [
    {
     "output_type": "stream",
     "name": "stdout",
     "text": [
      "1518\n"
     ]
    }
   ],
   "source": [
    "GuwahatiPname=[]\n",
    "for i in range(1,len(Guwahatipname)):\n",
    "    GuwahatiPname.append(Guwahatipname[i].split('Status of the School')[0].strip())\n",
    "print(len(GuwahatiPname))"
   ]
  },
  {
   "cell_type": "code",
   "execution_count": 15,
   "metadata": {},
   "outputs": [
    {
     "output_type": "execute_result",
     "data": {
      "text/plain": [
       "1519"
      ]
     },
     "metadata": {},
     "execution_count": 15
    }
   ],
   "source": [
    "Guwahatiphno=GUWAHATItext.split('Phone No:')\n",
    "len(Guwahatiphno)"
   ]
  },
  {
   "cell_type": "code",
   "execution_count": 16,
   "metadata": {},
   "outputs": [
    {
     "output_type": "stream",
     "name": "stdout",
     "text": [
      "1518\n"
     ]
    }
   ],
   "source": [
    "GuwahatiPhno=[]\n",
    "for i in range(1,len(Guwahatiphno)):\n",
    "    GuwahatiPhno.append(Guwahatiphno[i].split(' Email:')[0].strip())\n",
    "print(len(GuwahatiPhno))"
   ]
  },
  {
   "cell_type": "code",
   "execution_count": 17,
   "metadata": {},
   "outputs": [
    {
     "output_type": "stream",
     "name": "stdout",
     "text": [
      "1518\n"
     ]
    }
   ],
   "source": [
    "Guwahatiph=[]\n",
    "for i in GuwahatiPhno:\n",
    "   Guwahatiph.append(re.sub('\\s+','',i))\n",
    "print(len(Guwahatiph))"
   ]
  },
  {
   "cell_type": "code",
   "execution_count": 18,
   "metadata": {},
   "outputs": [
    {
     "output_type": "execute_result",
     "data": {
      "text/plain": [
       "1519"
      ]
     },
     "metadata": {},
     "execution_count": 18
    }
   ],
   "source": [
    "Guwahatiemail=GUWAHATItext.split('Email:')\n",
    "len(Guwahatiemail)"
   ]
  },
  {
   "cell_type": "code",
   "execution_count": 19,
   "metadata": {},
   "outputs": [
    {
     "output_type": "stream",
     "name": "stdout",
     "text": [
      "1518\n"
     ]
    }
   ],
   "source": [
    "GuwahatiEmail=[]\n",
    "for i in range(1,len(Guwahatiemail)):\n",
    "    GuwahatiEmail.append(Guwahatiemail[i].split('Website:')[0].strip())\n",
    "print(len(GuwahatiEmail))"
   ]
  },
  {
   "cell_type": "code",
   "execution_count": 20,
   "metadata": {},
   "outputs": [
    {
     "output_type": "stream",
     "name": "stdout",
     "text": [
      "1518\n<class 'list'>\n1518\n<class 'list'>\n1518\n<class 'list'>\n1518\n<class 'list'>\n"
     ]
    }
   ],
   "source": [
    "print(len(Guwahatischools))\n",
    "print(type(Guwahatischools))\n",
    "print(len(GuwahatiPname))\n",
    "print(type(GuwahatiPname))\n",
    "print(len(Guwahatiph))\n",
    "print(type(Guwahatiph))\n",
    "print(len(GuwahatiEmail))\n",
    "print(type(GuwahatiEmail))"
   ]
  },
  {
   "cell_type": "code",
   "execution_count": 21,
   "metadata": {},
   "outputs": [],
   "source": [
    "import csv\n",
    "outputFile = open('GUWAHATIcbse.csv', 'w', newline='')\n",
    "outputWriter = csv.writer(outputFile)\n",
    "\n",
    "outputWriter.writerow(['school name', 'principal name','contact no','email'])\n",
    "for i in range (len(Guwahatischools)):\n",
    "    scname=Guwahatischools[i]\n",
    "    princiname=GuwahatiPname[i]\n",
    "    phno=Guwahatiph[i]\n",
    "    email1=GuwahatiEmail[i]\n",
    "    outputWriter.writerow([scname,princiname,phno,email1])\n",
    "outputFile.close()"
   ]
  },
  {
   "cell_type": "code",
   "execution_count": null,
   "metadata": {},
   "outputs": [],
   "source": [
    "                                            #Ajmer"
   ]
  },
  {
   "cell_type": "code",
   "execution_count": 22,
   "metadata": {},
   "outputs": [],
   "source": [
    "driver=webdriver.Chrome()\n",
    "driver.get('http://cbseaff.nic.in/cbse_aff/schdir_Report/userview.aspx')\n",
    "radio = driver.find_element_by_id('optlist_3')\n",
    "radio.click()\n",
    "driver.find_element_by_xpath(\"//select[@name='ctl00$ContentPlaceHolder1$ddlitem']/option[text()='Ajmer']\").click()\n",
    "button=driver.find_element_by_id('search')\n",
    "button.click()"
   ]
  },
  {
   "cell_type": "code",
   "execution_count": 23,
   "metadata": {},
   "outputs": [],
   "source": [
    "Ajmertext=''\n",
    "soup=bs4.BeautifulSoup(driver.page_source)\n",
    "time.sleep(2)\n",
    "table=soup.find('table',id='T1')\n",
    "Ajmertext=Ajmertext+table.getText()"
   ]
  },
  {
   "cell_type": "code",
   "execution_count": 25,
   "metadata": {},
   "outputs": [
    {
     "output_type": "stream",
     "name": "stdout",
     "text": [
      "DONE\n"
     ]
    }
   ],
   "source": [
    "for i in range(18):\n",
    "    driver.execute_script(\"window.scrollTo(0,document.body.scrollHeight)\")\n",
    "    nextbutton=driver.find_element_by_id('Button1')\n",
    "    nextbutton.click()\n",
    "    time.sleep(10)\n",
    "    soup=bs4.BeautifulSoup(driver.page_source)\n",
    "    time.sleep(2)\n",
    "    table=soup.find('table',id='T1')\n",
    "    Ajmertext=Ajmertext+table.getText()\n",
    "print('DONE')"
   ]
  },
  {
   "cell_type": "code",
   "execution_count": 26,
   "metadata": {},
   "outputs": [],
   "source": [
    "AJMERtext=re.sub('[\\\\n+\\\\t+]',' ',Ajmertext)"
   ]
  },
  {
   "cell_type": "code",
   "execution_count": 38,
   "metadata": {},
   "outputs": [
    {
     "output_type": "execute_result",
     "data": {
      "text/plain": [
       "4729"
      ]
     },
     "metadata": {},
     "execution_count": 38
    }
   ],
   "source": [
    "Ajmerschool=AJMERtext.split('Name:')\n",
    "len(Ajmerschool)"
   ]
  },
  {
   "cell_type": "code",
   "execution_count": 39,
   "metadata": {},
   "outputs": [
    {
     "output_type": "stream",
     "name": "stdout",
     "text": [
      "['A N PUBLIC SECONDARY SCHOOL', 'A V S PUBLIC SCHOOL', \"A'S SAINT STEWARD MORRIS SCHOOL\", 'A.D.DAGA PUBLIC SCHOOL', 'A.S.M. PUBLIC SCHOOL', 'AADHARSHILA SCHOOL', 'AAKANKSHA INTERNATIONAL SCHOOL-THE GURUKUL', 'AARYA-VEER INTERNATIONAL SCHOOL', 'AAVISHKAR SCHOOL', 'ABHILASHA INTERNATIONAL SCHOOL SANDWA', 'ACADEMIC HEIGHTS PRIMARY SCHOOL', 'ACADEMIC HEIGHTS PUBLIC SCHOOL', 'ACADEMIC HEIGHTS PUBLIC SCHOOL', 'ACADEMIC HEIGHTS PUBLIC SCHOOL', 'ACADEMIC HEIGHTS PUBLIC SCHOOL', 'ACADEMIC HEIGHTS PUBLIC SCHOOL', 'ACHARYA NANESH ACADEMY', 'ADANI PUBLIC SCHOOL', 'ADANI VIDYA MANDIR', 'ADARSH GYAN MANDIR SENIOR SECONDARY SCHOOL', 'ADARSH INDIAN PUBLIC SECONDARY SCHOOL', 'ADARSH INTERNATIONAL SCHOOL,TARANAGAR', 'ADARSH NAVODAYA SHIKSHAN SANSTHAN SR. SEC. SCHOOL', 'ADARSH VIDYA MANDIR', 'ADARSH VIDYALAYA', 'ADINATH PUBLIC SCHOOL', 'ADITI GLOBAL ACADEMY', 'ADITYA BIRLA PUBLIC SCHOOL', 'ADITYA BIRLA PUBLIC SCHOOL', 'ADITYA BIRLA PUBLIC SCHOOL', 'ADITYA BIRLA PUBLIC SCHOOL NATHDWARA', 'ADRASH VIDYA MANDIR MANDAWA, JHUNJHUNU', 'AEGIS INTERNATIONAL SCHOOL', 'AGA KHAN SCHOOL', 'AGARWAL VIDYA VIHAR', 'AHMEDABAD PUBLIC SCHOOL INTERNATIONAL', 'AIR FORCE CHILDREN SCHOOL', 'AIR FORCE SCHOOL', 'AIR FORCE SCHOOL', 'AIR FORCE SCHOOL', 'AIR FORCE SCHOOL', 'AIR FORCE SCHOOL', 'AIRPORT SCHOOL', 'AJEET PUBLIC SECONDARY SCHOOL,TIJARA', 'AKAL ACADEMY', 'AKAL ACADEMY', 'AKAL ACADEMY SRI GANGANAGAR', 'AKASHDEEP PUBLIC SCHOOL', 'AKLANK DAY BOARDING CUM RESIDENTIAL SCHOOL', 'AKLANK PUB SCHOOL', 'ADINATH PUBLIC SCHOOL', 'ADITI GLOBAL ACADEMY', 'ADITYA BIRLA PUBLIC SCHOOL', 'ADITYA BIRLA PUBLIC SCHOOL', 'ADITYA BIRLA PUBLIC SCHOOL', 'ADITYA BIRLA PUBLIC SCHOOL NATHDWARA', 'ADRASH VIDYA MANDIR MANDAWA, JHUNJHUNU', 'AEGIS INTERNATIONAL SCHOOL', 'AGA KHAN SCHOOL', 'AGARWAL VIDYA VIHAR', 'AHMEDABAD PUBLIC SCHOOL INTERNATIONAL', 'AIR FORCE CHILDREN SCHOOL', 'AIR FORCE SCHOOL', 'AIR FORCE SCHOOL', 'AIR FORCE SCHOOL', 'AIR FORCE SCHOOL', 'AIR FORCE SCHOOL', 'AIRPORT SCHOOL', 'AJEET PUBLIC SECONDARY SCHOOL,TIJARA', 'AKAL ACADEMY', 'AKAL ACADEMY', 'AKAL ACADEMY SRI GANGANAGAR', 'AKASHDEEP PUBLIC SCHOOL', 'AKLANK DAY BOARDING CUM RESIDENTIAL SCHOOL', 'AKLANK PUB SCHOOL', 'ADINATH PUBLIC SCHOOL', 'ADITI GLOBAL ACADEMY', 'ADITYA BIRLA PUBLIC SCHOOL', 'ADITYA BIRLA PUBLIC SCHOOL', 'ADITYA BIRLA PUBLIC SCHOOL', 'ADITYA BIRLA PUBLIC SCHOOL NATHDWARA', 'ADRASH VIDYA MANDIR MANDAWA, JHUNJHUNU', 'AEGIS INTERNATIONAL SCHOOL', 'AGA KHAN SCHOOL', 'AGARWAL VIDYA VIHAR', 'AHMEDABAD PUBLIC SCHOOL INTERNATIONAL', 'AIR FORCE CHILDREN SCHOOL', 'AIR FORCE SCHOOL', 'AIR FORCE SCHOOL', 'AIR FORCE SCHOOL', 'AIR FORCE SCHOOL', 'AIR FORCE SCHOOL', 'AIRPORT SCHOOL', 'AJEET PUBLIC SECONDARY SCHOOL,TIJARA', 'AKAL ACADEMY', 'AKAL ACADEMY', 'AKAL ACADEMY SRI GANGANAGAR', 'AKASHDEEP PUBLIC SCHOOL', 'AKLANK DAY BOARDING CUM RESIDENTIAL SCHOOL', 'AKLANK PUB SCHOOL', 'ADINATH PUBLIC SCHOOL', 'ADITI GLOBAL ACADEMY', 'ADITYA BIRLA PUBLIC SCHOOL', 'ADITYA BIRLA PUBLIC SCHOOL', 'ADITYA BIRLA PUBLIC SCHOOL', 'ADITYA BIRLA PUBLIC SCHOOL NATHDWARA', 'ADRASH VIDYA MANDIR MANDAWA, JHUNJHUNU', 'AEGIS INTERNATIONAL SCHOOL', 'AGA KHAN SCHOOL', 'AGARWAL VIDYA VIHAR', 'AHMEDABAD PUBLIC SCHOOL INTERNATIONAL', 'AIR FORCE CHILDREN SCHOOL', 'AIR FORCE SCHOOL', 'AIR FORCE SCHOOL', 'AIR FORCE SCHOOL', 'AIR FORCE SCHOOL', 'AIR FORCE SCHOOL', 'AIRPORT SCHOOL', 'AJEET PUBLIC SECONDARY SCHOOL,TIJARA', 'AKAL ACADEMY', 'AKAL ACADEMY', 'AKAL ACADEMY SRI GANGANAGAR', 'AKASHDEEP PUBLIC SCHOOL', 'AKLANK DAY BOARDING CUM RESIDENTIAL SCHOOL', 'AKLANK PUB SCHOOL', 'ADINATH PUBLIC SCHOOL', 'ADITI GLOBAL ACADEMY', 'ADITYA BIRLA PUBLIC SCHOOL', 'ADITYA BIRLA PUBLIC SCHOOL', 'ADITYA BIRLA PUBLIC SCHOOL', 'ADITYA BIRLA PUBLIC SCHOOL NATHDWARA', 'ADRASH VIDYA MANDIR MANDAWA, JHUNJHUNU', 'AEGIS INTERNATIONAL SCHOOL', 'AGA KHAN SCHOOL', 'AGARWAL VIDYA VIHAR', 'AHMEDABAD PUBLIC SCHOOL INTERNATIONAL', 'AIR FORCE CHILDREN SCHOOL', 'AIR FORCE SCHOOL', 'AIR FORCE SCHOOL', 'AIR FORCE SCHOOL', 'AIR FORCE SCHOOL', 'AIR FORCE SCHOOL', 'AIRPORT SCHOOL', 'AJEET PUBLIC SECONDARY SCHOOL,TIJARA', 'AKAL ACADEMY', 'AKAL ACADEMY', 'AKAL ACADEMY SRI GANGANAGAR', 'AKASHDEEP PUBLIC SCHOOL', 'AKLANK DAY BOARDING CUM RESIDENTIAL SCHOOL', 'AKLANK PUB SCHOOL', 'ADINATH PUBLIC SCHOOL', 'ADITI GLOBAL ACADEMY', 'ADITYA BIRLA PUBLIC SCHOOL', 'ADITYA BIRLA PUBLIC SCHOOL', 'ADITYA BIRLA PUBLIC SCHOOL', 'ADITYA BIRLA PUBLIC SCHOOL NATHDWARA', 'ADRASH VIDYA MANDIR MANDAWA, JHUNJHUNU', 'AEGIS INTERNATIONAL SCHOOL', 'AGA KHAN SCHOOL', 'AGARWAL VIDYA VIHAR', 'AHMEDABAD PUBLIC SCHOOL INTERNATIONAL', 'AIR FORCE CHILDREN SCHOOL', 'AIR FORCE SCHOOL', 'AIR FORCE SCHOOL', 'AIR FORCE SCHOOL', 'AIR FORCE SCHOOL', 'AIR FORCE SCHOOL', 'AIRPORT SCHOOL', 'AJEET PUBLIC SECONDARY SCHOOL,TIJARA', 'AKAL ACADEMY', 'AKAL ACADEMY', 'AKAL ACADEMY SRI GANGANAGAR', 'AKASHDEEP PUBLIC SCHOOL', 'AKLANK DAY BOARDING CUM RESIDENTIAL SCHOOL', 'AKLANK PUB SCHOOL', 'ADINATH PUBLIC SCHOOL', 'ADITI GLOBAL ACADEMY', 'ADITYA BIRLA PUBLIC SCHOOL', 'ADITYA BIRLA PUBLIC SCHOOL', 'ADITYA BIRLA PUBLIC SCHOOL', 'ADITYA BIRLA PUBLIC SCHOOL NATHDWARA', 'ADRASH VIDYA MANDIR MANDAWA, JHUNJHUNU', 'AEGIS INTERNATIONAL SCHOOL', 'AGA KHAN SCHOOL', 'AGARWAL VIDYA VIHAR', 'AHMEDABAD PUBLIC SCHOOL INTERNATIONAL', 'AIR FORCE CHILDREN SCHOOL', 'AIR FORCE SCHOOL', 'AIR FORCE SCHOOL', 'AIR FORCE SCHOOL', 'AIR FORCE SCHOOL', 'AIR FORCE SCHOOL', 'AIRPORT SCHOOL', 'AJEET PUBLIC SECONDARY SCHOOL,TIJARA', 'AKAL ACADEMY', 'AKAL ACADEMY', 'AKAL ACADEMY SRI GANGANAGAR', 'AKASHDEEP PUBLIC SCHOOL', 'AKLANK DAY BOARDING CUM RESIDENTIAL SCHOOL', 'AKLANK PUB SCHOOL', 'ADINATH PUBLIC SCHOOL', 'ADITI GLOBAL ACADEMY', 'ADITYA BIRLA PUBLIC SCHOOL', 'ADITYA BIRLA PUBLIC SCHOOL', 'ADITYA BIRLA PUBLIC SCHOOL', 'ADITYA BIRLA PUBLIC SCHOOL NATHDWARA', 'ADRASH VIDYA MANDIR MANDAWA, JHUNJHUNU', 'AEGIS INTERNATIONAL SCHOOL', 'AGA KHAN SCHOOL', 'AGARWAL VIDYA VIHAR', 'AHMEDABAD PUBLIC SCHOOL INTERNATIONAL', 'AIR FORCE CHILDREN SCHOOL', 'AIR FORCE SCHOOL', 'AIR FORCE SCHOOL', 'AIR FORCE SCHOOL', 'AIR FORCE SCHOOL', 'AIR FORCE SCHOOL', 'AIRPORT SCHOOL', 'AJEET PUBLIC SECONDARY SCHOOL,TIJARA', 'AKAL ACADEMY', 'AKAL ACADEMY', 'AKAL ACADEMY SRI GANGANAGAR', 'AKASHDEEP PUBLIC SCHOOL', 'AKLANK DAY BOARDING CUM RESIDENTIAL SCHOOL', 'AKLANK PUB SCHOOL', 'ADINATH PUBLIC SCHOOL', 'ADITI GLOBAL ACADEMY', 'ADITYA BIRLA PUBLIC SCHOOL', 'ADITYA BIRLA PUBLIC SCHOOL', 'ADITYA BIRLA PUBLIC SCHOOL', 'ADITYA BIRLA PUBLIC SCHOOL NATHDWARA', 'ADRASH VIDYA MANDIR MANDAWA, JHUNJHUNU', 'AEGIS INTERNATIONAL SCHOOL', 'AGA KHAN SCHOOL', 'AGARWAL VIDYA VIHAR', 'AHMEDABAD PUBLIC SCHOOL INTERNATIONAL', 'AIR FORCE CHILDREN SCHOOL', 'AIR FORCE SCHOOL', 'AIR FORCE SCHOOL', 'AIR FORCE SCHOOL', 'AIR FORCE SCHOOL', 'AIR FORCE SCHOOL', 'AIRPORT SCHOOL', 'AJEET PUBLIC SECONDARY SCHOOL,TIJARA', 'AKAL ACADEMY', 'AKAL ACADEMY', 'AKAL ACADEMY SRI GANGANAGAR', 'AKASHDEEP PUBLIC SCHOOL', 'AKLANK DAY BOARDING CUM RESIDENTIAL SCHOOL', 'AKLANK PUB SCHOOL', 'ADINATH PUBLIC SCHOOL', 'ADITI GLOBAL ACADEMY', 'ADITYA BIRLA PUBLIC SCHOOL', 'ADITYA BIRLA PUBLIC SCHOOL', 'ADITYA BIRLA PUBLIC SCHOOL', 'ADITYA BIRLA PUBLIC SCHOOL NATHDWARA', 'ADRASH VIDYA MANDIR MANDAWA, JHUNJHUNU', 'AEGIS INTERNATIONAL SCHOOL', 'AGA KHAN SCHOOL', 'AGARWAL VIDYA VIHAR', 'AHMEDABAD PUBLIC SCHOOL INTERNATIONAL', 'AIR FORCE CHILDREN SCHOOL', 'AIR FORCE SCHOOL', 'AIR FORCE SCHOOL', 'AIR FORCE SCHOOL', 'AIR FORCE SCHOOL', 'AIR FORCE SCHOOL', 'AIRPORT SCHOOL', 'AJEET PUBLIC SECONDARY SCHOOL,TIJARA', 'AKAL ACADEMY', 'AKAL ACADEMY', 'AKAL ACADEMY SRI GANGANAGAR', 'AKASHDEEP PUBLIC SCHOOL', 'AKLANK DAY BOARDING CUM RESIDENTIAL SCHOOL', 'AKLANK PUB SCHOOL', 'ADINATH PUBLIC SCHOOL', 'ADITI GLOBAL ACADEMY', 'ADITYA BIRLA PUBLIC SCHOOL', 'ADITYA BIRLA PUBLIC SCHOOL', 'ADITYA BIRLA PUBLIC SCHOOL', 'ADITYA BIRLA PUBLIC SCHOOL NATHDWARA', 'ADRASH VIDYA MANDIR MANDAWA, JHUNJHUNU', 'AEGIS INTERNATIONAL SCHOOL', 'AGA KHAN SCHOOL', 'AGARWAL VIDYA VIHAR', 'AHMEDABAD PUBLIC SCHOOL INTERNATIONAL', 'AIR FORCE CHILDREN SCHOOL', 'AIR FORCE SCHOOL', 'AIR FORCE SCHOOL', 'AIR FORCE SCHOOL', 'AIR FORCE SCHOOL', 'AIR FORCE SCHOOL', 'AIRPORT SCHOOL', 'AJEET PUBLIC SECONDARY SCHOOL,TIJARA', 'AKAL ACADEMY', 'AKAL ACADEMY', 'AKAL ACADEMY SRI GANGANAGAR', 'AKASHDEEP PUBLIC SCHOOL', 'AKLANK DAY BOARDING CUM RESIDENTIAL SCHOOL', 'AKLANK PUB SCHOOL', 'ADINATH PUBLIC SCHOOL', 'ADITI GLOBAL ACADEMY', 'ADITYA BIRLA PUBLIC SCHOOL', 'ADITYA BIRLA PUBLIC SCHOOL', 'ADITYA BIRLA PUBLIC SCHOOL', 'ADITYA BIRLA PUBLIC SCHOOL NATHDWARA', 'ADRASH VIDYA MANDIR MANDAWA, JHUNJHUNU', 'AEGIS INTERNATIONAL SCHOOL', 'AGA KHAN SCHOOL', 'AGARWAL VIDYA VIHAR', 'AHMEDABAD PUBLIC SCHOOL INTERNATIONAL', 'AIR FORCE CHILDREN SCHOOL', 'AIR FORCE SCHOOL', 'AIR FORCE SCHOOL', 'AIR FORCE SCHOOL', 'AIR FORCE SCHOOL', 'AIR FORCE SCHOOL', 'AIRPORT SCHOOL', 'AJEET PUBLIC SECONDARY SCHOOL,TIJARA', 'AKAL ACADEMY', 'AKAL ACADEMY', 'AKAL ACADEMY SRI GANGANAGAR', 'AKASHDEEP PUBLIC SCHOOL', 'AKLANK DAY BOARDING CUM RESIDENTIAL SCHOOL', 'AKLANK PUB SCHOOL', 'ADINATH PUBLIC SCHOOL', 'ADITI GLOBAL ACADEMY', 'ADITYA BIRLA PUBLIC SCHOOL', 'ADITYA BIRLA PUBLIC SCHOOL', 'ADITYA BIRLA PUBLIC SCHOOL', 'ADITYA BIRLA PUBLIC SCHOOL NATHDWARA', 'ADRASH VIDYA MANDIR MANDAWA, JHUNJHUNU', 'AEGIS INTERNATIONAL SCHOOL', 'AGA KHAN SCHOOL', 'AGARWAL VIDYA VIHAR', 'AHMEDABAD PUBLIC SCHOOL INTERNATIONAL', 'AIR FORCE CHILDREN SCHOOL', 'AIR FORCE SCHOOL', 'AIR FORCE SCHOOL', 'AIR FORCE SCHOOL', 'AIR FORCE SCHOOL', 'AIR FORCE SCHOOL', 'AIRPORT SCHOOL', 'AJEET PUBLIC SECONDARY SCHOOL,TIJARA', 'AKAL ACADEMY', 'AKAL ACADEMY', 'AKAL ACADEMY SRI GANGANAGAR', 'AKASHDEEP PUBLIC SCHOOL', 'AKLANK DAY BOARDING CUM RESIDENTIAL SCHOOL', 'AKLANK PUB SCHOOL', 'ADINATH PUBLIC SCHOOL', 'ADITI GLOBAL ACADEMY', 'ADITYA BIRLA PUBLIC SCHOOL', 'ADITYA BIRLA PUBLIC SCHOOL', 'ADITYA BIRLA PUBLIC SCHOOL', 'ADITYA BIRLA PUBLIC SCHOOL NATHDWARA', 'ADRASH VIDYA MANDIR MANDAWA, JHUNJHUNU', 'AEGIS INTERNATIONAL SCHOOL', 'AGA KHAN SCHOOL', 'AGARWAL VIDYA VIHAR', 'AHMEDABAD PUBLIC SCHOOL INTERNATIONAL', 'AIR FORCE CHILDREN SCHOOL', 'AIR FORCE SCHOOL', 'AIR FORCE SCHOOL', 'AIR FORCE SCHOOL', 'AIR FORCE SCHOOL', 'AIR FORCE SCHOOL', 'AIRPORT SCHOOL', 'AJEET PUBLIC SECONDARY SCHOOL,TIJARA', 'AKAL ACADEMY', 'AKAL ACADEMY', 'AKAL ACADEMY SRI GANGANAGAR', 'AKASHDEEP PUBLIC SCHOOL', 'AKLANK DAY BOARDING CUM RESIDENTIAL SCHOOL', 'AKLANK PUB SCHOOL', 'ADINATH PUBLIC SCHOOL', 'ADITI GLOBAL ACADEMY', 'ADITYA BIRLA PUBLIC SCHOOL', 'ADITYA BIRLA PUBLIC SCHOOL', 'ADITYA BIRLA PUBLIC SCHOOL', 'ADITYA BIRLA PUBLIC SCHOOL NATHDWARA', 'ADRASH VIDYA MANDIR MANDAWA, JHUNJHUNU', 'AEGIS INTERNATIONAL SCHOOL', 'AGA KHAN SCHOOL', 'AGARWAL VIDYA VIHAR', 'AHMEDABAD PUBLIC SCHOOL INTERNATIONAL', 'AIR FORCE CHILDREN SCHOOL', 'AIR FORCE SCHOOL', 'AIR FORCE SCHOOL', 'AIR FORCE SCHOOL', 'AIR FORCE SCHOOL', 'AIR FORCE SCHOOL', 'AIRPORT SCHOOL', 'AJEET PUBLIC SECONDARY SCHOOL,TIJARA', 'AKAL ACADEMY', 'AKAL ACADEMY', 'AKAL ACADEMY SRI GANGANAGAR', 'AKASHDEEP PUBLIC SCHOOL', 'AKLANK DAY BOARDING CUM RESIDENTIAL SCHOOL', 'AKLANK PUB SCHOOL', 'ADINATH PUBLIC SCHOOL', 'ADITI GLOBAL ACADEMY', 'ADITYA BIRLA PUBLIC SCHOOL', 'ADITYA BIRLA PUBLIC SCHOOL', 'ADITYA BIRLA PUBLIC SCHOOL', 'ADITYA BIRLA PUBLIC SCHOOL NATHDWARA', 'ADRASH VIDYA MANDIR MANDAWA, JHUNJHUNU', 'AEGIS INTERNATIONAL SCHOOL', 'AGA KHAN SCHOOL', 'AGARWAL VIDYA VIHAR', 'AHMEDABAD PUBLIC SCHOOL INTERNATIONAL', 'AIR FORCE CHILDREN SCHOOL', 'AIR FORCE SCHOOL', 'AIR FORCE SCHOOL', 'AIR FORCE SCHOOL', 'AIR FORCE SCHOOL', 'AIR FORCE SCHOOL', 'AIRPORT SCHOOL', 'AJEET PUBLIC SECONDARY SCHOOL,TIJARA', 'AKAL ACADEMY', 'AKAL ACADEMY', 'AKAL ACADEMY SRI GANGANAGAR', 'AKASHDEEP PUBLIC SCHOOL', 'AKLANK DAY BOARDING CUM RESIDENTIAL SCHOOL', 'AKLANK PUB SCHOOL', 'ADINATH PUBLIC SCHOOL', 'ADITI GLOBAL ACADEMY', 'ADITYA BIRLA PUBLIC SCHOOL', 'ADITYA BIRLA PUBLIC SCHOOL', 'ADITYA BIRLA PUBLIC SCHOOL', 'ADITYA BIRLA PUBLIC SCHOOL NATHDWARA', 'ADRASH VIDYA MANDIR MANDAWA, JHUNJHUNU', 'AEGIS INTERNATIONAL SCHOOL', 'AGA KHAN SCHOOL', 'AGARWAL VIDYA VIHAR', 'AHMEDABAD PUBLIC SCHOOL INTERNATIONAL', 'AIR FORCE CHILDREN SCHOOL', 'AIR FORCE SCHOOL', 'AIR FORCE SCHOOL', 'AIR FORCE SCHOOL', 'AIR FORCE SCHOOL', 'AIR FORCE SCHOOL', 'AIRPORT SCHOOL', 'AJEET PUBLIC SECONDARY SCHOOL,TIJARA', 'AKAL ACADEMY', 'AKAL ACADEMY', 'AKAL ACADEMY SRI GANGANAGAR', 'AKASHDEEP PUBLIC SCHOOL', 'AKLANK DAY BOARDING CUM RESIDENTIAL SCHOOL', 'AKLANK PUB SCHOOL', 'ADINATH PUBLIC SCHOOL', 'ADITI GLOBAL ACADEMY', 'ADITYA BIRLA PUBLIC SCHOOL', 'ADITYA BIRLA PUBLIC SCHOOL', 'ADITYA BIRLA PUBLIC SCHOOL', 'ADITYA BIRLA PUBLIC SCHOOL NATHDWARA', 'ADRASH VIDYA MANDIR MANDAWA, JHUNJHUNU', 'AEGIS INTERNATIONAL SCHOOL', 'AGA KHAN SCHOOL', 'AGARWAL VIDYA VIHAR', 'AHMEDABAD PUBLIC SCHOOL INTERNATIONAL', 'AIR FORCE CHILDREN SCHOOL', 'AIR FORCE SCHOOL', 'AIR FORCE SCHOOL', 'AIR FORCE SCHOOL', 'AIR FORCE SCHOOL', 'AIR FORCE SCHOOL', 'AIRPORT SCHOOL', 'AJEET PUBLIC SECONDARY SCHOOL,TIJARA', 'AKAL ACADEMY', 'AKAL ACADEMY', 'AKAL ACADEMY SRI GANGANAGAR', 'AKASHDEEP PUBLIC SCHOOL', 'AKLANK DAY BOARDING CUM RESIDENTIAL SCHOOL', 'AKLANK PUB SCHOOL', 'ADINATH PUBLIC SCHOOL', 'ADITI GLOBAL ACADEMY', 'ADITYA BIRLA PUBLIC SCHOOL', 'ADITYA BIRLA PUBLIC SCHOOL', 'ADITYA BIRLA PUBLIC SCHOOL', 'ADITYA BIRLA PUBLIC SCHOOL NATHDWARA', 'ADRASH VIDYA MANDIR MANDAWA, JHUNJHUNU', 'AEGIS INTERNATIONAL SCHOOL', 'AGA KHAN SCHOOL', 'AGARWAL VIDYA VIHAR', 'AHMEDABAD PUBLIC SCHOOL INTERNATIONAL', 'AIR FORCE CHILDREN SCHOOL', 'AIR FORCE SCHOOL', 'AIR FORCE SCHOOL', 'AIR FORCE SCHOOL', 'AIR FORCE SCHOOL', 'AIR FORCE SCHOOL', 'AIRPORT SCHOOL', 'AJEET PUBLIC SECONDARY SCHOOL,TIJARA', 'AKAL ACADEMY', 'AKAL ACADEMY', 'AKAL ACADEMY SRI GANGANAGAR', 'AKASHDEEP PUBLIC SCHOOL', 'AKLANK DAY BOARDING CUM RESIDENTIAL SCHOOL', 'AKLANK PUB SCHOOL', 'ADINATH PUBLIC SCHOOL', 'ADITI GLOBAL ACADEMY', 'ADITYA BIRLA PUBLIC SCHOOL', 'ADITYA BIRLA PUBLIC SCHOOL', 'ADITYA BIRLA PUBLIC SCHOOL', 'ADITYA BIRLA PUBLIC SCHOOL NATHDWARA', 'ADRASH VIDYA MANDIR MANDAWA, JHUNJHUNU', 'AEGIS INTERNATIONAL SCHOOL', 'AGA KHAN SCHOOL', 'AGARWAL VIDYA VIHAR', 'AHMEDABAD PUBLIC SCHOOL INTERNATIONAL', 'AIR FORCE CHILDREN SCHOOL', 'AIR FORCE SCHOOL', 'AIR FORCE SCHOOL', 'AIR FORCE SCHOOL', 'AIR FORCE SCHOOL', 'AIR FORCE SCHOOL', 'AIRPORT SCHOOL', 'AJEET PUBLIC SECONDARY SCHOOL,TIJARA', 'AKAL ACADEMY', 'AKAL ACADEMY', 'AKAL ACADEMY SRI GANGANAGAR', 'AKASHDEEP PUBLIC SCHOOL', 'AKLANK DAY BOARDING CUM RESIDENTIAL SCHOOL', 'AKLANK PUB SCHOOL', 'AKSHAR INTERNATIONAL SCHOOL', 'AKSHAY PUBLIC SCHOOL', 'ALCHEMY SCHOOL', 'ALL BEST CHILDRENS SCHOOL', 'ALL SAINT SENIOR HIGHER SECONDARY SCHOOL', 'ALL SAINTS INTERNATIONAL SCHOOL', 'ALL SAINTS SR SEC SCHOOL', 'ALOK SCHOOL', 'ALOK SCHOOL', 'ALOK SENIOR SECONDARY SCHOOL', 'ALPHA ACADEMY', 'ALPHA BETA SCHOOL', 'ALPHA INTERNATIONAL ACADEMY', 'ALWAR PUBLIC SCHOOL', 'AMARCHAND SINGHVI INTERNATIONAL SCHOOL', 'AMBE PUBLIC SCHOOL', 'AMBE SCHOOL', 'AMBITION PUBLIC SCHOOL', 'AMBUJA PUBLIC SCHOOL', 'AMBUJA VIDYA NIKETAN', 'AMERICAN SCHOOL OF BARODA', 'AMICUS INTERNATIONAL SCHOOL', 'AMIT BOLIA VIDHYA NIKETAN', 'AMITY INTERNATIONAL SCHOOL', 'AMITY SCHOOL', 'AMRIT VIDYA ASHRAM', 'AMRITA VIDYALAYAM', 'ANAND  NIKETAN BHARUCH CAMPUS', 'ANAND NIKETAN BHADAJ', 'ANAND NIKETAN SCHOOL', 'ANAND NIKETAN SUGHAD', 'ANAND VIDYA BHARTI', 'ANAND VIDYA MANDIR UCHA MADHYAMIK VIDYALAYA', 'ANAND VIDYA VIHAR', 'ANANDA GLOBAL SCHOOL', 'ANANDALAYA', 'ANANYA VIDYALAYA', 'ANANYA VIDYALAYA', 'ANGEL PUBLIC SCHOOL', 'ANKUR SCHOOL', 'ANKUR SHIKSHAN SANSTHAN', 'APALA SCHOOL OF EDUCATION', 'APEX INTERNATIONAL SCHOOL', 'APEX INTERNATIONAL SCHOOL', 'APEX PUBLIC SCHOOL', 'APPLE GLOBAL SCHOOL', 'ARAVALI PUBLIC SCHOOL', 'ARAVALI PUBLIC SCHOOL', 'ARCADIA ACADEMY', 'ARIHANT INTERNATIONAL SCHOOL', 'ARIHANT PUBLIC SCHOOL', 'ARMY  PUBLIC SCHOOL', 'ARMY PUBLIC SCHOOL', 'ARMY PUBLIC SCHOOL', 'ARMY PUBLIC SCHOOL', 'ARMY PUBLIC SCHOOL', 'ARMY PUBLIC SCHOOL', 'ARMY PUBLIC SCHOOL', 'ARMY PUBLIC SCHOOL', 'ARMY PUBLIC SCHOOL', 'ARMY PUBLIC SCHOOL', 'ARMY PUBLIC SCHOOL', 'ARMY PUBLIC SCHOOL', 'ARMY PUBLIC SCHOOL', 'ARMY PUBLIC SCHOOL', 'ARMY PUBLIC SCHOOL', 'ARMY PUBLIC SCHOOL', 'ARMY PUBLIC SCHOOL KOTA', 'ARMY PUBLIC SCHOOL NO.1', 'ARMY PUBLIC SCHOOL NO.2, JABALPUR', 'ARORVANSH PUBLIC SCHOOL', 'ARPIT INTERNATIONAL SCHOOL', 'ARYA KANYA GURUKUL (ENGLISH MEDIUM)', 'ARYA PUBLIC SCHOOL', 'ARYA PUBLIC SCHOOL NEEMRANA', 'ARYAN PUBLIC SCHOOL', 'ASHA ACADEMY', 'ASHA DEVI INTERNATIONAL SCHOOL', 'ASIA ENGLISH SCHOOL', 'ASIAN PUBLIC SCHOOL', 'ASIAN WORLD SCHOOL', 'ASTER GLOBAL SCHOOL', 'ATMIYA  VIDYALAY', 'ATMIYA GREEN SCHOOL', 'ATMIYA VIDYA MANDIR', 'ATMIYA VIDYA NIKETAN', 'ATMIYA VIDYA PEETH', 'ATOMIC ENERGY CENTRAL SCHOOL', 'ATOMIC ENERGY CENTRAL SCHOOL', 'ATOMIC ENERGY CENTRAL SCHOOL NO 3', 'ATOMIC ENERGY CENTRAL SCHOOL NO 4', 'ATOMIC ENERGY CENTRAL SCHOOL NO.  2', 'AUROBINDO INTERNATIONAL SCHOOL', 'AVALON WORLD SCHOOL DABHOI', 'AVALON WORLD SCHOOL WAGHODIA', 'AVM CONVENT SCHOOL', 'B R BIRLA PUBLIC SCHOOL', 'B R BIRLA PUBLIC SR SEC SCHOOL', 'B R J D PUBLIC SCHOOL', 'B R SHIKSHAN SANSTHAN SENOR SECONDARY SCHOOL', 'B. L. INTERNATIONAL SMART SCHOOL', 'B. R. INTERNATIONAL SCHOOL', 'B.P.S. CONVENT SCHOOL, LAXMANGARH', 'B.P.S. SHIKSHAN SANSTHAN', 'B.S. MEMORIAL SCHOOL', 'B.S. PATEL PRIMARY SCHOOL', 'B.S.F. SR SEC SCHOOL', 'BABA HARDWARI NATH PUBLIC SCHOOL', 'BAGARIA BAL VIDYA NIKETAN', \"BAKSHI'S SPRINGDALES SEC SCHOOL\", 'BAL BHARATI PUBLIC SCHOOL', 'BAL BHARATI PUBLIC SCHOOL', 'BAL BHARTI INTERNATIONAL SCHOOL', 'BAL NIKETAN GANDHI SEVA SADAN', 'BANDIKUI PUBLIC SCHOOL', 'BANGUR PUBLIC SCHOOL', 'BANSAL PUBLIC SCHOOL', 'BANYAN TREE SCHOOL', 'BARODA PUBLIC SCHOOL', 'BASE STONE PUBLIC SCHOOL', 'BASELIOS PUBLIC SCHOOL', 'BASIC PUBLIC SCHOOL', 'BEETLES INTERNATIONAL SCHOOL', 'BHABHA PUBLIC SCHOOL', 'BHAGAT PUBLIC SR SEC SCHOOL', 'BHAGWAN DAS PAREEK DREAM SCHOOL', 'BHAGWAN MAHAVIR INTERNATIONAL SCHOOL,SURAT', 'BHAGWATI INTERNATIONAL PUBLIC SCHOOL', 'BHAKT ENGLISH MEDIUM SCHOOL', 'BHANWAR LAL GOTHI PUBLIC SEC. SCHOOL', 'BHARATIYA VIDYA BHAVAN VIDYASHRAM PRATAPNAGAR', \"BHARATIYA VIDYA BHAVAN'S V M PUBLIC SCHOOL\", 'BHARTI VIDYA BHAWAN', 'BHARTIA INTERNATIONAL SCHOOL', 'BHARTIYA PUBLIC SCHOOL', \"BHARTIYA VIDYA BHAVAN'S\", \"BHARTIYA VIDYA BHAVAN'S VIDYASHRAM\", 'BHARTIYA VIDYA BHAVANS SMT MANIBEN KASHIBHAI PATEL SCHOOL', 'BHASKARDYUSTI VIDYALAYA', 'BHAVKUNJ SCHOOL', 'BHAVYA ANGEL CONVENT SCHOOL', 'BHEL DR RADHAKRISHNAN GIRLS HIGHER SECONDARY', \"BHOPAL NOBLE'S PUBLIC SCHOOL\", 'BHUVNESH BAL VIDYALAYA', 'BIHANI CHILDERNS ACADEMY', 'BIKANER BOYS SCHOOL', 'BIRLA BALIKA VIDYAPEETH', 'BIRLA INTERNATIONAL SCHOOL KISHANGARH', 'BIRLA PUBLIC SCHOOL GANGANAGAR', 'BIRLA SCHOOL', 'BIRLA SHIKSHA KENDRA', 'BIRLA SHISHU VIHAR VIDYA VIHAR', 'BIRLASAGAR HR SEC SCHOOL', 'BLOOMING DALES INTERNATIONAL SCHOOL', 'BLOSSOM ACADEMY', 'BLUE MOON INTERNATIONAL SCHOOL', 'BLUE MOUNT INTERNATIONAL SEC. SCHOOL', 'BODHI INTERNATIONAL SCHOOL', 'BOMBAY WORLD SCHOOL', 'BRIGADIER ZABAR SINGH SENIOR SECONDARY PUBLIC SCHOOL BJS JODHPUR', 'BRIGHT DAY SCHOOL', 'BRIGHT DAY SCHOOL', 'BRIGHT INDIA PUBLIC SCHOOL', 'BRIGHT INTERNATIONAL SCHOOL', 'BRIGHT MOON PUBLIC SCHOOL', 'BRIGHTLAND GIRLS SR SEC SCHOOL', 'BRIGHTLANDS CONVENT SCHOOL', 'BRMR SEN SEC SCHOOL, SHEOPURA', 'BROADWAY INTERNATIONAL SCHOOL', 'BSN ACADEMY', 'C J R M PUBLIC SCHOOL', 'CALORX PUBLIC SCHOOL', 'CALORX PUBLIC SCHOOL', 'CALORX PUBLIC SCHOOL', 'CALORX PUBLIC SCHOOL', 'CAMBRIDGE CONVENT SCHOOL', 'CAMBRIDGE COURT HIGH SCHOOL', 'CAMBRIDGE COURT WORLD SCHOOL', 'CAMBRIDGE KIDS GARDEN PUBLIC SCHOOL, SIMANI', 'CANDLEWICK PUBLIC SCHOOL', 'CARE INTERNATIONAL SCHOOL', 'CAREER POINT GURUKUL', 'CAREER POINT GURUKUL SCHOOL', 'CAREER POINT WORLD SCHOOL', 'CEERI VIDYA MANDIR', 'CENTRAL ACADEMY', 'CENTRAL ACADEMY', 'CENTRAL ACADEMY', 'CENTRAL ACADEMY', 'CENTRAL ACADEMY', 'CENTRAL ACADEMY', 'CENTRAL ACADEMY - 1', 'CENTRAL ACADEMY - 2', 'CENTRAL ACADEMY SCHOOL', 'CENTRAL ACADEMY SCHOOL', 'CENTRAL ACADEMY SCHOOL,', 'CENTRAL ACADEMY SENIOR SECONDARY SCHOOL', 'CENTRAL ACADEMY SENIOR SECONDARY SCHOOL,NANDRI, JODHPUR', 'CENTRAL ACADEMY SR SEC SCHOOL', 'CENTRAL ACADEMY SR SEC SCHOOL', 'CENTRAL ACADEMY SR SEC SCHOOL', 'CENTRAL ACADEMY SR SEC SCHOOL', 'CENTRAL ACADMEY SR SEC SCHOOL', 'CENTRAL ENGLISH SCHOOL', 'CENTRAL PUBLIC SENIOR SECONDARY SCHOOL', 'CENTRAL PUBLIC SR SEC SCHOOL', 'CFDAV PUBLIC SCHOOL, GADEPAN, KOTA', 'CGI WORLD SCHOOL', 'CH MOTA RAM MEEL MEMORIAL SR SEC PUBLIC SCHOOL', 'CHAITANYA SCHOOL', 'CHANDERBALA MODI ACADEMY', 'CHILDREN ACADEMY CONVENT SCHOOL', 'CHILDREN SR SECONDARY SCHOOL', 'CHINAR PUBLIC SCHOOL', 'CHINMAY INTERNATIONAL SCHOOL', 'CHITRAKOOT PUBLIC SCHOOL AND RESEARCH CENTRE', 'CHOUDHARY GHARSIRAM PUBLIC SCHOOL', 'CHRIST SCHOOL', 'CLR PUBLIC SCHOOL', 'COSMO PUBLIC SCHOOL', 'COSMOS CASTLE INTERNATIONAL SCHOOL', 'COSMOS CASTLE INTERNATIONAL SCHOOL, GREEN CAMPUS', 'COUNTRYSIDE INTERNATIONAL SCHOOL', 'CYGNUS WORLD SCHOOL', 'D A V ACC PUBLIC SCHOOL', 'D L A ACADEMY FOR LITTLE PEOPLE', 'D V M PUBLIC SCHOOL', 'D. M. GORIYA INTERNATIONAL SCHOOL', 'D.A.V INTERNATIONAL SCHOOL, AHMEDABAD', 'D.A.V. CENTENARY PUBLIC SCHOOL', 'D.A.V. HZL SR. SECONDARY SCHOOL', 'D.L.A. ACADEMY FOR LITTLE PEOPLE', 'D.R.AMIN MEMORIAL SCHOOL', 'DAFFODILS WORLD SCHOOL', 'DAISY DAYS INTERNATIONAL SCHOOL', 'DALMIA PUBLIC SCHOOL', 'DALMIA VIDYA MANDIR', 'DANIAL MAYO SECONDARY SCHOOL', 'DAV CENTENARY PUBLIC SCHOOL', 'DAV CENTENARY PUBLIC SCHOOL', 'DAV CENTENARY PUBLIC SCHOOL', 'DAV CENTENARY PUBLIC SCHOOL', 'DAV CENTENARY PUBLIC SCHOOL', 'DAV HZL SR.SECONDARY SCHOOL, ZAWAR MINES, UDAIPUR', 'DAV KALISINDH THERMAL PUBLIC SCHOOL, JHALAWAR', 'DAV PUBLIC SCHOOL', 'DAV PUBLIC SCHOOL', 'DAYANAND ARYA VEDIC PUBLIC SCHOOL', 'DAYANAND BAL NIKETAN SENIOR SECONDRY SCHOOL', 'DAYANAND PARADISE SCHOOL', 'DAYANAND PUBLIC SCHOOL', 'DCS INTERNATIONAL SCHOOL', 'DECENT SCHOOL', 'DEEKSHA INTERNATIONAL SCHOOL', 'DEEP DARSHAN VIDHYA SANKUL', 'DEEP INTERNATIONAL SCHOOL', 'DEFENCE PUBLIC SCHOOL', 'DEFENCE SECONDARY SCHOOL', 'DELHI  PUBLIC SENIOR SECONDARY SCHOOL', 'DELHI INTERNATIONAL PUBLIC SCHOOL', 'DELHI PUBLIC SCHOOL', 'DELHI PUBLIC SCHOOL', 'DELHI PUBLIC SCHOOL', 'DELHI PUBLIC SCHOOL', 'DELHI PUBLIC SCHOOL', 'DELHI PUBLIC SCHOOL', 'DELHI PUBLIC SCHOOL', 'DELHI PUBLIC SCHOOL', 'DELHI PUBLIC SCHOOL', 'DELHI PUBLIC SCHOOL', 'DELHI PUBLIC SCHOOL', 'DELHI PUBLIC SCHOOL', 'DELHI PUBLIC SCHOOL', 'DELHI PUBLIC SCHOOL', 'DELHI PUBLIC SCHOOL', 'DELHI PUBLIC SCHOOL', 'DELHI PUBLIC SCHOOL', 'DELHI PUBLIC SCHOOL ANAND', 'DELHI PUBLIC SCHOOL INTERNATIONAL', 'DELHI PUBLIC SCHOOL JHUNJHUNU', 'DELHI PUBLIC SCHOOL MEHSANA', 'DELHI PUBLIC SCHOOL, JAMNAGAR', 'DELHI PUBLIC SCHOOL, UDAIPUR', 'DELHI PUBLIC SEC. SCHOOL', 'DELHI PUBLIC SENIOR SECONDARY SCHOOL', 'DELHI PUBLIC WORLD INTERNATIONAL SCHOOL', 'DELHI PUBLIC WORLD SCHOOL', 'DELHI PUBLIC WORLD SCHOOL', 'DELHI PUBLIC WORLD SCHOOL', 'DELHI PUBLIC WORLD SCHOOL', 'DELHI PUBLIC WORLD SCHOOL', 'DELHI WORLD PUBLIC SCHOOL', 'DELHI WORLD PUBLIC SCHOOL', 'DEMONSTRATION MULTIPURPOSE SCHOOL', 'DHAVAL STRAED WORLD SCHOOL', 'DIAMOND ACADEMY', 'DISCOVERY INTERNATIONAL SCHOOL', 'DISHA DELPHI PUBLIC SCHOOL', 'DIVINE CHILD HIGH SCHOOL', 'DIVINE CHILD INTERNATIONAL SCHOOL', 'DIVINE CHILD SCHOOL', 'DIVINE GURUKULAM THE TRADITIONAL SCHOOL', 'DIVINE INTERNATIONAL GIRLS SCHOOL', 'DIVINE INTERNATIONAL SCHOOL', 'DIVINE INTERNATIONAL SCHOOL', 'DIVINE PUBLIC BCHOOL', 'DIVYA BRAHMLOK GLOBAL ACADEMY', 'DIVYA JYOT SCHOOL', 'DOLPHINS HIGH SCHOOL', 'DOON PUBLIC SCHOOL', 'DOON PUBLIC SCHOOL', 'DPS AJMER SENIOR SECONDARY SCHOOL', 'DPS TONK', 'DR K.N.MODI GLOBAL SCHOOL', 'DR.BANSI DHAR SCHOOL', 'DREAM INTERNATIONAL SCHOO', 'DRONACHARYA INTERNATIONAL SCHOOL', 'DUNDLOD PUBLIC SCHOOL', 'DUNDLOD PUBLIC SCHOOL', 'DUNDLOD VIDYAPEETH', 'DUNGARPUR PUBLIC SCHOOL', 'EDEN INTERNATIONAL SCHOOL', 'EDEN INTERNATIONAL SCHOOL', 'EDIFY WORLD SCHOOL', 'EKALAVYA MODEL RESIDENTIAL SCHOOL', 'EKALAVYA MODEL RESIDENTIAL SCHOOL', 'EKALAVYA MODEL RESIDENTIAL SCHOOL', 'EKALAVYA MODEL RESIDENTIAL SCHOOL', 'EKALAVYA MODEL RESIDENTIAL SCHOOL,', 'EKALAVYA MODEL RESIDENTIAL SR. SEC SCHOOL', 'EKLAVYA GLOBAL SCHOOL', 'EKLAVYA INTERNATIONAL ACADEMY', 'EKLAVYA MODEL RESIDATIONAL SCHOOL', 'EKLAVYA MODEL RESIDENCIAL SCHOOL', 'EKLAVYA MODEL RESIDENTIAL SCHOOL', 'EKLAVYA MODEL RESIDENTIAL SCHOOL', 'EKLAVYA MODEL RESIDENTIAL SCHOOL', 'EKLAVYA MODEL RESIDENTIAL SCHOOL', 'EKLAVYA MODEL RESIDENTIAL SCHOOL', 'EKLAVYA MODEL RESIDENTIAL SCHOOL', 'EKLAVYA MODEL RESIDENTIAL SCHOOL', 'EKLAVYA MODEL RESIDENTIAL SCHOOL', 'EKLAVYA MODEL RESIDENTIAL SCHOOL', 'EKLAVYA MODEL RESIDENTIAL SCHOOL', 'EKLAVYA MODEL RESIDENTIAL SCHOOL', 'EKLAVYA MODEL RESIDENTIAL SCHOOL RANOLI', 'EKLAVYA MODEL RESIDENTIAL SEC SCHOOL', 'EKTA PUBLIC SCHOOL', 'ELITE ENGLISH MEDIUM SCHOOL', 'ELWOOD INTERNATIONAL SCHOOL', 'EMINENT SCHOOL', 'EMMANUEL MISSION SCHOOL', 'EMMANUEL MISSION SCHOOL', 'EMMANUEL MISSION SEC SCHOOL', 'EMMANUEL MISSION SENIOR SECONDARY SCHOOL', 'EMMANUEL MISSION SENIOR SECONDARY SCHOOL', 'EMMANUEL MISSION SR SEC SCHOOL', 'EMMANUEL MISSION SR. SEC. SCHOOL', 'EMMANUEL PUBLIC SCHOOL', 'EMMANUEL SENIOR SECONDARY SCHOOL', 'EMMANUEL SENIOR SECONDARY SCHOOL', 'EMMANUEL SR SEC SCHOOL', 'ESSAR INTERNATIONAL SCHOOL', 'EURO GLOBAL ACADEMY', 'EURO INTERNATIONAL SCHOOL', 'EURO INTERNATIONAL SCHOOL', 'EURO SCHOOL', 'EURO SCHOOL', 'EURO SCHOOL FOUNDATION NADIAD', 'EURO SCHOOL,', 'EVERGREEN PUBLIC SCHOOL', 'EVOLUTION INTERNATIONAL SCHOOL', 'EXCELLENCE ENGLISH ACADEMY', 'FABINDIA SCHOOL', 'FATEH PUBLIC SCHOOL', 'FATIMA CONVENT PUBLIC SCHOOL (CBSE)', 'FELLOWSHIP MISSION SCHOOL', 'FELLOWSHIP MISSION SCHOOL', 'FIRDAUS AMRUT CENTRE SCHOOL', 'FLORADALE PUBLIC SCHOOL', 'FLOWER KIDS PUBLIC SCHOOL', 'FORT INTERNATIONAL SCHOOL', 'FRAME INTERNATIONAL SCHOOL ,', 'FREEDOM VALLEY SCHOOL', \"FROEBEL CHILDREN'S SCHOOL\", 'FUTURE FOUNDATION THE SCHOOL', 'G D GOENKA INTERNATIONAL SCHOOL, UDAIPUR', 'G M SCHOOL', 'G R GLOBAL ACADEMY', 'G S JANGID MEMORIAL SCHOOL', 'G. B. MODI VIDYA MANDIR', 'G. R. GLOBAL ACADEMY', 'G.D. GOENKA INTERNATIONAL SCHOOL', 'G.D. GOENKA PUBLIC SCHOOL', 'GAJERA GLOBAL SCHOOL', 'GAJERA INTERNATIONAL SCHOOL', 'GAJERA INTERNATIONAL SCHOOL', 'GANGANAGAR PUBLIC SCHOOL', 'GANGOTRI INTERNATIONAL SCHOOL', 'GD SCHOOL', 'GEMS GENESIS SCHOOL', 'GENIUS EDUCATIONAL ACADEMY', 'GENIUS ENGLISH MEDIUM SCHOOL', 'GENIUS INTERNATIONAL SCHOOL', 'GENIUS LITTLE FLOWER PUBLIC SCHOOL', 'GIRNAR PUBLIC SCHOOL', 'GLOBAL DISCOVERY SCHOOL', 'GLOBAL DISCOVERY SCHOOL', 'GLOBAL DISCOVERY SCHOOL, HALOL', 'GLOBAL INDIAN INTERNATIONAL SCHOOL', 'GLOBAL INDIAN INTERNATIONAL SCHOOL', 'GLOBAL INDIAN INTERNATIONAL SCHOOL', 'GLOBAL INDUS VALLEY SCHOOL', 'GLOBAL INTERNATIONAL ACADEMY', 'GLOBAL INTERNATIONAL SCHOOL,PARBATSAR', 'GLOBAL MISSION SCHOOL', 'GLOBAL PUBLIC SCHOOL', 'GLOBAL VISION INTERNATIONAL SCHOOL', 'GLOBLE PUBLIC SCHOOL', 'GLOBUS PRIMARY SCHOOL', 'GLORIOUS PUBLIC SCHOOL', 'GOENKA PUBLIC SCHOOL', 'GOKUL GLOBAL SCHOOL', 'GOLDEN EAGLE PUBLIC SCHOOL', 'GOLDEN ERA ACADEMY', 'GOLDEN PUBLIC SCHOOL', 'GOLDEN RAYS PUBLIC SCHOOL', 'GOOD DAY DEFENCE SCHOOL', 'GOOD SHEPHERD PUBLIC SCHOOL', 'GOOD SHEPHERD PUBLIC SCHOOL, RIICO', 'GOVT GIRLS TRIBAL RESIDENTIAL SCHOOL', 'GOVT RESIDENTIAL SCHOOL', 'GOVT TRIBAL RESIDENTIAL SCHOOL', 'GOVT TRIBAL RESIDENTIAL SCHOOL', 'GOVT TRIBAL RESIDENTIAL SCHOOL', 'GOVT TRIBAL RESIDENTIAL SCHOOL', 'GOVT TRIBAL RESIDENTIAL SCHOOL', 'GOVT TRIBAL RESIDENTIAL SCHOOL', 'GOVT. GURUKULAM RESIDENTIAL SCHOOL', 'GPS SCHOOL', 'GREEN TURTLE SCHOOL', 'GREEN VALLEY HIGH SCHOOL', 'GREEN VALLEY INTERNATIONAL SCHOOL', 'GREEN VALLEY PUBLIC SCHOOL', 'GREENFIELD HIGH SCHOOL, UDASAR', 'GREENWOOD SCHOOL', 'GRIN APPLE PUBLIC SCHOOL', 'GUDHA INTERNATIONAL SCHOOL', 'GUJARAT PUBLIC INTERNATIONAL SCHOOL', 'GUJARAT PUBLIC SCHOOL', 'GUJARAT PUBLIC SCHOOL', 'GURU HARKRISHAN PUBLIC SCHOOL', 'GURU HARKRISHAN PUBLIC SCHOOL', 'GURU HARKRISHAN PUBLIC SCHOOL', 'GURU NANAK PUBLIC SCHOOL', 'GURU SIDDHARTH INTERNATIONAL SCHOOL', 'GURUKUL B.L. MOHTA LEARNING INSTITUTE', 'GURUKUL CENTRAL ACADEMY', 'GURUKUL GLOBAL SCHOOL', 'GURUKUL INTERNATIONAL SCHOOL', 'GYAN AKSHAR SCHOOL', 'GYAN ASHRAM SCHOOL', 'GYAN BHARATI INTERNATIONAL SCHOOL', 'GYAN SAGAR INTERNATIONAL SCHOOL', 'GYAN VIHAR SCHOOL', 'GYANDAN GLOBAL SCHOOL', 'GYANMANJARI PRIMARY SCHOOL', 'GYANODAYA PUBLIC SCHOOL', 'H G INTERNATIONAL SCHOOL', 'H L CONVENT SCHOOL', 'HANIFA SCHOOL', 'HANS INTERNATIONAL SENIOR SECONDARY SCHOOL, KOTPUTLI (JAIPUR)', 'HANUJAI HIGH SCHOOL', 'HANUMANT HIGH SCHOOL', 'HAPPY CONVENT PUBLIC SECONDARY SCHOOL', 'HAPPY HOURS SCHOOL', 'HAPPY PUBLIC SCHOOL', 'HARI DEVI JHUTHA RAM SHISHU  SADAN', 'HARIA GLOBAL SCHOOL', 'HERITAGE GIRLS SCHOOL', 'HI TECH SCHOOL', 'HILL WOODS SCHOOL', \"HILLGROVE COL'S ACADEMY\", 'HILLS HIGH SCHOOL', 'HIND ZINC SCHOOL', 'HINDUSTAN INTERNATIONAL ACADEMY', 'HINDUSTAN INTERNATIONAL SCHOOL', 'HOLY HEIGHTS CONVENT SCHOOL', 'HUKUM CHAND PUBLIC SCHOOL', 'I D P SCHOOL', 'IDEAL PUBLIC SCHOOL', 'IDEAL PUBLIC SENIOR SECONDARY SCHOOL, BUHANA', 'IIRA INTERNATIONAL SCHOOL', 'IMMANUEL MISSION SCHOOL', 'IMPULSE ENGLISH SCHOOL', 'INDIA INTERNATIONAL SCHOOL', 'INDIA INTERNATIONAL SCHOOL SITAPURA JAIPUR', 'INDIA OVERSEAS SCHOOL', 'INDIAN CONVENT SCHOOL', 'INDIAN PUBLIC SCHOOL', 'INDIAN PUBLIC SCHOOL', 'INDO AMERICAN PUBLIC SCHOOL', 'INDO BHARAT INTERNATIONAL', 'INDO BHARAT INTERNATIONAL SCHOOL', 'INDUS WORLD SCHOOL', 'INNOVATIVE INTERNATIONAL SCHOOL', 'J. D. INTERNATIONAL SCHOOL', 'J. P. MODI SCHOOL', 'JAI PUBLIC SCHOOL', 'JAIPUR INTERNATIONAL PUBLIC SCHOOL', 'JAIPUR PUBLIC SCHOOL', 'JAIPUR SCHOOL', 'JAIPURIA VIDYALAYA', 'JALDEEP MEMORIAL PUBLIC SCHOOL', 'JAMALI ENGLISH SCHOOL', 'JAMNA VIDYAPEETH', 'JANKI DEVI MEMORIAL PUBLIC SCHOOL', 'JANKIDEVI PUBLIC SCHOOL', 'JANKIDEVI PUBLIC SCHOOL, JAIPUR', 'JANTA GIRLS PUBLIC SCHOOL', 'JAWAHAR NAVODAYA VIDAYALAYA', 'JAWAHAR NAVODAYA VIDYALAYA', 'JAWAHAR NAVODAYA VIDYALAYA', 'JAWAHAR NAVODAYA VIDYALAYA', 'JAWAHAR NAVODAYA VIDYALAYA', 'JAWAHAR NAVODAYA VIDYALAYA', 'JAWAHAR NAVODAYA VIDYALAYA', 'JAWAHAR NAVODAYA VIDYALAYA', 'JAWAHAR NAVODAYA VIDYALAYA', 'JAWAHAR NAVODAYA VIDYALAYA', 'JAWAHAR NAVODAYA VIDYALAYA', 'JAWAHAR NAVODAYA VIDYALAYA', 'JAWAHAR NAVODAYA VIDYALAYA', 'JAWAHAR NAVODAYA VIDYALAYA', 'JAWAHAR NAVODAYA VIDYALAYA', 'JAWAHAR NAVODAYA VIDYALAYA', 'JAWAHAR NAVODAYA VIDYALAYA', 'JAWAHAR NAVODAYA VIDYALAYA', 'JAWAHAR NAVODAYA VIDYALAYA', 'JAWAHAR NAVODAYA VIDYALAYA', 'JAWAHAR NAVODAYA VIDYALAYA', 'JAWAHAR NAVODAYA VIDYALAYA', 'JAWAHAR NAVODAYA VIDYALAYA', 'JAWAHAR NAVODAYA VIDYALAYA', 'JAWAHAR NAVODAYA VIDYALAYA', 'JAWAHAR NAVODAYA VIDYALAYA', 'JAWAHAR NAVODAYA VIDYALAYA', 'JAWAHAR NAVODAYA VIDYALAYA', 'JAWAHAR NAVODAYA VIDYALAYA', 'JAWAHAR NAVODAYA VIDYALAYA', 'JAWAHAR NAVODAYA VIDYALAYA', 'JAWAHAR NAVODAYA VIDYALAYA', 'JAWAHAR NAVODAYA VIDYALAYA', 'JAWAHAR NAVODAYA VIDYALAYA', 'JAWAHAR NAVODAYA VIDYALAYA', 'JAWAHAR NAVODAYA VIDYALAYA', 'JAWAHAR NAVODAYA VIDYALAYA', 'JAWAHAR NAVODAYA VIDYALAYA', 'JAWAHAR NAVODAYA VIDYALAYA', 'JAWAHAR NAVODAYA VIDYALAYA', 'JAWAHAR NAVODAYA VIDYALAYA', 'JAWAHAR NAVODAYA VIDYALAYA', 'JAWAHAR NAVODAYA VIDYALAYA', 'JAWAHAR NAVODAYA VIDYALAYA', 'JAWAHAR NAVODAYA VIDYALAYA', 'JAWAHAR NAVODAYA VIDYALAYA', 'JAWAHAR NAVODAYA VIDYALAYA', 'JAWAHAR NAVODAYA VIDYALAYA', 'JAWAHAR NAVODAYA VIDYALAYA', 'JAWAHAR NAVODAYA VIDYALAYA', 'JAWAHAR NAVODAYA VIDYALAYA', 'JAWAHAR NAVODAYA VIDYALAYA', 'JAWAHAR NAVODAYA VIDYALAYA', 'JAWAHAR NAVODAYA VIDYALAYA', 'JAWAHAR NAVODAYA VIDYALAYA', 'JAWAHAR NAVODAYA VIDYALAYA', 'JAWAHAR NAVODAYA VIDYALAYA', 'JAWAHAR NAVODAYA VIDYALAYA', 'JAWAHAR NAVODAYA VIDYALAYA', 'JAWAHAR NAVODAYA VIDYALAYA', 'JAWAHAR NAVODAYA VIDYALAYA', 'JAWAHAR NAVODAYA VIDYALAYA', 'JAWAHAR NAVODAYA VIDYALAYA JUNAGADH', 'JAWAHAR NAVODAYA VIDYALAYA, SURATGARH', 'JAWHAR NAVODAYA VIDYALAYA', 'JAY AMBE INTERNATIONAL SCHOOL', 'JAY INTERNATIONAL SCHOOL', 'JAY JALARAM INTERNATIONAL SCHOOL', 'JAY JALARAM SCHOOL', 'JAYSHREE PERIWAL GLOBAL SCHOOL', 'JAYSHREE PERIWAL HIGH SCHOOL', 'JBDIAMONDS & KARP IMPEX VIDYA SANKUL', 'JEEVANI INTERNATIONAL SCHOOL', 'JEEVANSHILP INTERNATIONAL SCHOOL', 'JESUS & MARY SECONDARY SCHOOL', 'JHUNJHUNU ACADEMY', 'JINDAL PUBLIC SCHOOL', 'JSB PUBLIC SCHOOL', 'JVP INTERNATIONAL SEC. SCHOOL', 'JYOTI VIDYAPEETH,', 'K D JAIN PUBLIC SCHOOL', 'K D PUBLIC SR. SECONDARY SCHOOL', 'K.P.S. UDAAN', 'K.S. INTERNATIONAL ACADEMY, WARD NO.8, BAGAR -333023 DIST.JHUNJHUNU (RAJ.)', 'KAKUBHAI PARIKH SCHOOL', 'KALAWAD ENGLISH MEDIUM SCHOOL', 'KAMESHWAR INTERNATIONAL SCHOOL', 'KAMLA CONVENT SCHOOL BARAN ROAD ATRU', 'KAMLA RANI SANGHI PUBLIC SCHOOL', 'KANAKRAJ SAWANTRAJ LODHA  PUBLIC SCHOOL', 'KANHA KINGDOM SMART EDUCATION', 'KAPILGYAN PEETH', 'KAUTILYA SENI SECONDARY SCHOOL', 'KENBRIDGE SCHOOL', 'KENDRIYA  VIDYALAYA', 'KENDRIYA  VIDYALAYA', 'KENDRIYA VIDYALAYA', 'KENDRIYA VIDYALAYA', 'KENDRIYA VIDYALAYA', 'KENDRIYA VIDYALAYA', 'KENDRIYA VIDYALAYA', 'KENDRIYA VIDYALAYA', 'KENDRIYA VIDYALAYA', 'KENDRIYA VIDYALAYA', 'KENDRIYA VIDYALAYA', 'KENDRIYA VIDYALAYA', 'KENDRIYA VIDYALAYA', 'KENDRIYA VIDYALAYA', 'KENDRIYA VIDYALAYA', 'KENDRIYA VIDYALAYA', 'KENDRIYA VIDYALAYA', 'KENDRIYA VIDYALAYA', 'KENDRIYA VIDYALAYA', 'KENDRIYA VIDYALAYA', 'KENDRIYA VIDYALAYA', 'KENDRIYA VIDYALAYA', 'KENDRIYA VIDYALAYA', 'KENDRIYA VIDYALAYA', 'KENDRIYA VIDYALAYA', 'KENDRIYA VIDYALAYA', 'KENDRIYA VIDYALAYA', 'KENDRIYA VIDYALAYA', 'KENDRIYA VIDYALAYA', 'KENDRIYA VIDYALAYA', 'KENDRIYA VIDYALAYA', 'KENDRIYA VIDYALAYA', 'KENDRIYA VIDYALAYA', 'KENDRIYA VIDYALAYA', 'KENDRIYA VIDYALAYA', 'KENDRIYA VIDYALAYA', 'KENDRIYA VIDYALAYA', 'KENDRIYA VIDYALAYA', 'KENDRIYA VIDYALAYA', 'KENDRIYA VIDYALAYA', 'KENDRIYA VIDYALAYA', 'KENDRIYA VIDYALAYA', 'KENDRIYA VIDYALAYA', 'KENDRIYA VIDYALAYA', 'KENDRIYA VIDYALAYA', 'KENDRIYA VIDYALAYA', 'KENDRIYA VIDYALAYA', 'KENDRIYA VIDYALAYA', 'KENDRIYA VIDYALAYA', 'KENDRIYA VIDYALAYA', 'KENDRIYA VIDYALAYA', 'KENDRIYA VIDYALAYA', 'KENDRIYA VIDYALAYA', 'KENDRIYA VIDYALAYA', 'KENDRIYA VIDYALAYA', 'KENDRIYA VIDYALAYA', 'KENDRIYA VIDYALAYA', 'KENDRIYA VIDYALAYA', 'KENDRIYA VIDYALAYA', 'KENDRIYA VIDYALAYA', 'KENDRIYA VIDYALAYA', 'KENDRIYA VIDYALAYA', 'KENDRIYA VIDYALAYA', 'KENDRIYA VIDYALAYA', 'KENDRIYA VIDYALAYA', 'KENDRIYA VIDYALAYA', 'KENDRIYA VIDYALAYA', 'KENDRIYA VIDYALAYA', 'KENDRIYA VIDYALAYA', 'KENDRIYA VIDYALAYA', 'KENDRIYA VIDYALAYA', 'KENDRIYA VIDYALAYA', 'KENDRIYA VIDYALAYA', 'KENDRIYA VIDYALAYA', 'KENDRIYA VIDYALAYA', 'KENDRIYA VIDYALAYA', 'KENDRIYA VIDYALAYA (S A C)', 'KENDRIYA VIDYALAYA DAUSA', 'KENDRIYA VIDYALAYA DHOLPUR', 'KENDRIYA VIDYALAYA HANUMANGARH', 'KENDRIYA VIDYALAYA JAISINDHAR', 'KENDRIYA VIDYALAYA NAGAUR', 'KENDRIYA VIDYALAYA NO 1', 'KENDRIYA VIDYALAYA NO 1', 'KENDRIYA VIDYALAYA NO 1', 'KENDRIYA VIDYALAYA NO 1', 'KENDRIYA VIDYALAYA NO 1', 'KENDRIYA VIDYALAYA NO 1', 'KENDRIYA VIDYALAYA NO 1', 'KENDRIYA VIDYALAYA NO 1', 'KENDRIYA VIDYALAYA NO 1', 'KENDRIYA VIDYALAYA NO 1', 'KENDRIYA VIDYALAYA NO 1', 'KENDRIYA VIDYALAYA NO 1', 'KENDRIYA VIDYALAYA NO 2', 'KENDRIYA VIDYALAYA NO 2', 'KENDRIYA VIDYALAYA NO 2', 'KENDRIYA VIDYALAYA NO 2', 'KENDRIYA VIDYALAYA NO 2', 'KENDRIYA VIDYALAYA NO 2', 'KENDRIYA VIDYALAYA NO 2', 'KENDRIYA VIDYALAYA NO 2', 'KENDRIYA VIDYALAYA NO 2', 'KENDRIYA VIDYALAYA NO 2', 'KENDRIYA VIDYALAYA NO 2', 'KENDRIYA VIDYALAYA NO 2 (ARMY)', 'KENDRIYA VIDYALAYA NO 3', 'KENDRIYA VIDYALAYA NO 3', 'KENDRIYA VIDYALAYA NO 3', 'KENDRIYA VIDYALAYA NO 3', 'KENDRIYA VIDYALAYA NO 4', 'KENDRIYA VIDYALAYA NO 5', 'KENDRIYA VIDYALAYA NO 6', 'KENDRIYA VIDYALAYA NO. 7 CISF JAIPUR', 'KENDRIYA VIDYALAYA NO.1', 'KENDRIYA VIDYALAYA NO.1', 'KENDRIYA VIDYALAYA NO.1', 'KENDRIYA VIDYALAYA NO.2', 'KENDRIYA VIDYALAYA NO.4', 'KENDRIYA VIDYALAYA PATAN', 'KESAR DEVI SCHOOL', 'KESAR IDEAL SKILL SCHOOL', 'KESHAV KIDS GARDEN SCHOOL PILIBANGAN', 'KHALSA ACADEMY SHIKSHAN SAMITI', 'KHWAJA MODEL SCHOOL', 'KHYATI WORLD SCHOOL', 'KIDS CLUB SCHOOL', 'KIDZEE HIGH SCHOOL', 'KISHORI INTERNATIONAL SCHOOL CHIRAWA', 'KOKILABEN DHIRUBHAI AMBANI RELIANCE FOUNDATION SCHOOL', 'KRISHNA INTERNATIONAL PUBLIC SCHOOL', 'KRISHNA INTERNATIONAL SCHOOL', 'KRISHNA PUBLIC SCHOOL', 'KUMAR CHANDRIKASHRAM VIDYA NIKETAN', 'L P SAVANI VIDHYABHAVAN', 'L. P. SAVANI ACADEMY', 'L.P.SAVANI INTERNATIONAL SCHOOL', 'LADY ANUSUIYA SINGHANIA EUDCATION CENTRE', 'LADY ANUSUYA SINGHANIA EDUCATIONAL ACADEMY', 'LAKSHAYA INTERNATIONAL SCHOOL', 'LAKSHMIPAT SINGHANIA ACADEMY', 'LAKSHMIPAT SINGHANIA SCHOOL', 'LAKSHMIPAT SINGHANIA SCHOOL', 'LAKSHYA INTERNATIONAL SCHOOL', 'LAL BAHADUR SHASTRI SR SEC SCHOOL', 'LAL BAHADUR SHASTRI VIDYA NIKETAN', 'LALA KAILASHPAT SINGHANIA PUBLIC SCHOOL', 'LALA KAMLAPAT SINGHANIA EDUCATION CENTRE', 'LANCERS ARMY SCHOOL', 'LATE M. L. MANKAR SCHOOL', 'LAV KUSH MODEL SCHOOL', 'LAVANYA GURUKUL SCHOOL', 'LAWRENCE & MAYO PUBLIC SCHOOL', 'LAWRENCE & MAYO PUBLIC SCHOOL', 'LAXMI DEVI MUNDRA PUBLIC SCHOOL', 'LAXMI INTERNATIONAL ACADEMY', 'LAXMI INTERNATIONAL SCHOOL, SARIGAM', 'LBS CONVENT SCHOOL', 'LBS PUBLIC SCHOOL', 'LEELADEVI PARASMAL SANCHETI ENGLISH MEDIUM SCHOOL', 'LEO INTERNATIONAL SCHOOL, DANGPADA, BADGAON, UDAIPUR ROAD,  BANSWARA RAJASTHAN', 'LIL CHAMPS INTERNATIONAL SCHOOL', 'LIONS INTERNATIONAL ACADEMY', 'LITTLE ANGELS PUBLIC SCHOOL', 'LITTLE FLOWER CONVENT SCHOOL', 'LITTLE FLOWER CONVENT SCHOOL', 'LITTLE FLOWER SCHOOL', 'LITTLE FLOWER SCHOOL', 'LOKPRIYA PROVIDENTIA INTERNATIONAL SCHOOL', 'LORD BUDDHA PUBLIC SCHOOL', 'LORD KRISHNA PUBLIC SENIOR SECONDARY SCHOOL', \"LORD'S INTERNATIONAL SCHOOL\", \"LORD'S INTERNATIONAL SCHOOL\", 'LORDS INTERNATIONAL SCHOOL', 'LORDS INTERNATIONAL SCHOOL', 'LOVE FUN LEARN SCHOOL', 'LOYAL PUBLIC SCHOOL', 'LUCKY BAL NIKETAN', 'LUCKY INTERNATIONAL SCHOOL', 'LUMENS SCHOOL', 'LYALL PUBLIC SCHOOL', 'LZEBRA PUBLIC SCHOOL', 'M B INTERNATIONAL SCHOOL', 'M B S INTERNATIONAL SCHOOL', 'M D S PUBLIC SCHOOL', \"M G D GIRLS' SCHOOL\", 'M P S PUBLIC SCHOOL', 'M S KAWAR INTERNATIONAL SCHOOL', 'M S M SENIOR SECONDARY SCHOOL', 'M S S PUBLIC SCHOOL', 'M. B. PUBLIC SCHOOL', 'M. L. KAKADIA NATIONAL SCHOOL', 'M.D. BHATI SARASWATI NIKTAN PUBLIC SCHOOL,', 'M.D.CHILDREN ACADMY', 'MAA BHARATI SENIOR SECONDARY SCHOOL', 'MAA LODHI DEVI YADUVANSHI SHIKSHA NIKETAN', 'MADAAN INTERNATIONAL SCHOOL', 'MAHALA RESIDENTIAL PUBLIC SCHOOL', 'MAHAPRAGYA INTERNATIONAL SCHOOL', 'MAHAPRAGYA INTERNATIONAL SCHOOL', 'MAHAPRAGYA VIDYA NIKETAN', 'MAHARAJA AGRASAN VIDYALAYA', 'MAHARAJA AGRASEN INTERNATIONAL SCHOOL', 'MAHARAJA AGRASEN PUBLIC SCHOOL', 'MAHARAJA SAWAI BHAWANI SINGH SCHOOL', 'MAHARAJA SAWAI MAN SINGH VIDYALAYA', 'MAHARANA MEWAR PUBLIC SCHOOL', 'MAHARANA MEWAR VIDYA MANDIR', 'MAHARANI KISHORI DEVI GIRLS SCHOOL', 'MAHARISHI ARVIND PUBLIC SCHOOL', 'MAHARISHI VIDYA MANDIR', 'MAHARSHI ENGLISH SCHOOL', 'MAHATMA GANDHI INTERNATIONAL SCHOOL,', 'MAHAVEER PUBLIC SCHOOL', 'MAHAVEER PUBLIC SCHOOL', 'MAHAVER PUBLIC SCHOOL', 'MAHESH PUBLIC SCHOOL', 'MAHESHWARI GIRLS PUB SCHOOL', 'MAHESHWARI INTERNATIONAL SCHOOL', 'MAHESHWARI PUBLIC SCHOOL', 'MAHESHWARI PUBLIC SCHOOL', 'MAHESHWARI PUBLIC SCHOOL', 'MAHESHWARI PUBLIC SCHOOL', 'MAHESHWARI PUBLIC SCHOOL', 'MAHESHWARI PUBLIC SCHOOL', 'MAHESHWARI PUBLIC SCHOOL', 'MAHESHWARI PUBLIC SCHOOL INTERNATIONAL - (MPS INTERNATIONAL)', 'MAHESWARI PUBLIC SCHOOL', 'MAHILA ASHRAM PUBLIC SCHOOL , BHILWARA', 'MAHRISHI DAYANAND PUBLIC SCHOOL', 'MAKRANA PUBLIC SCHOOL', 'MALVIYA CONVENT SCHOOL', 'MANAK LAO PUBLIC SCHOOL', 'MANAV KENDRA GYAN MANDIR SCHOOL', 'MANAV SCHOOL', 'MANGAL NEWTON SCHOOL', 'MANGLAM DAV PUBLIC SCHOOL', 'MANU PUBLIC SCHOOL', 'MARUTI INTERNATIONAL SCHOOL', 'MASCOT THE SCHOOL', 'MASTER MEER SINGH MEMORIAL SCHOOL', 'MATA SHRAVANI INTERNATIONAL SCHOOL', 'MATHARIDEVI VIRDHICHAND CHHAJER PUBLIC SCHOOL BARMER', 'MATLIWALA PUBLIC SCHOOL', 'MAURYAN HIGH SCHOOL', 'MAXFORD INTERNATIONAL SCHOOL', 'MAXFORT EDUCATION SCHOOL', 'MAYO COLLEGE', 'MAYOOR CHOPASNI SCHOOL', 'MAYOOR SCHOOL', 'MAYOOR SCHOOL', 'MENTOR INTERNATIONAL SCHOOL', 'MITTAL INTERNATIONAL SCHOOL', 'MLD INTERNATIONAL ACADEMY', 'MM PUBLIC SCHOOL', 'MODERN CAMBRIDGE GLOBAL SCHOOL', 'MODERN EDUCATION WORLD SCHOOL', 'MODERN PUBLIC SCHOOL', 'MODERN PUBLIC SR. SECONDARY SCHOOL, MAKRO,SINGHANA(JHUNJHUNU) RAJASTHAN', 'MODERN SCHOOL', 'MODERN SCHOOL', 'MODERN SCHOOL', 'MODERN SCHOOL', 'MODERN SCHOOL', 'MODI INST OF EDUCATIONAL RESEARCH', 'MODI PUBLIC SCHOOL', 'MODI SCHOOL', 'MOHAN LAL DAYAL VINAY MANDIR', 'MOHTA PUBLIC SCHOOL', 'MOMS SCHOOL', 'MORNING GLORY SCHOOL', 'MORNING STAR ST. ANSELMS SCHOOL', 'MOTHER CARE PRE-PRIMARY & PRIMARY SCHOOL', \"MOTHER'S MISSION PUBLIC SCHOOL\", 'MOTHERLAND CHILDREN ACADEMY SEC. SCHOOL, TONK', 'MOUNT CARMEL CONVENT SCHOOL', 'MOUNT LITERA ZEE SCHOOL', 'MOUNT LITERA ZEE SCHOOL', 'MOUNT LITERA ZEE SCHOOL', 'MOUNT LITERA ZEE SCHOOL SURAT', 'MOUNT LITERA ZEE SCHOOL UDAIPUR', 'MOUNT LITERA ZEE SCHOOL, PORBANDAR', 'MOUNT VIEW MODEL SECONDARY SCHOOL', 'MS SHIKSHAN SANSTHAN', 'MSM INTERNATIONAL RESIDENTIAL SCHOOL', 'MUNI INTERNATIONAL SCHOOL', 'MUNI INTERNATIONAL SCHOOL', 'MY OWN SCHOOL', 'MY SHANNEN SCHOOL', 'N C THAKAR EDUCATION CAMPUS', 'N.C.A. SENIOR SECONDARY SCHOOL,NAI MANDI GHARSANA', 'N.D. GANGA SCHOOL', 'N.G.INTERNATIONAL SCHOOL', 'N.K. PUBLIC SCHOOL', 'N.V.N. ENGLISH MEDIUM SCHOOL', 'NAIMISHARANYA SCHOOL', 'NALANDA ACADEMY', 'NALANDA VIDYALAYA', 'NAND VIDYA NIKETAN', 'NANJI KALIDAS D A V PUBLIC SCHOOL', 'NARAYAN VIDYAVIHAR', 'NARAYANA E-TECHNO SCHOOL', 'NARENDRA ACADEMY, SULTANA', 'NARMADA CALORX PUBLIC SCHOOL', 'NARMADA DEVI SINGHANIA INTERNATIONAL SCHOOL', 'NATIONAL ACADEMY DAY BOARDING ENG', 'NATIONAL PUBLIC SENI SECONDARY SCHOOL', 'NAVJEEVAN ACADEMY SENIOR SECONDARY SCHOOL', 'NAVRACHANA HR SEC SCHOOL', 'NAVRACHANA INTERNATIONAL SCHOOL', 'NAVY CHILDREN SCHOOL NAU SENA BAGH', 'NBF PUBLIC SCHOOL', 'NEERJA MODI SCHOOL', 'NEERJA MODI SCHOOL', 'NEHRU BAL MANDIR SENIOR SECONDARY SCHOOL', 'NEW ERA ACADEMY', 'NEW ERA CENTRAL SCHOOL', 'NEW ERA GLOBAL SCHOOL', 'NEW ERA HIGH SCHOOL', 'NEW ERA PROFESSOR ACADEMY -KEVADRA', 'NEW ERA PUBLIC SCHOOL', 'NEW ERA SCHOOL', 'NEW LOOK CENTRAL SCHOOL', 'NEW LOOK CENTRAL SCHOOL', 'NEW LOOK CENTRAL SCHOOL', 'NEW LOOK SR SEC SCHOOL', 'NEW LOOK UCHTAR MADHYAMIK VIDHYALAYA,', 'NEW RAJASTHAN PUBLIC SCHOOL', 'NEW RAJASTHAN PUBLIC SCHOOL', 'NEW SARASWATI CHILDREN ACADEMY', 'NEW STATE ACADEMY', 'NIMAWAT INTERNATIONAL SCHOOL', 'NIMS INTERNATIONAL SCHOOL', 'NIRMA VIDYA VIHAR', 'NIRMA VIDYAVIHAR BODAKDEV', 'NIRMALA CONVENT SCHOOL', 'NIRMALA SCHOOL', 'NIRMAN HIGH SCHOOL', 'NIRMAN HIGH SCHOOL', 'NO 1 AIR FORCE SCHOOL', 'NOBLE INTERNATIONAL SCHOOL', 'NOSEGAY PUBLIC SCHOOL', 'NUTAN PUBLIC SCHOOL', 'NYALKARAN ENGLISH MEDIUM SCHOOL', 'OASIS SAINIK SCHOOL', 'OJAS INTERNATIONAL SCHOOL', 'OM LANDMARK SCHOOL', 'OM PUBLIC SCHOOL', 'OM SHANTI ENGLISH MEDIUM SCHOOL', 'OM SHRI KRISHAN PUBLIC SCHOOL', 'OMKAR INTERNATIONAL ACADEMY', 'ORANGE COUNTY SCHOOL', 'OUR LADY OF PILLAR CONVENT SCHOOL', 'OXFORD ENGLISH SCHOOL', 'OXFORD INTERNATIONAL ACADEMY', 'OXFORD INTERNATIONAL PUBLIC SCHOOL', 'OXFORD INTERNATIONAL SCHOOL', 'OXFORD INTERNATIONAL SCHOOL', 'OXFORD PUBLIC SCHOOL', 'OXFORD PUBLIC SECONDARY SCHOOL', 'P P SAVANI CHAITANYA VIDYA', 'P. V. LAKHANI ENGLISH MEDIUM SCHOOL', 'P.CHANDRA INTERNATIONAL SCHOOL', 'P.M.ENGLISH MEDIUM SCHOOL', 'P.P.SAVANI SCHOOL', 'PADMAWATI CONVENT SCHOOL', 'PALLAVAN UCHATAR PRATHMIK VIDYALAYA.', 'PARADISE INTERNATIONAL PUBLIC SCHOOL', 'PARAMLAKSHYA WORLD SCHOOL', 'PARAMOUNTS VIDHYASHRAM SCHOOL', 'PARAS INTERNATIONAL ENGLISH SCHOOL', 'PATNI PUBLIC SCHOOL', 'PEARL CENTRAL ACADEMY', 'PEARL SCHOOL OF EXCELLENCE AND VALUE EDUCATION', 'PETALS INTERNATIONAL SCHOOL', 'PILANI PUBLIC SCHOOL', 'PINK PEARL SHIKSHAN SANSTHAN SR SEC SCHOOL', 'PINNACLE PUBLIC SCHOOL', 'PIONEER PUBLIC SCHOOL', 'PIRAMAL GIRLS SENIOR SECONDARY SCHOOL (ENGLISH MEDIUM) BAGAR', 'PODAR INTERNATIONAL SCHOOL', 'PODAR INTERNATIONAL SCHOOL', 'PODAR INTERNATIONAL SCHOOL', 'PODAR INTERNATIONAL SCHOOL', 'PODAR INTERNATIONAL SCHOOL', 'PODAR INTERNATIONAL SCHOOL', 'PODAR INTERNATIONAL SCHOOL', 'PODAR INTERNATIONAL SCHOOL', 'PODAR INTERNATIONAL SCHOOL', 'PODAR INTERNATIONAL SCHOOL', 'PODAR INTERNATIONAL SCHOOL', 'PODAR INTERNATIONAL SCHOOL', 'PODAR INTERNATIONAL SCHOOL', 'PODAR INTERNATIONAL SCHOOL AMRELI', 'PODAR INTERNATIONAL SCHOOL SURVEY NO 191/2, NEW BYPASS ROAD NUGAR MEHSANA', 'PODAR INTERNATIONAL SCHOOL VASTRAL', 'PODAR INTERNATIONAL SCHOOL,', 'PODAR INTERNATIONAL SCHOOL, AHMEDABAD', 'PODAR INTERNATIONAL SCHOOL,VAPI', 'PODAR WORLD SCHOOL', 'PODAR WORLD SCHOOL ANKLESHWAR', 'PODAR WORLD SCHOOL JAIPUR', 'PODAR WORLD SCHOOL MANEJA', 'PODAR WORLD SCHOOL VADODARA', 'PODAR WORLD SCHOOL VAPI', 'POLE STAR THE SCHOOL', 'POLKAJI SHIKSHAN SANSTHAN', 'POOJA INTERNATIONAL ACADEMY', 'PRAGATI PUBLIC SR SEC SCHOOL', 'PRAKASH SR SEC SCHOOL', 'PRANAMI GLOBAL SCHOOL', 'PRARTHANA GLOBAL SCHOOL', 'PRARTHANA SCHOOL', 'PREKSHA PUBLIC SCHOOL', 'PRESIDENCY SCHOOL', 'PRESIDENCY THE INTERNATIONAL SCHOOL', 'PRG WORLD SCHOOL', 'PRIME INTERNATIONAL SCHOOL', 'PRINCE ACADEMY OF HIGHER EDUCATION', 'PRINCE ASHOKRAJE GAEKWAD SCHOOL', 'PRINCE INTERNATIONAL SCHOOL', 'PRINCE INTERNATIONAL SCHOOL', 'PRINCE UCH MADHYAMIK VIDYALAYA', 'PRJ GYANJAYA SCHOOL', 'PT UMA DUTT PUBLIC SCHOOL', 'PT. PARSADI LAL INTERNATIONAL SCHOOL', 'PUBLIC SCHOOL KHAROD', 'PUNA INTERNATIONAL SCHOOL', \"QUEEN MARY'S GIRLS SCHOOL\", \"QUEEN MARY'S SCHOOL\", \"QUEEN MARY'S SCHOOL\", 'R S JHUNJHUNWALA INTERNATIONAL SCHOOL', 'R S V HIGHER SEC SCHOOL', 'R.K. INTERNATIONAL SCHOOL', 'R.P.VASANI INTERNATIONAL SCHOOL', 'R.S. MEMORIAL INTERNATIONAL SCHOOL', 'RAATH INTERNATIONAL SCHOOL', 'RAATH INTERNATIONAL SCHOOL', 'RACHANA SCHOOL', 'RADCLIFFE SCHOOL', 'RADHAKRISHNAN PUBLIC SCHOOL', 'RADHIKA EDUCARE SCHOOL', 'RADIANT ENGLISH ACADEMY', 'RADIANT SCHOLARS INTERNATIONAL SCHOOL', 'RAGHAV WORLD SCHOOL', 'RAHUL INTERNATIONAL SCHOOL', 'RAHUL MA SHIKSHAN SANSTHAN U MA SCHOOL', 'RAILWAY HIGH SEC. SCHOOL', 'RAILWAY SR. SEC. SCHOOL', 'RAILWAY SR. SEC. SCHOOL', 'RAINBOW PUBLIC SCHOOL', 'RAINBOW SCHOOL', 'RAJ CAREER INSTITUTIONAL SCHOOL, BANSUR', 'RAJ INTERNATIONAL SCHOOL DOLI', 'RAJ PUBLIC SENIOR SECONDARY SCHOOL', 'RAJASHREE VIDYA MANDIR', 'RAJASTHAN PUBLIC SCHOOL', 'RAJBAI PREMJIBHAI BHAVANI VIDYAMANDIR', 'RAJDEEP ENGLISH SCHOOL', 'RAJDHANI PUBLIC SCHOOL', 'RAJDHANI SCHOOL', 'RAJEEV SHIKSAN SANSTHAN', 'RAJKIYA JANJATI BALIKA AVASIYA', 'RAJKOT INTERNATIONAL SCHOOL', 'RAJKUMAR COLLEGE', 'RAJMATA KRISHNA KUMARI GIRLS PUB SCH', 'RAMPRASAD BOHARA PUBLIC SCHOOL', 'RANA INTERNATIONAL SCHOOL', 'RANA PRATAP ENGLISH MEDIUM SCHOOL', 'RANGOLI INTERNATIONAL SCHOOL', 'RANGOLI INTERNATIONAL SCHOOL, GANDHINAGAR', 'RANI DEVENDRA KUMARI PUBLIC SCHOOL', 'RAO DALIP SINGH PUBLIC SCHOOL', 'RAO GHEESA RAM SHIKSHA NIKETAN', 'RASHTRIYA GLOBAL SCHOOL', 'RASHTRIYA MILITARY SCHOOL', 'RASHTRIYA MILITARY SCHOOL', 'RASIKLAL M. DHARIWAL PUBLIC SCHOOL', 'RATNADEEP INTERNATIONAL SCHOOL', 'RAVINDRA INTERNATIONAL SCHOOL', 'RAWAT PUBLIC SCHOOL', 'RAWAT PUBLIC SCHOOL', 'RIGHT START INTER CONTINENTAL SCHOOL', 'RINKU INTERNATIONAL SCHOOL OF EXCELLENCE', 'RISHI GALAV CONVENT SCHOOL', 'RISHIKUL VIJAY SCHOOL', 'RMG MAHESHWARI ENGLISH SCHOOL', 'RMPS INTERNATIONAL SCHOOL', 'ROCKWOODS HIGH SCHOOL', 'ROOPNAGAR PUBLIC SCHOOL', 'ROSE BUD SCHOOL', 'ROYAL ACADEMY', 'ROYAL RAJASTHAN PUBLIC SCHOOL', 'ROYALS ACADEMY ENGLISH MEDIUM SCHOOL', 'RPS CHIRAWA', 'RPS INTERNATIONAL SCHOOL', 'RUBY CHILDREN SR SECONDARY SCHOOL', 'RUKMANI BIRLA MODERN HIGH SCHOOL', 'RUKMANI DEVI INTERNATIONAL SCHOOL', 'RYAN EDUNATION SCHOOL', 'RYAN INTERNATIONAL SCHOOL', 'RYAN INTERNATIONAL SCHOOL', 'RYAN INTERNATIONAL SCHOOL', 'RYAN INTERNATIONAL SCHOOL', 'RYAN INTERNATIONAL SCHOOL', 'RYAN INTERNATIONAL SCHOOL', 'S D JAIN MODERN SCHOOL', 'S G INTERNATIONAL SCHOOL', 'S G M SHIROIYA ENGLISH SCHOOL', 'S J PUBLIC SCHOOL', 'S M NIMAWAT PUBLIC SCHOOL', 'S R GLOBAL SCHOOL', 'S R M INERNATIONAL SCHOOL', 'S R N INTERNATIONAL SCHOOL', 'S S ADARSH CONVENT SCHOOL PADAMPUR', 'S V PUBLIC SCHOOL', 'S.R. INTERNATIONAL ACADEMY', 'S.R.PUBLIC SR.SEC. SCHOOL', 'S.TECH I.T. SCHOOL', 'S.V.P. SHIKSHAN AVAM ANUSANDHAN SANSTHAN,', 'SACHET CONVENT', 'SACHKHAND CONVENT SCHOOL', 'SACRED HEART CONVENT SCHOOL', 'SACRED HEART SCHOOL', 'SACRED HEART SR. SEC. SCHOOL', 'SADGURU PUBLIC SCHOOL', 'SAHAJANAND INTERNATIONAL SCHOOL', 'SAI BABA PUBLIC SCHOOL', 'SAINIK SCHOOL', 'SAINIK SCHOOL', 'SAINIK SCHOOL JHUNJHUNU', 'SAINT JOHNS SCHOOL', 'SAINT JOSEPH PUBLIC SCHOOL', \"SAINT PATRICK'S VIDYA BHAWAN SR SEC\", 'SAINT PAULS SCHOOL', 'SAINT SOLDIER PUBLIC SCHOOL', 'SAINT SOLDIER PUBLIC SCHOOL', 'SAINT SOLDIER PUBLIC SCHOOL', 'SAMARPAN GNYAN SCHOOL', 'SAMARPAN PUBLIC SCHOOL', 'SAMITHI ENGLISH MEDIUM SCHOOL', 'SAMRAT PUBLIC SR SEC SCHOOL', 'SANATAN INTERNATIONAL ACADEMY', 'SAND DUNES ACADEMY', 'SANDEEPAN ACADEMY, AVIKA NAGAR,', 'SANGAM SCHOOL OF EXCELLENCE', 'SANJEEVANI INTERNATIONAL SCHOOL', 'SANKALP ACADEMY SR SEC SCHOOL', 'SANSKAAR INTERNATIONAL SCHOOL', 'SANSKAAR PUBLIC SCHOOL', 'SANSKAR BHARTI PUBLIC SCHOOL', 'SANSKAR INTERNATIONAL ACADEMY', 'SANSKAR INTERNATIONAL PUBLIC SCHOOL', 'SANSKAR INTERNATIONAL SCHOOL', 'SANSKAR INTERNATIONAL SCHOOL', 'SANSKAR PUBLIC SCHOOL', 'SANSKAR SCHOOL', 'SANSKAR THE SCHOOL', 'SANSKARTIRTH GYANPEETH', 'SANSKRITI THE SCHOOL', 'SANT SHRI ASARAMJI PUBLIC SCHOOL', 'SANT SUDHA SAGAR PUBLIC SCHOOL', 'SANT SUDHA SAGAR PUBLIC SCHOOL', 'SAPUTARA INTERNATIONAL SCHOOL', 'SARASWATI ENGLISH MEDIUM SCHOOL', 'SARASWATI INTERNATIONAL SCHOOL', 'SARASWATI MODERN PUBLIC SCHOOL', 'SARASWATI SHIKSHAN SADAN CONVENT SCHOOL', 'SARDAR DOON PUBLIC SCHOOL', 'SARDAR PATEL PUBLIC SCHOOL', 'SARDAR PATEL VIDYALAYA', 'SAROJBEN MEMORIAL INTERNATIONAL SCHOOL', 'SARVANAMAN VIDYA MANDIR', 'SARVAYOG INTERNATIONAL SCHOOL', \"SARVODAY KIDS' CONVENT SCHOOL\", 'SARVODAYA PUBLIC SCHOOL,', 'SARVODAYA SECONDARY SCHOOL(ENGLISH MEDIUM)', 'SARVODAYA SENIOR SECONDARY SCHOOL', 'SARVODAYA SR SECONDARY SCHOOL', 'SATHYAM MISSION SCHOOL', 'SATTVA VIKAS SCHOOL', 'SATYA LAKSHYA EURO WORLD SCHOOL', 'SATYAM PUBLIC SCHOOL', 'SATYAMEVA JAYATE INTERNATIONAL SCHOOL', 'SAVVY INTERNATIONAL SCHOOL', 'SAVVY INTERNATIONAL SCHOOL', 'SAWAI MAN SINGH INTERNATIONAL SCHOOL', 'SBIOA PUBLIC SCHOOL', 'SBS CONVENT SCHOOL', 'SCHOLAR ENGLISH ACADEMY', 'SCHOLARS INTERNATIONAL SCHOOL', 'SCHOOL BLUE HEAVEN', 'SCHOOL OF EXCELLENCE', 'SDA SCHOOL', 'SDCCL PUBLIC SCHOOL', 'SDJ INTERNATIONAL SCHOOL', 'SEEDLING MODERN HIGH SCHOOL', 'SEEDLING MODERN PUBLIC SCHOOL', 'SEEDLING PUBLIC SCHOOL', 'SEERVI INTERNATIONAL SCHOOL', 'SESOMU SCHOOL', 'SETH NAND LAL DHANUKA HARSH CONVENT SCHOOL', 'SETH TOLA RAM BAFNA ACADEMY', 'SEVEN STAR CONVENT SCHOOL', 'SEVEN STAR CONVENT SCHOOL', 'SGR PUBLIC SCHOOL', 'SHAH SATMAMJI GIRLS SCHOOL', 'SHAH SATNAM JI BOYS SCHOOL', 'SHAH SATNAM JI GIRLS SCHOOL', 'SHAHEED BHAGAT SINGH CONVENT SCHOOL', 'SHAISHAV SCHOOL', 'SHANA INTERNATIONAL SCHOOL', 'SHANKAR LAL DHANUKA SR SEC ADARSH VIDYA MANDIR KESHAV VIDYAPEETH JAMDOLI JAIPUR', 'SHANNEN KIDS SCHOOL', 'SHANTADEVI SITARAM MUNDRA MAHESHWARI PUBLIC SCHOOL', 'SHANTI ASIATIC SCHOOL', 'SHANTI ASIATIC SCHOOL', 'SHANTI ASIATIC SCHOOL', 'SHANTI ASIATIC SCHOOL,', 'SHANTI ASIATIC SCHOOL, SURAT', 'SHANTI INTERNATIONAL SCHOOL', 'SHANTI INTERNATIONAL SCHOOL', 'SHANTI NIKETAN PUBLIC SCHOOL, BHADRA', 'SHANTI NIKETAN VIDYA MANDIR ,GOLUWALA SIHAGAN', 'SHARDA VIDYA MANDIR', 'SHARDAGRAM ENGLISH SCHOOL', 'SHAYONA INTERNATIONAL SCHOOL', 'SHEKHAWATI INTERNATIONAL ACADEMY', 'SHEKHAWATI INTERNATIONAL ACADEMY OF EDUCATION,SEBAD BADI', 'SHEKHAWATI PUBLIC SCHOOL', 'SHEKHAWATI PUBLIC SCHOOL,', 'SHEMFORD FUTURISTIC SCHOOL', 'SHERWOOD PUBLIC SCHOOL', 'SHETH C N ENGLISH MEDIUM SCHOOL', 'SHIKSHA HIGH SCHOOL', 'SHISHUKUNJ INTERNATIONAL SCHOOL', 'SHISHUMANDIR INTERNATIONAL SCHOOL', 'SHIV ASHISH SCHOOL', 'SHIV JYOTI CONVENT SCHOOL', 'SHIV JYOTI CONVENT SCHOOL', 'SHIV JYOTI INTERNATIONAL SCHOOL', 'SHIV JYOTI SENIOR SECONDARY SCHOOL', 'SHIVA CHILDRENS ACADEMY', 'SHIVAJI PUBLIC SCHOOL', \"SHIVALIK CHILDREN'S ACADEMY\", 'SHIVAM DPS GLOBAL SCHOOL', 'SHLOKA - A BIRLA SCHOOL', 'SHRADHALAYA PUBLIC SCHOOL', 'SHREE ASHRAM THE INTERNATIONAL SCHOOL', 'SHREE ATMIYA SHISHU VIDYAMANDIR', 'SHREE AURO ENGLISH SCHOOL', 'SHREE DEICHAND MANGERAM SMART SCHOOL', 'SHREE G K BHARAD VIDHYAMANDIR', 'SHREE GHANSHYAM ACADEMY', 'SHREE GURUKRUPA VIDHYA SANKUL', 'SHREE JAIN YUVAK MANDAL ENGLISH MEDIUM SCHOOL', 'SHREE KRISHNA INTERNATIONAL SCHOOL', 'SHREE M K MEHTA ENGLISH MEDIUM HIGH SCHOOL', 'SHREE MAHESH PUBLIC SCHOOL', 'SHREE NARAYANA CENTRAL SCHOOL', 'SHREE NARSINGH AGRASEN VIDYAPEETH', 'SHREE RADHAGOVIND VIDYAMANDIR,NINAT', 'SHREE RAJ RAJESHWARI VIDYA MANDIR', 'SHREE SARASWATI VIDYA MANDIR', 'SHREE SARDAR PATEL PRIMARY SCHOOL', 'SHREE SATYA SAI VIDYALAYA', 'SHREE SHREEJI ENGLISH MEDIUM SCHOOL', 'SHREE SUDHA SAGAR PUBLIC SCHOOL', 'SHREE SWAMINARAYAN ENGLISH MEDIUM  SCHOOL', 'SHREE SWAMINARAYAN ENGLISH MEDIUM SCHOOL', 'SHREE SWAMINARAYAN GOODWILL SCHOOL', 'SHREE SWAMINARAYAN GURUKUL', 'SHREE SWAMINARAYAN GURUKUL GYANBAG INTERNATIONAL SCHOOL', 'SHREE SWAMINARAYAN GURUKUL INTERNATIONAL SCHOOL', 'SHREE SWAMINARAYAN GURUKUL INTERNATIONAL SCHOOL- MORBI', 'SHREE SWAMINARAYAN INTERNATIONAL GUNATIT VIDYADHAM', 'SHREE SWAMINARAYAN INTERNATIONAL SCHOOL', 'SHREE SWAMINARAYAN INTERNATIONAL SCHOOL', 'SHREE SWAMINARAYAN M.G.K.ENGLISH PRIMARY SCHOOL', 'SHREE SWAMINARAYAN PUBLIC SCHOOL', 'SHREE SWAMINARAYAN VIDHYAPEETH', 'SHREE SWAMINARAYAN VIDYALAY', 'SHREE SWAMINARAYAN VIDYAVELI GYAN KENDRA ENGLISH MEDIUM SCHOOL', \"SHREE VALLABH ASHRAM'S MCM KOTHARI INTERNATIONAL GIRLS RESIDENTIAL SCHOOL\", 'SHREE VASHISHTHA VIDHYALAYA', 'SHREE VIDHYA ASHRAM INTERNATIONAL SCHOOL', 'SHREEJI IMAGE PUBLIC SCHOOL', 'SHREEVALLABH ASHRAMS SMT. S P PATEL SCHOOL', 'SHREEVALLABH SANSKAR DHAMS SMT. SHOBHABEN PRATAPBHAI PATEL DAY BOARDING SCHOOL', 'SHREEYA DEVI BHAGIRATH RATHI MAHESHWARI VIDYAPEETH', 'SHRI AGRASEN PUBLIC SCHOOL', 'SHRI AJIT VIDYA MANDIR', 'SHRI B M KYADA SCHOOL', 'SHRI BALAJI ROYAL PUBLIC SCHOOL', 'SHRI BHAWANI NIKETAN PUBLIC SCHOOL', 'SHRI DALMIA GIRLS SR. SEC. SCHOOL', 'SHRI GREEN FARM ENGLISH SCHOOL', 'SHRI GURU HARKRISHAN PUBLIC SCHOOL,ANUPGARH', 'SHRI HANUMAN BUX GOGRAJ BAGARIA SR SEC PUBLIC SCHOOL BAGAR, JHUNJHUNU', 'SHRI HARI RAM SABOO PUBLIC SCHOOL', 'SHRI I B PATEL ANGEL SCHOOL', 'SHRI JAIN ADARSH VIDYA NIKETAN', 'SHRI JAIN PUBLIC SCHOOL', 'SHRI JAIN SHWETAMBER TERAPANTHI SECONDARY SCHOOL', 'SHRI K. G. DHOLAKIYA SCHOOL', 'SHRI LAXMINARAYAN VIDYA PRATHISHTHAN', 'SHRI MAAN SANT ISHAR SINGH JI MAHARAJ ACADEMY, KESRISINGHPUR ROAD KAMINPURA', 'SHRI MAHAVEER INTERNATIOAL SCHOOL', 'SHRI MANGALCHAND DIDWANIYA VIDYA MANDIR', 'SHRI O P JINDAL VIDYA NIKETAN', 'SHRI RADHASWAMI INTERNATIONAL SCHOOL', 'SHRI RAMKRISHNA HARI RAM KRISHNA ACADEMY', 'SHRI RAMRIKHDAS PODDAR BALIKA VIDYA MANDIR SENIOR SECONDRY SCHOOL', 'SHRI SANATAN DHARM HIGHER SECONDARY SCHOOL', 'SHRI SWAMI NARAYAN ACADEMY', 'SHRI SWAMINARAYAN ENGLISH SCHOOL', 'SHRI SWAMINARAYAN GURUKUL PUBLIC SCHOOL', 'SHRI UTTAM PUBLIC SCHOOL', 'SHRI VARDHMAN CONVENT SCHOOL', 'SHRI.L.G.HARIA MULTIPURPOSE SCHOOL', 'SHRIMATI MANIBA CHUNILAL PATEL SANSKAR VIDYA BHAVAN', 'SIGMA SCHOOL OF EXCELLENCE', 'SIKAR GLOBAL RESIDENTIAL SCHOOL', 'SILVER BELLS INTERNATIONAL SCHOOL', 'SILVER BELLS PUBLIC SCHOOL', 'SILVER OAK SCHOOL', 'SILVER STAR CONVENT SCHOOL', 'SINE INTERNATIONAL SCHOOL', 'SINGHANIA GLOBAL ACADEMY', 'SINGHANIA PUBLIC SCHOOL', 'SIR PADAM PAT SINGHANIA SCHOOL', 'SK GREENWOOD SHIKSHAN SANSTAN', 'SKYWINGS INTERNATIONAL SCHOOL', 'SL. KAELEY PENGUIN KIDS SCHOOL', 'SMART STUDY INTERNATIONAL SCHOOL', 'SMT CHAMPAKALI KHERUKA GYANJOTI HIGH SCHOOL', 'SMT CHUNKI DEVI MAHADEO LAL BHOMRAJKA K.V.S PUBLIC SCHOOL', 'SMT GODAVARIBAI RAMDEO PODAR SR SEC SCHOOL', 'SMT K N PATEL INTERNATIONAL SCHOOL', 'SMT SANDRABEN SHROFF GNYAN DHAM SCHOOL', 'SMT SHARDABEN RAMAN BHAI PATEL ENGLISH MED SCHOOL', 'SMT. BHADRABEN BUTALA KALRAV ACADEMY FOR NATIONAL EDUCATION', 'SMT. GANGABEN RAMBHAI BHANABHAI PATEL \" GYAN GANGA ENGLISH MEDIUM SCHOOL\"', 'SMT. JANKI DEVI MANDELIA CO EDUCATIONAL ENGISH MEDIUM SCHOOL,PILANI', 'SMT. KUSUMBEN KADAKIA VIDYALAYA', 'SMT. NEETABEN KUMARBHAI JAVERI ENGLISH MEDIUM SCHOOL', 'SMT.KUNANI BOLA MEMORIAL PUBLIC SCHOOL, MANDELLA', 'SMT.MAINA DEVI MEMORIAL PUBLIC SCHOOL', 'SMT.REVABEN MANORBHAI PATEL NOOTAN GLOBAL SCHOOL', 'SNEH PUBLIC SCHOOL', 'SOHAM INTERNATIONAL SCHOOL', 'SOM-LALIT SCHOOL', 'SOMILA INTERNATIONAL SCHOOL', 'SOMNATH INTERNATIONAL SCHOOL', 'SONI DEVI INTERNATIONAL  SCHOOL', 'SOPHIA GIRLS SECONDARY SCHOOL', \"SOPHIA GIRLS' SENIOR SEC SCHOOL\", 'SOPHIA PUBLIC SENIOR SECONDARY SCHOOL', 'SOPHIA SCHOOL', 'SOPHIA SCHOOL', 'SOPHIA SEC SCHOOL', 'SOPHIA SEC SCHOOL', 'SOPHIA SR SEC SCHOOL', 'SPACE ENGLISH MEDIUM SCHOOL', 'SPANGLE PUBLIC SCHOOL', 'SPRINGDALES CHILDRENS SCHOOL', 'SPRINGDALES SCHOOL', 'SRI AURBINDO CENTRE OF NEW EDUCATION', 'SRI GURU HARKRISHAN PUBLIC SCHOOL', 'SRI GURURAM RAI PUBLIC SCHOOL', 'SRI PARSHWANATH JAIN VIDYALAYA', 'SRI SATHYA SAI VIDYANIKETAN', 'SRI SRI ACADEMY', 'SRI SRI RAVISHANKAR VIDYA MANDIR', 'SRI SRI RAVISHANKAR VIDYA MANDIR', 'SRI SRI RAVISHANKAR VIDYA MANDIR', 'SRM INTERNATIONAL SCHOOL, UDAIPUR', 'SS MODY VIDYA VIHAR', 'SSGM SCHOOL(ENGLISH MEDIUM)', 'SSP INTERNATIONAL SCHOOL', 'SSVM SECONDARY SCHOOL', 'ST ANSELM SCHOOL', 'ST ANSELMS NORTH CITY SCHOOL', \"ST JOHN'S SCHOOL\", 'ST JOHNS SCHOOL', 'ST JOSEPH PUBLIC SCHOOL', \"ST MARY'S CONVENT SCHOOL\", \"ST PAUL'S SCHOOL\", \"ST PAUL'S SCHOOL\", \"ST PAUL'S SCHOOL\", \"ST PAUL'S SENIOR SECONDARY SCHOOL\", 'ST PAULS SCHOOL', 'ST STEPHENS SECONDARY SCHOOL', 'ST TERESA VIDYADEEP', \"ST WILFRED'S SCHOOL\", \"ST XAVIER'S HIGH SCHOOL\", 'ST. ANGELA SOPHIA SR SEC SCHOOL', 'ST. ANNES SR SEC SCHOOL', 'ST. ANSELM SCHOOL', \"ST. ANSELM'S PINK CITY SCHOOL\", \"ST. ANSELM'S SCHOOL\", \"ST. ANSELM'S SCHOOL\", \"ST. ANSELM'S SCHOOL\", \"ST. ANSELM'S SR SEC SCHOOL\", 'ST. ANSELMS ENGLISH MEDIUM SCHOOL', 'ST. ANSELMS SCHOOL', 'ST. ANSELMS SCHOOL', 'ST. ANSELMS SCHOOL', 'ST. ANSELMS SCHOOL, MAKRANA', 'ST. ANSELMS SENIOR SECONDARY SCHOOL', \"ST. ANTHONY'S SR SEC SCHOOL\", 'ST. ANTHONYS CONVENT SCHOOL JODHPUR', \"ST. EDMUND'S SCHOOL\", \"ST. EDMUND'S SCHOOL\", 'ST. FRANCIS DE SALES SCHOOL', 'ST. FRANCIS SCHOOL', 'ST. FRANCIS SCHOOL', 'ST. GREGORIOS SR SEC SCHOOL', 'ST. HRITS VIDYASHRAM', \"ST. JOHN'S SR SEC SCHOOL\", 'ST. JOSEPH CONVENT SCHOOL', 'ST. KABIR INDIAN INTERNATIONAL SCHOOL', 'ST. KABIR SCHOOL, DRIVE IN , AHMEDABAD', 'ST. LAWRENCE PUBLIC SCHOOL', \"ST. LUKE'S SECONDARY SCHOOL\", 'ST. MARY CONVENT SR. SEC SCHOOL', \"ST. MARY'S CONVENT SR SEC SCHOOL\", \"ST. MARY'S SCHOOL\", 'ST. MARYS CONVENT SCHOOL', 'ST. MARYS CONVENT SCHOOL', \"ST. MATHEW'S MISSION SCHOOL\", 'ST. MOTHER TERESA CITY SCHOOL', 'ST. PAUL SCHOOL', 'ST. PAUL SCHOOL,', 'ST. PAUL SENIOR SECONDARY SCHOOL', \"ST. PAUL'S  HR. SEC. SCHOOL\", \"ST. PAUL'S SCHOOL\", \"ST. PAUL'S SCHOOL\", \"ST. PAUL'S SCHOOL\", \"ST. PAUL'S SCHOOL\", \"ST. PAUL'S SCHOOL\", \"ST. PAUL'S SCHOOL\", \"ST. PAUL'S SENIOR SECONDARY SCHOOL\", 'ST. PAULS PUBLIC SCHOOL', 'ST. PAULS SCHOOL', 'ST. PAULS SCHOOL', 'ST. PAULS SCHOOL', 'ST. PAULS SCHOOL, JHALAMAND', 'ST. PAULS SCHOOL, JHALAMAND, JODHPUR', 'ST. PAULS SENIOR SECONDARY SCHOOL', 'ST. PAULS SR SEC SCHOOL', \"ST. PETER'S SCHOOL\", \"ST. SOLDIER'S PUBLIC SCHOOL\", 'ST. TERESA SCHOOL', 'ST. TERESAS SCHOOL', 'ST. THOMAS ENGLISH MEDIUM SCHOOL', 'ST. THOMAS SCHOOL', 'ST. THOMAS SCHOOL', 'ST. VIVEKANAND SR. SEC. SCHOOL', 'ST. XAVIER SCHOOL', \"ST. XAVIER'S SCHOOL\", \"ST. XAVIER'S SCHOOL\", 'ST. XAVIERS  CMI  PUBLIC  SCHOOL', 'ST. XAVIERS SCHOOL, MAHWA', 'ST. XAVIERS SCHOOL, NEVTA - JAIPUR', \"ST.ANN'S SCHOOL\", 'ST.JOSEPHS INTERNATIONAL SCHOOL', \"ST.MARY'S CONVENT SCHOOL\", \"ST.PAUL'SCHOOL\", 'ST.PAULS SCHOOL', 'ST.PAULS SCHOOL,SRISELA-FALNA', \"ST.TERESA'S SCHOOL\", 'ST.XAVIERS SECONDARY SCHOOL', 'STANI MEMORIAL PUBLIC SCHOOL', 'STAR CITY INTRNATIONAL SCHOOL  TARANAGAR', 'STAR PUBLIC SCHOOL', 'STEP AHEAD PUBLIC SCHOOL', 'STEP BY STEP HIGH SCHOOL', 'STEP BY STEP PUBLIC SCHOOL', 'STEP BY STEP PUBLIC SCHOOL ALWAR', 'SUBHASH CONVENT SCHOOL', 'SUBODH PUBLIC SCHOOL', 'SUBODH PUBLIC SCHOOL', 'SUMANT JETHABHAI PATEL ENGLISH MEDIUM SCHOOL', 'SUN VALLEY THE SCHOOL', 'SUNFLOWER ENGLISH SCHOOL', 'SUNFLOWER SCHOOL', 'SUNHILL ACADEMY', 'SUNRISE GLOBAL SCHOOL', 'SUNRISE INTERNATIONAL  PUBLIC SCHOOL', 'SUNRISE PUBLIC SCHOOL', 'SURAJ PUBLIC SCHOOL', 'SURAJ SCHOOL', 'SURAJ SCHOOL', 'SURATGARH PUBLIC SCHOOL', 'SURATGARH THERMAL DAV PUBLIC SCHOOL', 'SURYA INTERNATIONAL SCHOOL', 'SWAMI KESHWANAND CONVENT SCHOOL,', 'SWAMI KESHWANAND MEMORIAL PUB SCHOOL', 'SWAMI NITYANAND INTERNATIONAL ACADEMY', 'SWAMI RAM NARAYAN RSV SCHOOL', 'SWAMI VIVEKANAND ACADEMY', 'SWAMI VIVEKANAND FOVT MODEL SCHOOL', 'SWAMI VIVEKANAND GOVERMENT MODEL SCHOOL', 'SWAMI VIVEKANAND GOVERNMENT MODEL SCHOOL', 'SWAMI VIVEKANAND GOVERNMENT MODEL SCHOOL', 'SWAMI VIVEKANAND GOVERNMENT MODEL SCHOOL', 'SWAMI VIVEKANAND GOVERNMENT MODEL SCHOOL', 'SWAMI VIVEKANAND GOVERNMENT MODEL SCHOOL', 'SWAMI VIVEKANAND GOVERNMENT MODEL SCHOOL', 'SWAMI VIVEKANAND GOVERNMENT MODEL SCHOOL', 'SWAMI VIVEKANAND GOVERNMENT MODEL SCHOOL', 'SWAMI VIVEKANAND GOVERNMENT MODEL SCHOOL', 'SWAMI VIVEKANAND GOVERNMENT MODEL SCHOOL', 'SWAMI VIVEKANAND GOVERNMENT MODEL SCHOOL', 'SWAMI VIVEKANAND GOVERNMENT MODEL SCHOOL', 'SWAMI VIVEKANAND GOVERNMENT MODEL SCHOOL', 'SWAMI VIVEKANAND GOVERNMENT MODEL SCHOOL', 'SWAMI VIVEKANAND GOVERNMENT MODEL SCHOOL', 'SWAMI VIVEKANAND GOVERNMENT MODEL SCHOOL', 'SWAMI VIVEKANAND GOVERNMENT MODEL SCHOOL', 'SWAMI VIVEKANAND GOVERNMENT MODEL SCHOOL', 'SWAMI VIVEKANAND GOVERNMENT MODEL SCHOOL', 'SWAMI VIVEKANAND GOVERNMENT MODEL SCHOOL', 'SWAMI VIVEKANAND GOVERNMENT MODEL SCHOOL', 'SWAMI VIVEKANAND GOVERNMENT MODEL SCHOOL', 'SWAMI VIVEKANAND GOVERNMENT MODEL SCHOOL', 'SWAMI VIVEKANAND GOVERNMENT MODEL SCHOOL', 'SWAMI VIVEKANAND GOVERNMENT MODEL SCHOOL', 'SWAMI VIVEKANAND GOVERNMENT MODEL SCHOOL', 'SWAMI VIVEKANAND GOVERNMENT MODEL SCHOOL', 'SWAMI VIVEKANAND GOVERNMENT MODEL SCHOOL', 'SWAMI VIVEKANAND GOVERNMENT MODEL SCHOOL', 'SWAMI VIVEKANAND GOVERNMENT MODEL SCHOOL', 'SWAMI VIVEKANAND GOVERNMENT MODEL SCHOOL', 'SWAMI VIVEKANAND GOVERNMENT MODEL SCHOOL', 'SWAMI VIVEKANAND GOVERNMENT MODEL SCHOOL', 'SWAMI VIVEKANAND GOVERNMENT MODEL SCHOOL', 'SWAMI VIVEKANAND GOVERNMENT MODEL SCHOOL', 'SWAMI VIVEKANAND GOVERNMENT MODEL SCHOOL', 'SWAMI VIVEKANAND GOVERNMENT MODEL SCHOOL', 'SWAMI VIVEKANAND GOVERNMENT MODEL SCHOOL', 'SWAMI VIVEKANAND GOVERNMENT MODEL SCHOOL', 'SWAMI VIVEKANAND GOVERNMENT MODEL SCHOOL', 'SWAMI VIVEKANAND GOVERNMENT MODEL SCHOOL', 'SWAMI VIVEKANAND GOVERNMENT MODEL SCHOOL', 'SWAMI VIVEKANAND GOVERNMENT MODEL SCHOOL', 'SWAMI VIVEKANAND GOVERNMENT MODEL SCHOOL', 'SWAMI VIVEKANAND GOVERNMENT MODEL SCHOOL', 'SWAMI VIVEKANAND GOVERNMENT MODEL SCHOOL', 'SWAMI VIVEKANAND GOVERNMENT MODEL SCHOOL', 'SWAMI VIVEKANAND GOVERNMENT MODEL SCHOOL', 'SWAMI VIVEKANAND GOVERNMENT MODEL SCHOOL', 'SWAMI VIVEKANAND GOVERNMENT MODEL SCHOOL,', 'SWAMI VIVEKANAND GOVERNMENT MODEL SCHOOL,', 'SWAMI VIVEKANAND GOVT MODEL SCHOOL', 'SWAMI VIVEKANAND GOVT MODEL SCHOOL', 'SWAMI VIVEKANAND GOVT MODEL SCHOOL', 'SWAMI VIVEKANAND GOVT MODEL SCHOOL', 'SWAMI VIVEKANAND GOVT MODEL SCHOOL', 'SWAMI VIVEKANAND GOVT MODEL SCHOOL', 'SWAMI VIVEKANAND GOVT MODEL SCHOOL', 'SWAMI VIVEKANAND GOVT MODEL SCHOOL', 'SWAMI VIVEKANAND GOVT MODEL SCHOOL', 'SWAMI VIVEKANAND GOVT MODEL SCHOOL', 'SWAMI VIVEKANAND GOVT MODEL SCHOOL', 'SWAMI VIVEKANAND GOVT MODEL SCHOOL', 'SWAMI VIVEKANAND GOVT MODEL SCHOOL', 'SWAMI VIVEKANAND GOVT MODEL SCHOOL', 'SWAMI VIVEKANAND GOVT MODEL SCHOOL', 'SWAMI VIVEKANAND GOVT MODEL SCHOOL', 'SWAMI VIVEKANAND GOVT MODEL SCHOOL', 'SWAMI VIVEKANAND GOVT MODEL SCHOOL', 'SWAMI VIVEKANAND GOVT MODEL SCHOOL', 'SWAMI VIVEKANAND GOVT MODEL SCHOOL', 'SWAMI VIVEKANAND GOVT MODEL SCHOOL', 'SWAMI VIVEKANAND GOVT MODEL SCHOOL', 'SWAMI VIVEKANAND GOVT MODEL SCHOOL', 'SWAMI VIVEKANAND GOVT MODEL SCHOOL', 'SWAMI VIVEKANAND GOVT MODEL SCHOOL', 'SWAMI VIVEKANAND GOVT MODEL SCHOOL', 'SWAMI VIVEKANAND GOVT MODEL SCHOOL', 'SWAMI VIVEKANAND GOVT MODEL SCHOOL', 'SWAMI VIVEKANAND GOVT MODEL SCHOOL', 'SWAMI VIVEKANAND GOVT MODEL SCHOOL', 'SWAMI VIVEKANAND GOVT MODEL SCHOOL', 'SWAMI VIVEKANAND GOVT MODEL SCHOOL', 'SWAMI VIVEKANAND GOVT MODEL SCHOOL', 'SWAMI VIVEKANAND GOVT MODEL SCHOOL', 'SWAMI VIVEKANAND GOVT MODEL SCHOOL', 'SWAMI VIVEKANAND GOVT MODEL SCHOOL', 'SWAMI VIVEKANAND GOVT MODEL SCHOOL', 'SWAMI VIVEKANAND GOVT MODEL SCHOOL', 'SWAMI VIVEKANAND GOVT MODEL SCHOOL', 'SWAMI VIVEKANAND GOVT MODEL SCHOOL', 'SWAMI VIVEKANAND GOVT MODEL SCHOOL', 'SWAMI VIVEKANAND GOVT MODEL SCHOOL', 'SWAMI VIVEKANAND GOVT MODEL SCHOOL', 'SWAMI VIVEKANAND GOVT MODEL SCHOOL', 'SWAMI VIVEKANAND GOVT MODEL SCHOOL', 'SWAMI VIVEKANAND GOVT MODEL SCHOOL', 'SWAMI VIVEKANAND GOVT MODEL SCHOOL', 'SWAMI VIVEKANAND GOVT MODEL SCHOOL', 'SWAMI VIVEKANAND GOVT MODEL SCHOOL', 'SWAMI VIVEKANAND GOVT MODEL SCHOOL', 'SWAMI VIVEKANAND GOVT MODEL SCHOOL', 'SWAMI VIVEKANAND GOVT MODEL SCHOOL', 'SWAMI VIVEKANAND GOVT MODEL SCHOOL', 'SWAMI VIVEKANAND GOVT MODEL SCHOOL', 'SWAMI VIVEKANAND GOVT MODEL SCHOOL', 'SWAMI VIVEKANAND GOVT MODEL SCHOOL', 'SWAMI VIVEKANAND GOVT MODEL SCHOOL', 'SWAMI VIVEKANAND GOVT MODEL SCHOOL', 'SWAMI VIVEKANAND GOVT MODEL SCHOOL', 'SWAMI VIVEKANAND GOVT MODEL SCHOOL', 'SWAMI VIVEKANAND GOVT MODEL SCHOOL', 'SWAMI VIVEKANAND GOVT MODEL SCHOOL', 'SWAMI VIVEKANAND GOVT MODEL SCHOOL', 'SWAMI VIVEKANAND GOVT MODEL SCHOOL', 'SWAMI VIVEKANAND GOVT MODEL SCHOOL', 'SWAMI VIVEKANAND GOVT MODEL SCHOOL', 'SWAMI VIVEKANAND GOVT MODEL SCHOOL', 'SWAMI VIVEKANAND GOVT MODEL SCHOOL', 'SWAMI VIVEKANAND GOVT MODEL SCHOOL(GHOTOD)', 'SWAMI VIVEKANAND GOVT. MODEL SCHOOL', 'SWAMI VIVEKANAND GOVT. MODEL SCHOOL', 'SWAMI VIVEKANAND GOVT. MODEL SCHOOL', 'SWAMI VIVEKANAND GOVT. MODEL SCHOOL', 'SWAMI VIVEKANAND GOVT. MODEL SCHOOL', 'SWAMI VIVEKANAND GOVT. MODEL SCHOOL', 'SWAMI VIVEKANAND GOVT. MODEL SCHOOL', 'SWAMI VIVEKANAND GOVT. MODEL SCHOOL', 'SWAMI VIVEKANAND GOVT. MODEL SCHOOL', 'SWAMI VIVEKANAND GOVT. MODEL SCHOOL', 'SWAMI VIVEKANAND GOVT. MODEL SCHOOL', 'SWAMI VIVEKANAND GOVT. MODEL SCHOOL', 'SWAMI VIVEKANAND PUBLIC SCHOOL', 'SWAMINARAYAN VIDYAPITH', 'SWASTIK SCHOOL', 'T N RAO SCHOOL FOR GIRLS', 'T.M.PATEL INTERNATIONAL SCHOOL', 'TAGORE ENGLISH ACADEMY', 'TAGORE INTERNATIONAL SCHOOL', 'TAGORE INTERNATIONAL SCHOOL', 'TAGORE INTERNATIONAL SCHOOL', 'TAGORE PUBLIC SCHOOL', 'TAGORE PUBLIC SCHOOL', 'TAGORE PUBLIC SCHOOL', 'TAGORE PUBLIC SCHOOL , NIMBIJODHA', 'TAGORE PUBLIC SCHOOL,', 'TAGORE PUBLIC SENIOR SECONDARY SCHOOL, SURAJGARH', 'TAJ GLOBAL ACADEMY', 'TAK SHIKSHA NIKETAN', 'TAKSHASHILA INTERNATIONAL SCHOOL', 'TAKSHILA PUBLIC SCHOOL, HAMJAPUR,BEHROR', 'TANNA ENGLISH MEDIUM SCHOOL', 'TAPOVAN INTERNATIONAL SCHOOL', 'TAPOVAN SANSKARDHAM VIDHYALAYA (ENG.MED.)', 'TAPOVAN VIDHYALAY', 'TAPOVAN VIDHYALAY', 'TAPTI VALLEY INTERNATIONAL SCHOOL', 'TATA CHEM DAV PUBLIC SCHOOL', 'TEOLER HIGH SCHOOL', 'THAR SCHOOL', 'THE ADITYA BIRLA PUBLIC SCHOOL', 'THE ADITYA BIRLA PUBLIC SCHOOL', 'THE ADITYA BIRLA PUBLIC SCHOOL', 'THE ADITYA BIRLA PUBLIC SCHOOL', 'THE AGRATHA ACADEMY', 'THE ANKUR SECONDARY SCHOOL', 'THE ASHIANA SCHOOL', 'THE ASIA PACIFIC CONVENT SCHOOL', 'THE ASIAN INTERNATIONAL SCHOOL', 'THE BOHRAS GLOBAL SCHOOL', 'THE H. B. KAPADIA NEW HIGH SCHOOL', 'THE H. B. KAPADIA NEW HIGH SCHOOL', 'THE IMPERIAL SCHOOL', 'THE JAIPUR PUBLIC SCHOOL', 'THE KIDS SCHOOL', 'THE LORD KRISHNA SCHOOL', 'THE MAPLE INTERNATIONAL SCHOOL', 'THE MATSYA SCHOOL , BANSUR', 'THE MILLENNIUM SCHOOL', 'THE MILLENNIUM SCHOOL SURAT', 'THE MODERN SCHOOL', 'THE MOTHERS INTERNATIONAL SCHOOL', 'THE MOTHERS INTERNATIONAL SCHOOL', 'THE NEW TULIP INTERNATIONAL SCHOOL', 'THE NOBLE SCHOLAR ACADEMY', 'THE NOBLES SCHOOL', 'THE PALACE SCHOOL', 'THE PARAMOUNT PUBLIC SCHOOL', 'THE RADIANT INTERNATIONAL SCHOOL', 'THE RAJASTHAN SCHOOL', 'THE SAGAR SCHOOL', 'THE SANSKRITI A GLOBAL SCHOOL', 'THE SCHOLARSARENA SECONDARY SCHOOL', 'THE SHANTI NIKETAN', 'THE STAR ACADEMY SANSTHAN', 'THE STUDY', 'THE SUMAN NIRMAL MINDA SCHOOL', 'THE SUNSHINE INTERNATIONAL SCHOOL', 'THE TAGORE SCHOOL', 'THE TRIGAT SCHOOL', 'THE TURNING POINT PUBLIC SCHOOL', 'THE UMMED INTERNATIONAL SCHOOL', 'THE UMMED SCHOOL', 'THE VIBRANT ACADEMY,KEKRI', 'THE VISION ACADEMY SCHOOL- A UNIT OF RMV', 'THE WESTWOOD SCHOOL', 'THE WHITE EAGLE SCHOOL', 'TILAK GLOBAL SCHOOL', 'TILAK PUBLIC SCHOOL', 'TIMES PUBLIC SCHOOL', 'TINY TOTS SCHOOL', 'TINY TOTS SCHOOL', 'TIRUPATI INTERNATIONAL SCHOOL', 'TM INTERNATIONAL SCHOOL', 'TOPPERS ACADEMY, SANCHORE', 'TREE HOUSE HIGH SCHOOL', 'TREE HOUSE HIGH SCHOOL', 'TREE HOUSE HIGH SCHOOL', 'TRIPADA ENGLISH SCHOOL', 'TRIPADA GURUKULAM ENGLISH SCHOOL', 'TRIPADA SINGAPORE INTERNATIONALE’ SCHOOL', 'TRM PUBLIC SCHOOL, BINASAR, CHURU', 'U.S.OSTWAL INTERNATIONAL SCHOOL', 'UDGAM SCHOOL FOR CHILDREN', 'UNIQUE PUBLIC SCHOOL', 'UNIVERSE PUBLIC SCHOOL', 'UNIVERSITY INNOVATIVE SCHOOL', 'UNNATI ENGLISH ACADEMY', 'UNNATI ENGLISH ACADEMY', 'URMI SCHOOL', \"UTOPIA COL SATSANGI'S KIRAN MEMORIAL\", 'UTTHAN SEWA SANTHAN-ANAND NIKETAN MANINAGAR', 'V CARE INTERNATIONAL SCHOOL', 'V M PUBLIC SCHOOL', 'V.S.G. INTERNATIONAL SCHOOL', 'VADANTA INTERNATIONAL  SCHOOL', \"VALLABH ASHRAM'S M G M AMIN & V N SAVANI SCHOOL\", 'VARDA SMART SCHOOL', 'VARDHMAN INTERNATIONAL SCHOOL', 'VARDHMAN SRIKALYAN INTERNATIONAL  SCHOOL', 'VASANTIBEN AND CHANDUBHAI PATEL ENGLISH SCHOOL', 'VASISHTHA GENESIS SCHOOL', 'VATSALYA INTERNATIONAL SCHOOL', 'VATSALYA INTERNATIONAL SCHOOL', 'VEDAANT MULTIPURPOSE SCHOOL', 'VEDANT INTERNATIONAL SCHOOL', 'VEDANT INTERNATIONAL SCHOOL', 'VEDANT INTRERNATIONAL SCHOOL', 'VEENA MEMORIAL SR. SEC. SCHOOL', 'VEER NEW LOOK CENTRAL SCHOOL', 'VIBGYOR HIGH', 'VIBGYOR HIGH INTERNATIONAL SCHOOL', 'VIBRANT INTERNATIONAL ACADEMY', 'VIBRANT INTERNATIONAL ACADEMY', 'VIBRANT INTERNATIONAL ACADEMY,', 'VIBRANT WAVES INTERNATIONAL ACADEMY', 'VIBRANT WAVES INTERNATIONAL ACADEMY', 'VIBRANT WAVES INTERNATIONAL ACADEMY', 'VIDHYA SAGAR SENIOR SECONDARY SCHOOL', 'VIDHYANJALI ACADEMY', 'VIDHYASHRAM INTERNATIONAL SCHOOL', 'VIDHYASTHALI INTERNATIONAL SCHOOL', 'VIDYA BHARTI PUBLIC SCHOOL', 'VIDYA BHAWAN PUBLIC SCHOOL', 'VIDYA DHAM INTERNATIONAL SCHOOL', 'VIDYA GLOBAL SCHOOL', 'VIDYA GRAM INTERNATIONAL SCHOOL', 'VIDYA MANDIR SR SECONDARY SCHOOL', 'VIDYA NIKETAN (BIRLA PUBLIC SCHOOL)', 'VIDYASHAM PUBLIC SCHOOL', 'VIDYASTHALI PUBLIC SCHOOL', 'VIDYASTHALI PUBLIC SCHOOL', 'VIDYASTHALI PUBLIC SCHOOL', 'VIJAY CENTRAL ACADEMY PUBLIC SCHOOL', 'VIJAY LAXMI INTERNATIONAL SCHOOL', 'VIJAY LAXMI MEMORIAL PUBLIC SCHOOL', 'VIKAS INTERNATIONAL SCHOOL', 'VIMAL VIDYA VIHAR SENIOR SECONDARY SCHOOL', 'VINAY INTERNATIONAL SCHOOL', 'VINAYAK INTERNATIONAL SCHOOL', 'VINAYAK INTERNATIONAL SCHOOL', 'VINAYAK INTERNATIONAL SCHOOL', 'VINAYAK INTERNATIONAL SCHOOL', 'VIP INTERNATIONAL SCHOOL', 'VIRASAT VIDYAPEETH', 'VISHVANIKETAN SHANTI ASIATIC SCHOOL', 'VISHWA BHARTI GIRLS INTERNATIONAL SCHOOL', 'VISHWA BHARTI SR. SEC. SCHOOL', 'VISION INTERNATIONAL SCHOOL OF EXCELLENCE', 'VIVEK TECHNO SCHOOL', 'VIVEK TECHNO SCHOOL', 'VIVEK TECHNO SCHOOL,NAGAUR', 'VIVEKANAND CONVENT SCHOOL', 'VIVEKANAND MEMORIAL PUBLIC SCHOOL', 'VIVEKANAND SENIOR HIGHER SECONDARY SCHOOL', 'VIVEKANANDA KENDRA VIDYALAYA', 'VIVEKANANDA KENDRA VIDYALAYA', 'VIVEKANANDA PUBLIC SCHOOL', 'VIVEKNANAD PUBLIC SCHOOL KATOPUR', 'VRAJBHOOMI INTERNATIONAL SCHOOL', 'VRINDAVAN INTERNATIONAL PUBLIC SCHOOL', 'VRINDAVAN PUBLIC SCHOOL', 'VSPK INTERNATIONAL SCHOOL', 'VYAPAR MANDAL PUBLIC SCHOOL', 'WARREN ACADEMY SCHOOL', 'WELSPUN VIDYA MANDIR', 'WESTERN RAILWAY SCHOOL(EN)', 'WHITE HOUSE PUBLIC SCHOOL', 'WHITE HOUSE PUBLIC SCHOOL, SIRACHA', 'WHITE LOTUS INTERNATIONAL SCHOOL', 'WITTY INTERNATIONAL SCHOOL', 'WITTY INTERNATIONAL SCHOOL', 'WORLD SUNRISE PUBLIC SCHOOL', 'YAGYAVALKYA VIDYA MANDIR', 'YOGIRAJ PUBLIC SCHOOL', 'YUGANTAR INTERNATIONAL SCHOOL', 'ZEBAR SCHOOL FOR CHILDREN', 'ZEE SCHOOL, BHILWARA', 'ZEN SCHOOL', 'ZINC VIDYALAYA', 'ZYDUS SCHOOL FOR EXCELLENCE']\n"
     ]
    }
   ],
   "source": [
    "Ajmerschools=[]\n",
    "for i in range(1,len(Ajmerschool),2):\n",
    "    Ajmerschools.append(Ajmerschool[i].split('Head/Principal')[0].strip())\n",
    "print(Ajmerschools)"
   ]
  },
  {
   "cell_type": "code",
   "execution_count": 40,
   "metadata": {},
   "outputs": [
    {
     "output_type": "execute_result",
     "data": {
      "text/plain": [
       "2364"
      ]
     },
     "metadata": {},
     "execution_count": 40
    }
   ],
   "source": [
    "len(Ajmerschools)"
   ]
  },
  {
   "cell_type": "code",
   "execution_count": 30,
   "metadata": {},
   "outputs": [
    {
     "output_type": "execute_result",
     "data": {
      "text/plain": [
       "2365"
      ]
     },
     "metadata": {},
     "execution_count": 30
    }
   ],
   "source": [
    "Ajmerpname=AJMERtext.split('Head/Principal Name:')\n",
    "len(Ajmerpname)"
   ]
  },
  {
   "cell_type": "code",
   "execution_count": 31,
   "metadata": {},
   "outputs": [
    {
     "output_type": "stream",
     "name": "stdout",
     "text": [
      "2364\n"
     ]
    }
   ],
   "source": [
    "AjmerPname=[]\n",
    "for i in range(1,len(Ajmerpname)):\n",
    "    AjmerPname.append(Ajmerpname[i].split('Status of the School')[0].strip())\n",
    "print(len(AjmerPname))"
   ]
  },
  {
   "cell_type": "code",
   "execution_count": 32,
   "metadata": {},
   "outputs": [
    {
     "output_type": "execute_result",
     "data": {
      "text/plain": [
       "2365"
      ]
     },
     "metadata": {},
     "execution_count": 32
    }
   ],
   "source": [
    "Ajmerphno=AJMERtext.split('Phone No:')\n",
    "len(Ajmerphno)"
   ]
  },
  {
   "cell_type": "code",
   "execution_count": 33,
   "metadata": {},
   "outputs": [
    {
     "output_type": "stream",
     "name": "stdout",
     "text": [
      "2364\n"
     ]
    }
   ],
   "source": [
    "AjmerPhno=[]\n",
    "for i in range(1,len(Ajmerphno)):\n",
    "    AjmerPhno.append(Ajmerphno[i].split(' Email:')[0].strip())\n",
    "print(len(AjmerPhno))"
   ]
  },
  {
   "cell_type": "code",
   "execution_count": 34,
   "metadata": {},
   "outputs": [
    {
     "output_type": "stream",
     "name": "stdout",
     "text": [
      "2364\n"
     ]
    }
   ],
   "source": [
    "Ajmerph=[]\n",
    "for i in AjmerPhno:\n",
    "   Ajmerph.append(re.sub('\\s+','',i))\n",
    "print(len(Ajmerph))"
   ]
  },
  {
   "cell_type": "code",
   "execution_count": 35,
   "metadata": {},
   "outputs": [
    {
     "output_type": "execute_result",
     "data": {
      "text/plain": [
       "2365"
      ]
     },
     "metadata": {},
     "execution_count": 35
    }
   ],
   "source": [
    "Ajmeremail=AJMERtext.split('Email:')\n",
    "len(Ajmeremail)"
   ]
  },
  {
   "cell_type": "code",
   "execution_count": 36,
   "metadata": {},
   "outputs": [
    {
     "output_type": "stream",
     "name": "stdout",
     "text": [
      "2364\n"
     ]
    }
   ],
   "source": [
    "AjmerEmail=[]\n",
    "for i in range(1,len(Ajmeremail)):\n",
    "    AjmerEmail.append(Ajmeremail[i].split('Website:')[0].strip())\n",
    "print(len(AjmerEmail))"
   ]
  },
  {
   "cell_type": "code",
   "execution_count": 41,
   "metadata": {},
   "outputs": [
    {
     "output_type": "stream",
     "name": "stdout",
     "text": [
      "2364\n<class 'list'>\n2364\n<class 'list'>\n2364\n<class 'list'>\n2364\n<class 'list'>\n"
     ]
    }
   ],
   "source": [
    "print(len(Ajmerschools))\n",
    "print(type(Ajmerschools))\n",
    "print(len(AjmerPname))\n",
    "print(type(AjmerPname))\n",
    "print(len(Ajmerph))\n",
    "print(type(Ajmerph))\n",
    "print(len(AjmerEmail))\n",
    "print(type(AjmerEmail))"
   ]
  },
  {
   "cell_type": "code",
   "execution_count": 42,
   "metadata": {},
   "outputs": [],
   "source": [
    "import csv\n",
    "outputFile = open('AJMERcbse.csv', 'w', newline='')\n",
    "outputWriter = csv.writer(outputFile)\n",
    "\n",
    "outputWriter.writerow(['school name', 'principal name','contact no','email'])\n",
    "for i in range (len(Ajmerschools)):\n",
    "    scname=Ajmerschools[i]\n",
    "    princiname=AjmerPname[i]\n",
    "    phno=Ajmerph[i]\n",
    "    email1=AjmerEmail[i]\n",
    "    outputWriter.writerow([scname,princiname,phno,email1])\n",
    "outputFile.close()"
   ]
  },
  {
   "cell_type": "code",
   "execution_count": null,
   "metadata": {},
   "outputs": [],
   "source": []
  }
 ],
 "metadata": {
  "language_info": {
   "codemirror_mode": {
    "name": "ipython",
    "version": 3
   },
   "file_extension": ".py",
   "mimetype": "text/x-python",
   "name": "python",
   "nbconvert_exporter": "python",
   "pygments_lexer": "ipython3",
   "version": "3.8.4-final"
  },
  "orig_nbformat": 2,
  "kernelspec": {
   "name": "python38432bitfa610af8af154bb2a476cab15e1ae2cd",
   "display_name": "Python 3.8.4 32-bit",
   "language": "python"
  }
 },
 "nbformat": 4,
 "nbformat_minor": 2
}