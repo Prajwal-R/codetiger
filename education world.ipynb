{
 "cells": [
  {
   "cell_type": "code",
   "execution_count": 1,
   "metadata": {},
   "outputs": [
    {
     "name": "stdout",
     "output_type": "stream",
     "text": [
      "Requirement already satisfied: selenium in c:\\users\\hp\\anaconda3\\lib\\site-packages (3.141.0)\n",
      "Requirement already satisfied: urllib3 in c:\\users\\hp\\anaconda3\\lib\\site-packages (from selenium) (1.24.2)\n"
     ]
    }
   ],
   "source": [
    "!pip install selenium"
   ]
  },
  {
   "cell_type": "code",
   "execution_count": 5,
   "metadata": {},
   "outputs": [],
   "source": [
    "from selenium.webdriver.support.select import Select\n",
    "from selenium import webdriver\n",
    "import pandas as pd\n",
    "import requests,bs4,webbrowser,csv,re\n",
    "driver=webdriver.Chrome()\n",
    "driver.get('https://www.educationworld.in/schools/')\n",
    "\n",
    "#sel = Select(driver.find_element_by_xpath(\"//select[@name='rev_sub']\"))\n",
    "#sel.select_by_visible_text(\"Thiruvananthapuram\")\n",
    "\n",
    "radio =driver.find_element_by_id(\"onesignal-slidedown-cancel-button\")\n",
    "radio.click()"
   ]
  },
  {
   "cell_type": "code",
   "execution_count": null,
   "metadata": {},
   "outputs": [],
   "source": []
  }
 ],
 "metadata": {
  "kernelspec": {
   "display_name": "Python 3",
   "language": "python",
   "name": "python3"
  },
  "language_info": {
   "codemirror_mode": {
    "name": "ipython",
    "version": 3
   },
   "file_extension": ".py",
   "mimetype": "text/x-python",
   "name": "python",
   "nbconvert_exporter": "python",
   "pygments_lexer": "ipython3",
   "version": "3.7.4"
  }
 },
 "nbformat": 4,
 "nbformat_minor": 2
}
