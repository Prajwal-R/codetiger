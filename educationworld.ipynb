{
 "metadata": {
  "language_info": {
   "codemirror_mode": {
    "name": "ipython",
    "version": 3
   },
   "file_extension": ".py",
   "mimetype": "text/x-python",
   "name": "python",
   "nbconvert_exporter": "python",
   "pygments_lexer": "ipython3",
   "version": "3.8.4-final"
  },
  "orig_nbformat": 2,
  "kernelspec": {
   "name": "python3",
   "display_name": "Python 3.8.4 32-bit",
   "metadata": {
    "interpreter": {
     "hash": "c32d0970f46ac7ea4d9ebd62cab712de4ff9287014d2891580753d30ccb56751"
    }
   }
  }
 },
 "nbformat": 4,
 "nbformat_minor": 2,
 "cells": [
  {
   "cell_type": "code",
   "execution_count": 70,
   "metadata": {},
   "outputs": [],
   "source": [
    "import time"
   ]
  },
  {
   "cell_type": "code",
   "execution_count": 71,
   "metadata": {},
   "outputs": [],
   "source": [
    "from selenium.webdriver.support.select import Select\n",
    "from selenium import webdriver\n",
    "import pandas as pd\n",
    "import requests,bs4,webbrowser,csv,re\n",
    "driver=webdriver.Chrome()\n",
    "driver.get('https://www.educationworld.in/schools/')\n",
    "time.sleep(5) #wait for 5 secs,so that pop up message appears\n",
    "radio =driver.find_element_by_id(\"onesignal-slidedown-cancel-button\")\n",
    "radio.click()"
   ]
  },
  {
   "cell_type": "code",
   "execution_count": 44,
   "metadata": {},
   "outputs": [
    {
     "output_type": "stream",
     "name": "stdout",
     "text": [
      "19\n"
     ]
    }
   ],
   "source": [
    "#code to get links of all schools from one page\n",
    "links=driver.find_elements_by_link_text(\"more\")\n",
    "print(len(links))"
   ]
  },
  {
   "cell_type": "code",
   "execution_count": 45,
   "metadata": {},
   "outputs": [],
   "source": [
    "#code to get links of all schools from one page into a list\n",
    "listoflinks=[]\n",
    "for lnk in links:\n",
    "    listoflinks.append(lnk.get_attribute('href'))"
   ]
  },
  {
   "cell_type": "code",
   "execution_count": 46,
   "metadata": {},
   "outputs": [
    {
     "output_type": "stream",
     "name": "stdout",
     "text": [
      "['https://www.educationworld.in/aspee-nutan-academy-malad-west-mumbai/', 'https://www.educationworld.in/shiksha-valley-school-dibrugarh-assam/', 'https://www.educationworld.in/chaman-bhartiya-school-bengaluru/', 'https://www.educationworld.in/suchitra-academy-hyderabad/', 'https://www.educationworld.in/ssvm-school-of-excellence-coimbatore/', 'https://www.educationworld.in/ssvm-world-school-coimbatore/', 'https://www.educationworld.in/reeds-world-school-coimbatore/', 'https://www.educationworld.in/shree-sarasswathi-vidhyaah-mandheer-school-mettupalayam/', 'https://www.educationworld.in/seth-mr-jaipuria-school-lucknow/', 'https://www.educationworld.in/jbcn-international-school-chembur/', 'https://www.educationworld.in/jbcn-international-school-borivali/', 'https://www.educationworld.in/jbcn-international-school-oshiwara/', 'https://www.educationworld.in/nirmal-bhartia-school-dwarka-new-delhi/', 'https://www.educationworld.in/the-hyderabad-public-school-kadapa/', 'https://www.educationworld.in/shri-ram-global-school-greater-noida-west/', 'https://www.educationworld.in/best-schools-in-india/...%20%3Ca%20href=', 'https://www.educationworld.in/gurukul-the-school-ghaziabad/', 'https://www.educationworld.in/mukarram-jah-school-hyderabad/', 'https://www.educationworld.in/hyderabad-public-school-begumpet-2/']\n"
     ]
    }
   ],
   "source": [
    "print(listoflinks)"
   ]
  },
  {
   "cell_type": "code",
   "execution_count": 57,
   "metadata": {},
   "outputs": [
    {
     "output_type": "stream",
     "name": "stdout",
     "text": [
      "['info@aspeenutanacademy.org', 'enquiry@shikshavalleyschool.org']\n[' 022 28020313/ 022 28079933', ' +9107575990011, +9107575990022']\n"
     ]
    }
   ],
   "source": [
    "#code to get info of first 2 schools in one page\n",
    "email=[]\n",
    "contact=[]\n",
    "for i in range(2):\n",
    "    driver.get(listoflinks[i])\n",
    "    #info=driver.find_element_by_class_name('information-box')\n",
    "    #print(info)\n",
    "    Email=driver.find_element_by_xpath(\"//div[@class='information-box']/h4[3]\")\n",
    "    email.append(Email.text[8:])\n",
    "    Contact=driver.find_element_by_xpath(\"//div[@class='information-box']/h4[4]\")\n",
    "    contact.append(Contact.text[9:])\n",
    "print(email)\n",
    "print(contact)\n",
    "    #rawtext.append()\n",
    "    #driver.back()"
   ]
  },
  {
   "cell_type": "code",
   "execution_count": 67,
   "metadata": {},
   "outputs": [],
   "source": [
    "#code to Click the next page button\n",
    "driver.find_element_by_class_name('nextpostslink').click()"
   ]
  },
  {
   "cell_type": "code",
   "execution_count": 83,
   "metadata": {},
   "outputs": [
    {
     "output_type": "stream",
     "name": "stdout",
     "text": [
      "[<selenium.webdriver.remote.webelement.WebElement (session=\"35c91128fc45fd053b5ef030d818dd4c\", element=\"f1e0ad1d-65f1-4c87-b177-803c289240cb\")>, <selenium.webdriver.remote.webelement.WebElement (session=\"35c91128fc45fd053b5ef030d818dd4c\", element=\"39878fca-e663-44d5-9df4-7a1e57cdae03\")>, <selenium.webdriver.remote.webelement.WebElement (session=\"35c91128fc45fd053b5ef030d818dd4c\", element=\"73149d36-7a9b-427a-a6d0-90ae8cd6ee39\")>, <selenium.webdriver.remote.webelement.WebElement (session=\"35c91128fc45fd053b5ef030d818dd4c\", element=\"ccf3b9e0-fa05-465c-b670-6912dda4e85e\")>, <selenium.webdriver.remote.webelement.WebElement (session=\"35c91128fc45fd053b5ef030d818dd4c\", element=\"609b0969-52a7-453d-80dd-80d3b4a61c1c\")>, <selenium.webdriver.remote.webelement.WebElement (session=\"35c91128fc45fd053b5ef030d818dd4c\", element=\"0460041f-90ca-4692-84b0-5276521f51cd\")>, <selenium.webdriver.remote.webelement.WebElement (session=\"35c91128fc45fd053b5ef030d818dd4c\", element=\"776af1bc-58ed-4a55-b409-d5c1d38cec37\")>, <selenium.webdriver.remote.webelement.WebElement (session=\"35c91128fc45fd053b5ef030d818dd4c\", element=\"fbbddaab-9a20-4d2e-909b-39cebc1465d6\")>, <selenium.webdriver.remote.webelement.WebElement (session=\"35c91128fc45fd053b5ef030d818dd4c\", element=\"d11ce61d-8ce4-4234-bbe2-5cade7e16671\")>, <selenium.webdriver.remote.webelement.WebElement (session=\"35c91128fc45fd053b5ef030d818dd4c\", element=\"9336c051-8a1e-4146-ab2f-1f5b7d297a1f\")>, <selenium.webdriver.remote.webelement.WebElement (session=\"35c91128fc45fd053b5ef030d818dd4c\", element=\"40d4a276-cbb1-4386-be34-46f23846e28e\")>, <selenium.webdriver.remote.webelement.WebElement (session=\"35c91128fc45fd053b5ef030d818dd4c\", element=\"07bd8374-69db-4ad7-b2fd-a57cc19361a2\")>, <selenium.webdriver.remote.webelement.WebElement (session=\"35c91128fc45fd053b5ef030d818dd4c\", element=\"bd3262a3-ad28-4ae7-90b1-447f77acfb6d\")>, <selenium.webdriver.remote.webelement.WebElement (session=\"35c91128fc45fd053b5ef030d818dd4c\", element=\"9a71e440-9623-474b-8355-1da5c28b0a64\")>, <selenium.webdriver.remote.webelement.WebElement (session=\"35c91128fc45fd053b5ef030d818dd4c\", element=\"432572ee-d290-4b16-aa93-78f5f9a65a7d\")>, <selenium.webdriver.remote.webelement.WebElement (session=\"35c91128fc45fd053b5ef030d818dd4c\", element=\"85256315-2511-42c1-88c7-7dcf42c66d4f\")>, <selenium.webdriver.remote.webelement.WebElement (session=\"35c91128fc45fd053b5ef030d818dd4c\", element=\"15807af0-28a7-47f9-9ea7-861e60781ff3\")>, <selenium.webdriver.remote.webelement.WebElement (session=\"35c91128fc45fd053b5ef030d818dd4c\", element=\"4f0ccb6e-937b-434e-8e15-b7f653aa39a2\")>, <selenium.webdriver.remote.webelement.WebElement (session=\"35c91128fc45fd053b5ef030d818dd4c\", element=\"0990c9b3-58d1-41f2-8e7b-95e7db1e65f6\")>, <selenium.webdriver.remote.webelement.WebElement (session=\"35c91128fc45fd053b5ef030d818dd4c\", element=\"688aed29-3b98-4d16-bc85-c477bd74063e\")>]\n20\n"
     ]
    }
   ],
   "source": [
    "\n",
    "links1=[]\n",
    "for i in range(2):\n",
    "    links=driver.find_elements_by_link_text(\"more\")\n",
    "    links1+=links\n",
    "    driver.find_element_by_class_name('nextpostslink').click()\n",
    "print(links)\n",
    "print(len(links))"
   ]
  },
  {
   "cell_type": "code",
   "execution_count": null,
   "metadata": {},
   "outputs": [],
   "source": []
  }
 ]
}