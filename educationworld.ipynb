{
 "metadata": {
  "language_info": {
   "codemirror_mode": {
    "name": "ipython",
    "version": 3
   },
   "file_extension": ".py",
   "mimetype": "text/x-python",
   "name": "python",
   "nbconvert_exporter": "python",
   "pygments_lexer": "ipython3",
   "version": "3.8.4-final"
  },
  "orig_nbformat": 2,
  "kernelspec": {
   "name": "python3",
   "display_name": "Python 3.8.4 32-bit",
   "metadata": {
    "interpreter": {
     "hash": "c32d0970f46ac7ea4d9ebd62cab712de4ff9287014d2891580753d30ccb56751"
    }
   }
  }
 },
 "nbformat": 4,
 "nbformat_minor": 2,
 "cells": [
  {
   "cell_type": "code",
   "execution_count": 3,
   "metadata": {},
   "outputs": [],
   "source": [
    "import time"
   ]
  },
  {
   "cell_type": "code",
   "execution_count": 4,
   "metadata": {},
   "outputs": [],
   "source": [
    "from selenium.webdriver.support.select import Select\n",
    "from selenium import webdriver\n",
    "import pandas as pd\n",
    "import bs4,csv\n",
    "driver=webdriver.Chrome()\n",
    "driver.get('https://www.educationworld.in/schools/')\n",
    "time.sleep(5) #wait for 5 secs,so that pop up message appears\n",
    "radio =driver.find_element_by_id(\"onesignal-slidedown-cancel-button\")\n",
    "radio.click()"
   ]
  },
  {
   "cell_type": "code",
   "execution_count": 44,
   "metadata": {},
   "outputs": [
    {
     "output_type": "stream",
     "name": "stdout",
     "text": [
      "19\n"
     ]
    }
   ],
   "source": [
    "#code to get links of all schools from one page\n",
    "links=driver.find_elements_by_link_text(\"more\")\n",
    "print(len(links))"
   ]
  },
  {
   "cell_type": "code",
   "execution_count": 45,
   "metadata": {},
   "outputs": [],
   "source": [
    "#code to get links of all schools from one page into a list\n",
    "listoflinks=[]\n",
    "for lnk in links:\n",
    "    listoflinks.append(lnk.get_attribute('href'))"
   ]
  },
  {
   "cell_type": "code",
   "execution_count": 46,
   "metadata": {},
   "outputs": [
    {
     "output_type": "stream",
     "name": "stdout",
     "text": [
      "['https://www.educationworld.in/aspee-nutan-academy-malad-west-mumbai/', 'https://www.educationworld.in/shiksha-valley-school-dibrugarh-assam/', 'https://www.educationworld.in/chaman-bhartiya-school-bengaluru/', 'https://www.educationworld.in/suchitra-academy-hyderabad/', 'https://www.educationworld.in/ssvm-school-of-excellence-coimbatore/', 'https://www.educationworld.in/ssvm-world-school-coimbatore/', 'https://www.educationworld.in/reeds-world-school-coimbatore/', 'https://www.educationworld.in/shree-sarasswathi-vidhyaah-mandheer-school-mettupalayam/', 'https://www.educationworld.in/seth-mr-jaipuria-school-lucknow/', 'https://www.educationworld.in/jbcn-international-school-chembur/', 'https://www.educationworld.in/jbcn-international-school-borivali/', 'https://www.educationworld.in/jbcn-international-school-oshiwara/', 'https://www.educationworld.in/nirmal-bhartia-school-dwarka-new-delhi/', 'https://www.educationworld.in/the-hyderabad-public-school-kadapa/', 'https://www.educationworld.in/shri-ram-global-school-greater-noida-west/', 'https://www.educationworld.in/best-schools-in-india/...%20%3Ca%20href=', 'https://www.educationworld.in/gurukul-the-school-ghaziabad/', 'https://www.educationworld.in/mukarram-jah-school-hyderabad/', 'https://www.educationworld.in/hyderabad-public-school-begumpet-2/']\n"
     ]
    }
   ],
   "source": [
    "print(listoflinks)"
   ]
  },
  {
   "cell_type": "code",
   "execution_count": 57,
   "metadata": {},
   "outputs": [
    {
     "output_type": "stream",
     "name": "stdout",
     "text": [
      "['info@aspeenutanacademy.org', 'enquiry@shikshavalleyschool.org']\n[' 022 28020313/ 022 28079933', ' +9107575990011, +9107575990022']\n"
     ]
    }
   ],
   "source": [
    "#code to get info of first 2 schools in one page\n",
    "email=[]\n",
    "contact=[]\n",
    "for i in range(2):\n",
    "    driver.get(listoflinks[i])\n",
    "    #info=driver.find_element_by_class_name('information-box')\n",
    "    #print(info)\n",
    "    Email=driver.find_element_by_xpath(\"//div[@class='information-box']/h4[3]\")\n",
    "    email.append(Email.text[8:])\n",
    "    Contact=driver.find_element_by_xpath(\"//div[@class='information-box']/h4[4]\")\n",
    "    contact.append(Contact.text[9:])\n",
    "print(email)\n",
    "print(contact)\n",
    "    #rawtext.append()\n",
    "    #driver.back()"
   ]
  },
  {
   "cell_type": "code",
   "execution_count": 67,
   "metadata": {},
   "outputs": [],
   "source": [
    "#code to Click the next page button\n",
    "driver.find_element_by_class_name('nextpostslink').click()"
   ]
  },
  {
   "cell_type": "code",
   "execution_count": 5,
   "metadata": {},
   "outputs": [
    {
     "output_type": "stream",
     "name": "stdout",
     "text": [
      "['https://www.educationworld.in/aspee-nutan-academy-malad-west-mumbai/', 'https://www.educationworld.in/shiksha-valley-school-dibrugarh-assam/', 'https://www.educationworld.in/chaman-bhartiya-school-bengaluru/', 'https://www.educationworld.in/suchitra-academy-hyderabad/', 'https://www.educationworld.in/ssvm-school-of-excellence-coimbatore/', 'https://www.educationworld.in/ssvm-world-school-coimbatore/', 'https://www.educationworld.in/reeds-world-school-coimbatore/', 'https://www.educationworld.in/shree-sarasswathi-vidhyaah-mandheer-school-mettupalayam/', 'https://www.educationworld.in/seth-mr-jaipuria-school-lucknow/', 'https://www.educationworld.in/jbcn-international-school-chembur/', 'https://www.educationworld.in/jbcn-international-school-borivali/', 'https://www.educationworld.in/jbcn-international-school-oshiwara/', 'https://www.educationworld.in/nirmal-bhartia-school-dwarka-new-delhi/', 'https://www.educationworld.in/the-hyderabad-public-school-kadapa/', 'https://www.educationworld.in/shri-ram-global-school-greater-noida-west/', 'https://www.educationworld.in/best-schools-in-india/...%20%3Ca%20href=', 'https://www.educationworld.in/gurukul-the-school-ghaziabad/', 'https://www.educationworld.in/mukarram-jah-school-hyderabad/', 'https://www.educationworld.in/hyderabad-public-school-begumpet-2/', 'https://www.educationworld.in/st-michaels-school-siliguri/', 'http://www...%20%3Ca%20href%3D/', 'https://www.educationworld.in/indo-scottish-global-school-thane/', 'https://www.educationworld.in/welham-girls-school-dehradun/', 'https://www.educationworld.in/delhi-world-public-school-nerul-navi-mumbai/', 'https://www.educationworld.in/odm-public-school-bhubaneswar-2/', 'https://www.educationworld.in/alpha-plus-matriculation-school-trichy/', 'https://www.educationworld.in/legacy-school-bangalore/', 'https://www.educationworld.in/universal-high-school-thane/', 'https://www.educationworld.in/seedling-modern-public-school-udaipur/', 'https://www.educationworld.in/the-study-udaipur/', 'https://www.educationworld.in/st-antonys-public-school-kottayam/', 'https://www.educationworld.in/saupins-school-chandigarh/', 'https://www.educationworld.in/st-thomas-school-ranchi-bihar/', 'https://www.educationworld.in/mothers-global-school-preet-vihar-delhi/', 'https://www.educationworld.in/childrens-academy-malad-mumbai/', 'https://www.educationworld.in/mother-marys-school-delhi/', 'https://www.educationworld.in/st-marys-convent-high-school-kanpur/', 'https://www.educationworld.in/st-josephs-convent-school-bhopal/']\n"
     ]
    }
   ],
   "source": [
    "listoflinks=[]\n",
    "for i in range (2):   # 76 is total number\n",
    "                \n",
    "    driver.get(\"https://www.educationworld.in/best-schools-in-india/?sf_paged=\"+str(i+1))\n",
    "    links=driver.find_elements_by_link_text(\"more\")\n",
    "    for lnk in links:\n",
    "        listoflinks.append(lnk.get_attribute('href'))\n",
    "print(listoflinks)"
   ]
  },
  {
   "cell_type": "code",
   "execution_count": 4,
   "metadata": {},
   "outputs": [
    {
     "output_type": "stream",
     "name": "stdout",
     "text": [
      "['info@aspeenutanacademy.org', 'enquiry@shikshavalleyschool.org', 'info@chamanbhartiya.com', 'info@suchitra.in', 'info@ssvmse.com', 'info@ssvmws.com', 'info@reedsws.com', 'info@ssvminstitutions.in', 'principal@jaipuria.com', 'info.cbr@jbcnschool.edu.in', 'info.bor@jbcnschool.edu.in', 'info.osh@jbcnschool.edu.in', 'nibsadmin@nirmalbhartia.org', 'hyderabadpublicschoolkdp@gmail.com', 'info@srgsnoida.com', 'info@gurukultheschool.com', 'info.mukarramjahtrust@gmail.com', 'contactus@hpsbegumpet.org.in', 'deputydirector1972@gmail.com', 'info@indoscottishthane.com', 'mainschool@welhamgirls.com', 'info@dwpsnerul.com', 'admission@odmegroup.org', 'info.matric@alphaeducation.edu.in', 'info@lsb.edu.in', 'info.thane@universal.edu.in', 'info@seedlingudaipur.org', 'thestudyudr@gmail.com', 'office@saps.ac.in', 'saupinsc@gmail.com', 'principal@stthomasschoolranchi.com', 'info@mothersglobal.in', 'contacmalad@children-academy.org', 'contact@mothermarysschoolmayurvihar.com', 'contact@smccjkanpur.org', '07552541266']\n[' 022 28020313/ 022 28079933', ' +9107575990011, +9107575990022', ' +918067423399', ' 91773 99900', ' 91 9364511111', ' 91 9344451888', ' 91 9344505000', ' 91 93644 54884', ' 91 522 272 6500', ' 91 8657976711', ' 91 22 28927089 / 9930002242', ' 91 22 26302441/9819098768', ' 011-45609702-06', ' 91 9505817480', ' 91 9319290071', ' 91 92052 72096', ' 91 40 2456 4494', ' +91 9154201768', ' 91 3532548358/ 91 94340 69253', ' 91222542555 / 919867507555', ' 91-135-2657223', ' +919082290746', ' 1800-120-2316', ' +914312457308', ' +91 8028443570', ' +91 2225890151', ' +91 9672290022', ' +91 2942453569', ' +91 4828202669', ' +91 1722664732', ' +91 6512408649', ' +91 1122501900', ' +91 2228835014', ' +91 1122715538', ' +91 5122381010', ' +91 7552541266']\n['Aspee Nutan Academy, Malad West, Mumbai', 'Shiksha Valley School, Dibrugarh, Assam', 'Chaman Bhartiya School Bengaluru', 'Suchitra Academy, Qutubullapur Mandal, Hyderabad', 'SSVM School of Excellence, Coimbatore', 'SSVM World School, Coimbatore', 'Reeds World School, Coimbatore', 'Shree Sarasswathi Vidhyaah Mandheer School Mettupalayam', 'Seth MR Jaipuria School Lucknow', 'JBCN International School, Chembur', 'JBCN International School, Borivali', 'JBCN International School, Oshiwara', 'Nirmal Bhartia School, Dwarka, New Delhi', 'The Hyderabad Public School, Kadapa', 'Shri Ram Global School, Greater Noida (West)', 'Gurukul The School, Ghaziabad', 'Mukarram Jah School, Hyderabad', 'The Hyderabad Public School, Begumpet', 'St Michael’s School Siliguri', 'Indo Scottish Global School, Thane', 'Welham Girls’ School, Dehradun', 'Delhi World Public School, Nerul, Navi Mumbai', 'ODM Public School, Bhubaneswar', 'Alpha Plus Matriculation School, Trichy', 'Legacy School, Bengaluru', 'Universal High School, Thane', 'Seedling Modern Public School, Udaipur', 'The Study, Udaipur', 'St. Antony’s Public School, Kottayam', 'Saupin’s School, Chandigarh', 'St. Thomas School, Ranchi, Bihar', 'Mother’s Global School, Preet Vihar, Delhi', 'Children’s Academy, Malad, Mumbai', 'Mother Mary’s School, Delhi', 'St. Mary’s Convent High School, Kanpur', 'St. Joseph’s Convent School Bhopal']\n"
     ]
    }
   ],
   "source": [
    "email=[]\n",
    "contact=[]\n",
    "scname=[]\n",
    "for i in range(len(listoflinks)):\n",
    "    try:\n",
    "        driver.get(listoflinks[i])\n",
    "        name=driver.find_element_by_class_name('institute-title')\n",
    "        #print(info)\n",
    "        scname.append(name.text)\n",
    "\n",
    "        Email=driver.find_element_by_xpath(\"//div[@class='information-box']/h4[3]\")\n",
    "        email.append(Email.text[8:])\n",
    "        Contact=driver.find_element_by_xpath(\"//div[@class='information-box']/h4[4]\")\n",
    "        contact.append(Contact.text[9:])\n",
    "    except :\n",
    "        continue\n",
    "print(email)\n",
    "print(contact)\n",
    "print(scname)"
   ]
  },
  {
   "cell_type": "code",
   "execution_count": 7,
   "metadata": {},
   "outputs": [
    {
     "output_type": "stream",
     "name": "stdout",
     "text": [
      "CBSE\n"
     ]
    }
   ],
   "source": [
    "print(driver.find_element_by_xpath(\"//div[@class='box'][3]\").text[6:])"
   ]
  },
  {
   "cell_type": "code",
   "execution_count": 14,
   "metadata": {},
   "outputs": [],
   "source": [
    "board=driver.find_element_by_xpath(\"//div[@class='box'][3]\").text[6:]\n"
   ]
  },
  {
   "cell_type": "code",
   "execution_count": 18,
   "metadata": {},
   "outputs": [
    {
     "output_type": "error",
     "ename": "TypeError",
     "evalue": "search() missing 1 required positional argument: 'string'",
     "traceback": [
      "\u001b[1;31m---------------------------------------------------------------------------\u001b[0m",
      "\u001b[1;31mTypeError\u001b[0m                                 Traceback (most recent call last)",
      "\u001b[1;32m<ipython-input-18-ae94abf993f6>\u001b[0m in \u001b[0;36m<module>\u001b[1;34m\u001b[0m\n\u001b[1;32m----> 1\u001b[1;33m \u001b[0mprint\u001b[0m\u001b[1;33m(\u001b[0m\u001b[0mre\u001b[0m\u001b[1;33m.\u001b[0m\u001b[0msearch\u001b[0m\u001b[1;33m(\u001b[0m\u001b[1;34m'CBSE'\u001b[0m\u001b[1;33m)\u001b[0m\u001b[1;33m,\u001b[0m\u001b[1;36m1\u001b[0m\u001b[1;33m)\u001b[0m\u001b[1;33m\u001b[0m\u001b[1;33m\u001b[0m\u001b[0m\n\u001b[0m",
      "\u001b[1;31mTypeError\u001b[0m: search() missing 1 required positional argument: 'string'"
     ]
    }
   ],
   "source": [
    "print(re.search('CBSE'))"
   ]
  },
  {
   "cell_type": "code",
   "execution_count": 25,
   "metadata": {},
   "outputs": [
    {
     "output_type": "stream",
     "name": "stdout",
     "text": [
      "ok\n"
     ]
    }
   ],
   "source": [
    "if re.match('CBSE',board):\n",
    "    print('ok')\n",
    "   "
   ]
  },
  {
   "cell_type": "code",
   "execution_count": 11,
   "metadata": {},
   "outputs": [],
   "source": [
    "import re"
   ]
  },
  {
   "cell_type": "code",
   "execution_count": 26,
   "metadata": {},
   "outputs": [
    {
     "output_type": "stream",
     "name": "stdout",
     "text": [
      "CISCE\n",
      "CBSE\n",
      "\n",
      "CBSE, CAIE\n",
      "CBSE\n",
      "1\n",
      "1\n",
      "1\n",
      "3\n",
      "3\n",
      "3\n",
      "2\n",
      "2\n",
      "2\n"
     ]
    }
   ],
   "source": [
    "cbseemail=[]\n",
    "cbsecontact=[]\n",
    "cbsescname=[]\n",
    "icseemail=[]\n",
    "icsecontact=[]\n",
    "icsescname=[]\n",
    "email=[]\n",
    "contact=[]\n",
    "scname=[]\n",
    "for i in range(5):  #range is len(listoflinks)\n",
    "    try:\n",
    "        driver.get(listoflinks[i])\n",
    "        board=driver.find_element_by_xpath(\"//div[@class='box'][3]\").text[6:]\n",
    "        print(board)\n",
    "        if re.match('CISCE',board):        \n",
    "            name=driver.find_element_by_class_name('institute-title')\n",
    "            #print(info)\n",
    "            icsescname.append(name.text)\n",
    "\n",
    "            Email=driver.find_element_by_xpath(\"//div[@class='information-box']/h4[3]\")\n",
    "            icseemail.append(Email.text[8:])\n",
    "            Contact=driver.find_element_by_xpath(\"//div[@class='information-box']/h4[4]\")\n",
    "            icsecontact.append(Contact.text[9:])\n",
    "        if re.match('CBSE',board):\n",
    "            name=driver.find_element_by_class_name('institute-title')\n",
    "            #print(info)\n",
    "            cbsescname.append(name.text)\n",
    "\n",
    "            Email=driver.find_element_by_xpath(\"//div[@class='information-box']/h4[3]\")\n",
    "            cbseemail.append(Email.text[8:])\n",
    "            Contact=driver.find_element_by_xpath(\"//div[@class='information-box']/h4[4]\")\n",
    "            cbsecontact.append(Contact.text[9:])\n",
    "        else:\n",
    "            name=driver.find_element_by_class_name('institute-title')\n",
    "            #print(info)\n",
    "            scname.append(name.text)\n",
    "\n",
    "            Email=driver.find_element_by_xpath(\"//div[@class='information-box']/h4[3]\")\n",
    "            email.append(Email.text[8:])\n",
    "            Contact=driver.find_element_by_xpath(\"//div[@class='information-box']/h4[4]\")\n",
    "            contact.append(Contact.text[9:])\n",
    "    except :\n",
    "        continue\n",
    "print(len(icseemail))\n",
    "print(len(icsecontact))\n",
    "print(len(icsescname))\n",
    "print(len(cbseemail))\n",
    "print(len(cbsecontact))\n",
    "print(len(cbsescname))\n",
    "print(len(email))\n",
    "print(len(contact))\n",
    "print(len(scname))"
   ]
  },
  {
   "cell_type": "code",
   "execution_count": null,
   "metadata": {},
   "outputs": [],
   "source": []
  }
 ]
}