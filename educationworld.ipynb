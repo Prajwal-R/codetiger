{
 "metadata": {
  "language_info": {
   "codemirror_mode": {
    "name": "ipython",
    "version": 3
   },
   "file_extension": ".py",
   "mimetype": "text/x-python",
   "name": "python",
   "nbconvert_exporter": "python",
   "pygments_lexer": "ipython3",
   "version": "3.8.4-final"
  },
  "orig_nbformat": 2,
  "kernelspec": {
   "name": "python3",
   "display_name": "Python 3.8.4 32-bit",
   "metadata": {
    "interpreter": {
     "hash": "c32d0970f46ac7ea4d9ebd62cab712de4ff9287014d2891580753d30ccb56751"
    }
   }
  }
 },
 "nbformat": 4,
 "nbformat_minor": 2,
 "cells": [
  {
   "cell_type": "code",
   "execution_count": 1,
   "metadata": {},
   "outputs": [],
   "source": [
    "import time"
   ]
  },
  {
   "cell_type": "code",
   "execution_count": 2,
   "metadata": {},
   "outputs": [],
   "source": [
    "from selenium.webdriver.support.select import Select\n",
    "from selenium import webdriver\n",
    "import pandas as pd\n",
    "import requests,bs4,webbrowser,csv,re\n",
    "driver=webdriver.Chrome()\n",
    "driver.get('https://www.educationworld.in/schools/')\n",
    "time.sleep(5) #wait for 5 secs,so that pop up message appears\n",
    "radio =driver.find_element_by_id(\"onesignal-slidedown-cancel-button\")\n",
    "radio.click()"
   ]
  },
  {
   "cell_type": "code",
   "execution_count": 44,
   "metadata": {},
   "outputs": [
    {
     "output_type": "stream",
     "name": "stdout",
     "text": [
      "19\n"
     ]
    }
   ],
   "source": [
    "#code to get links of all schools from one page\n",
    "links=driver.find_elements_by_link_text(\"more\")\n",
    "print(len(links))"
   ]
  },
  {
   "cell_type": "code",
   "execution_count": 45,
   "metadata": {},
   "outputs": [],
   "source": [
    "#code to get links of all schools from one page into a list\n",
    "listoflinks=[]\n",
    "for lnk in links:\n",
    "    listoflinks.append(lnk.get_attribute('href'))"
   ]
  },
  {
   "cell_type": "code",
   "execution_count": 46,
   "metadata": {},
   "outputs": [
    {
     "output_type": "stream",
     "name": "stdout",
     "text": [
      "['https://www.educationworld.in/aspee-nutan-academy-malad-west-mumbai/', 'https://www.educationworld.in/shiksha-valley-school-dibrugarh-assam/', 'https://www.educationworld.in/chaman-bhartiya-school-bengaluru/', 'https://www.educationworld.in/suchitra-academy-hyderabad/', 'https://www.educationworld.in/ssvm-school-of-excellence-coimbatore/', 'https://www.educationworld.in/ssvm-world-school-coimbatore/', 'https://www.educationworld.in/reeds-world-school-coimbatore/', 'https://www.educationworld.in/shree-sarasswathi-vidhyaah-mandheer-school-mettupalayam/', 'https://www.educationworld.in/seth-mr-jaipuria-school-lucknow/', 'https://www.educationworld.in/jbcn-international-school-chembur/', 'https://www.educationworld.in/jbcn-international-school-borivali/', 'https://www.educationworld.in/jbcn-international-school-oshiwara/', 'https://www.educationworld.in/nirmal-bhartia-school-dwarka-new-delhi/', 'https://www.educationworld.in/the-hyderabad-public-school-kadapa/', 'https://www.educationworld.in/shri-ram-global-school-greater-noida-west/', 'https://www.educationworld.in/best-schools-in-india/...%20%3Ca%20href=', 'https://www.educationworld.in/gurukul-the-school-ghaziabad/', 'https://www.educationworld.in/mukarram-jah-school-hyderabad/', 'https://www.educationworld.in/hyderabad-public-school-begumpet-2/']\n"
     ]
    }
   ],
   "source": [
    "print(listoflinks)"
   ]
  },
  {
   "cell_type": "code",
   "execution_count": 57,
   "metadata": {},
   "outputs": [
    {
     "output_type": "stream",
     "name": "stdout",
     "text": [
      "['info@aspeenutanacademy.org', 'enquiry@shikshavalleyschool.org']\n[' 022 28020313/ 022 28079933', ' +9107575990011, +9107575990022']\n"
     ]
    }
   ],
   "source": [
    "#code to get info of first 2 schools in one page\n",
    "email=[]\n",
    "contact=[]\n",
    "for i in range(2):\n",
    "    driver.get(listoflinks[i])\n",
    "    #info=driver.find_element_by_class_name('information-box')\n",
    "    #print(info)\n",
    "    Email=driver.find_element_by_xpath(\"//div[@class='information-box']/h4[3]\")\n",
    "    email.append(Email.text[8:])\n",
    "    Contact=driver.find_element_by_xpath(\"//div[@class='information-box']/h4[4]\")\n",
    "    contact.append(Contact.text[9:])\n",
    "print(email)\n",
    "print(contact)\n",
    "    #rawtext.append()\n",
    "    #driver.back()"
   ]
  },
  {
   "cell_type": "code",
   "execution_count": 67,
   "metadata": {},
   "outputs": [],
   "source": [
    "#code to Click the next page button\n",
    "driver.find_element_by_class_name('nextpostslink').click()"
   ]
  },
  {
   "cell_type": "code",
   "execution_count": 12,
   "metadata": {},
   "outputs": [
    {
     "output_type": "error",
     "ename": "IndexError",
     "evalue": "list index out of range",
     "traceback": [
      "\u001b[1;31m---------------------------------------------------------------------------\u001b[0m",
      "\u001b[1;31mIndexError\u001b[0m                                Traceback (most recent call last)",
      "\u001b[1;32m<ipython-input-12-69745e049222>\u001b[0m in \u001b[0;36m<module>\u001b[1;34m\u001b[0m\n\u001b[0;32m      7\u001b[0m         \u001b[0mlistoflinks\u001b[0m\u001b[1;33m.\u001b[0m\u001b[0mappend\u001b[0m\u001b[1;33m(\u001b[0m\u001b[0mlnk\u001b[0m\u001b[1;33m.\u001b[0m\u001b[0mget_attribute\u001b[0m\u001b[1;33m(\u001b[0m\u001b[1;34m'href'\u001b[0m\u001b[1;33m)\u001b[0m\u001b[1;33m)\u001b[0m\u001b[1;33m\u001b[0m\u001b[1;33m\u001b[0m\u001b[0m\n\u001b[0;32m      8\u001b[0m         \u001b[1;32mfor\u001b[0m \u001b[0mj\u001b[0m \u001b[1;32min\u001b[0m \u001b[0mrange\u001b[0m\u001b[1;33m(\u001b[0m\u001b[1;36m0\u001b[0m\u001b[1;33m,\u001b[0m\u001b[1;36m2\u001b[0m\u001b[1;33m)\u001b[0m\u001b[1;33m:\u001b[0m\u001b[1;33m\u001b[0m\u001b[1;33m\u001b[0m\u001b[0m\n\u001b[1;32m----> 9\u001b[1;33m             \u001b[0mdriver\u001b[0m\u001b[1;33m.\u001b[0m\u001b[0mget\u001b[0m\u001b[1;33m(\u001b[0m\u001b[0mlistoflinks\u001b[0m\u001b[1;33m[\u001b[0m\u001b[0mj\u001b[0m\u001b[1;33m]\u001b[0m\u001b[1;33m)\u001b[0m\u001b[1;33m\u001b[0m\u001b[1;33m\u001b[0m\u001b[0m\n\u001b[0m\u001b[0;32m     10\u001b[0m             \u001b[1;31m#info=driver.find_element_by_class_name('information-box')\u001b[0m\u001b[1;33m\u001b[0m\u001b[1;33m\u001b[0m\u001b[1;33m\u001b[0m\u001b[0m\n\u001b[0;32m     11\u001b[0m             \u001b[1;31m#print(info)\u001b[0m\u001b[1;33m\u001b[0m\u001b[1;33m\u001b[0m\u001b[1;33m\u001b[0m\u001b[0m\n",
      "\u001b[1;31mIndexError\u001b[0m: list index out of range"
     ]
    }
   ],
   "source": [
    "email=[]\n",
    "contact=[]\n",
    "for i in range(2):\n",
    "    links=driver.find_elements_by_link_text(\"more\")\n",
    "    listoflinks=[]\n",
    "    for lnk in links:\n",
    "        listoflinks.append(lnk.get_attribute('href'))\n",
    "        for j in range(0,2):\n",
    "            driver.get(listoflinks[j])\n",
    "            #info=driver.find_element_by_class_name('information-box')\n",
    "            #print(info)\n",
    "            Email=driver.find_element_by_xpath(\"//div[@class='information-box']/h4[3]\")\n",
    "            email.append(Email.text[8:])\n",
    "            Contact=driver.find_element_by_xpath(\"//div[@class='information-box']/h4[4]\")\n",
    "            contact.append(Contact.text[9:])\n",
    "    driver.find_element_by_class_name('nextpostslink').click()\n",
    "    print(len(links))\n",
    "print(email)\n",
    "print(contact)"
   ]
  },
  {
   "cell_type": "code",
   "execution_count": null,
   "metadata": {},
   "outputs": [],
   "source": []
  }
 ]
}