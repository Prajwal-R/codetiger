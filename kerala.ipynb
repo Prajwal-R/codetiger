{
 "cells": [
  {
   "cell_type": "markdown",
   "metadata": {},
   "source": [
    "## kerala data"
   ]
  },
  {
   "cell_type": "code",
   "execution_count": 1,
   "metadata": {},
   "outputs": [
    {
     "name": "stdout",
     "output_type": "stream",
     "text": [
      "Requirement already satisfied: selenium in c:\\users\\hp\\anaconda3\\lib\\site-packages (3.141.0)\n",
      "Requirement already satisfied: urllib3 in c:\\users\\hp\\anaconda3\\lib\\site-packages (from selenium) (1.24.2)\n"
     ]
    }
   ],
   "source": [
    "!pip install selenium"
   ]
  },
  {
   "cell_type": "code",
   "execution_count": null,
   "metadata": {},
   "outputs": [],
   "source": [
    "from selenium.webdriver.support.select import Select\n",
    "from selenium import webdriver\n",
    "driver=webdriver.Chrome()\n",
    "driver.get('https://sametham.kite.kerala.gov.in/search/advanced_search_interface?')\n",
    "\n",
    "#sel = Select(driver.find_element_by_xpath(\"//select[@name='rev_sub']\"))\n",
    "#sel.select_by_visible_text(\"Thiruvananthapuram\")\n",
    "\n",
    "radio =driver.find_element_by_css_selector(\"input[name='advancedSearch']\")\n",
    "radio.click()"
   ]
  },
  {
   "cell_type": "code",
   "execution_count": null,
   "metadata": {},
   "outputs": [],
   "source": [
    "soup=bs4.BeautifulSoup(driver.page_source)\n",
    "\n",
    "table=soup.find('table')"
   ]
  },
  {
   "cell_type": "code",
   "execution_count": null,
   "metadata": {},
   "outputs": [],
   "source": [
    "datak = []\n",
    "header = soup.find_all(\"table\")[0].find(\"tr\")\n",
    "  \n",
    "for items in header:\n",
    "    try:\n",
    "        list_header.append(items.get_text())\n",
    "    except:\n",
    "        continue\n",
    "  \n",
    "# for getting the data \n",
    "HTML_data = soup.find_all(\"table\")[0].find_all(\"tr\")[1:]\n",
    "  \n",
    "for element in HTML_data:\n",
    "    sub_data = []\n",
    "    for sub_element in element:\n",
    "        try:\n",
    "            sub_data.append(sub_element.get_text())\n",
    "        except:\n",
    "            continue\n",
    "    datak.append(sub_data)\n",
    "  \n",
    "# Storing the data into Pandas\n",
    "# DataFrame \n",
    "df = pd.DataFrame(datak)\n",
    "driver.quit()"
   ]
  },
  {
   "cell_type": "code",
   "execution_count": null,
   "metadata": {},
   "outputs": [],
   "source": [
    "df1=df[1].dropna()\n",
    "lis=[]\n",
    "lis=df1.tolist()\n",
    "lis\n",
    "lis1=[]\n",
    "for i in range(len(lis)-1):\n",
    "    lis1.append(lis[i+1])\n",
    "lis1"
   ]
  },
  {
   "cell_type": "code",
   "execution_count": null,
   "metadata": {},
   "outputs": [],
   "source": [
    "import re\n",
    "regno=[]\n",
    "for i in lis1:\n",
    "    string = i\n",
    "    regno.append(string[3:])\n",
    "        \n",
    "regno"
   ]
  },
  {
   "cell_type": "code",
   "execution_count": null,
   "metadata": {},
   "outputs": [],
   "source": [
    "index = regno.index(':43481')\n",
    "regno[index]='43481'\n",
    "regno[index]"
   ]
  },
  {
   "cell_type": "code",
   "execution_count": null,
   "metadata": {},
   "outputs": [],
   "source": [
    "\n",
    "index = regno.index(':11173')\n",
    "regno[index]='11173'\n",
    "\n",
    "\n"
   ]
  },
  {
   "cell_type": "code",
   "execution_count": null,
   "metadata": {},
   "outputs": [],
   "source": [
    "index = regno.index(':13676')\n",
    "regno[index]='13676'\n",
    "\n"
   ]
  },
  {
   "cell_type": "code",
   "execution_count": null,
   "metadata": {},
   "outputs": [],
   "source": [
    "index = regno.index(':13691')\n",
    "regno[index]='13691'\n"
   ]
  },
  {
   "cell_type": "code",
   "execution_count": null,
   "metadata": {},
   "outputs": [],
   "source": [
    "index = regno.index(':18191')\n",
    "regno[index]='18191'\n"
   ]
  },
  {
   "cell_type": "code",
   "execution_count": null,
   "metadata": {},
   "outputs": [],
   "source": [
    "index = regno.index(':19283')\n",
    "regno[index]='19283'\n"
   ]
  },
  {
   "cell_type": "code",
   "execution_count": null,
   "metadata": {},
   "outputs": [],
   "source": [
    "index = regno.index(':22467')\n",
    "regno[index]='22467'\n",
    "index\n"
   ]
  },
  {
   "cell_type": "code",
   "execution_count": null,
   "metadata": {},
   "outputs": [],
   "source": [
    "index = regno.index(':28324')\n",
    "regno[index]='28324'\n",
    "index"
   ]
  },
  {
   "cell_type": "code",
   "execution_count": null,
   "metadata": {},
   "outputs": [],
   "source": [
    "index = regno.index(':34254')\n",
    "regno[index]='34254'\n",
    "index\n"
   ]
  },
  {
   "cell_type": "code",
   "execution_count": null,
   "metadata": {},
   "outputs": [],
   "source": [
    "index = regno.index(':36474')\n",
    "regno[index]='36474'\n",
    "index\n"
   ]
  },
  {
   "cell_type": "code",
   "execution_count": null,
   "metadata": {},
   "outputs": [],
   "source": [
    "index = regno.index(':38294')\n",
    "regno[index]='38294'\n",
    "index "
   ]
  },
  {
   "cell_type": "code",
   "execution_count": null,
   "metadata": {},
   "outputs": [],
   "source": [
    "index = regno.index(':40465')\n",
    "regno[index]='40465'\n",
    "index \n"
   ]
  },
  {
   "cell_type": "code",
   "execution_count": null,
   "metadata": {},
   "outputs": [],
   "source": [
    "index = regno.index(':48110')\n",
    "regno[index]='48110'\n",
    "index \n"
   ]
  },
  {
   "cell_type": "code",
   "execution_count": null,
   "metadata": {},
   "outputs": [],
   "source": [
    "index = regno.index(':8143')\n",
    "regno[index]='8143'\n",
    "index\n"
   ]
  },
  {
   "cell_type": "code",
   "execution_count": null,
   "metadata": {},
   "outputs": [],
   "source": [
    "driver=webdriver.Chrome()\n",
    "j=0\n",
    "datak1= []\n",
    "phno=[]\n",
    "email=[]\n",
    "scname=[]\n",
    "principal=[]\n",
    "data2=[]\n",
    "for i in regno:\n",
    "    driver.get('https://sametham.kite.kerala.gov.in/'+i)\n",
    "    \n",
    "    \n",
    "  \n",
    "# for getting the data \n",
    "    HTML_data = soup.find_all(\"table\")[0].find_all(\"tr\")[1:]\n",
    "  \n",
    "    for element in HTML_data:\n",
    "        words=[]\n",
    "        string =''\n",
    "        sub_data = []\n",
    "        for sub_element in element:\n",
    "            try:\n",
    "                sub_data.append(sub_element.get_text())\n",
    "            except:\n",
    "                continue\n",
    "        datak1.append(sub_data)\n",
    "        \n",
    "# Storing the data into Pandas\n",
    "# DataFrame \n",
    "    soup=bs4.BeautifulSoup(driver.page_source)\n",
    "    table=soup.find('table')\n",
    "    for i,tr in enumerate(table.findAll('tr')):\n",
    "        row=[]\n",
    "    #for td in tr.findAll('td'):\n",
    "        words.append(tr.text)\n",
    "    #j+=1\n",
    "    #if j>5: break\n",
    "    \n",
    "    for i in words:\n",
    "        string+=i\n",
    "    #print(string)\n",
    "    keralatext1=re.sub('[\\\\n+\\\\t+]',' ',string)\n",
    "    keralatext1\n",
    "    \n",
    "    #school name\n",
    "    word=keralatext1.split('School Name :')\n",
    "    scname.append(word[1].split('School Type')[0])\n",
    "    \n",
    "    \n",
    "    #email\n",
    "    \n",
    "    emtext=''\n",
    "    word_e=keralatext1.split('Email :')\n",
    "    emtext+=word_e[1].split()[0]\n",
    "    email.append(emtext)\n",
    "    \n",
    "    \n",
    "    \n",
    "    #phone number\n",
    "    try:\n",
    "        phtext=''\n",
    "        word_p=keralatext1.split('Phone :')\n",
    "        phtext+=word_p[1].split('Section')[0]\n",
    "        phtxt=phtext.split()[0]\n",
    "        phno.append(phtxt)\n",
    "    except IndexError:\n",
    "        phno.append(' ')\n",
    "    #principal name\n",
    "    HTML_data = soup.find_all(\"table\")[3].find_all(\"tr\")[1:]\n",
    "  \n",
    "    for element in HTML_data:\n",
    "        words=[]\n",
    "        \n",
    "        sub_data = []\n",
    "        for sub_element in element:\n",
    "            try:\n",
    "                sub_data.append(sub_element.get_text())\n",
    "            except:\n",
    "                continue\n",
    "        datak1.append(sub_data)\n",
    "        \n",
    "# Storing the data into Pandas\n",
    "# DataFrame \n",
    "    soup=bs4.BeautifulSoup(driver.page_source)\n",
    "    table=soup.find_all(\"table\")[2]\n",
    "    for i,tr in enumerate(table.findAll('tr')):\n",
    "        row=[]\n",
    "        if i==1:\n",
    "        #for td in tr.findAll('td'):\n",
    "            data2.append(tr.text)\n",
    "    \n",
    "for i in data2:\n",
    "    string=i.split(':')[1]\n",
    "    princi=re.sub('[\\\\n+\\\\t+]',' ',string)\n",
    "    principal.append(princi)\n",
    "    \n",
    "print(scname)\n",
    "print(email)\n",
    "print(phno)\n",
    "print(principal)\n",
    "driver.quit()"
   ]
  },
  {
   "cell_type": "code",
   "execution_count": null,
   "metadata": {},
   "outputs": [],
   "source": [
    "import csv\n",
    "outputFile = open('Thiruvananthapuram.csv', 'w', newline='')\n",
    "outputWriter = csv.writer(outputFile)\n",
    "\n",
    "outputWriter.writerow(['school name', 'principal name','contact no','email'])\n",
    "#outputFile.close()\n",
    "for i in range (len(scname)):\n",
    "    schoolname=scname[i]\n",
    "    princiname=principal[i]\n",
    "    email1=email[i]\n",
    "    phno1=phno[i]\n",
    "    outputWriter.writerow([schoolname,princiname,phno1,email1])"
   ]
  },
  {
   "cell_type": "code",
   "execution_count": null,
   "metadata": {},
   "outputs": [],
   "source": [
    "len(scname)"
   ]
  },
  {
   "cell_type": "code",
   "execution_count": null,
   "metadata": {},
   "outputs": [],
   "source": []
  }
 ],
 "metadata": {
  "kernelspec": {
   "display_name": "Python 3",
   "language": "python",
   "name": "python3"
  },
  "language_info": {
   "codemirror_mode": {
    "name": "ipython",
    "version": 3
   },
   "file_extension": ".py",
   "mimetype": "text/x-python",
   "name": "python",
   "nbconvert_exporter": "python",
   "pygments_lexer": "ipython3",
   "version": "3.7.4"
  }
 },
 "nbformat": 4,
 "nbformat_minor": 2
}
